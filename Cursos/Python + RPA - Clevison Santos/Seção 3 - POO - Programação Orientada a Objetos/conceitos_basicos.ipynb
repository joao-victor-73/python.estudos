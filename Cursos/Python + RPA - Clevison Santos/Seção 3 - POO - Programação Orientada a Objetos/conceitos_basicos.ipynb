{
 "cells": [
  {
   "cell_type": "markdown",
   "id": "cb2151de-0ec5-4837-9707-9de7e6adada6",
   "metadata": {},
   "source": [
    "# 72. Introdução à POO\n",
    "\n",
    "### O que é Programação Orientada a Objetos (POO)?\n",
    "POO é um paradigma de programação que utiliza objetos e classes para organizar o código fonte. Este paradigma foi criado com o objetivo de combinar dados e funcionalidades em entidades autônomas chamadas \"objetos\".\n",
    "\n",
    "Estes objetos são instâncias de \"classes\", que podem ser vistas como modelos ou protótipos para a criação de objetos. A POO oferece uma abstração mais natural e reutilizável do código, permitindo um melhor organização, escalabilidade e manutenção.\n",
    "\n",
    "\n",
    "### Como a POO se diferencia da programação procedural?\n",
    "1. **Abstração:** Enquanto o paradigma procedural foca em rotinas e procedimemntos, a POO foca em objetos que contêm tanto estado (dados) quanto comportamento (métodos);\n",
    "2. **Encapsulamento:** Em POO, os dados e méodos que operam esses dados são agrupados em uma única entidade, permitindo que o estado do objeto seja modificado apenas através de métodos específicos;\n",
    "3. **Herança:** A POO permite a criação de novas classes baseadas em classes existentes. Isso facilita a reutilização de código e pode reduzir a complexidade através da herança de fucionalidades;\n",
    "4. **Poliformismo:** Permite que objetos de diferentes classes sejam tratados como objetos de uma classe comum, tornando o código mis extensível e fácil de manter.\n",
    "\n",
    "\n",
    "### Vantagens da POO:\n",
    "1. Reutilização de código;\n",
    "2. Manutenibilidade;\n",
    "3. Extensibilidade;\n",
    "4. Modelagem Natural;\n",
    "5. Testabilidade."
   ]
  },
  {
   "cell_type": "markdown",
   "id": "81457ce3-0829-4376-b2e2-07753f725c6a",
   "metadata": {},
   "source": [
    "# 73. POO - Conceitos Básicos\n",
    "\n",
    "### Classes e Objetos\n",
    "**Classe**: é uma estrutura que define um tipo de dado, especificando as propriedades (atributos) e as ações (métodos) que um objeto desse tipo pode ter. (Pense na classe como um blueprint ou um molde)\n",
    "\n",
    "**Objeto**: é uma instância da classe. Uma vez que você tem um molde (_classe_), você pode criar múltiplas cópias (objetos) desse molde. Cada objeto tem seu próprio conjunto de valores para os atributos definidos na classe."
   ]
  },
  {
   "cell_type": "code",
   "execution_count": 4,
   "id": "648189a6-34f2-48ac-8251-4ade3d7c7d6a",
   "metadata": {},
   "outputs": [
    {
     "name": "stdout",
     "output_type": "stream",
     "text": [
      "1948\n",
      "Georgel Orwell\n",
      "1949\n",
      "'1948' por Georgel Orwell, publicado em 1949\n"
     ]
    }
   ],
   "source": [
    "# Classe e objetos\n",
    "\n",
    "class Livros:\n",
    "    def __init__(self, titulo, autor, ano):\n",
    "        self.titulo = titulo\n",
    "        self.autor = autor\n",
    "        self.ano = ano\n",
    "\n",
    "    # Metodos\n",
    "    def descricao(self):\n",
    "        return f\"'{self.titulo}' por {self.autor}, publicado em {self.ano}\"\n",
    "\n",
    "# Instanciando (criando) um objeto da classe livro e passando os parâmetros\n",
    "livro1 = Livros(\"1948\", \"Georgel Orwell\", \"1949\")\n",
    "\n",
    "# Acessando os atributos do objeto livro1:\n",
    "print(livro1.titulo) # Saída: 1984\n",
    "print(livro1.autor) # Saída: George Orwell\n",
    "print(livro1.ano) # Saída: 1949\n",
    "\n",
    "# Métodos\n",
    "print(livro1.descricao())"
   ]
  },
  {
   "cell_type": "code",
   "execution_count": null,
   "id": "da2ad455-1daf-487b-a6f8-df75419ad8d3",
   "metadata": {},
   "outputs": [],
   "source": []
  }
 ],
 "metadata": {
  "kernelspec": {
   "display_name": "Python 3 (ipykernel)",
   "language": "python",
   "name": "python3"
  },
  "language_info": {
   "codemirror_mode": {
    "name": "ipython",
    "version": 3
   },
   "file_extension": ".py",
   "mimetype": "text/x-python",
   "name": "python",
   "nbconvert_exporter": "python",
   "pygments_lexer": "ipython3",
   "version": "3.12.2"
  }
 },
 "nbformat": 4,
 "nbformat_minor": 5
}
