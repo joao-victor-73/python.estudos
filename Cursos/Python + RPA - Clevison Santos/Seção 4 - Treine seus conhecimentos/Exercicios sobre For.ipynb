{
 "cells": [
  {
   "cell_type": "markdown",
   "id": "a16445b4-ad1e-4d49-b7af-44bd0eaad9be",
   "metadata": {},
   "source": [
    "# 95. Exercícios sobre For"
   ]
  },
  {
   "cell_type": "markdown",
   "id": "1bea28bc-9e05-48d5-97e9-32df9ac5e117",
   "metadata": {},
   "source": [
    "### Exercício 1: Imprimir números de 1 a 10\n",
    "\n",
    "Use um laço for para imprimir todos os números de 1 a 10."
   ]
  },
  {
   "cell_type": "code",
   "execution_count": 2,
   "id": "0bac8252-d580-455f-a9aa-8303bdd84a88",
   "metadata": {},
   "outputs": [
    {
     "name": "stdout",
     "output_type": "stream",
     "text": [
      "1 2 3 4 5 6 7 8 9 10 "
     ]
    }
   ],
   "source": [
    "for n in range(1, 11):\n",
    "    print(n, end=\" \")"
   ]
  },
  {
   "cell_type": "markdown",
   "id": "55d32ae6-33df-4410-b258-bc8aa0b9e5cf",
   "metadata": {},
   "source": [
    "### Exercício 8: Contar os números pares em uma lista\n",
    "\n",
    "Dada uma lista de números [2, 5, 6, 7, 8, 10, 12], use for para contar quantos números pares existem na lista."
   ]
  },
  {
   "cell_type": "code",
   "execution_count": 5,
   "id": "62820ccf-8584-475f-87ed-2eddee2e4166",
   "metadata": {},
   "outputs": [
    {
     "name": "stdout",
     "output_type": "stream",
     "text": [
      "Dada a lista: [2, 5, 6, 7, 8, 10, 12]. Nela contem 5 números pares!\n"
     ]
    }
   ],
   "source": [
    "lista = [2, 5, 6, 7, 8, 10, 12]\n",
    "\n",
    "pares = 0\n",
    "\n",
    "for n in lista:\n",
    "    if n % 2 == 0:\n",
    "        pares += 1\n",
    "\n",
    "print(f\"Dada a lista: {lista}. Nela contem {pares} números pares!\") "
   ]
  },
  {
   "cell_type": "markdown",
   "id": "340452e9-2787-4199-9ee0-bf8f46608c88",
   "metadata": {},
   "source": [
    "### Exercício 9: Imprimir números ímpares de 1 a 20\n",
    "\n",
    "Escreva um programa que use for para imprimir todos os números ímpares de 1 a 20."
   ]
  },
  {
   "cell_type": "code",
   "execution_count": 11,
   "id": "f69e6650-371e-4973-9599-da60029bf415",
   "metadata": {},
   "outputs": [
    {
     "name": "stdout",
     "output_type": "stream",
     "text": [
      "Os números ímpares de 1 a 20 são: \n",
      "1 - 3 - 5 - 7 - 9 - 11 - 13 - 15 - 17 - 19 - \n",
      "\n",
      "Outra maneira de fazer: \n",
      "1 - 3 - 5 - 7 - 9 - 11 - 13 - 15 - 17 - 19 - "
     ]
    }
   ],
   "source": [
    "print(\"Os números ímpares de 1 a 20 são: \")\n",
    "for n in range(1, 21):\n",
    "    if n % 2 != 0:\n",
    "        print(n, end=\" - \")\n",
    "\n",
    "print()\n",
    "# OUTRA MANEIRA\n",
    "print(\"\\nOutra maneira de fazer: \")\n",
    "for n in range(1, 21, 2):\n",
    "    print(n, end=\" - \")"
   ]
  },
  {
   "cell_type": "markdown",
   "id": "879f9307-b08a-4e9b-83c0-ace402603c44",
   "metadata": {},
   "source": [
    "### Exercício 14: Ordenar uma lista manualmente\n",
    "\n",
    "Escreva um programa que use for para ordenar uma lista de números sem usar a função sort()."
   ]
  },
  {
   "cell_type": "code",
   "execution_count": 14,
   "id": "504fd4e4-72d3-4ff7-bb3b-007485f812de",
   "metadata": {},
   "outputs": [
    {
     "name": "stdout",
     "output_type": "stream",
     "text": [
      "Lista desordenada:  [29, 10, 14, 37, 13]\n",
      "Lista ordenada:  [10, 13, 14, 29, 37]\n"
     ]
    }
   ],
   "source": [
    "lista = [29, 10, 14, 37, 13]\n",
    "print(\"Lista desordenada: \", lista)\n",
    "\n",
    "for i in range(len(lista)):\n",
    "    for j in range(i + 1, len(lista)):\n",
    "        if lista[i] > lista[j]:\n",
    "            lista[i], lista[j] = lista[j], lista[i]\n",
    "\n",
    "print(\"Lista ordenada: \", lista)"
   ]
  },
  {
   "cell_type": "code",
   "execution_count": null,
   "id": "0d089e36-910b-46a2-8af4-7a1f4945b328",
   "metadata": {},
   "outputs": [],
   "source": []
  }
 ],
 "metadata": {
  "kernelspec": {
   "display_name": "Python 3 (ipykernel)",
   "language": "python",
   "name": "python3"
  },
  "language_info": {
   "codemirror_mode": {
    "name": "ipython",
    "version": 3
   },
   "file_extension": ".py",
   "mimetype": "text/x-python",
   "name": "python",
   "nbconvert_exporter": "python",
   "pygments_lexer": "ipython3",
   "version": "3.12.2"
  }
 },
 "nbformat": 4,
 "nbformat_minor": 5
}
