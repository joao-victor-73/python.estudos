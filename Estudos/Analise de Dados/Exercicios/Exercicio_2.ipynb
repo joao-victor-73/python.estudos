{
 "cells": [
  {
   "cell_type": "code",
   "execution_count": 151,
   "id": "41351b1e-d35a-475a-90fb-624cfdb74fde",
   "metadata": {},
   "outputs": [],
   "source": [
    "import pandas as pd"
   ]
  },
  {
   "cell_type": "markdown",
   "id": "74368cd6-9bbb-4130-afe5-36ce369894ae",
   "metadata": {},
   "source": [
    "# Exercícios 2"
   ]
  },
  {
   "cell_type": "markdown",
   "id": "3755c410-1a70-4a64-9fa1-3558664acfe3",
   "metadata": {},
   "source": [
    "# 🎯 Parte 1 — Series e DataFrames"
   ]
  },
  {
   "cell_type": "markdown",
   "id": "f73c086e-6307-48bf-803e-040620780b02",
   "metadata": {},
   "source": [
    "## 1. \n",
    "Crie uma Series com os números de 10 a 50 (de 10 em 10) e índices personalizados: 'A', 'B', 'C', 'D', 'E'.\n",
    "\n",
    "- Exiba o valor correspondente ao índice 'D'.\n",
    "- Multiplique todos os valores por 2."
   ]
  },
  {
   "cell_type": "code",
   "execution_count": 10,
   "id": "cfe06ed0-cb08-43f0-b628-cd57c86419ac",
   "metadata": {},
   "outputs": [],
   "source": [
    "ser1 = list(range(10, 51, 10))\n",
    "# indices = [{'Valores': 'A', 'B', 'C', 'D', 'E'}] # CRiando a coluna valores já com o nome 'Valores'\n",
    "indices = ['A', 'B', 'C', 'D', 'E']\n",
    "\n",
    "df = pd.DataFrame(data=ser1, index=indices)"
   ]
  },
  {
   "cell_type": "code",
   "execution_count": 29,
   "id": "311319ab-5b82-48f7-9f3b-ea473f80a7db",
   "metadata": {},
   "outputs": [],
   "source": [
    "df.rename(columns={0: 'Valores'}, inplace = True) # Renomeando a coluna pois estava como 0."
   ]
  },
  {
   "cell_type": "code",
   "execution_count": 34,
   "id": "cc37b928-edfe-42ab-ad4e-116b660093de",
   "metadata": {},
   "outputs": [
    {
     "data": {
      "text/html": [
       "<div>\n",
       "<style scoped>\n",
       "    .dataframe tbody tr th:only-of-type {\n",
       "        vertical-align: middle;\n",
       "    }\n",
       "\n",
       "    .dataframe tbody tr th {\n",
       "        vertical-align: top;\n",
       "    }\n",
       "\n",
       "    .dataframe thead th {\n",
       "        text-align: right;\n",
       "    }\n",
       "</style>\n",
       "<table border=\"1\" class=\"dataframe\">\n",
       "  <thead>\n",
       "    <tr style=\"text-align: right;\">\n",
       "      <th></th>\n",
       "      <th>Valores</th>\n",
       "    </tr>\n",
       "  </thead>\n",
       "  <tbody>\n",
       "    <tr>\n",
       "      <th>A</th>\n",
       "      <td>10</td>\n",
       "    </tr>\n",
       "    <tr>\n",
       "      <th>B</th>\n",
       "      <td>20</td>\n",
       "    </tr>\n",
       "    <tr>\n",
       "      <th>C</th>\n",
       "      <td>30</td>\n",
       "    </tr>\n",
       "    <tr>\n",
       "      <th>D</th>\n",
       "      <td>40</td>\n",
       "    </tr>\n",
       "    <tr>\n",
       "      <th>E</th>\n",
       "      <td>50</td>\n",
       "    </tr>\n",
       "  </tbody>\n",
       "</table>\n",
       "</div>"
      ],
      "text/plain": [
       "   Valores\n",
       "A       10\n",
       "B       20\n",
       "C       30\n",
       "D       40\n",
       "E       50"
      ]
     },
     "execution_count": 34,
     "metadata": {},
     "output_type": "execute_result"
    }
   ],
   "source": [
    "df"
   ]
  },
  {
   "cell_type": "code",
   "execution_count": 14,
   "id": "44b39316-a373-4891-8a90-cfc11d757c5b",
   "metadata": {},
   "outputs": [
    {
     "data": {
      "text/plain": [
       "0    40\n",
       "Name: D, dtype: int64"
      ]
     },
     "execution_count": 14,
     "metadata": {},
     "output_type": "execute_result"
    }
   ],
   "source": [
    "# Exiba o valor correspondente ao índice 'D'.\n",
    "df.loc['D'] # 40"
   ]
  },
  {
   "cell_type": "code",
   "execution_count": 33,
   "id": "76d0342d-2ea0-4ced-9724-25ee57800326",
   "metadata": {},
   "outputs": [
    {
     "data": {
      "text/plain": [
       "A     20\n",
       "B     40\n",
       "C     60\n",
       "D     80\n",
       "E    100\n",
       "Name: Valores, dtype: int64"
      ]
     },
     "execution_count": 33,
     "metadata": {},
     "output_type": "execute_result"
    }
   ],
   "source": [
    "# Multiplique todos os valores por 2.\n",
    "df['Valores'] * 2"
   ]
  },
  {
   "cell_type": "markdown",
   "id": "b9142d38-d94c-4d16-85be-35affc86d88e",
   "metadata": {},
   "source": [
    "___"
   ]
  },
  {
   "cell_type": "markdown",
   "id": "f95fa64e-6ae6-4f77-97d9-17f641a430f1",
   "metadata": {},
   "source": [
    "## 2.\n",
    "Crie um dataFrame com os dados abaixo:\n",
    "\n",
    "| Aluno | Nota1 | Nota2 | Nota3 |\n",
    "| ----- | ----- | ----- | ----- |\n",
    "| Ana   | 8     | 7     | 6     |\n",
    "| Bruno | 5     | 6     | 4     |\n",
    "| Carla | 9     | 8     | 10    |\n",
    "\n",
    "\n",
    "- Crie uma nova coluna chamada 'Média' com a média das 3 notas.\n",
    "- Filtre os alunos com média acima de 7."
   ]
  },
  {
   "cell_type": "code",
   "execution_count": 35,
   "id": "57633a55-84d5-48be-8a21-b20f70590601",
   "metadata": {},
   "outputs": [],
   "source": [
    "dados = {\n",
    "    'Aluno': ['Ana', 'Bruno', 'Carla'],\n",
    "    'Nota1': [8, 5, 9],\n",
    "    'Nota2': [7, 6, 8],\n",
    "    'Nota3': [6, 4, 10]\n",
    "}\n",
    "\n",
    "df2 = pd.DataFrame(dados)"
   ]
  },
  {
   "cell_type": "code",
   "execution_count": 36,
   "id": "7af3e44c-e08e-42cd-982e-1beeaa5db169",
   "metadata": {},
   "outputs": [
    {
     "data": {
      "text/html": [
       "<div>\n",
       "<style scoped>\n",
       "    .dataframe tbody tr th:only-of-type {\n",
       "        vertical-align: middle;\n",
       "    }\n",
       "\n",
       "    .dataframe tbody tr th {\n",
       "        vertical-align: top;\n",
       "    }\n",
       "\n",
       "    .dataframe thead th {\n",
       "        text-align: right;\n",
       "    }\n",
       "</style>\n",
       "<table border=\"1\" class=\"dataframe\">\n",
       "  <thead>\n",
       "    <tr style=\"text-align: right;\">\n",
       "      <th></th>\n",
       "      <th>Aluno</th>\n",
       "      <th>Nota1</th>\n",
       "      <th>Nota2</th>\n",
       "      <th>Nota3</th>\n",
       "    </tr>\n",
       "  </thead>\n",
       "  <tbody>\n",
       "    <tr>\n",
       "      <th>0</th>\n",
       "      <td>Ana</td>\n",
       "      <td>8</td>\n",
       "      <td>7</td>\n",
       "      <td>6</td>\n",
       "    </tr>\n",
       "    <tr>\n",
       "      <th>1</th>\n",
       "      <td>Bruno</td>\n",
       "      <td>5</td>\n",
       "      <td>6</td>\n",
       "      <td>4</td>\n",
       "    </tr>\n",
       "    <tr>\n",
       "      <th>2</th>\n",
       "      <td>Carla</td>\n",
       "      <td>9</td>\n",
       "      <td>8</td>\n",
       "      <td>10</td>\n",
       "    </tr>\n",
       "  </tbody>\n",
       "</table>\n",
       "</div>"
      ],
      "text/plain": [
       "   Aluno  Nota1  Nota2  Nota3\n",
       "0    Ana      8      7      6\n",
       "1  Bruno      5      6      4\n",
       "2  Carla      9      8     10"
      ]
     },
     "execution_count": 36,
     "metadata": {},
     "output_type": "execute_result"
    }
   ],
   "source": [
    "df2"
   ]
  },
  {
   "cell_type": "code",
   "execution_count": 42,
   "id": "7f85d037-9fee-44a9-84b7-4af00599afa1",
   "metadata": {},
   "outputs": [],
   "source": [
    "# Crie uma nova coluna chamada 'Média' com a média das 3 notas.\n",
    "df2['Media'] = (df2['Nota1'] + df2['Nota2'] + df2['Nota3']) / 3"
   ]
  },
  {
   "cell_type": "code",
   "execution_count": 43,
   "id": "be842197-fe36-43e7-97bd-ec6bd0860f91",
   "metadata": {},
   "outputs": [
    {
     "data": {
      "text/html": [
       "<div>\n",
       "<style scoped>\n",
       "    .dataframe tbody tr th:only-of-type {\n",
       "        vertical-align: middle;\n",
       "    }\n",
       "\n",
       "    .dataframe tbody tr th {\n",
       "        vertical-align: top;\n",
       "    }\n",
       "\n",
       "    .dataframe thead th {\n",
       "        text-align: right;\n",
       "    }\n",
       "</style>\n",
       "<table border=\"1\" class=\"dataframe\">\n",
       "  <thead>\n",
       "    <tr style=\"text-align: right;\">\n",
       "      <th></th>\n",
       "      <th>Aluno</th>\n",
       "      <th>Nota1</th>\n",
       "      <th>Nota2</th>\n",
       "      <th>Nota3</th>\n",
       "      <th>Media</th>\n",
       "    </tr>\n",
       "  </thead>\n",
       "  <tbody>\n",
       "    <tr>\n",
       "      <th>0</th>\n",
       "      <td>Ana</td>\n",
       "      <td>8</td>\n",
       "      <td>7</td>\n",
       "      <td>6</td>\n",
       "      <td>7.0</td>\n",
       "    </tr>\n",
       "    <tr>\n",
       "      <th>1</th>\n",
       "      <td>Bruno</td>\n",
       "      <td>5</td>\n",
       "      <td>6</td>\n",
       "      <td>4</td>\n",
       "      <td>5.0</td>\n",
       "    </tr>\n",
       "    <tr>\n",
       "      <th>2</th>\n",
       "      <td>Carla</td>\n",
       "      <td>9</td>\n",
       "      <td>8</td>\n",
       "      <td>10</td>\n",
       "      <td>9.0</td>\n",
       "    </tr>\n",
       "  </tbody>\n",
       "</table>\n",
       "</div>"
      ],
      "text/plain": [
       "   Aluno  Nota1  Nota2  Nota3  Media\n",
       "0    Ana      8      7      6    7.0\n",
       "1  Bruno      5      6      4    5.0\n",
       "2  Carla      9      8     10    9.0"
      ]
     },
     "execution_count": 43,
     "metadata": {},
     "output_type": "execute_result"
    }
   ],
   "source": [
    "df2"
   ]
  },
  {
   "cell_type": "code",
   "execution_count": 44,
   "id": "690a0fc2-9926-408e-ba50-f8a7985f8153",
   "metadata": {},
   "outputs": [
    {
     "data": {
      "text/html": [
       "<div>\n",
       "<style scoped>\n",
       "    .dataframe tbody tr th:only-of-type {\n",
       "        vertical-align: middle;\n",
       "    }\n",
       "\n",
       "    .dataframe tbody tr th {\n",
       "        vertical-align: top;\n",
       "    }\n",
       "\n",
       "    .dataframe thead th {\n",
       "        text-align: right;\n",
       "    }\n",
       "</style>\n",
       "<table border=\"1\" class=\"dataframe\">\n",
       "  <thead>\n",
       "    <tr style=\"text-align: right;\">\n",
       "      <th></th>\n",
       "      <th>Aluno</th>\n",
       "      <th>Nota1</th>\n",
       "      <th>Nota2</th>\n",
       "      <th>Nota3</th>\n",
       "      <th>Media</th>\n",
       "    </tr>\n",
       "  </thead>\n",
       "  <tbody>\n",
       "    <tr>\n",
       "      <th>2</th>\n",
       "      <td>Carla</td>\n",
       "      <td>9</td>\n",
       "      <td>8</td>\n",
       "      <td>10</td>\n",
       "      <td>9.0</td>\n",
       "    </tr>\n",
       "  </tbody>\n",
       "</table>\n",
       "</div>"
      ],
      "text/plain": [
       "   Aluno  Nota1  Nota2  Nota3  Media\n",
       "2  Carla      9      8     10    9.0"
      ]
     },
     "execution_count": 44,
     "metadata": {},
     "output_type": "execute_result"
    }
   ],
   "source": [
    "# Filtre os alunos com média acima de 7.\n",
    "df2[df2['Media'] > 7]"
   ]
  },
  {
   "cell_type": "markdown",
   "id": "ce977c2e-4c74-49b9-97d1-416d04ffc488",
   "metadata": {},
   "source": [
    "___"
   ]
  },
  {
   "cell_type": "markdown",
   "id": "c517f847-7cd7-41ae-a655-3bc15dbe7797",
   "metadata": {},
   "source": [
    "# 🎯 Parte 2 — Filtros e Indexação"
   ]
  },
  {
   "cell_type": "markdown",
   "id": "c02fe8e2-f1e4-4d7a-8c10-865ada6ba52b",
   "metadata": {},
   "source": [
    "## 3.\n",
    "Usando o DataFrame acima:\n",
    "- Mostre as notas da Ana usando .loc[].\n",
    "- Mostre a Nota2 de todos os alunos com .iloc[].\n",
    "- Substitua todas as notas menores que 6 por 6."
   ]
  },
  {
   "cell_type": "code",
   "execution_count": 55,
   "id": "507be914-c3ee-4252-a140-6e6a93241200",
   "metadata": {},
   "outputs": [
    {
     "data": {
      "text/html": [
       "<div>\n",
       "<style scoped>\n",
       "    .dataframe tbody tr th:only-of-type {\n",
       "        vertical-align: middle;\n",
       "    }\n",
       "\n",
       "    .dataframe tbody tr th {\n",
       "        vertical-align: top;\n",
       "    }\n",
       "\n",
       "    .dataframe thead th {\n",
       "        text-align: right;\n",
       "    }\n",
       "</style>\n",
       "<table border=\"1\" class=\"dataframe\">\n",
       "  <thead>\n",
       "    <tr style=\"text-align: right;\">\n",
       "      <th></th>\n",
       "      <th>Aluno</th>\n",
       "      <th>Nota1</th>\n",
       "      <th>Nota2</th>\n",
       "      <th>Nota3</th>\n",
       "      <th>Media</th>\n",
       "    </tr>\n",
       "  </thead>\n",
       "  <tbody>\n",
       "    <tr>\n",
       "      <th>0</th>\n",
       "      <td>Ana</td>\n",
       "      <td>8</td>\n",
       "      <td>7</td>\n",
       "      <td>6</td>\n",
       "      <td>7.0</td>\n",
       "    </tr>\n",
       "    <tr>\n",
       "      <th>1</th>\n",
       "      <td>Bruno</td>\n",
       "      <td>5</td>\n",
       "      <td>6</td>\n",
       "      <td>4</td>\n",
       "      <td>5.0</td>\n",
       "    </tr>\n",
       "    <tr>\n",
       "      <th>2</th>\n",
       "      <td>Carla</td>\n",
       "      <td>9</td>\n",
       "      <td>8</td>\n",
       "      <td>10</td>\n",
       "      <td>9.0</td>\n",
       "    </tr>\n",
       "  </tbody>\n",
       "</table>\n",
       "</div>"
      ],
      "text/plain": [
       "   Aluno  Nota1  Nota2  Nota3  Media\n",
       "0    Ana      8      7      6    7.0\n",
       "1  Bruno      5      6      4    5.0\n",
       "2  Carla      9      8     10    9.0"
      ]
     },
     "execution_count": 55,
     "metadata": {},
     "output_type": "execute_result"
    }
   ],
   "source": [
    "df2 # Esse será o dataframe utilizado nesse exercicio"
   ]
  },
  {
   "cell_type": "code",
   "execution_count": 62,
   "id": "883e3c90-f6e4-4890-8a47-aaae8be714aa",
   "metadata": {},
   "outputs": [
    {
     "data": {
      "text/plain": [
       "Aluno    Ana\n",
       "Nota1      8\n",
       "Nota2      7\n",
       "Nota3      6\n",
       "Media    7.0\n",
       "Name: 0, dtype: object"
      ]
     },
     "execution_count": 62,
     "metadata": {},
     "output_type": "execute_result"
    }
   ],
   "source": [
    "# Mostre as notas da Ana usando .loc[].\n",
    "df2.loc[0]"
   ]
  },
  {
   "cell_type": "code",
   "execution_count": 64,
   "id": "a09c338e-dc2d-460f-bb74-e20a6ed8794c",
   "metadata": {},
   "outputs": [
    {
     "data": {
      "text/plain": [
       "0    7\n",
       "1    6\n",
       "2    8\n",
       "Name: Nota2, dtype: int64"
      ]
     },
     "execution_count": 64,
     "metadata": {},
     "output_type": "execute_result"
    }
   ],
   "source": [
    "# Mostre a Nota2 de todos os alunos com .iloc[].\n",
    "df2.iloc[:, 2]"
   ]
  },
  {
   "cell_type": "code",
   "execution_count": 77,
   "id": "27b91999-1cb8-4366-8144-f9ea50884ca6",
   "metadata": {},
   "outputs": [],
   "source": [
    "# Substitua todas as notas menores que 6 por 6.\n",
    "\n",
    "colunas_notas = ['Nota1', 'Nota2', 'Nota3'] # Criar uma cópia das colunas de nota\n",
    "\n",
    "df2[colunas_notas] = df2[colunas_notas].map(lambda x: 6 if x < 6 else x) # Substituir todas as notas < 6 por 6\n",
    "\n",
    "\n",
    "\"\"\"Entendendo:\n",
    "- map() aplica uma função em cada célula de um DataFrame.\n",
    "- A função lambda x: 6 if x < 6 else x diz:\n",
    "        \"Se o valor for menor que 6, substitua por 6; senão, mantenha como está\".\n",
    "\"\"\""
   ]
  },
  {
   "cell_type": "code",
   "execution_count": 75,
   "id": "eb96c8d3-a5af-4423-8d76-05b650fb4cab",
   "metadata": {},
   "outputs": [
    {
     "data": {
      "text/html": [
       "<div>\n",
       "<style scoped>\n",
       "    .dataframe tbody tr th:only-of-type {\n",
       "        vertical-align: middle;\n",
       "    }\n",
       "\n",
       "    .dataframe tbody tr th {\n",
       "        vertical-align: top;\n",
       "    }\n",
       "\n",
       "    .dataframe thead th {\n",
       "        text-align: right;\n",
       "    }\n",
       "</style>\n",
       "<table border=\"1\" class=\"dataframe\">\n",
       "  <thead>\n",
       "    <tr style=\"text-align: right;\">\n",
       "      <th></th>\n",
       "      <th>Aluno</th>\n",
       "      <th>Nota1</th>\n",
       "      <th>Nota2</th>\n",
       "      <th>Nota3</th>\n",
       "      <th>Media</th>\n",
       "    </tr>\n",
       "  </thead>\n",
       "  <tbody>\n",
       "    <tr>\n",
       "      <th>0</th>\n",
       "      <td>Ana</td>\n",
       "      <td>8</td>\n",
       "      <td>7</td>\n",
       "      <td>6</td>\n",
       "      <td>7.0</td>\n",
       "    </tr>\n",
       "    <tr>\n",
       "      <th>1</th>\n",
       "      <td>Bruno</td>\n",
       "      <td>6</td>\n",
       "      <td>6</td>\n",
       "      <td>6</td>\n",
       "      <td>5.0</td>\n",
       "    </tr>\n",
       "    <tr>\n",
       "      <th>2</th>\n",
       "      <td>Carla</td>\n",
       "      <td>9</td>\n",
       "      <td>8</td>\n",
       "      <td>10</td>\n",
       "      <td>9.0</td>\n",
       "    </tr>\n",
       "  </tbody>\n",
       "</table>\n",
       "</div>"
      ],
      "text/plain": [
       "   Aluno  Nota1  Nota2  Nota3  Media\n",
       "0    Ana      8      7      6    7.0\n",
       "1  Bruno      6      6      6    5.0\n",
       "2  Carla      9      8     10    9.0"
      ]
     },
     "execution_count": 75,
     "metadata": {},
     "output_type": "execute_result"
    }
   ],
   "source": [
    "df2"
   ]
  },
  {
   "cell_type": "markdown",
   "id": "09cac4a9-5d5f-4017-a952-5888fe025d7f",
   "metadata": {},
   "source": [
    "___"
   ]
  },
  {
   "cell_type": "markdown",
   "id": "6369b41f-9942-4d70-a329-88ca7735405e",
   "metadata": {},
   "source": [
    "# 🎯 Parte 3 — Dados Ausentes"
   ]
  },
  {
   "cell_type": "markdown",
   "id": "a829e925-6b36-45b0-b8d6-aeb8245400bc",
   "metadata": {},
   "source": [
    "## 4.\n",
    "Crie um novo DataFrame com dados faltantes:\n",
    "\n",
    "| Nome   | Idade | Salário |\n",
    "| ------ | ----- | ------- |\n",
    "| Ana    | 25    | 3000    |\n",
    "| Bruno  | NaN   | 2500    |\n",
    "| Carla  | 30    | NaN     |\n",
    "| Daniel | NaN   | NaN     |\n",
    "\n",
    "\n",
    "- Preencha as idades faltantes com 28.\n",
    "- Preencha os salários faltantes com a média da coluna.\n",
    "- Remova as linhas onde ambos os valores são NaN."
   ]
  },
  {
   "cell_type": "code",
   "execution_count": 85,
   "id": "e19d4517-2d93-4974-b1b3-3c1031c5ea26",
   "metadata": {},
   "outputs": [],
   "source": [
    "import numpy as np\n",
    "\n",
    "dados2 = {\n",
    "    'Nome': ['Ana', 'Bruno', 'Carla', 'Daniel'],\n",
    "    'Idade': [25, np.nan, 30, np.nan],\n",
    "    'Salario': [3000, 2500, np.nan, np.nan]\n",
    "}\n",
    "\n",
    "df3 = pd.DataFrame(dados2)"
   ]
  },
  {
   "cell_type": "code",
   "execution_count": 70,
   "id": "5cf0cf0f-5434-4a08-abb0-d66b29a1221f",
   "metadata": {},
   "outputs": [
    {
     "data": {
      "text/html": [
       "<div>\n",
       "<style scoped>\n",
       "    .dataframe tbody tr th:only-of-type {\n",
       "        vertical-align: middle;\n",
       "    }\n",
       "\n",
       "    .dataframe tbody tr th {\n",
       "        vertical-align: top;\n",
       "    }\n",
       "\n",
       "    .dataframe thead th {\n",
       "        text-align: right;\n",
       "    }\n",
       "</style>\n",
       "<table border=\"1\" class=\"dataframe\">\n",
       "  <thead>\n",
       "    <tr style=\"text-align: right;\">\n",
       "      <th></th>\n",
       "      <th>Nome</th>\n",
       "      <th>Idade</th>\n",
       "      <th>Salario</th>\n",
       "    </tr>\n",
       "  </thead>\n",
       "  <tbody>\n",
       "    <tr>\n",
       "      <th>0</th>\n",
       "      <td>Ana</td>\n",
       "      <td>25.0</td>\n",
       "      <td>3000.0</td>\n",
       "    </tr>\n",
       "    <tr>\n",
       "      <th>1</th>\n",
       "      <td>Bruno</td>\n",
       "      <td>NaN</td>\n",
       "      <td>2500.0</td>\n",
       "    </tr>\n",
       "    <tr>\n",
       "      <th>2</th>\n",
       "      <td>Carla</td>\n",
       "      <td>30.0</td>\n",
       "      <td>NaN</td>\n",
       "    </tr>\n",
       "    <tr>\n",
       "      <th>3</th>\n",
       "      <td>Daniel</td>\n",
       "      <td>NaN</td>\n",
       "      <td>NaN</td>\n",
       "    </tr>\n",
       "  </tbody>\n",
       "</table>\n",
       "</div>"
      ],
      "text/plain": [
       "     Nome  Idade  Salario\n",
       "0     Ana   25.0   3000.0\n",
       "1   Bruno    NaN   2500.0\n",
       "2   Carla   30.0      NaN\n",
       "3  Daniel    NaN      NaN"
      ]
     },
     "execution_count": 70,
     "metadata": {},
     "output_type": "execute_result"
    }
   ],
   "source": [
    "df3"
   ]
  },
  {
   "cell_type": "code",
   "execution_count": 81,
   "id": "7dfdd6f1-341e-4b89-be83-12c8fe9d9a67",
   "metadata": {},
   "outputs": [],
   "source": [
    "# Preencha as idades faltantes com 28.\n",
    "df3['Idade'] = df3['Idade'].fillna(28)"
   ]
  },
  {
   "cell_type": "code",
   "execution_count": 82,
   "id": "811565b6-d5cc-4a00-ab11-aa868283dea4",
   "metadata": {},
   "outputs": [
    {
     "data": {
      "text/html": [
       "<div>\n",
       "<style scoped>\n",
       "    .dataframe tbody tr th:only-of-type {\n",
       "        vertical-align: middle;\n",
       "    }\n",
       "\n",
       "    .dataframe tbody tr th {\n",
       "        vertical-align: top;\n",
       "    }\n",
       "\n",
       "    .dataframe thead th {\n",
       "        text-align: right;\n",
       "    }\n",
       "</style>\n",
       "<table border=\"1\" class=\"dataframe\">\n",
       "  <thead>\n",
       "    <tr style=\"text-align: right;\">\n",
       "      <th></th>\n",
       "      <th>Nome</th>\n",
       "      <th>Idade</th>\n",
       "      <th>Salario</th>\n",
       "    </tr>\n",
       "  </thead>\n",
       "  <tbody>\n",
       "    <tr>\n",
       "      <th>0</th>\n",
       "      <td>Ana</td>\n",
       "      <td>25.0</td>\n",
       "      <td>3000.0</td>\n",
       "    </tr>\n",
       "    <tr>\n",
       "      <th>1</th>\n",
       "      <td>Bruno</td>\n",
       "      <td>28.0</td>\n",
       "      <td>2500.0</td>\n",
       "    </tr>\n",
       "    <tr>\n",
       "      <th>2</th>\n",
       "      <td>Carla</td>\n",
       "      <td>30.0</td>\n",
       "      <td>NaN</td>\n",
       "    </tr>\n",
       "    <tr>\n",
       "      <th>3</th>\n",
       "      <td>Daniel</td>\n",
       "      <td>28.0</td>\n",
       "      <td>NaN</td>\n",
       "    </tr>\n",
       "  </tbody>\n",
       "</table>\n",
       "</div>"
      ],
      "text/plain": [
       "     Nome  Idade  Salario\n",
       "0     Ana   25.0   3000.0\n",
       "1   Bruno   28.0   2500.0\n",
       "2   Carla   30.0      NaN\n",
       "3  Daniel   28.0      NaN"
      ]
     },
     "execution_count": 82,
     "metadata": {},
     "output_type": "execute_result"
    }
   ],
   "source": [
    "df3"
   ]
  },
  {
   "cell_type": "code",
   "execution_count": 83,
   "id": "aeb0a7b4-2e8a-45bc-a84f-03d9f2afdac9",
   "metadata": {},
   "outputs": [],
   "source": [
    "# Preencha os salários faltantes com a média da coluna.\n",
    "df3['Salario'] = df3['Salario'].fillna(df3['Salario'].mean())"
   ]
  },
  {
   "cell_type": "code",
   "execution_count": 84,
   "id": "9076e78f-8be6-4281-9bff-6f7218f7b648",
   "metadata": {},
   "outputs": [
    {
     "data": {
      "text/html": [
       "<div>\n",
       "<style scoped>\n",
       "    .dataframe tbody tr th:only-of-type {\n",
       "        vertical-align: middle;\n",
       "    }\n",
       "\n",
       "    .dataframe tbody tr th {\n",
       "        vertical-align: top;\n",
       "    }\n",
       "\n",
       "    .dataframe thead th {\n",
       "        text-align: right;\n",
       "    }\n",
       "</style>\n",
       "<table border=\"1\" class=\"dataframe\">\n",
       "  <thead>\n",
       "    <tr style=\"text-align: right;\">\n",
       "      <th></th>\n",
       "      <th>Nome</th>\n",
       "      <th>Idade</th>\n",
       "      <th>Salario</th>\n",
       "    </tr>\n",
       "  </thead>\n",
       "  <tbody>\n",
       "    <tr>\n",
       "      <th>0</th>\n",
       "      <td>Ana</td>\n",
       "      <td>25.0</td>\n",
       "      <td>3000.0</td>\n",
       "    </tr>\n",
       "    <tr>\n",
       "      <th>1</th>\n",
       "      <td>Bruno</td>\n",
       "      <td>28.0</td>\n",
       "      <td>2500.0</td>\n",
       "    </tr>\n",
       "    <tr>\n",
       "      <th>2</th>\n",
       "      <td>Carla</td>\n",
       "      <td>30.0</td>\n",
       "      <td>2750.0</td>\n",
       "    </tr>\n",
       "    <tr>\n",
       "      <th>3</th>\n",
       "      <td>Daniel</td>\n",
       "      <td>28.0</td>\n",
       "      <td>2750.0</td>\n",
       "    </tr>\n",
       "  </tbody>\n",
       "</table>\n",
       "</div>"
      ],
      "text/plain": [
       "     Nome  Idade  Salario\n",
       "0     Ana   25.0   3000.0\n",
       "1   Bruno   28.0   2500.0\n",
       "2   Carla   30.0   2750.0\n",
       "3  Daniel   28.0   2750.0"
      ]
     },
     "execution_count": 84,
     "metadata": {},
     "output_type": "execute_result"
    }
   ],
   "source": [
    "df3"
   ]
  },
  {
   "cell_type": "code",
   "execution_count": 87,
   "id": "f6f62186-2ad2-4ada-b198-4c0144d5f7b7",
   "metadata": {},
   "outputs": [
    {
     "data": {
      "text/html": [
       "<div>\n",
       "<style scoped>\n",
       "    .dataframe tbody tr th:only-of-type {\n",
       "        vertical-align: middle;\n",
       "    }\n",
       "\n",
       "    .dataframe tbody tr th {\n",
       "        vertical-align: top;\n",
       "    }\n",
       "\n",
       "    .dataframe thead th {\n",
       "        text-align: right;\n",
       "    }\n",
       "</style>\n",
       "<table border=\"1\" class=\"dataframe\">\n",
       "  <thead>\n",
       "    <tr style=\"text-align: right;\">\n",
       "      <th></th>\n",
       "      <th>Nome</th>\n",
       "      <th>Idade</th>\n",
       "      <th>Salario</th>\n",
       "    </tr>\n",
       "  </thead>\n",
       "  <tbody>\n",
       "    <tr>\n",
       "      <th>0</th>\n",
       "      <td>Ana</td>\n",
       "      <td>25.0</td>\n",
       "      <td>3000.0</td>\n",
       "    </tr>\n",
       "  </tbody>\n",
       "</table>\n",
       "</div>"
      ],
      "text/plain": [
       "  Nome  Idade  Salario\n",
       "0  Ana   25.0   3000.0"
      ]
     },
     "execution_count": 87,
     "metadata": {},
     "output_type": "execute_result"
    }
   ],
   "source": [
    "# Remova as linhas onde ambos os valores são NaN.\n",
    "df3.dropna()"
   ]
  },
  {
   "cell_type": "markdown",
   "id": "042dc0d3-3248-450d-89f9-134c0e6dbea2",
   "metadata": {},
   "source": [
    "___"
   ]
  },
  {
   "cell_type": "markdown",
   "id": "d0c2acea-b653-4699-b93e-7df4be802646",
   "metadata": {},
   "source": [
    "# 🎯 Parte 4 — GroupBy Avançado\n",
    "\n",
    "\n",
    "## 5. \n",
    "Crie este DataFrame\n",
    "\n",
    "| Departamento | Funcionário | Salário |\n",
    "| ------------ | ----------- | ------- |\n",
    "| RH           | Ana         | 3000    |\n",
    "| RH           | Bruno       | 3200    |\n",
    "| TI           | Carla       | 4000    |\n",
    "| TI           | Daniel      | 4500    |\n",
    "| Vendas       | Eduardo     | 3500    |\n",
    "\n",
    "\n",
    "- Calcule o salário médio por departamento.\n",
    "- Conte quantos funcionários existem em cada departamento.\n",
    "- Pegue o maior salário de cada departamento."
   ]
  },
  {
   "cell_type": "code",
   "execution_count": 104,
   "id": "1328abc9-1d24-4085-aeab-a624a22a79c4",
   "metadata": {},
   "outputs": [],
   "source": [
    "dados3 = {\n",
    "    'Departamento': ['RH', 'RH', 'TI', 'TI', 'Vendas'],\n",
    "    'Funcionario': ['Ana', 'Bruno', 'Carla', 'Daniel', 'Eduardo'],\n",
    "    'Salario': [3000, 3200, 4000, 4500, 3500]\n",
    "}\n",
    "\n",
    "df4 = pd.DataFrame(dados3)"
   ]
  },
  {
   "cell_type": "code",
   "execution_count": 95,
   "id": "83e14ea9-dd25-40da-be94-b18d22a6ad65",
   "metadata": {},
   "outputs": [
    {
     "data": {
      "text/html": [
       "<div>\n",
       "<style scoped>\n",
       "    .dataframe tbody tr th:only-of-type {\n",
       "        vertical-align: middle;\n",
       "    }\n",
       "\n",
       "    .dataframe tbody tr th {\n",
       "        vertical-align: top;\n",
       "    }\n",
       "\n",
       "    .dataframe thead th {\n",
       "        text-align: right;\n",
       "    }\n",
       "</style>\n",
       "<table border=\"1\" class=\"dataframe\">\n",
       "  <thead>\n",
       "    <tr style=\"text-align: right;\">\n",
       "      <th></th>\n",
       "      <th>Departamento</th>\n",
       "      <th>Funcionario</th>\n",
       "      <th>Salario</th>\n",
       "    </tr>\n",
       "  </thead>\n",
       "  <tbody>\n",
       "    <tr>\n",
       "      <th>0</th>\n",
       "      <td>RH</td>\n",
       "      <td>Ana</td>\n",
       "      <td>3000</td>\n",
       "    </tr>\n",
       "    <tr>\n",
       "      <th>1</th>\n",
       "      <td>RH</td>\n",
       "      <td>Bruno</td>\n",
       "      <td>3200</td>\n",
       "    </tr>\n",
       "    <tr>\n",
       "      <th>2</th>\n",
       "      <td>TI</td>\n",
       "      <td>Carla</td>\n",
       "      <td>4000</td>\n",
       "    </tr>\n",
       "    <tr>\n",
       "      <th>3</th>\n",
       "      <td>TI</td>\n",
       "      <td>Daniel</td>\n",
       "      <td>4500</td>\n",
       "    </tr>\n",
       "    <tr>\n",
       "      <th>4</th>\n",
       "      <td>Vendas</td>\n",
       "      <td>Eduardo</td>\n",
       "      <td>3500</td>\n",
       "    </tr>\n",
       "  </tbody>\n",
       "</table>\n",
       "</div>"
      ],
      "text/plain": [
       "  Departamento Funcionario  Salario\n",
       "0           RH         Ana     3000\n",
       "1           RH       Bruno     3200\n",
       "2           TI       Carla     4000\n",
       "3           TI      Daniel     4500\n",
       "4       Vendas     Eduardo     3500"
      ]
     },
     "execution_count": 95,
     "metadata": {},
     "output_type": "execute_result"
    }
   ],
   "source": [
    "df4"
   ]
  },
  {
   "cell_type": "code",
   "execution_count": 105,
   "id": "31621a8f-3604-4d1e-9c1e-bfad5d4e0dec",
   "metadata": {},
   "outputs": [
    {
     "data": {
      "text/plain": [
       "Departamento\n",
       "RH        3100.0\n",
       "TI        4250.0\n",
       "Vendas    3500.0\n",
       "Name: Salario, dtype: float64"
      ]
     },
     "execution_count": 105,
     "metadata": {},
     "output_type": "execute_result"
    }
   ],
   "source": [
    "# Calcule o salário médio por departamento.\n",
    "df4.groupby('Departamento')['Salario'].mean()"
   ]
  },
  {
   "cell_type": "code",
   "execution_count": 106,
   "id": "ce1da37a-d40e-42e8-a191-5c2f5e372ce7",
   "metadata": {},
   "outputs": [
    {
     "data": {
      "text/plain": [
       "Departamento\n",
       "RH        2\n",
       "TI        2\n",
       "Vendas    1\n",
       "Name: Funcionario, dtype: int64"
      ]
     },
     "execution_count": 106,
     "metadata": {},
     "output_type": "execute_result"
    }
   ],
   "source": [
    "# Conte quantos funcionários existem em cada departamento.\n",
    "df4.groupby('Departamento')['Funcionario'].count()"
   ]
  },
  {
   "cell_type": "code",
   "execution_count": 114,
   "id": "828858cd-d03f-4c87-a689-4156667cfb18",
   "metadata": {},
   "outputs": [
    {
     "data": {
      "text/plain": [
       "Departamento\n",
       "RH        3200\n",
       "TI        4500\n",
       "Vendas    3500\n",
       "Name: Salario, dtype: int64"
      ]
     },
     "execution_count": 114,
     "metadata": {},
     "output_type": "execute_result"
    }
   ],
   "source": [
    "# Pegue o maior salário de cada departamento.\n",
    "df4.groupby('Departamento')['Salario'].max()"
   ]
  },
  {
   "cell_type": "markdown",
   "id": "b224c706-541a-4484-a822-29a601cc2e71",
   "metadata": {},
   "source": [
    "___"
   ]
  },
  {
   "cell_type": "markdown",
   "id": "b71699a0-e811-4836-8bfa-aea08365a624",
   "metadata": {},
   "source": [
    "# 🎯 Parte 5 — Merge, Join e Concat\n",
    "\n",
    "## 6.\n",
    "Crie dois dataframes:"
   ]
  },
  {
   "cell_type": "code",
   "execution_count": 115,
   "id": "27397f89-396d-4412-80c1-ddeeb88ca4ba",
   "metadata": {},
   "outputs": [],
   "source": [
    "d1 = pd.DataFrame({\n",
    "    'ID': [1, 2, 3],\n",
    "    'Produto': ['A', 'B', 'C']\n",
    "})\n",
    "\n",
    "df_d1 = pd.DataFrame(d1)\n",
    "\n",
    "d2 = pd.DataFrame({\n",
    "    'ID': [2, 3, 4],\n",
    "    'Preço': [10, 20, 15]\n",
    "})\n",
    "\n",
    "df_d2 = pd.DataFrame(d2)\n"
   ]
  },
  {
   "cell_type": "code",
   "execution_count": 116,
   "id": "1a15fdf5-4cae-432a-95b5-5ef1661192db",
   "metadata": {},
   "outputs": [
    {
     "data": {
      "text/html": [
       "<div>\n",
       "<style scoped>\n",
       "    .dataframe tbody tr th:only-of-type {\n",
       "        vertical-align: middle;\n",
       "    }\n",
       "\n",
       "    .dataframe tbody tr th {\n",
       "        vertical-align: top;\n",
       "    }\n",
       "\n",
       "    .dataframe thead th {\n",
       "        text-align: right;\n",
       "    }\n",
       "</style>\n",
       "<table border=\"1\" class=\"dataframe\">\n",
       "  <thead>\n",
       "    <tr style=\"text-align: right;\">\n",
       "      <th></th>\n",
       "      <th>ID</th>\n",
       "      <th>Produto</th>\n",
       "    </tr>\n",
       "  </thead>\n",
       "  <tbody>\n",
       "    <tr>\n",
       "      <th>0</th>\n",
       "      <td>1</td>\n",
       "      <td>A</td>\n",
       "    </tr>\n",
       "    <tr>\n",
       "      <th>1</th>\n",
       "      <td>2</td>\n",
       "      <td>B</td>\n",
       "    </tr>\n",
       "    <tr>\n",
       "      <th>2</th>\n",
       "      <td>3</td>\n",
       "      <td>C</td>\n",
       "    </tr>\n",
       "  </tbody>\n",
       "</table>\n",
       "</div>"
      ],
      "text/plain": [
       "   ID Produto\n",
       "0   1       A\n",
       "1   2       B\n",
       "2   3       C"
      ]
     },
     "execution_count": 116,
     "metadata": {},
     "output_type": "execute_result"
    }
   ],
   "source": [
    "df_d1"
   ]
  },
  {
   "cell_type": "code",
   "execution_count": 117,
   "id": "1f2d81b5-bda5-4cd3-b6ef-f08cb9955c8c",
   "metadata": {},
   "outputs": [
    {
     "data": {
      "text/html": [
       "<div>\n",
       "<style scoped>\n",
       "    .dataframe tbody tr th:only-of-type {\n",
       "        vertical-align: middle;\n",
       "    }\n",
       "\n",
       "    .dataframe tbody tr th {\n",
       "        vertical-align: top;\n",
       "    }\n",
       "\n",
       "    .dataframe thead th {\n",
       "        text-align: right;\n",
       "    }\n",
       "</style>\n",
       "<table border=\"1\" class=\"dataframe\">\n",
       "  <thead>\n",
       "    <tr style=\"text-align: right;\">\n",
       "      <th></th>\n",
       "      <th>ID</th>\n",
       "      <th>Preço</th>\n",
       "    </tr>\n",
       "  </thead>\n",
       "  <tbody>\n",
       "    <tr>\n",
       "      <th>0</th>\n",
       "      <td>2</td>\n",
       "      <td>10</td>\n",
       "    </tr>\n",
       "    <tr>\n",
       "      <th>1</th>\n",
       "      <td>3</td>\n",
       "      <td>20</td>\n",
       "    </tr>\n",
       "    <tr>\n",
       "      <th>2</th>\n",
       "      <td>4</td>\n",
       "      <td>15</td>\n",
       "    </tr>\n",
       "  </tbody>\n",
       "</table>\n",
       "</div>"
      ],
      "text/plain": [
       "   ID  Preço\n",
       "0   2     10\n",
       "1   3     20\n",
       "2   4     15"
      ]
     },
     "execution_count": 117,
     "metadata": {},
     "output_type": "execute_result"
    }
   ],
   "source": [
    "df_d2"
   ]
  },
  {
   "cell_type": "markdown",
   "id": "a3d09693-9860-4d67-8657-9c5b27a1480d",
   "metadata": {},
   "source": [
    "- Faça um merge do tipo left.\n",
    "- Faça um join() usando o ID como índice.\n",
    "- Faça um concat() horizontal desses dois DataFrames."
   ]
  },
  {
   "cell_type": "code",
   "execution_count": 119,
   "id": "11fbbc35-5c3f-449b-a685-81c8a74950a5",
   "metadata": {},
   "outputs": [
    {
     "data": {
      "text/html": [
       "<div>\n",
       "<style scoped>\n",
       "    .dataframe tbody tr th:only-of-type {\n",
       "        vertical-align: middle;\n",
       "    }\n",
       "\n",
       "    .dataframe tbody tr th {\n",
       "        vertical-align: top;\n",
       "    }\n",
       "\n",
       "    .dataframe thead th {\n",
       "        text-align: right;\n",
       "    }\n",
       "</style>\n",
       "<table border=\"1\" class=\"dataframe\">\n",
       "  <thead>\n",
       "    <tr style=\"text-align: right;\">\n",
       "      <th></th>\n",
       "      <th>ID</th>\n",
       "      <th>Produto</th>\n",
       "      <th>Preço</th>\n",
       "    </tr>\n",
       "  </thead>\n",
       "  <tbody>\n",
       "    <tr>\n",
       "      <th>0</th>\n",
       "      <td>1</td>\n",
       "      <td>A</td>\n",
       "      <td>NaN</td>\n",
       "    </tr>\n",
       "    <tr>\n",
       "      <th>1</th>\n",
       "      <td>2</td>\n",
       "      <td>B</td>\n",
       "      <td>10.0</td>\n",
       "    </tr>\n",
       "    <tr>\n",
       "      <th>2</th>\n",
       "      <td>3</td>\n",
       "      <td>C</td>\n",
       "      <td>20.0</td>\n",
       "    </tr>\n",
       "  </tbody>\n",
       "</table>\n",
       "</div>"
      ],
      "text/plain": [
       "   ID Produto  Preço\n",
       "0   1       A    NaN\n",
       "1   2       B   10.0\n",
       "2   3       C   20.0"
      ]
     },
     "execution_count": 119,
     "metadata": {},
     "output_type": "execute_result"
    }
   ],
   "source": [
    "# Faça um merge do tipo left\n",
    "pd.merge(df_d1, df_d2, how=\"left\")"
   ]
  },
  {
   "cell_type": "code",
   "execution_count": 122,
   "id": "eee3e5cd-c671-49c1-b788-9a0cc1227cf7",
   "metadata": {},
   "outputs": [],
   "source": [
    "# Faça um join() usando o ID como índice\n"
   ]
  },
  {
   "cell_type": "code",
   "execution_count": 124,
   "id": "1eb4ebd0-c9d6-48fa-a9a5-7e81c28a4e0e",
   "metadata": {},
   "outputs": [
    {
     "data": {
      "text/html": [
       "<div>\n",
       "<style scoped>\n",
       "    .dataframe tbody tr th:only-of-type {\n",
       "        vertical-align: middle;\n",
       "    }\n",
       "\n",
       "    .dataframe tbody tr th {\n",
       "        vertical-align: top;\n",
       "    }\n",
       "\n",
       "    .dataframe thead th {\n",
       "        text-align: right;\n",
       "    }\n",
       "</style>\n",
       "<table border=\"1\" class=\"dataframe\">\n",
       "  <thead>\n",
       "    <tr style=\"text-align: right;\">\n",
       "      <th></th>\n",
       "      <th>ID</th>\n",
       "      <th>Produto</th>\n",
       "      <th>ID</th>\n",
       "      <th>Preço</th>\n",
       "    </tr>\n",
       "  </thead>\n",
       "  <tbody>\n",
       "    <tr>\n",
       "      <th>0</th>\n",
       "      <td>1</td>\n",
       "      <td>A</td>\n",
       "      <td>2</td>\n",
       "      <td>10</td>\n",
       "    </tr>\n",
       "    <tr>\n",
       "      <th>1</th>\n",
       "      <td>2</td>\n",
       "      <td>B</td>\n",
       "      <td>3</td>\n",
       "      <td>20</td>\n",
       "    </tr>\n",
       "    <tr>\n",
       "      <th>2</th>\n",
       "      <td>3</td>\n",
       "      <td>C</td>\n",
       "      <td>4</td>\n",
       "      <td>15</td>\n",
       "    </tr>\n",
       "  </tbody>\n",
       "</table>\n",
       "</div>"
      ],
      "text/plain": [
       "   ID Produto  ID  Preço\n",
       "0   1       A   2     10\n",
       "1   2       B   3     20\n",
       "2   3       C   4     15"
      ]
     },
     "execution_count": 124,
     "metadata": {},
     "output_type": "execute_result"
    }
   ],
   "source": [
    "# Faça um concat() horizontal desses dois DataFrames.\n",
    "pd.concat([df_d1, df_d2], axis=1)"
   ]
  },
  {
   "cell_type": "markdown",
   "id": "e59e3a03-0864-4e14-87d5-b454fc48d7a8",
   "metadata": {},
   "source": [
    "___"
   ]
  },
  {
   "cell_type": "markdown",
   "id": "f36e8951-3601-47d4-8b24-ec39f8e3dee7",
   "metadata": {},
   "source": [
    "# Parte 6 — Séries Temporais\n",
    "\n",
    "## 7. \n",
    "Crie uma série de datas mensais de '2020-01-01' até '2020-12-01':\n",
    "\n",
    "- Crie uma coluna 'Vendas' com valores de 100 a 1200.\n",
    "- Calcule o total anual de vendas.\n",
    "- Crie uma coluna 'Trimestre' indicando o trimestre de cada data.\n",
    "- Filtre apenas as vendas do segundo trimestre."
   ]
  },
  {
   "cell_type": "code",
   "execution_count": 194,
   "id": "64d20b4b-86c3-4e20-a54e-6bac71d85d5a",
   "metadata": {},
   "outputs": [],
   "source": [
    "datas = pd.date_range(start='2020-01-01', end='2020-12-01', freq='MS')\n",
    "vendas = list(range(100, 1300, 100))\n",
    "\n",
    "df5 = pd.DataFrame({'Datas': datas, 'Vendas': vendas})"
   ]
  },
  {
   "cell_type": "code",
   "execution_count": 195,
   "id": "56100f7b-f021-43cd-88c6-fcb1ec8cb61e",
   "metadata": {},
   "outputs": [
    {
     "data": {
      "text/html": [
       "<div>\n",
       "<style scoped>\n",
       "    .dataframe tbody tr th:only-of-type {\n",
       "        vertical-align: middle;\n",
       "    }\n",
       "\n",
       "    .dataframe tbody tr th {\n",
       "        vertical-align: top;\n",
       "    }\n",
       "\n",
       "    .dataframe thead th {\n",
       "        text-align: right;\n",
       "    }\n",
       "</style>\n",
       "<table border=\"1\" class=\"dataframe\">\n",
       "  <thead>\n",
       "    <tr style=\"text-align: right;\">\n",
       "      <th></th>\n",
       "      <th>Datas</th>\n",
       "      <th>Vendas</th>\n",
       "    </tr>\n",
       "  </thead>\n",
       "  <tbody>\n",
       "    <tr>\n",
       "      <th>0</th>\n",
       "      <td>2020-01-01</td>\n",
       "      <td>100</td>\n",
       "    </tr>\n",
       "    <tr>\n",
       "      <th>1</th>\n",
       "      <td>2020-02-01</td>\n",
       "      <td>200</td>\n",
       "    </tr>\n",
       "    <tr>\n",
       "      <th>2</th>\n",
       "      <td>2020-03-01</td>\n",
       "      <td>300</td>\n",
       "    </tr>\n",
       "    <tr>\n",
       "      <th>3</th>\n",
       "      <td>2020-04-01</td>\n",
       "      <td>400</td>\n",
       "    </tr>\n",
       "    <tr>\n",
       "      <th>4</th>\n",
       "      <td>2020-05-01</td>\n",
       "      <td>500</td>\n",
       "    </tr>\n",
       "    <tr>\n",
       "      <th>5</th>\n",
       "      <td>2020-06-01</td>\n",
       "      <td>600</td>\n",
       "    </tr>\n",
       "    <tr>\n",
       "      <th>6</th>\n",
       "      <td>2020-07-01</td>\n",
       "      <td>700</td>\n",
       "    </tr>\n",
       "    <tr>\n",
       "      <th>7</th>\n",
       "      <td>2020-08-01</td>\n",
       "      <td>800</td>\n",
       "    </tr>\n",
       "    <tr>\n",
       "      <th>8</th>\n",
       "      <td>2020-09-01</td>\n",
       "      <td>900</td>\n",
       "    </tr>\n",
       "    <tr>\n",
       "      <th>9</th>\n",
       "      <td>2020-10-01</td>\n",
       "      <td>1000</td>\n",
       "    </tr>\n",
       "    <tr>\n",
       "      <th>10</th>\n",
       "      <td>2020-11-01</td>\n",
       "      <td>1100</td>\n",
       "    </tr>\n",
       "    <tr>\n",
       "      <th>11</th>\n",
       "      <td>2020-12-01</td>\n",
       "      <td>1200</td>\n",
       "    </tr>\n",
       "  </tbody>\n",
       "</table>\n",
       "</div>"
      ],
      "text/plain": [
       "        Datas  Vendas\n",
       "0  2020-01-01     100\n",
       "1  2020-02-01     200\n",
       "2  2020-03-01     300\n",
       "3  2020-04-01     400\n",
       "4  2020-05-01     500\n",
       "5  2020-06-01     600\n",
       "6  2020-07-01     700\n",
       "7  2020-08-01     800\n",
       "8  2020-09-01     900\n",
       "9  2020-10-01    1000\n",
       "10 2020-11-01    1100\n",
       "11 2020-12-01    1200"
      ]
     },
     "execution_count": 195,
     "metadata": {},
     "output_type": "execute_result"
    }
   ],
   "source": [
    "df5"
   ]
  },
  {
   "cell_type": "code",
   "execution_count": 197,
   "id": "08838439-0ffc-4ae2-a06f-c73f683fd8cb",
   "metadata": {},
   "outputs": [
    {
     "name": "stdout",
     "output_type": "stream",
     "text": [
      "Total de Vendas Anual: 7800\n"
     ]
    }
   ],
   "source": [
    "# Calcule o total anual de vendas.\n",
    "# df5.resample('YE').sum() # OU\n",
    "print(f\"Total de Vendas Anual: {df5['Vendas'].sum()}\")"
   ]
  },
  {
   "cell_type": "code",
   "execution_count": 198,
   "id": "3444a2fd-1e6b-4e8a-a2c8-d4e6421cd32b",
   "metadata": {},
   "outputs": [],
   "source": [
    "# Crie uma coluna 'Trimestre' indicando o trimestre de cada data.\n",
    "df5['Trimestre'] = df5['Datas'].dt.quarter"
   ]
  },
  {
   "cell_type": "markdown",
   "id": "e8d88f91-7859-41ab-9612-82199bfd447f",
   "metadata": {},
   "source": [
    "**Explicando o código:**\n",
    "\n",
    "`.dt`: Esse é um acessador especial do Pandas usado para extrair informações específicas de colunas com datas (tipo datetime64). Você só pode usar .dt se a coluna for do tipo datetime\n",
    "\n",
    "`.quarter`: É um atributo (sem parênteses!) que devolve o número do trimestre para cada data da Series.\n",
    "\n",
    "| Mês       | Trimestre (`quarter`) |\n",
    "| --------- | --------------------- |\n",
    "| Jan, Fev, Mar   | 1                     |\n",
    "| Abr, Mai, Jun     | 2                     |\n",
    "| Jul, Ago, Set     | 3                     |\n",
    "| Out, Nov, Dez   | 4                     |"
   ]
  },
  {
   "cell_type": "code",
   "execution_count": 199,
   "id": "95f3d9be-b4d5-4dff-90f6-35b59ab7a69c",
   "metadata": {},
   "outputs": [
    {
     "data": {
      "text/html": [
       "<div>\n",
       "<style scoped>\n",
       "    .dataframe tbody tr th:only-of-type {\n",
       "        vertical-align: middle;\n",
       "    }\n",
       "\n",
       "    .dataframe tbody tr th {\n",
       "        vertical-align: top;\n",
       "    }\n",
       "\n",
       "    .dataframe thead th {\n",
       "        text-align: right;\n",
       "    }\n",
       "</style>\n",
       "<table border=\"1\" class=\"dataframe\">\n",
       "  <thead>\n",
       "    <tr style=\"text-align: right;\">\n",
       "      <th></th>\n",
       "      <th>Datas</th>\n",
       "      <th>Vendas</th>\n",
       "      <th>Trimestre</th>\n",
       "    </tr>\n",
       "  </thead>\n",
       "  <tbody>\n",
       "    <tr>\n",
       "      <th>0</th>\n",
       "      <td>2020-01-01</td>\n",
       "      <td>100</td>\n",
       "      <td>1</td>\n",
       "    </tr>\n",
       "    <tr>\n",
       "      <th>1</th>\n",
       "      <td>2020-02-01</td>\n",
       "      <td>200</td>\n",
       "      <td>1</td>\n",
       "    </tr>\n",
       "    <tr>\n",
       "      <th>2</th>\n",
       "      <td>2020-03-01</td>\n",
       "      <td>300</td>\n",
       "      <td>1</td>\n",
       "    </tr>\n",
       "    <tr>\n",
       "      <th>3</th>\n",
       "      <td>2020-04-01</td>\n",
       "      <td>400</td>\n",
       "      <td>2</td>\n",
       "    </tr>\n",
       "    <tr>\n",
       "      <th>4</th>\n",
       "      <td>2020-05-01</td>\n",
       "      <td>500</td>\n",
       "      <td>2</td>\n",
       "    </tr>\n",
       "    <tr>\n",
       "      <th>5</th>\n",
       "      <td>2020-06-01</td>\n",
       "      <td>600</td>\n",
       "      <td>2</td>\n",
       "    </tr>\n",
       "    <tr>\n",
       "      <th>6</th>\n",
       "      <td>2020-07-01</td>\n",
       "      <td>700</td>\n",
       "      <td>3</td>\n",
       "    </tr>\n",
       "    <tr>\n",
       "      <th>7</th>\n",
       "      <td>2020-08-01</td>\n",
       "      <td>800</td>\n",
       "      <td>3</td>\n",
       "    </tr>\n",
       "    <tr>\n",
       "      <th>8</th>\n",
       "      <td>2020-09-01</td>\n",
       "      <td>900</td>\n",
       "      <td>3</td>\n",
       "    </tr>\n",
       "    <tr>\n",
       "      <th>9</th>\n",
       "      <td>2020-10-01</td>\n",
       "      <td>1000</td>\n",
       "      <td>4</td>\n",
       "    </tr>\n",
       "    <tr>\n",
       "      <th>10</th>\n",
       "      <td>2020-11-01</td>\n",
       "      <td>1100</td>\n",
       "      <td>4</td>\n",
       "    </tr>\n",
       "    <tr>\n",
       "      <th>11</th>\n",
       "      <td>2020-12-01</td>\n",
       "      <td>1200</td>\n",
       "      <td>4</td>\n",
       "    </tr>\n",
       "  </tbody>\n",
       "</table>\n",
       "</div>"
      ],
      "text/plain": [
       "        Datas  Vendas  Trimestre\n",
       "0  2020-01-01     100          1\n",
       "1  2020-02-01     200          1\n",
       "2  2020-03-01     300          1\n",
       "3  2020-04-01     400          2\n",
       "4  2020-05-01     500          2\n",
       "5  2020-06-01     600          2\n",
       "6  2020-07-01     700          3\n",
       "7  2020-08-01     800          3\n",
       "8  2020-09-01     900          3\n",
       "9  2020-10-01    1000          4\n",
       "10 2020-11-01    1100          4\n",
       "11 2020-12-01    1200          4"
      ]
     },
     "execution_count": 199,
     "metadata": {},
     "output_type": "execute_result"
    }
   ],
   "source": [
    "df5"
   ]
  },
  {
   "cell_type": "code",
   "execution_count": 204,
   "id": "8969c638-97f5-49d4-8590-b7863b711d5c",
   "metadata": {},
   "outputs": [
    {
     "data": {
      "text/html": [
       "<div>\n",
       "<style scoped>\n",
       "    .dataframe tbody tr th:only-of-type {\n",
       "        vertical-align: middle;\n",
       "    }\n",
       "\n",
       "    .dataframe tbody tr th {\n",
       "        vertical-align: top;\n",
       "    }\n",
       "\n",
       "    .dataframe thead th {\n",
       "        text-align: right;\n",
       "    }\n",
       "</style>\n",
       "<table border=\"1\" class=\"dataframe\">\n",
       "  <thead>\n",
       "    <tr style=\"text-align: right;\">\n",
       "      <th></th>\n",
       "      <th>Datas</th>\n",
       "      <th>Vendas</th>\n",
       "      <th>Trimestre</th>\n",
       "    </tr>\n",
       "  </thead>\n",
       "  <tbody>\n",
       "    <tr>\n",
       "      <th>3</th>\n",
       "      <td>2020-04-01</td>\n",
       "      <td>400</td>\n",
       "      <td>2</td>\n",
       "    </tr>\n",
       "    <tr>\n",
       "      <th>4</th>\n",
       "      <td>2020-05-01</td>\n",
       "      <td>500</td>\n",
       "      <td>2</td>\n",
       "    </tr>\n",
       "    <tr>\n",
       "      <th>5</th>\n",
       "      <td>2020-06-01</td>\n",
       "      <td>600</td>\n",
       "      <td>2</td>\n",
       "    </tr>\n",
       "  </tbody>\n",
       "</table>\n",
       "</div>"
      ],
      "text/plain": [
       "       Datas  Vendas  Trimestre\n",
       "3 2020-04-01     400          2\n",
       "4 2020-05-01     500          2\n",
       "5 2020-06-01     600          2"
      ]
     },
     "execution_count": 204,
     "metadata": {},
     "output_type": "execute_result"
    }
   ],
   "source": [
    "# Filtre apenas as vendas do segundo trimestre.\n",
    "df5[df5['Trimestre'] == 2]"
   ]
  },
  {
   "cell_type": "markdown",
   "id": "007f358e-cbc3-4ac1-af4d-1a96a8b5ed36",
   "metadata": {},
   "source": [
    "___"
   ]
  },
  {
   "cell_type": "markdown",
   "id": "204bfbc6-55e7-4925-878a-2296345acf94",
   "metadata": {},
   "source": [
    "# Parte 7 — Operações com DataFrames\n",
    "\n",
    "## 8.\n",
    "Crie o seguinte DataFrame:\n",
    "\n",
    "| Produto | Custo | Venda |\n",
    "| ------- | ----- | ----- |\n",
    "| A       | 50    | 80    |\n",
    "| B       | 30    | 60    |\n",
    "| C       | 40    | 90    |\n",
    "\n",
    "\n",
    "- Calcule a coluna Lucro = Venda - Custo.\n",
    "- Calcule a margem de lucro (%).\n",
    "- Filtre produtos com margem acima de 50%"
   ]
  },
  {
   "cell_type": "code",
   "execution_count": 206,
   "id": "44414b50-f6da-4bc4-9f1d-1ff9e7081894",
   "metadata": {},
   "outputs": [],
   "source": [
    "dados5 = {\n",
    "    'Produto': ['A', 'B', 'C'],\n",
    "    'Custo': [50, 30, 40],\n",
    "    'Venda': [80, 60, 90]\n",
    "}\n",
    "\n",
    "df6 = pd.DataFrame(dados5)"
   ]
  },
  {
   "cell_type": "code",
   "execution_count": 207,
   "id": "e2a0e1a0-7fac-4c32-b325-9407d358d13c",
   "metadata": {},
   "outputs": [
    {
     "data": {
      "text/html": [
       "<div>\n",
       "<style scoped>\n",
       "    .dataframe tbody tr th:only-of-type {\n",
       "        vertical-align: middle;\n",
       "    }\n",
       "\n",
       "    .dataframe tbody tr th {\n",
       "        vertical-align: top;\n",
       "    }\n",
       "\n",
       "    .dataframe thead th {\n",
       "        text-align: right;\n",
       "    }\n",
       "</style>\n",
       "<table border=\"1\" class=\"dataframe\">\n",
       "  <thead>\n",
       "    <tr style=\"text-align: right;\">\n",
       "      <th></th>\n",
       "      <th>Produto</th>\n",
       "      <th>Custo</th>\n",
       "      <th>Venda</th>\n",
       "    </tr>\n",
       "  </thead>\n",
       "  <tbody>\n",
       "    <tr>\n",
       "      <th>0</th>\n",
       "      <td>A</td>\n",
       "      <td>50</td>\n",
       "      <td>80</td>\n",
       "    </tr>\n",
       "    <tr>\n",
       "      <th>1</th>\n",
       "      <td>B</td>\n",
       "      <td>30</td>\n",
       "      <td>60</td>\n",
       "    </tr>\n",
       "    <tr>\n",
       "      <th>2</th>\n",
       "      <td>C</td>\n",
       "      <td>40</td>\n",
       "      <td>90</td>\n",
       "    </tr>\n",
       "  </tbody>\n",
       "</table>\n",
       "</div>"
      ],
      "text/plain": [
       "  Produto  Custo  Venda\n",
       "0       A     50     80\n",
       "1       B     30     60\n",
       "2       C     40     90"
      ]
     },
     "execution_count": 207,
     "metadata": {},
     "output_type": "execute_result"
    }
   ],
   "source": [
    "df6"
   ]
  },
  {
   "cell_type": "code",
   "execution_count": 208,
   "id": "023e159b-c5ba-40f5-bf4a-62f473f868ea",
   "metadata": {},
   "outputs": [],
   "source": [
    "# Calcule a coluna Lucro = Venda - Custo.\n",
    "df6['Lucro'] = df6['Venda'] - df6['Custo']"
   ]
  },
  {
   "cell_type": "code",
   "execution_count": 209,
   "id": "529a37f7-bf93-4dbb-b40c-a592bef70898",
   "metadata": {},
   "outputs": [
    {
     "data": {
      "text/html": [
       "<div>\n",
       "<style scoped>\n",
       "    .dataframe tbody tr th:only-of-type {\n",
       "        vertical-align: middle;\n",
       "    }\n",
       "\n",
       "    .dataframe tbody tr th {\n",
       "        vertical-align: top;\n",
       "    }\n",
       "\n",
       "    .dataframe thead th {\n",
       "        text-align: right;\n",
       "    }\n",
       "</style>\n",
       "<table border=\"1\" class=\"dataframe\">\n",
       "  <thead>\n",
       "    <tr style=\"text-align: right;\">\n",
       "      <th></th>\n",
       "      <th>Produto</th>\n",
       "      <th>Custo</th>\n",
       "      <th>Venda</th>\n",
       "      <th>Lucro</th>\n",
       "    </tr>\n",
       "  </thead>\n",
       "  <tbody>\n",
       "    <tr>\n",
       "      <th>0</th>\n",
       "      <td>A</td>\n",
       "      <td>50</td>\n",
       "      <td>80</td>\n",
       "      <td>30</td>\n",
       "    </tr>\n",
       "    <tr>\n",
       "      <th>1</th>\n",
       "      <td>B</td>\n",
       "      <td>30</td>\n",
       "      <td>60</td>\n",
       "      <td>30</td>\n",
       "    </tr>\n",
       "    <tr>\n",
       "      <th>2</th>\n",
       "      <td>C</td>\n",
       "      <td>40</td>\n",
       "      <td>90</td>\n",
       "      <td>50</td>\n",
       "    </tr>\n",
       "  </tbody>\n",
       "</table>\n",
       "</div>"
      ],
      "text/plain": [
       "  Produto  Custo  Venda  Lucro\n",
       "0       A     50     80     30\n",
       "1       B     30     60     30\n",
       "2       C     40     90     50"
      ]
     },
     "execution_count": 209,
     "metadata": {},
     "output_type": "execute_result"
    }
   ],
   "source": [
    "df6"
   ]
  },
  {
   "cell_type": "code",
   "execution_count": 212,
   "id": "359f43cf-5951-4351-b5a2-2293b68df109",
   "metadata": {},
   "outputs": [],
   "source": [
    "# Calcule a margem de lucro (%).\n",
    "# Calculo para a Margem (%) = (Lucro / Custo) * 100\n",
    "\n",
    "df6['Margem_Lucro (%)'] = (df6['Lucro'] / df6['Custo']) * 100"
   ]
  },
  {
   "cell_type": "code",
   "execution_count": 213,
   "id": "4f5a0d8b-7558-4ea3-a1bd-1eb8775bd3cf",
   "metadata": {},
   "outputs": [
    {
     "data": {
      "text/html": [
       "<div>\n",
       "<style scoped>\n",
       "    .dataframe tbody tr th:only-of-type {\n",
       "        vertical-align: middle;\n",
       "    }\n",
       "\n",
       "    .dataframe tbody tr th {\n",
       "        vertical-align: top;\n",
       "    }\n",
       "\n",
       "    .dataframe thead th {\n",
       "        text-align: right;\n",
       "    }\n",
       "</style>\n",
       "<table border=\"1\" class=\"dataframe\">\n",
       "  <thead>\n",
       "    <tr style=\"text-align: right;\">\n",
       "      <th></th>\n",
       "      <th>Produto</th>\n",
       "      <th>Custo</th>\n",
       "      <th>Venda</th>\n",
       "      <th>Lucro</th>\n",
       "      <th>Margem_Lucro (%)</th>\n",
       "    </tr>\n",
       "  </thead>\n",
       "  <tbody>\n",
       "    <tr>\n",
       "      <th>0</th>\n",
       "      <td>A</td>\n",
       "      <td>50</td>\n",
       "      <td>80</td>\n",
       "      <td>30</td>\n",
       "      <td>60.0</td>\n",
       "    </tr>\n",
       "    <tr>\n",
       "      <th>1</th>\n",
       "      <td>B</td>\n",
       "      <td>30</td>\n",
       "      <td>60</td>\n",
       "      <td>30</td>\n",
       "      <td>100.0</td>\n",
       "    </tr>\n",
       "    <tr>\n",
       "      <th>2</th>\n",
       "      <td>C</td>\n",
       "      <td>40</td>\n",
       "      <td>90</td>\n",
       "      <td>50</td>\n",
       "      <td>125.0</td>\n",
       "    </tr>\n",
       "  </tbody>\n",
       "</table>\n",
       "</div>"
      ],
      "text/plain": [
       "  Produto  Custo  Venda  Lucro  Margem_Lucro (%)\n",
       "0       A     50     80     30              60.0\n",
       "1       B     30     60     30             100.0\n",
       "2       C     40     90     50             125.0"
      ]
     },
     "execution_count": 213,
     "metadata": {},
     "output_type": "execute_result"
    }
   ],
   "source": [
    "df6"
   ]
  },
  {
   "cell_type": "code",
   "execution_count": 214,
   "id": "80968a5f-58d1-4c33-b2da-6efb06861a56",
   "metadata": {},
   "outputs": [
    {
     "data": {
      "text/html": [
       "<div>\n",
       "<style scoped>\n",
       "    .dataframe tbody tr th:only-of-type {\n",
       "        vertical-align: middle;\n",
       "    }\n",
       "\n",
       "    .dataframe tbody tr th {\n",
       "        vertical-align: top;\n",
       "    }\n",
       "\n",
       "    .dataframe thead th {\n",
       "        text-align: right;\n",
       "    }\n",
       "</style>\n",
       "<table border=\"1\" class=\"dataframe\">\n",
       "  <thead>\n",
       "    <tr style=\"text-align: right;\">\n",
       "      <th></th>\n",
       "      <th>Produto</th>\n",
       "      <th>Custo</th>\n",
       "      <th>Venda</th>\n",
       "      <th>Lucro</th>\n",
       "      <th>Margem_Lucro (%)</th>\n",
       "    </tr>\n",
       "  </thead>\n",
       "  <tbody>\n",
       "    <tr>\n",
       "      <th>0</th>\n",
       "      <td>A</td>\n",
       "      <td>50</td>\n",
       "      <td>80</td>\n",
       "      <td>30</td>\n",
       "      <td>60.0</td>\n",
       "    </tr>\n",
       "    <tr>\n",
       "      <th>1</th>\n",
       "      <td>B</td>\n",
       "      <td>30</td>\n",
       "      <td>60</td>\n",
       "      <td>30</td>\n",
       "      <td>100.0</td>\n",
       "    </tr>\n",
       "    <tr>\n",
       "      <th>2</th>\n",
       "      <td>C</td>\n",
       "      <td>40</td>\n",
       "      <td>90</td>\n",
       "      <td>50</td>\n",
       "      <td>125.0</td>\n",
       "    </tr>\n",
       "  </tbody>\n",
       "</table>\n",
       "</div>"
      ],
      "text/plain": [
       "  Produto  Custo  Venda  Lucro  Margem_Lucro (%)\n",
       "0       A     50     80     30              60.0\n",
       "1       B     30     60     30             100.0\n",
       "2       C     40     90     50             125.0"
      ]
     },
     "execution_count": 214,
     "metadata": {},
     "output_type": "execute_result"
    }
   ],
   "source": [
    "# Filtre produtos com margem acima de 50%\n",
    "df6[df6['Margem_Lucro (%)'] > 50]"
   ]
  },
  {
   "cell_type": "markdown",
   "id": "44fcddbb-6f32-4c99-ac8e-9af2f9840f95",
   "metadata": {},
   "source": [
    "___"
   ]
  },
  {
   "cell_type": "markdown",
   "id": "760e7e38-eee5-43f4-81a4-a9d5fa2fcbe9",
   "metadata": {},
   "source": [
    "# Parte 8 — Entrada/Saída de Dados\n",
    "\n",
    "## 9. \n",
    "Salve o DataFrame acima como:\n",
    "- CSV: 'lucro.csv'\n",
    "- Excel: 'lucro.xlsx'\n",
    "\n",
    "Depois:\n",
    "\n",
    "- Leia novamente o arquivo CSV.\n",
    "- Verifique o conteúdo lido."
   ]
  },
  {
   "cell_type": "code",
   "execution_count": 219,
   "id": "99f79920-ddba-4171-8568-2e1ecccdd947",
   "metadata": {},
   "outputs": [],
   "source": [
    "# Salvando o DataFrame (df6) em um arquivo CSV:\n",
    "df6.to_csv('lucro_csv.csv', index=False)"
   ]
  },
  {
   "cell_type": "code",
   "execution_count": 220,
   "id": "25434fe2-c332-4ed8-9903-bde6af6f9c11",
   "metadata": {},
   "outputs": [],
   "source": [
    "# Salvando o DataFrame (df6) em um arquivo EXCEL(xlsx):\n",
    "df6.to_excel('lucro_excel.xlsx', index=False)"
   ]
  },
  {
   "cell_type": "code",
   "execution_count": 221,
   "id": "e827e138-38ed-4a0f-afab-882599383b7b",
   "metadata": {},
   "outputs": [],
   "source": [
    "# Lendo novamente os dados exportandos (em csv)\n",
    "dados_importados = pd.read_csv('lucro_csv.csv')"
   ]
  },
  {
   "cell_type": "code",
   "execution_count": 223,
   "id": "955ec444-ebe6-4534-a13c-002be154c36c",
   "metadata": {},
   "outputs": [
    {
     "data": {
      "text/html": [
       "<div>\n",
       "<style scoped>\n",
       "    .dataframe tbody tr th:only-of-type {\n",
       "        vertical-align: middle;\n",
       "    }\n",
       "\n",
       "    .dataframe tbody tr th {\n",
       "        vertical-align: top;\n",
       "    }\n",
       "\n",
       "    .dataframe thead th {\n",
       "        text-align: right;\n",
       "    }\n",
       "</style>\n",
       "<table border=\"1\" class=\"dataframe\">\n",
       "  <thead>\n",
       "    <tr style=\"text-align: right;\">\n",
       "      <th></th>\n",
       "      <th>Produto</th>\n",
       "      <th>Custo</th>\n",
       "      <th>Venda</th>\n",
       "      <th>Lucro</th>\n",
       "      <th>Margem_Lucro (%)</th>\n",
       "    </tr>\n",
       "  </thead>\n",
       "  <tbody>\n",
       "    <tr>\n",
       "      <th>0</th>\n",
       "      <td>A</td>\n",
       "      <td>50</td>\n",
       "      <td>80</td>\n",
       "      <td>30</td>\n",
       "      <td>60.0</td>\n",
       "    </tr>\n",
       "    <tr>\n",
       "      <th>1</th>\n",
       "      <td>B</td>\n",
       "      <td>30</td>\n",
       "      <td>60</td>\n",
       "      <td>30</td>\n",
       "      <td>100.0</td>\n",
       "    </tr>\n",
       "    <tr>\n",
       "      <th>2</th>\n",
       "      <td>C</td>\n",
       "      <td>40</td>\n",
       "      <td>90</td>\n",
       "      <td>50</td>\n",
       "      <td>125.0</td>\n",
       "    </tr>\n",
       "  </tbody>\n",
       "</table>\n",
       "</div>"
      ],
      "text/plain": [
       "  Produto  Custo  Venda  Lucro  Margem_Lucro (%)\n",
       "0       A     50     80     30              60.0\n",
       "1       B     30     60     30             100.0\n",
       "2       C     40     90     50             125.0"
      ]
     },
     "execution_count": 223,
     "metadata": {},
     "output_type": "execute_result"
    }
   ],
   "source": [
    "# Verificando o conteúdo\n",
    "dados_importados"
   ]
  },
  {
   "cell_type": "markdown",
   "id": "db066534-4921-41cf-81dc-2fe041e2d80e",
   "metadata": {},
   "source": [
    "___"
   ]
  },
  {
   "cell_type": "markdown",
   "id": "2a323be6-5b42-4889-aa82-20ccb5bd899f",
   "metadata": {},
   "source": [
    "# BÔNUS — Desafio Final Completo\n",
    "Crie um programa que:\n",
    "\n",
    "- Leia um CSV com dados fictícios de clientes: 'clientes.csv' com as colunas ID, Nome, Data de Nascimento, Cidade, Compra Total.\n",
    "- Calcule a idade dos clientes.\n",
    "- Filtre clientes com compras acima de R$5000.\n",
    "- Agrupe por cidade e calcule a soma das compras.\n",
    "- Salve o resultado como 'relatorio_compras.xlsx'."
   ]
  }
 ],
 "metadata": {
  "kernelspec": {
   "display_name": "Python 3 (ipykernel)",
   "language": "python",
   "name": "python3"
  },
  "language_info": {
   "codemirror_mode": {
    "name": "ipython",
    "version": 3
   },
   "file_extension": ".py",
   "mimetype": "text/x-python",
   "name": "python",
   "nbconvert_exporter": "python",
   "pygments_lexer": "ipython3",
   "version": "3.12.2"
  }
 },
 "nbformat": 4,
 "nbformat_minor": 5
}
