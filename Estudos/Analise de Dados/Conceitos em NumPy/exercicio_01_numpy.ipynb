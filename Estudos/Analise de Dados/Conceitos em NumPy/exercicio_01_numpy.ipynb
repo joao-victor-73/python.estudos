{
 "cells": [
  {
   "cell_type": "code",
   "execution_count": 1,
   "id": "5b5d7784-ef5e-4654-9fa5-be308572959a",
   "metadata": {},
   "outputs": [],
   "source": [
    "import numpy as np"
   ]
  },
  {
   "cell_type": "markdown",
   "id": "39dc0818-5275-4c52-bc95-66a86a22819a",
   "metadata": {},
   "source": [
    "# Exercícios 01 sobre NumPy"
   ]
  },
  {
   "cell_type": "markdown",
   "id": "8e8a30c5-070e-4d6e-afff-ffb01fb473f1",
   "metadata": {},
   "source": [
    "## 01. Criação de Arrays"
   ]
  },
  {
   "cell_type": "markdown",
   "id": "d086c38b-acd5-4ecb-ae04-66232d465a65",
   "metadata": {},
   "source": [
    "- a) Crie um array contendo os números de 10 a 30, pulando de 2 em 2;\n",
    "- b) Gere uma matriz 3x4 preenchida apenas com o número 7;\n",
    "- c) Crie um array de 100 valores aleatórios entre 0 e 1;\n",
    "- d) Gere uma matriz identidade de tamanho 5x5."
   ]
  },
  {
   "cell_type": "code",
   "execution_count": 3,
   "id": "7f4a4fc4-38f3-4994-9781-f2216d12a41a",
   "metadata": {},
   "outputs": [
    {
     "data": {
      "text/plain": [
       "array([10, 12, 14, 16, 18, 20, 22, 24, 26, 28, 30])"
      ]
     },
     "execution_count": 3,
     "metadata": {},
     "output_type": "execute_result"
    }
   ],
   "source": [
    "# a) Crie um array contendo os números de 10 a 30, pulando de 2 em 2;\n",
    "a = np.arange(10, 31, 2)\n",
    "\n",
    "a"
   ]
  },
  {
   "cell_type": "code",
   "execution_count": 8,
   "id": "f2f0729d-cc00-461e-8d77-8be6fb4f7c28",
   "metadata": {},
   "outputs": [
    {
     "data": {
      "text/plain": [
       "array([[7, 7, 7, 7],\n",
       "       [7, 7, 7, 7],\n",
       "       [7, 7, 7, 7]])"
      ]
     },
     "execution_count": 8,
     "metadata": {},
     "output_type": "execute_result"
    }
   ],
   "source": [
    "# b) Gere uma matriz 3x4 preenchida apenas com o número 7;\n",
    "\n",
    "# b = np.array([ [7, 7, 7, 7], [7, 7, 7, 7], [7, 7, 7, 7] ]) \n",
    "\n",
    "# OU PODE-SE FAZER DESSA OUTRA FORMA:\n",
    "\n",
    "b = np.full((3,4), 7)\n",
    "\n",
    "b"
   ]
  },
  {
   "cell_type": "code",
   "execution_count": 7,
   "id": "af1914a3-b4a7-4137-87ad-0f3909548d85",
   "metadata": {},
   "outputs": [
    {
     "data": {
      "text/plain": [
       "array([0.4288481 , 0.45800319, 0.92386864, 0.78768685, 0.32287734,\n",
       "       0.11107191, 0.34783977, 0.43892953, 0.26492639, 0.96067577,\n",
       "       0.67939565, 0.46734937, 0.07317025, 0.01208152, 0.52822492,\n",
       "       0.50751535, 0.08706549, 0.99307317, 0.06884907, 0.95974778,\n",
       "       0.04676943, 0.34090815, 0.72701891, 0.98037335, 0.27372225,\n",
       "       0.51236295, 0.13066525, 0.8750051 , 0.67635218, 0.2845784 ,\n",
       "       0.03235961, 0.91565767, 0.71251902, 0.20033999, 0.00493862,\n",
       "       0.0695847 , 0.33722131, 0.5516678 , 0.41474988, 0.64602832,\n",
       "       0.3730338 , 0.20047633, 0.91766735, 0.16947404, 0.68111702,\n",
       "       0.54300394, 0.61956708, 0.60106479, 0.8511168 , 0.16812967,\n",
       "       0.04460057, 0.86642426, 0.34207774, 0.82374266, 0.83689844,\n",
       "       0.28772063, 0.53902089, 0.92212524, 0.47224997, 0.45152157,\n",
       "       0.60227944, 0.02122509, 0.15311863, 0.25731541, 0.66120063,\n",
       "       0.71165019, 0.65554538, 0.62020851, 0.47624525, 0.97032693,\n",
       "       0.09813703, 0.21104265, 0.59441085, 0.46284333, 0.27804282,\n",
       "       0.86613075, 0.00546773, 0.44892282, 0.74373411, 0.03928269,\n",
       "       0.43222905, 0.74742891, 0.26579856, 0.94052826, 0.27693495,\n",
       "       0.69506004, 0.6404859 , 0.29599228, 0.0908328 , 0.94913646,\n",
       "       0.46482409, 0.42365828, 0.85148581, 0.41934874, 0.08777025,\n",
       "       0.06266817, 0.19549912, 0.59616138, 0.84294211, 0.09950247])"
      ]
     },
     "execution_count": 7,
     "metadata": {},
     "output_type": "execute_result"
    }
   ],
   "source": [
    "# c) Crie um array de 100 valores aleatórios entre 0 e 1;\n",
    "\n",
    "c = np.random.rand(100)\n",
    "\n",
    "c"
   ]
  },
  {
   "cell_type": "code",
   "execution_count": 11,
   "id": "4abd968f-2886-4a05-a800-794d22bfd140",
   "metadata": {},
   "outputs": [
    {
     "data": {
      "text/plain": [
       "array([[1., 0., 0., 0., 0.],\n",
       "       [0., 1., 0., 0., 0.],\n",
       "       [0., 0., 1., 0., 0.],\n",
       "       [0., 0., 0., 1., 0.],\n",
       "       [0., 0., 0., 0., 1.]])"
      ]
     },
     "execution_count": 11,
     "metadata": {},
     "output_type": "execute_result"
    }
   ],
   "source": [
    "# d) Gere uma matriz identidade de tamanho 5x5.\n",
    "d = np.eye(5)\n",
    "\n",
    "d"
   ]
  },
  {
   "cell_type": "markdown",
   "id": "2e1bb596-fe47-40b7-8ae6-91add13311c2",
   "metadata": {},
   "source": [
    "## 2. Indexação e Slicing\n",
    "\n",
    "- a) Dado o array: `[5, 10, 15, 20, 25, 30, 35, 40]`, extraia apenas os valores maiores que 20;\n",
    "- b) Pegue os 4 primeiros elementos desse array;\n",
    "- c) Crie uma matriz 4x4 e selecione apenas a terceira coluna;\n",
    "- d) Pegue as linhas 1 e 2 de uma matriz 4x4."
   ]
  },
  {
   "cell_type": "code",
   "execution_count": 15,
   "id": "5604da77-aad6-421f-a379-c58967a5eb9d",
   "metadata": {},
   "outputs": [
    {
     "data": {
      "text/plain": [
       "array([25, 30, 35, 40])"
      ]
     },
     "execution_count": 15,
     "metadata": {},
     "output_type": "execute_result"
    }
   ],
   "source": [
    "# a) Dado o array: [5, 10, 15, 20, 25, 30, 35, 40], extraia apenas os valores maiores que 20;\n",
    "array1 = np.array([5, 10, 15, 20, 25, 30, 35, 40])\n",
    "\n",
    "array1[array1 > 20]"
   ]
  },
  {
   "cell_type": "code",
   "execution_count": 16,
   "id": "b32eaafc-2a57-4ad6-84e9-d178cd246b34",
   "metadata": {},
   "outputs": [
    {
     "data": {
      "text/plain": [
       "array([ 5, 10, 15, 20])"
      ]
     },
     "execution_count": 16,
     "metadata": {},
     "output_type": "execute_result"
    }
   ],
   "source": [
    "# b) Pegue os 4 primeiros elementos desse array;\n",
    "\n",
    "array1[:4]"
   ]
  },
  {
   "cell_type": "code",
   "execution_count": 25,
   "id": "ff284d8e-9ba7-46cb-b05e-619829e51f3f",
   "metadata": {},
   "outputs": [
    {
     "data": {
      "text/plain": [
       "array([[ 1,  0,  3,  5],\n",
       "       [ 1,  1,  6, 11],\n",
       "       [ 2, 20,  3,  2],\n",
       "       [ 3, 34,  7,  6]])"
      ]
     },
     "execution_count": 25,
     "metadata": {},
     "output_type": "execute_result"
    }
   ],
   "source": [
    "# c) Crie uma matriz 4x4 e selecione apenas a terceira coluna;\n",
    "array2 = np.array([ [1, 0, 3, 5], [1, 1, 6, 11], [2, 20, 3, 2], [3, 34, 7, 6] ])\n",
    "\n",
    "array2"
   ]
  },
  {
   "cell_type": "code",
   "execution_count": 26,
   "id": "d6248e16-2e1b-491e-a429-964a236925d4",
   "metadata": {},
   "outputs": [
    {
     "data": {
      "text/plain": [
       "array([3, 6, 3, 7])"
      ]
     },
     "execution_count": 26,
     "metadata": {},
     "output_type": "execute_result"
    }
   ],
   "source": [
    "array2[:, 2]"
   ]
  },
  {
   "cell_type": "code",
   "execution_count": 28,
   "id": "538a2e22-8199-42d2-a4b5-d5f74e46deb3",
   "metadata": {},
   "outputs": [
    {
     "data": {
      "text/plain": [
       "array([[ 1,  0,  3,  5],\n",
       "       [ 1,  1,  6, 11]])"
      ]
     },
     "execution_count": 28,
     "metadata": {},
     "output_type": "execute_result"
    }
   ],
   "source": [
    "# d) Pegue as linhas 1 e 2 de uma matriz 4x4.\n",
    "array2[0:2]"
   ]
  },
  {
   "cell_type": "markdown",
   "id": "7f3d2ca8-0b47-4fb7-be22-2539859312e1",
   "metadata": {},
   "source": [
    "## 3. Operações Matemáticas\n",
    "\n",
    "- a) Calcule a soma de todos os elementos de `np.arange(1, 11)`;\n",
    "- b) Calcue a média e o desvio padrão dos números de 1 a 20;\n",
    "- c) Crie um array `[2, 4, 6, 8, 10]` e eleve todos os elementos ao quadrado;"
   ]
  },
  {
   "cell_type": "code",
   "execution_count": 2,
   "id": "ec8b3ba3-fdec-4504-a6f3-74b5d716c997",
   "metadata": {},
   "outputs": [
    {
     "data": {
      "text/plain": [
       "array([ 1,  2,  3,  4,  5,  6,  7,  8,  9, 10])"
      ]
     },
     "execution_count": 2,
     "metadata": {},
     "output_type": "execute_result"
    }
   ],
   "source": [
    "# a) Calcule a soma de todos os elementos de np.arange(1, 11);\n",
    "array3 = np.arange(1, 11)\n",
    "\n",
    "array3"
   ]
  },
  {
   "cell_type": "code",
   "execution_count": 3,
   "id": "8166b532-66bd-41be-b6f4-bcf4459d712c",
   "metadata": {},
   "outputs": [
    {
     "data": {
      "text/plain": [
       "np.int64(55)"
      ]
     },
     "execution_count": 3,
     "metadata": {},
     "output_type": "execute_result"
    }
   ],
   "source": [
    "array3.sum()"
   ]
  },
  {
   "cell_type": "code",
   "execution_count": 8,
   "id": "c80d5755-badd-4b03-8fa6-11a356004b38",
   "metadata": {},
   "outputs": [
    {
     "data": {
      "text/plain": [
       "np.float64(10.5)"
      ]
     },
     "execution_count": 8,
     "metadata": {},
     "output_type": "execute_result"
    }
   ],
   "source": [
    "# b) Calcue a média e o desvio padrão dos números de 1 a 20;\n",
    "array4 = np.arange(1, 21)\n",
    "\n",
    "np.mean(array4) # Média"
   ]
  },
  {
   "cell_type": "code",
   "execution_count": 9,
   "id": "78fb2589-6560-4e96-8362-accbdfc891e6",
   "metadata": {},
   "outputs": [
    {
     "data": {
      "text/plain": [
       "np.float64(5.766281297335398)"
      ]
     },
     "execution_count": 9,
     "metadata": {},
     "output_type": "execute_result"
    }
   ],
   "source": [
    "np.std(array4) # Desvio Padrão"
   ]
  },
  {
   "cell_type": "code",
   "execution_count": 7,
   "id": "eb4f6598-240e-4ab1-97d2-dcfb64cc7f57",
   "metadata": {},
   "outputs": [
    {
     "data": {
      "text/plain": [
       "array([  4,  16,  36,  64, 100])"
      ]
     },
     "execution_count": 7,
     "metadata": {},
     "output_type": "execute_result"
    }
   ],
   "source": [
    "# c) Crie um array [2, 4, 6, 8, 10] e eleve todos os elementos ao quadrado;\n",
    "array_c = np.array([2, 4, 6, 8, 10])\n",
    "\n",
    "array_c ** 2"
   ]
  },
  {
   "cell_type": "markdown",
   "id": "05ae4135-d273-4461-a756-625e9a983217",
   "metadata": {},
   "source": [
    "## 4. Funções Estatísticas\n",
    "\n",
    "- a) Gere um array de 30 números aleatórios entre 0 e 100 e calcule:\n",
    "  - média;\n",
    "  - Mediana;\n",
    "  - Desvio padrão; e\n",
    "  - Variância.\n",
    "-  b) Calcule o percentil 25, 50 e 75 do array acima;\n",
    "-  c) Calcule o quantil 0.1 e 0.9 desse mesmo array."
   ]
  },
  {
   "cell_type": "markdown",
   "id": "dd8bd3bc-60ea-43a2-8bbe-0a821813ab30",
   "metadata": {},
   "source": [
    "## 5. Álgebra Linear\n",
    "\n",
    "- a) Crie duas matrizes 2x2 e faça a multiplicação matricial entre elas;\n",
    "- b) Calcule a transposta de uma matriz 3x2;\n",
    "- c) Gere uma matriz 3x3 aleatória e calcule seu determinante."
   ]
  },
  {
   "cell_type": "code",
   "execution_count": 10,
   "id": "ea798124-2c60-4ff0-83d8-87e87ac9962e",
   "metadata": {},
   "outputs": [
    {
     "data": {
      "text/plain": [
       "array([[19, 22],\n",
       "       [43, 50]])"
      ]
     },
     "execution_count": 10,
     "metadata": {},
     "output_type": "execute_result"
    }
   ],
   "source": [
    "# a) Crie duas matrizes 2x2 e faça a multiplicação matricial entre elas;\n",
    "a1 = np.array([ [1, 2], [3, 4] ])\n",
    "a2 = np.array([ [5, 6], [7, 8] ])\n",
    "\n",
    "np.dot(a1, a2)"
   ]
  },
  {
   "cell_type": "code",
   "execution_count": 21,
   "id": "93169df1-83e9-4f8c-a87c-cda9ebb0e96e",
   "metadata": {},
   "outputs": [
    {
     "data": {
      "text/plain": [
       "array([[1, 3, 5],\n",
       "       [2, 4, 6]])"
      ]
     },
     "execution_count": 21,
     "metadata": {},
     "output_type": "execute_result"
    }
   ],
   "source": [
    "# b) Calcule a transposta de uma matriz 3x2;\n",
    "b1 = np.array([[1, 2],\n",
    "              [3, 4],\n",
    "              [5, 6]])\n",
    "\n",
    "b_transposta = np.transpose(b1) # OU pode-se utilizar apenas: b.T\n",
    "b_transposta"
   ]
  },
  {
   "cell_type": "code",
   "execution_count": 16,
   "id": "1bf105a7-31cc-453b-af8a-ab4e8dd1345c",
   "metadata": {},
   "outputs": [
    {
     "data": {
      "text/plain": [
       "array([[1, 2, 3],\n",
       "       [4, 5, 6],\n",
       "       [7, 8, 9]])"
      ]
     },
     "execution_count": 16,
     "metadata": {},
     "output_type": "execute_result"
    }
   ],
   "source": [
    "# c) Gere uma matriz 3x3 aleatória e calcule seu determinante.\n",
    "\n",
    "c1 = np.arange(1, 10) # Gerara um array de 1 a 9\n",
    "\n",
    "c1_matriz = c1.reshape(3, 3) # Fará uma recolocação do array para transformar em matriz 3x3\n",
    "\n",
    "c1_matriz"
   ]
  },
  {
   "cell_type": "code",
   "execution_count": 18,
   "id": "8f9d20fe-dabc-47a0-b705-e47433cb9d21",
   "metadata": {},
   "outputs": [
    {
     "data": {
      "text/plain": [
       "np.float64(0.0)"
      ]
     },
     "execution_count": 18,
     "metadata": {},
     "output_type": "execute_result"
    }
   ],
   "source": [
    "# Calculando o determinando\n",
    "np.linalg.det(c1_matriz) # O resultado é que o determinante dessa matriz é zero (pois as linhas são linearmente dependentes)."
   ]
  },
  {
   "cell_type": "markdown",
   "id": "719e2ec1-7f3c-44e3-8c31-f768098d8aa8",
   "metadata": {},
   "source": [
    "## 6. Manipulação de arrays\n",
    "\n",
    "- a) Gere um array de 12 elementos e transforme-o em matriz 3x4;\n",
    "- b) Transforme uma matriz 4x4 em um vetor 1D (flatten);\n",
    "- c) Concatene dois arrays `[1, 2, 3]` e `[4, 5, 6]`."
   ]
  },
  {
   "cell_type": "code",
   "execution_count": 22,
   "id": "7c628f07-998f-47e6-a336-af37679ab5d9",
   "metadata": {},
   "outputs": [
    {
     "data": {
      "text/plain": [
       "array([[ 1,  2,  3,  4],\n",
       "       [ 5,  6,  7,  8],\n",
       "       [ 9, 10, 11, 12]])"
      ]
     },
     "execution_count": 22,
     "metadata": {},
     "output_type": "execute_result"
    }
   ],
   "source": [
    "# a) Gere um array de 12 elementos e transforme-o em matriz 3x4;\n",
    "\n",
    "array6 = np.arange(1, 13)\n",
    "\n",
    "matriz6 = array6.reshape(3, 4)\n",
    "\n",
    "matriz6"
   ]
  },
  {
   "cell_type": "code",
   "execution_count": 23,
   "id": "2d59e83a-9ebd-488f-904b-803923d61758",
   "metadata": {},
   "outputs": [
    {
     "data": {
      "text/plain": [
       "array([ 1,  2,  3,  4,  5,  6,  7,  8,  9, 10, 11, 12])"
      ]
     },
     "execution_count": 23,
     "metadata": {},
     "output_type": "execute_result"
    }
   ],
   "source": [
    "# b) Transforme uma matriz 4x4 em um vetor 1D (flatten);\n",
    "# Para o exemplo irei usar a matriz anterior, para facilitar\n",
    "\n",
    "matriz6.flatten()"
   ]
  },
  {
   "cell_type": "markdown",
   "id": "c5f6bdc8-1103-4b0d-a78f-6deac5b5269f",
   "metadata": {},
   "source": [
    "## 7. Desafios Extras\n",
    "\n",
    "- a) Gere 200 valores aleatórios com média 50 e desvio padrão 10, e filtre apenas os valores acima de 65;\n",
    "- b) Crie uma matriz 6x6 com números aleatórios inteiros entre 10 e 100, e filtre apenas os valores menores que 30;\n",
    "- c) Calcule a soma de cada coluna de uma matriz 5x3 aleatória."
   ]
  }
 ],
 "metadata": {
  "kernelspec": {
   "display_name": "Python 3 (ipykernel)",
   "language": "python",
   "name": "python3"
  },
  "language_info": {
   "codemirror_mode": {
    "name": "ipython",
    "version": 3
   },
   "file_extension": ".py",
   "mimetype": "text/x-python",
   "name": "python",
   "nbconvert_exporter": "python",
   "pygments_lexer": "ipython3",
   "version": "3.12.2"
  }
 },
 "nbformat": 4,
 "nbformat_minor": 5
}
