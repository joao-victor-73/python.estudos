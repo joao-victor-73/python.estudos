{
 "cells": [
  {
   "cell_type": "markdown",
   "id": "e607a52d-4e8c-48f9-83a1-39d194b1f78c",
   "metadata": {},
   "source": [
    "- Aulas F085 a F087"
   ]
  },
  {
   "cell_type": "markdown",
   "id": "b8ffacdb-c1f5-40b3-afd0-5429036373e8",
   "metadata": {},
   "source": [
    "___"
   ]
  },
  {
   "cell_type": "code",
   "execution_count": 1,
   "id": "779ad943-74b9-48a7-a799-287f268d0518",
   "metadata": {},
   "outputs": [],
   "source": [
    "import pandas as pd"
   ]
  },
  {
   "cell_type": "code",
   "execution_count": 2,
   "id": "e699aa75-927d-42dd-830c-dfac453da70f",
   "metadata": {},
   "outputs": [],
   "source": [
    "# Importando a base de dados\n",
    "arquivo_caminho = 'kc_house_data.csv'\n",
    "\n",
    "dataset = pd.read_csv(arquivo_caminho, sep=',', header=0)\n",
    "\n",
    "# Transformando a coluna 'date' em um datetime\n",
    "dataset['date'] = pd.to_datetime(dataset['date'])"
   ]
  },
  {
   "cell_type": "markdown",
   "id": "d1af28db-125f-45c4-9e44-907e6c35cfc4",
   "metadata": {},
   "source": [
    "# Tabelas Pivot\n",
    "\n",
    "As tabelas pivot (ou tabelas dinâmicas) são uma forma de reestruturar e resumir dados em um DataFrame, permitindo análises rápidas e agregações personalizadas, em outras palavras, elas são úteis para fazer agrupamento nos dados.\n"
   ]
  },
  {
   "cell_type": "markdown",
   "id": "c22bf807-8a0e-4b26-84ca-816e0e2784ed",
   "metadata": {},
   "source": [
    "Nesse exemplo abaixo iremos contar a quantidade de imóveis agrupados pelas colunas waterfront e floors;\n",
    "\n",
    "- No parâmetro **index** informo as colunas que serão usadas para agregação;\n",
    "- No parâmetro **aggfunc** é usado uma função de agregação, nesse parâmetro é que definimos (no nosso exemplo será a função de count);\n",
    "- No parâmetro **margins=True**, calculamos a quantidade total no final da tabela."
   ]
  },
  {
   "cell_type": "code",
   "execution_count": 3,
   "id": "2ed69177-e45f-49b5-ac14-6914c3cdf169",
   "metadata": {},
   "outputs": [
    {
     "data": {
      "text/html": [
       "<div>\n",
       "<style scoped>\n",
       "    .dataframe tbody tr th:only-of-type {\n",
       "        vertical-align: middle;\n",
       "    }\n",
       "\n",
       "    .dataframe tbody tr th {\n",
       "        vertical-align: top;\n",
       "    }\n",
       "\n",
       "    .dataframe thead th {\n",
       "        text-align: right;\n",
       "    }\n",
       "</style>\n",
       "<table border=\"1\" class=\"dataframe\">\n",
       "  <thead>\n",
       "    <tr style=\"text-align: right;\">\n",
       "      <th></th>\n",
       "      <th></th>\n",
       "      <th>id</th>\n",
       "    </tr>\n",
       "    <tr>\n",
       "      <th>waterfront</th>\n",
       "      <th>floors</th>\n",
       "      <th></th>\n",
       "    </tr>\n",
       "  </thead>\n",
       "  <tbody>\n",
       "    <tr>\n",
       "      <th rowspan=\"6\" valign=\"top\">0</th>\n",
       "      <th>1.0</th>\n",
       "      <td>10623</td>\n",
       "    </tr>\n",
       "    <tr>\n",
       "      <th>1.5</th>\n",
       "      <td>1889</td>\n",
       "    </tr>\n",
       "    <tr>\n",
       "      <th>2.0</th>\n",
       "      <td>8166</td>\n",
       "    </tr>\n",
       "    <tr>\n",
       "      <th>2.5</th>\n",
       "      <td>159</td>\n",
       "    </tr>\n",
       "    <tr>\n",
       "      <th>3.0</th>\n",
       "      <td>605</td>\n",
       "    </tr>\n",
       "    <tr>\n",
       "      <th>3.5</th>\n",
       "      <td>8</td>\n",
       "    </tr>\n",
       "    <tr>\n",
       "      <th rowspan=\"5\" valign=\"top\">1</th>\n",
       "      <th>1.0</th>\n",
       "      <td>57</td>\n",
       "    </tr>\n",
       "    <tr>\n",
       "      <th>1.5</th>\n",
       "      <td>21</td>\n",
       "    </tr>\n",
       "    <tr>\n",
       "      <th>2.0</th>\n",
       "      <td>75</td>\n",
       "    </tr>\n",
       "    <tr>\n",
       "      <th>2.5</th>\n",
       "      <td>2</td>\n",
       "    </tr>\n",
       "    <tr>\n",
       "      <th>3.0</th>\n",
       "      <td>8</td>\n",
       "    </tr>\n",
       "    <tr>\n",
       "      <th>All</th>\n",
       "      <th></th>\n",
       "      <td>21613</td>\n",
       "    </tr>\n",
       "  </tbody>\n",
       "</table>\n",
       "</div>"
      ],
      "text/plain": [
       "                      id\n",
       "waterfront floors       \n",
       "0          1.0     10623\n",
       "           1.5      1889\n",
       "           2.0      8166\n",
       "           2.5       159\n",
       "           3.0       605\n",
       "           3.5         8\n",
       "1          1.0        57\n",
       "           1.5        21\n",
       "           2.0        75\n",
       "           2.5         2\n",
       "           3.0         8\n",
       "All                21613"
      ]
     },
     "execution_count": 3,
     "metadata": {},
     "output_type": "execute_result"
    }
   ],
   "source": [
    "dataset.pivot_table('id', index=['waterfront', 'floors'], aggfunc='count', margins=True)"
   ]
  },
  {
   "cell_type": "markdown",
   "id": "088572d9-f7a5-4bab-91ec-bc40c28061fa",
   "metadata": {},
   "source": [
    "___"
   ]
  },
  {
   "cell_type": "markdown",
   "id": "87d9395d-69aa-4a1e-97a8-8de698d0453e",
   "metadata": {},
   "source": [
    "# Crosstab ou Tabulação Cruzada\n",
    "\n",
    "O crosstab em Pandas é uma função que cria uma tabela de contingência — ou seja, uma tabela que mostra a frequência de ocorrência entre duas (ou mais) variáveis categóricas.\n",
    "\n",
    "É muito usado quando você quer ver como duas variáveis se relacionam em termos de contagem"
   ]
  },
  {
   "cell_type": "code",
   "execution_count": 5,
   "id": "3dd056c5-740a-4bed-bd10-956892c5834d",
   "metadata": {},
   "outputs": [
    {
     "data": {
      "text/html": [
       "<div>\n",
       "<style scoped>\n",
       "    .dataframe tbody tr th:only-of-type {\n",
       "        vertical-align: middle;\n",
       "    }\n",
       "\n",
       "    .dataframe tbody tr th {\n",
       "        vertical-align: top;\n",
       "    }\n",
       "\n",
       "    .dataframe thead th {\n",
       "        text-align: right;\n",
       "    }\n",
       "</style>\n",
       "<table border=\"1\" class=\"dataframe\">\n",
       "  <thead>\n",
       "    <tr style=\"text-align: right;\">\n",
       "      <th>condition</th>\n",
       "      <th>1</th>\n",
       "      <th>2</th>\n",
       "      <th>3</th>\n",
       "      <th>4</th>\n",
       "      <th>5</th>\n",
       "    </tr>\n",
       "    <tr>\n",
       "      <th>bedrooms</th>\n",
       "      <th></th>\n",
       "      <th></th>\n",
       "      <th></th>\n",
       "      <th></th>\n",
       "      <th></th>\n",
       "    </tr>\n",
       "  </thead>\n",
       "  <tbody>\n",
       "    <tr>\n",
       "      <th>0</th>\n",
       "      <td>1</td>\n",
       "      <td>1</td>\n",
       "      <td>10</td>\n",
       "      <td>1</td>\n",
       "      <td>0</td>\n",
       "    </tr>\n",
       "    <tr>\n",
       "      <th>1</th>\n",
       "      <td>4</td>\n",
       "      <td>11</td>\n",
       "      <td>124</td>\n",
       "      <td>48</td>\n",
       "      <td>12</td>\n",
       "    </tr>\n",
       "    <tr>\n",
       "      <th>2</th>\n",
       "      <td>12</td>\n",
       "      <td>51</td>\n",
       "      <td>1779</td>\n",
       "      <td>718</td>\n",
       "      <td>200</td>\n",
       "    </tr>\n",
       "    <tr>\n",
       "      <th>3</th>\n",
       "      <td>8</td>\n",
       "      <td>69</td>\n",
       "      <td>6308</td>\n",
       "      <td>2711</td>\n",
       "      <td>728</td>\n",
       "    </tr>\n",
       "    <tr>\n",
       "      <th>4</th>\n",
       "      <td>4</td>\n",
       "      <td>36</td>\n",
       "      <td>4580</td>\n",
       "      <td>1682</td>\n",
       "      <td>580</td>\n",
       "    </tr>\n",
       "    <tr>\n",
       "      <th>5</th>\n",
       "      <td>0</td>\n",
       "      <td>1</td>\n",
       "      <td>1031</td>\n",
       "      <td>418</td>\n",
       "      <td>151</td>\n",
       "    </tr>\n",
       "    <tr>\n",
       "      <th>6</th>\n",
       "      <td>1</td>\n",
       "      <td>3</td>\n",
       "      <td>158</td>\n",
       "      <td>87</td>\n",
       "      <td>23</td>\n",
       "    </tr>\n",
       "    <tr>\n",
       "      <th>7</th>\n",
       "      <td>0</td>\n",
       "      <td>0</td>\n",
       "      <td>25</td>\n",
       "      <td>9</td>\n",
       "      <td>4</td>\n",
       "    </tr>\n",
       "    <tr>\n",
       "      <th>8</th>\n",
       "      <td>0</td>\n",
       "      <td>0</td>\n",
       "      <td>8</td>\n",
       "      <td>3</td>\n",
       "      <td>2</td>\n",
       "    </tr>\n",
       "    <tr>\n",
       "      <th>9</th>\n",
       "      <td>0</td>\n",
       "      <td>0</td>\n",
       "      <td>6</td>\n",
       "      <td>0</td>\n",
       "      <td>0</td>\n",
       "    </tr>\n",
       "    <tr>\n",
       "      <th>10</th>\n",
       "      <td>0</td>\n",
       "      <td>0</td>\n",
       "      <td>1</td>\n",
       "      <td>2</td>\n",
       "      <td>0</td>\n",
       "    </tr>\n",
       "    <tr>\n",
       "      <th>11</th>\n",
       "      <td>0</td>\n",
       "      <td>0</td>\n",
       "      <td>1</td>\n",
       "      <td>0</td>\n",
       "      <td>0</td>\n",
       "    </tr>\n",
       "    <tr>\n",
       "      <th>33</th>\n",
       "      <td>0</td>\n",
       "      <td>0</td>\n",
       "      <td>0</td>\n",
       "      <td>0</td>\n",
       "      <td>1</td>\n",
       "    </tr>\n",
       "  </tbody>\n",
       "</table>\n",
       "</div>"
      ],
      "text/plain": [
       "condition   1   2     3     4    5\n",
       "bedrooms                          \n",
       "0           1   1    10     1    0\n",
       "1           4  11   124    48   12\n",
       "2          12  51  1779   718  200\n",
       "3           8  69  6308  2711  728\n",
       "4           4  36  4580  1682  580\n",
       "5           0   1  1031   418  151\n",
       "6           1   3   158    87   23\n",
       "7           0   0    25     9    4\n",
       "8           0   0     8     3    2\n",
       "9           0   0     6     0    0\n",
       "10          0   0     1     2    0\n",
       "11          0   0     1     0    0\n",
       "33          0   0     0     0    1"
      ]
     },
     "execution_count": 5,
     "metadata": {},
     "output_type": "execute_result"
    }
   ],
   "source": [
    "# Essa funcionalidade cruza valores das variáveis;\n",
    "# Nesse nosso exemplo podemos ver qual a distribuição dos imóveis por número de quartos com relação a sua condição.\n",
    "\n",
    "pd.crosstab(dataset['bedrooms'], dataset['condition'])\n",
    "\n",
    "# Podemos ver que imóveis com 3 quartos estão mais na condição 5"
   ]
  },
  {
   "cell_type": "markdown",
   "id": "03c4b878-6e9c-4cf1-b03a-785c33113e37",
   "metadata": {},
   "source": [
    "### Plotagem da tabela cruzada"
   ]
  },
  {
   "cell_type": "code",
   "execution_count": 7,
   "id": "e76bacac-0321-42cb-a114-fb5b724d33a2",
   "metadata": {},
   "outputs": [
    {
     "data": {
      "text/plain": [
       "<Axes: title={'center': 'Condition by Bedrooms'}, xlabel='bedrooms'>"
      ]
     },
     "execution_count": 7,
     "metadata": {},
     "output_type": "execute_result"
    },
    {
     "data": {
      "image/png": "[encoded data removed]",
      "text/plain": [
       "<Figure size 640x480 with 1 Axes>"
      ]
     },
     "metadata": {},
     "output_type": "display_data"
    }
   ],
   "source": [
    "# Usamos o método plot com um gráfico de barras\n",
    "table = pd.crosstab(dataset['bedrooms'], dataset['condition'])\n",
    "table.plot(kind='bar', width=1.0, color=['red', 'yellow', 'orange', 'blue', 'green'], title='Condition by Bedrooms', grid=False)"
   ]
  },
  {
   "cell_type": "markdown",
   "id": "80f1294c-e1e8-450d-9e7f-e241018a9dd7",
   "metadata": {},
   "source": [
    "___"
   ]
  },
  {
   "cell_type": "markdown",
   "id": "dcc6579f-bf4d-4f3c-b117-674cdcfb6544",
   "metadata": {},
   "source": [
    "# Trabalhando com Excel\n",
    "\n",
    "Com o pandas, podemos trabalhar com Excel e isso é muito bom, pois, sabemos que temos muita informação nos dias de hoje em planilhas do excel;\n",
    "\n",
    "Diante disso você pode usar o pandas para manipular planilhas do excel e até mesmo gerar novas planilhas a partir de outros dados."
   ]
  },
  {
   "cell_type": "markdown",
   "id": "af3ea14e-8ea1-4af8-8d3a-1308eb155349",
   "metadata": {},
   "source": [
    "- Leitura de uma planilha excel:"
   ]
  },
  {
   "cell_type": "code",
   "execution_count": null,
   "id": "dcaf94c1-6f7c-493c-9d07-5c1bd7e56f3e",
   "metadata": {},
   "outputs": [],
   "source": [
    "df_excel = pd.read_excel('caminho_do_arquivo.xlsx', sheetname=0, header=0)\n",
    "# sheetname é o nome da planilha dentro do arquivo xlsx;\n",
    "# header é o indicativo de onde está o nome das colunas (0 é coluna 1 | 1 é coluna 2 | e por ai em diante)\n",
    "\n",
    "# Caso eu queria especificar qual será o indice basta adicionar o parâmetro index_col=X\n",
    "# onde X é o número da coluna que eu quero como indice."
   ]
  },
  {
   "cell_type": "markdown",
   "id": "0eaf2af0-663f-47ca-b03d-34ce811c799e",
   "metadata": {},
   "source": [
    "___"
   ]
  },
  {
   "cell_type": "markdown",
   "id": "9a4f753b-f0cf-4538-8c21-e5c0eb8bb325",
   "metadata": {},
   "source": [
    "# Gerar planilhas a partir de DataFrames\n",
    "\n",
    "Para esse exemplo, iremos utilizar o dataFrame de imóveis que a gente vem trabalhando.\n",
    "\n",
    "Porém, para não ficar um arquivo muito grande, iremos pegar apenas algumas colunas e transformar em planilha"
   ]
  },
  {
   "cell_type": "code",
   "execution_count": 12,
   "id": "9cd0fb2e-d054-4feb-9b45-c7e7c462f621",
   "metadata": {},
   "outputs": [
    {
     "data": {
      "text/html": [
       "<div>\n",
       "<style scoped>\n",
       "    .dataframe tbody tr th:only-of-type {\n",
       "        vertical-align: middle;\n",
       "    }\n",
       "\n",
       "    .dataframe tbody tr th {\n",
       "        vertical-align: top;\n",
       "    }\n",
       "\n",
       "    .dataframe thead th {\n",
       "        text-align: right;\n",
       "    }\n",
       "</style>\n",
       "<table border=\"1\" class=\"dataframe\">\n",
       "  <thead>\n",
       "    <tr style=\"text-align: right;\">\n",
       "      <th></th>\n",
       "      <th>id</th>\n",
       "      <th>price</th>\n",
       "      <th>bedrooms</th>\n",
       "      <th>bathrooms</th>\n",
       "      <th>sqft_living</th>\n",
       "      <th>floors</th>\n",
       "      <th>waterfront</th>\n",
       "    </tr>\n",
       "  </thead>\n",
       "  <tbody>\n",
       "    <tr>\n",
       "      <th>0</th>\n",
       "      <td>7129300520</td>\n",
       "      <td>221900.0</td>\n",
       "      <td>3</td>\n",
       "      <td>1.00</td>\n",
       "      <td>1180</td>\n",
       "      <td>1.0</td>\n",
       "      <td>0</td>\n",
       "    </tr>\n",
       "    <tr>\n",
       "      <th>1</th>\n",
       "      <td>6414100192</td>\n",
       "      <td>538000.0</td>\n",
       "      <td>3</td>\n",
       "      <td>2.25</td>\n",
       "      <td>2570</td>\n",
       "      <td>2.0</td>\n",
       "      <td>0</td>\n",
       "    </tr>\n",
       "    <tr>\n",
       "      <th>2</th>\n",
       "      <td>5631500400</td>\n",
       "      <td>180000.0</td>\n",
       "      <td>2</td>\n",
       "      <td>1.00</td>\n",
       "      <td>770</td>\n",
       "      <td>1.0</td>\n",
       "      <td>0</td>\n",
       "    </tr>\n",
       "    <tr>\n",
       "      <th>3</th>\n",
       "      <td>2487200875</td>\n",
       "      <td>604000.0</td>\n",
       "      <td>4</td>\n",
       "      <td>3.00</td>\n",
       "      <td>1960</td>\n",
       "      <td>1.0</td>\n",
       "      <td>0</td>\n",
       "    </tr>\n",
       "    <tr>\n",
       "      <th>4</th>\n",
       "      <td>1954400510</td>\n",
       "      <td>510000.0</td>\n",
       "      <td>3</td>\n",
       "      <td>2.00</td>\n",
       "      <td>1680</td>\n",
       "      <td>1.0</td>\n",
       "      <td>0</td>\n",
       "    </tr>\n",
       "  </tbody>\n",
       "</table>\n",
       "</div>"
      ],
      "text/plain": [
       "           id     price  bedrooms  bathrooms  sqft_living  floors  waterfront\n",
       "0  7129300520  221900.0         3       1.00         1180     1.0           0\n",
       "1  6414100192  538000.0         3       2.25         2570     2.0           0\n",
       "2  5631500400  180000.0         2       1.00          770     1.0           0\n",
       "3  2487200875  604000.0         4       3.00         1960     1.0           0\n",
       "4  1954400510  510000.0         3       2.00         1680     1.0           0"
      ]
     },
     "execution_count": 12,
     "metadata": {},
     "output_type": "execute_result"
    }
   ],
   "source": [
    "colunas = ['id', 'price', 'bedrooms', 'bathrooms', 'sqft_living', 'floors', 'waterfront']\n",
    "\n",
    "dataset[colunas].head()"
   ]
  },
  {
   "cell_type": "code",
   "execution_count": 13,
   "id": "07138802-5fde-4731-a22a-4d4ec317d33d",
   "metadata": {},
   "outputs": [],
   "source": [
    "# Escrevendo no disco a planilha sem o valor do indice\n",
    "dataset[colunas].to_excel('planilha_pandas.xlsx', index=False)"
   ]
  },
  {
   "cell_type": "code",
   "execution_count": null,
   "id": "5a7874d5-104b-49f9-a7ad-5ecf01024464",
   "metadata": {},
   "outputs": [],
   "source": []
  },
  {
   "cell_type": "markdown",
   "id": "55c024b5-e370-4e81-8708-17854a62f956",
   "metadata": {},
   "source": [
    "___"
   ]
  },
  {
   "cell_type": "markdown",
   "id": "b5e8d024-b697-4624-bfd4-c00bef0694ae",
   "metadata": {},
   "source": [
    "# Mesclagem de dados\n",
    "\n",
    "https://www.kaggle.com/datasets/olistbr/brazilian-ecommerce"
   ]
  },
  {
   "cell_type": "code",
   "execution_count": 3,
   "id": "828bfbac-3120-4dae-b6a8-66ffc0c1ec4c",
   "metadata": {},
   "outputs": [],
   "source": [
    "# Importando os dataset's acima\n",
    "orders = pd.read_csv('datasets/olist_orders_dataset.csv')"
   ]
  },
  {
   "cell_type": "code",
   "execution_count": 4,
   "id": "c6d0d306-1a78-42de-8d8c-51cfce7a889e",
   "metadata": {},
   "outputs": [
    {
     "data": {
      "text/html": [
       "<div>\n",
       "<style scoped>\n",
       "    .dataframe tbody tr th:only-of-type {\n",
       "        vertical-align: middle;\n",
       "    }\n",
       "\n",
       "    .dataframe tbody tr th {\n",
       "        vertical-align: top;\n",
       "    }\n",
       "\n",
       "    .dataframe thead th {\n",
       "        text-align: right;\n",
       "    }\n",
       "</style>\n",
       "<table border=\"1\" class=\"dataframe\">\n",
       "  <thead>\n",
       "    <tr style=\"text-align: right;\">\n",
       "      <th></th>\n",
       "      <th>order_id</th>\n",
       "      <th>customer_id</th>\n",
       "      <th>order_status</th>\n",
       "      <th>order_purchase_timestamp</th>\n",
       "      <th>order_approved_at</th>\n",
       "      <th>order_delivered_carrier_date</th>\n",
       "      <th>order_delivered_customer_date</th>\n",
       "      <th>order_estimated_delivery_date</th>\n",
       "    </tr>\n",
       "  </thead>\n",
       "  <tbody>\n",
       "    <tr>\n",
       "      <th>0</th>\n",
       "      <td>e481f51cbdc54678b7cc49136f2d6af7</td>\n",
       "      <td>9ef432eb6251297304e76186b10a928d</td>\n",
       "      <td>delivered</td>\n",
       "      <td>2017-10-02 10:56:33</td>\n",
       "      <td>2017-10-02 11:07:15</td>\n",
       "      <td>2017-10-04 19:55:00</td>\n",
       "      <td>2017-10-10 21:25:13</td>\n",
       "      <td>2017-10-18 00:00:00</td>\n",
       "    </tr>\n",
       "    <tr>\n",
       "      <th>1</th>\n",
       "      <td>53cdb2fc8bc7dce0b6741e2150273451</td>\n",
       "      <td>b0830fb4747a6c6d20dea0b8c802d7ef</td>\n",
       "      <td>delivered</td>\n",
       "      <td>2018-07-24 20:41:37</td>\n",
       "      <td>2018-07-26 03:24:27</td>\n",
       "      <td>2018-07-26 14:31:00</td>\n",
       "      <td>2018-08-07 15:27:45</td>\n",
       "      <td>2018-08-13 00:00:00</td>\n",
       "    </tr>\n",
       "    <tr>\n",
       "      <th>2</th>\n",
       "      <td>47770eb9100c2d0c44946d9cf07ec65d</td>\n",
       "      <td>41ce2a54c0b03bf3443c3d931a367089</td>\n",
       "      <td>delivered</td>\n",
       "      <td>2018-08-08 08:38:49</td>\n",
       "      <td>2018-08-08 08:55:23</td>\n",
       "      <td>2018-08-08 13:50:00</td>\n",
       "      <td>2018-08-17 18:06:29</td>\n",
       "      <td>2018-09-04 00:00:00</td>\n",
       "    </tr>\n",
       "    <tr>\n",
       "      <th>3</th>\n",
       "      <td>949d5b44dbf5de918fe9c16f97b45f8a</td>\n",
       "      <td>f88197465ea7920adcdbec7375364d82</td>\n",
       "      <td>delivered</td>\n",
       "      <td>2017-11-18 19:28:06</td>\n",
       "      <td>2017-11-18 19:45:59</td>\n",
       "      <td>2017-11-22 13:39:59</td>\n",
       "      <td>2017-12-02 00:28:42</td>\n",
       "      <td>2017-12-15 00:00:00</td>\n",
       "    </tr>\n",
       "    <tr>\n",
       "      <th>4</th>\n",
       "      <td>ad21c59c0840e6cb83a9ceb5573f8159</td>\n",
       "      <td>8ab97904e6daea8866dbdbc4fb7aad2c</td>\n",
       "      <td>delivered</td>\n",
       "      <td>2018-02-13 21:18:39</td>\n",
       "      <td>2018-02-13 22:20:29</td>\n",
       "      <td>2018-02-14 19:46:34</td>\n",
       "      <td>2018-02-16 18:17:02</td>\n",
       "      <td>2018-02-26 00:00:00</td>\n",
       "    </tr>\n",
       "  </tbody>\n",
       "</table>\n",
       "</div>"
      ],
      "text/plain": [
       "                           order_id                       customer_id  \\\n",
       "0  e481f51cbdc54678b7cc49136f2d6af7  9ef432eb6251297304e76186b10a928d   \n",
       "1  53cdb2fc8bc7dce0b6741e2150273451  b0830fb4747a6c6d20dea0b8c802d7ef   \n",
       "2  47770eb9100c2d0c44946d9cf07ec65d  41ce2a54c0b03bf3443c3d931a367089   \n",
       "3  949d5b44dbf5de918fe9c16f97b45f8a  f88197465ea7920adcdbec7375364d82   \n",
       "4  ad21c59c0840e6cb83a9ceb5573f8159  8ab97904e6daea8866dbdbc4fb7aad2c   \n",
       "\n",
       "  order_status order_purchase_timestamp    order_approved_at  \\\n",
       "0    delivered      2017-10-02 10:56:33  2017-10-02 11:07:15   \n",
       "1    delivered      2018-07-24 20:41:37  2018-07-26 03:24:27   \n",
       "2    delivered      2018-08-08 08:38:49  2018-08-08 08:55:23   \n",
       "3    delivered      2017-11-18 19:28:06  2017-11-18 19:45:59   \n",
       "4    delivered      2018-02-13 21:18:39  2018-02-13 22:20:29   \n",
       "\n",
       "  order_delivered_carrier_date order_delivered_customer_date  \\\n",
       "0          2017-10-04 19:55:00           2017-10-10 21:25:13   \n",
       "1          2018-07-26 14:31:00           2018-08-07 15:27:45   \n",
       "2          2018-08-08 13:50:00           2018-08-17 18:06:29   \n",
       "3          2017-11-22 13:39:59           2017-12-02 00:28:42   \n",
       "4          2018-02-14 19:46:34           2018-02-16 18:17:02   \n",
       "\n",
       "  order_estimated_delivery_date  \n",
       "0           2017-10-18 00:00:00  \n",
       "1           2018-08-13 00:00:00  \n",
       "2           2018-09-04 00:00:00  \n",
       "3           2017-12-15 00:00:00  \n",
       "4           2018-02-26 00:00:00  "
      ]
     },
     "execution_count": 4,
     "metadata": {},
     "output_type": "execute_result"
    }
   ],
   "source": [
    "orders.head()"
   ]
  },
  {
   "cell_type": "markdown",
   "id": "4a8ddb39-3e2d-4376-9670-c3de46d15747",
   "metadata": {},
   "source": [
    "**Carregando o dataset de itens pedidos**"
   ]
  },
  {
   "cell_type": "code",
   "execution_count": 7,
   "id": "460325f2-7c48-4f5d-87d7-86b7a0be3784",
   "metadata": {},
   "outputs": [],
   "source": [
    "orders_items = pd.read_csv('datasets/olist_order_items_dataset.csv')"
   ]
  },
  {
   "cell_type": "code",
   "execution_count": 8,
   "id": "b7d15c3f-ab44-4b0f-9215-2c3cab61ceb5",
   "metadata": {},
   "outputs": [
    {
     "data": {
      "text/html": [
       "<div>\n",
       "<style scoped>\n",
       "    .dataframe tbody tr th:only-of-type {\n",
       "        vertical-align: middle;\n",
       "    }\n",
       "\n",
       "    .dataframe tbody tr th {\n",
       "        vertical-align: top;\n",
       "    }\n",
       "\n",
       "    .dataframe thead th {\n",
       "        text-align: right;\n",
       "    }\n",
       "</style>\n",
       "<table border=\"1\" class=\"dataframe\">\n",
       "  <thead>\n",
       "    <tr style=\"text-align: right;\">\n",
       "      <th></th>\n",
       "      <th>order_id</th>\n",
       "      <th>order_item_id</th>\n",
       "      <th>product_id</th>\n",
       "      <th>seller_id</th>\n",
       "      <th>shipping_limit_date</th>\n",
       "      <th>price</th>\n",
       "      <th>freight_value</th>\n",
       "    </tr>\n",
       "  </thead>\n",
       "  <tbody>\n",
       "    <tr>\n",
       "      <th>0</th>\n",
       "      <td>00010242fe8c5a6d1ba2dd792cb16214</td>\n",
       "      <td>1</td>\n",
       "      <td>4244733e06e7ecb4970a6e2683c13e61</td>\n",
       "      <td>48436dade18ac8b2bce089ec2a041202</td>\n",
       "      <td>2017-09-19 09:45:35</td>\n",
       "      <td>58.90</td>\n",
       "      <td>13.29</td>\n",
       "    </tr>\n",
       "    <tr>\n",
       "      <th>1</th>\n",
       "      <td>00018f77f2f0320c557190d7a144bdd3</td>\n",
       "      <td>1</td>\n",
       "      <td>e5f2d52b802189ee658865ca93d83a8f</td>\n",
       "      <td>dd7ddc04e1b6c2c614352b383efe2d36</td>\n",
       "      <td>2017-05-03 11:05:13</td>\n",
       "      <td>239.90</td>\n",
       "      <td>19.93</td>\n",
       "    </tr>\n",
       "    <tr>\n",
       "      <th>2</th>\n",
       "      <td>000229ec398224ef6ca0657da4fc703e</td>\n",
       "      <td>1</td>\n",
       "      <td>c777355d18b72b67abbeef9df44fd0fd</td>\n",
       "      <td>5b51032eddd242adc84c38acab88f23d</td>\n",
       "      <td>2018-01-18 14:48:30</td>\n",
       "      <td>199.00</td>\n",
       "      <td>17.87</td>\n",
       "    </tr>\n",
       "    <tr>\n",
       "      <th>3</th>\n",
       "      <td>00024acbcdf0a6daa1e931b038114c75</td>\n",
       "      <td>1</td>\n",
       "      <td>7634da152a4610f1595efa32f14722fc</td>\n",
       "      <td>9d7a1d34a5052409006425275ba1c2b4</td>\n",
       "      <td>2018-08-15 10:10:18</td>\n",
       "      <td>12.99</td>\n",
       "      <td>12.79</td>\n",
       "    </tr>\n",
       "    <tr>\n",
       "      <th>4</th>\n",
       "      <td>00042b26cf59d7ce69dfabb4e55b4fd9</td>\n",
       "      <td>1</td>\n",
       "      <td>ac6c3623068f30de03045865e4e10089</td>\n",
       "      <td>df560393f3a51e74553ab94004ba5c87</td>\n",
       "      <td>2017-02-13 13:57:51</td>\n",
       "      <td>199.90</td>\n",
       "      <td>18.14</td>\n",
       "    </tr>\n",
       "  </tbody>\n",
       "</table>\n",
       "</div>"
      ],
      "text/plain": [
       "                           order_id  order_item_id  \\\n",
       "0  00010242fe8c5a6d1ba2dd792cb16214              1   \n",
       "1  00018f77f2f0320c557190d7a144bdd3              1   \n",
       "2  000229ec398224ef6ca0657da4fc703e              1   \n",
       "3  00024acbcdf0a6daa1e931b038114c75              1   \n",
       "4  00042b26cf59d7ce69dfabb4e55b4fd9              1   \n",
       "\n",
       "                         product_id                         seller_id  \\\n",
       "0  4244733e06e7ecb4970a6e2683c13e61  48436dade18ac8b2bce089ec2a041202   \n",
       "1  e5f2d52b802189ee658865ca93d83a8f  dd7ddc04e1b6c2c614352b383efe2d36   \n",
       "2  c777355d18b72b67abbeef9df44fd0fd  5b51032eddd242adc84c38acab88f23d   \n",
       "3  7634da152a4610f1595efa32f14722fc  9d7a1d34a5052409006425275ba1c2b4   \n",
       "4  ac6c3623068f30de03045865e4e10089  df560393f3a51e74553ab94004ba5c87   \n",
       "\n",
       "   shipping_limit_date   price  freight_value  \n",
       "0  2017-09-19 09:45:35   58.90          13.29  \n",
       "1  2017-05-03 11:05:13  239.90          19.93  \n",
       "2  2018-01-18 14:48:30  199.00          17.87  \n",
       "3  2018-08-15 10:10:18   12.99          12.79  \n",
       "4  2017-02-13 13:57:51  199.90          18.14  "
      ]
     },
     "execution_count": 8,
     "metadata": {},
     "output_type": "execute_result"
    }
   ],
   "source": [
    "orders_items.head()"
   ]
  },
  {
   "cell_type": "markdown",
   "id": "2a772ae5-ceb8-4b2a-ae10-26ce9307c5f3",
   "metadata": {},
   "source": [
    "## Opções de Merge\n",
    "\n",
    "## Tipos de JOIN (ligações)\n",
    "\n",
    "- **INNER JOIN** (Padrão): Retorna apenas os registros que contém a mesma chave **em ambos** os DataFrames;\n",
    "- **LEFT JOIN**: Retorna os registros do DataFrame **à esquerda**, independentemente se contém um correspondente à direita;\n",
    "- **RIGHT JOIN**: Retorna todos os registros do DataFrame **à direita**, independentemente se contém um correspondente à esquerda;\n",
    "- **OUTER JOIN**: Retorna todos os registros de ambos os DataFrames."
   ]
  },
  {
   "attachments": {
    "fcfc3dc4-837f-4191-9daa-712bc202e2b8.png": {
     "image/png": "[encoded data removed]"
    }
   },
   "cell_type": "markdown",
   "id": "13651840-aac7-4673-b80d-3e49803b2999",
   "metadata": {},
   "source": [
    "![image.png](attachment:fcfc3dc4-837f-4191-9daa-712bc202e2b8.png)"
   ]
  },
  {
   "cell_type": "markdown",
   "id": "eff946dc-9e9b-4751-b984-880a829aab2d",
   "metadata": {},
   "source": [
    "**Consultando os dados nos dois datasets e ligando através da chave order_id**\n",
    "\n",
    "    "
   ]
  },
  {
   "cell_type": "markdown",
   "id": "76c012b4-a8b9-4ac5-9e88-aea3ef82b9c6",
   "metadata": {},
   "source": [
    "- Selecionando os atributos do dataset **orders (pedidos)**.\n",
    "    - order_id (id do produto);\n",
    "    - order_status (status do produto);\n",
    "    - order_approved_at (data e hora da aprovação do pedido)."
   ]
  },
  {
   "cell_type": "markdown",
   "id": "86ec92f9-8b03-48d9-97fb-055ca777d0c1",
   "metadata": {},
   "source": [
    "- Selecionando os atributos do dataset **orders_items (items do pedido)**.\n",
    "    - product_id (id do produto)\n",
    "    - seller_id (id do vendedor)\n",
    "    - price (preço do produto)\n",
    "    - freight_value (valor do frete)"
   ]
  },
  {
   "cell_type": "code",
   "execution_count": 12,
   "id": "ca686d66-1ffe-43f9-92be-2535f79a20ec",
   "metadata": {},
   "outputs": [],
   "source": [
    "query = pd.merge(\n",
    "    orders[['order_id', 'order_status', 'order_approved_at']], # primeiro parâmetro será a 'tabela' da esquerda\n",
    "    oders_items[['order_id', 'product_id', 'seller_id', 'price', 'freight_value']], # O outro parâmetro será a 'tabela' da direita\n",
    "    on='order_id' # E o terceiro parâmetro serve para especificar qual será a minha chave de ligação (a PK)\n",
    ")"
   ]
  },
  {
   "cell_type": "code",
   "execution_count": 13,
   "id": "6e342c72-cfa1-451f-b34c-4cca5f6f16f6",
   "metadata": {},
   "outputs": [
    {
     "data": {
      "text/html": [
       "<div>\n",
       "<style scoped>\n",
       "    .dataframe tbody tr th:only-of-type {\n",
       "        vertical-align: middle;\n",
       "    }\n",
       "\n",
       "    .dataframe tbody tr th {\n",
       "        vertical-align: top;\n",
       "    }\n",
       "\n",
       "    .dataframe thead th {\n",
       "        text-align: right;\n",
       "    }\n",
       "</style>\n",
       "<table border=\"1\" class=\"dataframe\">\n",
       "  <thead>\n",
       "    <tr style=\"text-align: right;\">\n",
       "      <th></th>\n",
       "      <th>order_id</th>\n",
       "      <th>order_status</th>\n",
       "      <th>order_approved_at</th>\n",
       "      <th>product_id</th>\n",
       "      <th>seller_id</th>\n",
       "      <th>price</th>\n",
       "      <th>freight_value</th>\n",
       "    </tr>\n",
       "  </thead>\n",
       "  <tbody>\n",
       "    <tr>\n",
       "      <th>0</th>\n",
       "      <td>e481f51cbdc54678b7cc49136f2d6af7</td>\n",
       "      <td>delivered</td>\n",
       "      <td>2017-10-02 11:07:15</td>\n",
       "      <td>87285b34884572647811a353c7ac498a</td>\n",
       "      <td>3504c0cb71d7fa48d967e0e4c94d59d9</td>\n",
       "      <td>29.99</td>\n",
       "      <td>8.72</td>\n",
       "    </tr>\n",
       "    <tr>\n",
       "      <th>1</th>\n",
       "      <td>53cdb2fc8bc7dce0b6741e2150273451</td>\n",
       "      <td>delivered</td>\n",
       "      <td>2018-07-26 03:24:27</td>\n",
       "      <td>595fac2a385ac33a80bd5114aec74eb8</td>\n",
       "      <td>289cdb325fb7e7f891c38608bf9e0962</td>\n",
       "      <td>118.70</td>\n",
       "      <td>22.76</td>\n",
       "    </tr>\n",
       "    <tr>\n",
       "      <th>2</th>\n",
       "      <td>47770eb9100c2d0c44946d9cf07ec65d</td>\n",
       "      <td>delivered</td>\n",
       "      <td>2018-08-08 08:55:23</td>\n",
       "      <td>aa4383b373c6aca5d8797843e5594415</td>\n",
       "      <td>4869f7a5dfa277a7dca6462dcf3b52b2</td>\n",
       "      <td>159.90</td>\n",
       "      <td>19.22</td>\n",
       "    </tr>\n",
       "    <tr>\n",
       "      <th>3</th>\n",
       "      <td>949d5b44dbf5de918fe9c16f97b45f8a</td>\n",
       "      <td>delivered</td>\n",
       "      <td>2017-11-18 19:45:59</td>\n",
       "      <td>d0b61bfb1de832b15ba9d266ca96e5b0</td>\n",
       "      <td>66922902710d126a0e7d26b0e3805106</td>\n",
       "      <td>45.00</td>\n",
       "      <td>27.20</td>\n",
       "    </tr>\n",
       "    <tr>\n",
       "      <th>4</th>\n",
       "      <td>ad21c59c0840e6cb83a9ceb5573f8159</td>\n",
       "      <td>delivered</td>\n",
       "      <td>2018-02-13 22:20:29</td>\n",
       "      <td>65266b2da20d04dbe00c5c2d3bb7859e</td>\n",
       "      <td>2c9e548be18521d1c43cde1c582c6de8</td>\n",
       "      <td>19.90</td>\n",
       "      <td>8.72</td>\n",
       "    </tr>\n",
       "  </tbody>\n",
       "</table>\n",
       "</div>"
      ],
      "text/plain": [
       "                           order_id order_status    order_approved_at  \\\n",
       "0  e481f51cbdc54678b7cc49136f2d6af7    delivered  2017-10-02 11:07:15   \n",
       "1  53cdb2fc8bc7dce0b6741e2150273451    delivered  2018-07-26 03:24:27   \n",
       "2  47770eb9100c2d0c44946d9cf07ec65d    delivered  2018-08-08 08:55:23   \n",
       "3  949d5b44dbf5de918fe9c16f97b45f8a    delivered  2017-11-18 19:45:59   \n",
       "4  ad21c59c0840e6cb83a9ceb5573f8159    delivered  2018-02-13 22:20:29   \n",
       "\n",
       "                         product_id                         seller_id   price  \\\n",
       "0  87285b34884572647811a353c7ac498a  3504c0cb71d7fa48d967e0e4c94d59d9   29.99   \n",
       "1  595fac2a385ac33a80bd5114aec74eb8  289cdb325fb7e7f891c38608bf9e0962  118.70   \n",
       "2  aa4383b373c6aca5d8797843e5594415  4869f7a5dfa277a7dca6462dcf3b52b2  159.90   \n",
       "3  d0b61bfb1de832b15ba9d266ca96e5b0  66922902710d126a0e7d26b0e3805106   45.00   \n",
       "4  65266b2da20d04dbe00c5c2d3bb7859e  2c9e548be18521d1c43cde1c582c6de8   19.90   \n",
       "\n",
       "   freight_value  \n",
       "0           8.72  \n",
       "1          22.76  \n",
       "2          19.22  \n",
       "3          27.20  \n",
       "4           8.72  "
      ]
     },
     "execution_count": 13,
     "metadata": {},
     "output_type": "execute_result"
    }
   ],
   "source": [
    "query.head()"
   ]
  },
  {
   "cell_type": "markdown",
   "id": "805c2eaa-c2fa-4a8e-949b-9584340a1444",
   "metadata": {},
   "source": [
    "**Consultando todos os pedidos independente se contém itens associados - Left Join**"
   ]
  },
  {
   "cell_type": "code",
   "execution_count": 15,
   "id": "2e955586-4d01-4e1d-80a5-0c2474a1a7d9",
   "metadata": {},
   "outputs": [],
   "source": [
    "query = pd.merge(\n",
    "    orders[['order_id', 'order_status', 'order_approved_at']], # primeiro parâmetro será a 'tabela' da esquerda\n",
    "    oders_items[['order_id', 'product_id', 'seller_id', 'price', 'freight_value']], # O outro parâmetro será a 'tabela' da direita\n",
    "    on='order_id', # E o terceiro parâmetro serve para especificar qual será a minha chave de ligação (a PK)\n",
    "    how='left'\n",
    ")"
   ]
  },
  {
   "cell_type": "code",
   "execution_count": 16,
   "id": "d23ba22b-6ff7-47ec-b342-4b6ad1c16c27",
   "metadata": {},
   "outputs": [
    {
     "data": {
      "text/plain": [
       "order_id               0\n",
       "order_status           0\n",
       "order_approved_at    161\n",
       "product_id           775\n",
       "seller_id            775\n",
       "price                775\n",
       "freight_value        775\n",
       "dtype: int64"
      ]
     },
     "execution_count": 16,
     "metadata": {},
     "output_type": "execute_result"
    }
   ],
   "source": [
    "query.isnull().sum()"
   ]
  },
  {
   "cell_type": "markdown",
   "id": "483b9658-c6ce-433f-a0fa-e8564cd20746",
   "metadata": {},
   "source": [
    "**Consultando todos os pedidos independente se contém itens associados - Right Join**"
   ]
  },
  {
   "cell_type": "code",
   "execution_count": 17,
   "id": "dc4f9b52-a8e0-49ff-a9f6-60f50ce9ff2c",
   "metadata": {},
   "outputs": [],
   "source": [
    "query = pd.merge(\n",
    "    orders[['order_id', 'order_status', 'order_approved_at']], # primeiro parâmetro será a 'tabela' da esquerda\n",
    "    oders_items[['order_id', 'product_id', 'seller_id', 'price', 'freight_value']], # O outro parâmetro será a 'tabela' da direita\n",
    "    on='order_id', # E o terceiro parâmetro serve para especificar qual será a minha chave de ligação (a PK)\n",
    "    how='right'\n",
    ")"
   ]
  },
  {
   "cell_type": "code",
   "execution_count": 18,
   "id": "8cd5e7e8-a6ae-4538-b440-22a176193003",
   "metadata": {},
   "outputs": [
    {
     "data": {
      "text/plain": [
       "order_id              0\n",
       "order_status          0\n",
       "order_approved_at    15\n",
       "product_id            0\n",
       "seller_id             0\n",
       "price                 0\n",
       "freight_value         0\n",
       "dtype: int64"
      ]
     },
     "execution_count": 18,
     "metadata": {},
     "output_type": "execute_result"
    }
   ],
   "source": [
    "query.isnull().sum()"
   ]
  },
  {
   "cell_type": "markdown",
   "id": "1aef637c-4650-4eb0-9cb1-3723cdd15084",
   "metadata": {},
   "source": [
    "**Consultando todos os registros nos dois DataFrames - Outer Join**"
   ]
  },
  {
   "cell_type": "code",
   "execution_count": 19,
   "id": "7797a376-1e74-4fd4-9c57-a3f4f06b6805",
   "metadata": {},
   "outputs": [],
   "source": [
    "query = pd.merge(\n",
    "    orders[['order_id', 'order_status', 'order_approved_at']], # primeiro parâmetro será a 'tabela' da esquerda\n",
    "    oders_items[['order_id', 'product_id', 'seller_id', 'price', 'freight_value']], # O outro parâmetro será a 'tabela' da direita\n",
    "    on='order_id', # E o terceiro parâmetro serve para especificar qual será a minha chave de ligação (a PK)\n",
    "    how='outer'\n",
    ")"
   ]
  },
  {
   "cell_type": "code",
   "execution_count": 20,
   "id": "e4142613-54ac-43a0-bf11-456d6e6cb730",
   "metadata": {},
   "outputs": [
    {
     "data": {
      "text/plain": [
       "order_id               0\n",
       "order_status           0\n",
       "order_approved_at    161\n",
       "product_id           775\n",
       "seller_id            775\n",
       "price                775\n",
       "freight_value        775\n",
       "dtype: int64"
      ]
     },
     "execution_count": 20,
     "metadata": {},
     "output_type": "execute_result"
    }
   ],
   "source": [
    "query.isnull().sum()"
   ]
  }
 ],
 "metadata": {
  "kernelspec": {
   "display_name": "Python 3 (ipykernel)",
   "language": "python",
   "name": "python3"
  },
  "language_info": {
   "codemirror_mode": {
    "name": "ipython",
    "version": 3
   },
   "file_extension": ".py",
   "mimetype": "text/x-python",
   "name": "python",
   "nbconvert_exporter": "python",
   "pygments_lexer": "ipython3",
   "version": "3.12.2"
  }
 },
 "nbformat": 4,
 "nbformat_minor": 5
}
