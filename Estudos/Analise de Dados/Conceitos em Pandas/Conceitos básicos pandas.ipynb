{
 "cells": [
  {
   "cell_type": "code",
   "execution_count": 1,
   "id": "030a6f78-4264-461d-9830-6e32ab685dcd",
   "metadata": {},
   "outputs": [],
   "source": [
    "import pandas as pd"
   ]
  },
  {
   "cell_type": "markdown",
   "id": "e4c9704f-1594-45b2-85fe-372c718b5cb8",
   "metadata": {},
   "source": [
    "# Índice\n",
    "\n",
    "- [Seção 1 - Introdução](#1.-Analisando-dados-com-Pandas)\n",
    "    - [1.1. - Conceitos básicos de Pandas](#1.1.-Conceitos-básicos-de-Pandas)\n",
    "    - [1.2. - Series](#1.2.-Series)\n",
    "- [Tópicos](#Tópicos)\n"
   ]
  },
  {
   "cell_type": "markdown",
   "id": "e12f18cc-eab2-45a8-8569-000f53bc8959",
   "metadata": {},
   "source": [
    "___"
   ]
  },
  {
   "cell_type": "markdown",
   "id": "1fdd04ef-c236-4f20-8bfb-5e58a581cc1b",
   "metadata": {},
   "source": [
    "# 1. Analisando dados com Pandas\n",
    "\n",
    "### 1.1. Conceitos básicos de Pandas\n",
    "\n",
    "\n",
    "A Ciência de Dados, ou a Análise de Dados, é um ramo que vem ganhando cada vez mais notoriedade, várias empresas de pequeno a grande porte, como a Netflix, Airbnb e Google já possuem atividades de tomada de decisão baseadas em dados. Nesse cenário, a linguagem Python é bastante utilizada devido a sua versatilidade e simplicidade, contando com uma vasta quantidade de bibliotecas, e entre elas, o Pandas.\n",
    "\n",
    "#### O que é Pandas?\n",
    "\n",
    "Pandas é uma biblioteca de código aberto (open source), construída sobre a linguagem Python, e que providencia uma abordagem rápida e flexível, com estruturas robustas para se trabalhar com dados relacionais (ou rotulados), e tudo isso de maneira simples e intuitiva.\n",
    "\n",
    "De maneira geral, o Pandas pode ser utilizado para várias atividades e processos, entre eles: **limpeza e tratamento de dados, análise exploratória de dados (EDA)**, suporte em atividades de Machine Learning, consultas e queries em bancos de dados relacionais, visualização de dados, webscraping e muito mais. E além disso, também possui ótima integração com várias outras bibliotecas muito utilizadas em Ciência de Dados, tais como: Numpy, Scikit-Learn, Seaborn, Altair, Matplotlib, Plotly, Scipy e outros."
   ]
  },
  {
   "cell_type": "markdown",
   "id": "9149060e-3508-4784-83fc-9a963b6350af",
   "metadata": {},
   "source": [
    "___"
   ]
  },
  {
   "cell_type": "markdown",
   "id": "e9e1f802-7f72-4964-9cb0-8ac03ac729df",
   "metadata": {},
   "source": [
    "### 1.2. Series\n",
    "\n",
    "A estrutura principal do Pandas é composta por dois tipos de objetos: _Series e DataFrames_, vamos falar um pouco sobre o primeiro tipo;\n",
    "\n",
    "As _Series_ nada mais são que uma espécie de arranjo unidimensional, como uma lista por exemplo, mas que possui algumas características diferentes, uma delas é que possui rótulos para cada elemento do array, ou seja, **uma Série é um array unidimensional capaz de armazenar qualquer tipo de dado e vem com um índice que nos ajuda a localizar esses dados rapidamente.** Para facilitar, pense na _Serie_ como uma coluna de uma tabela no Excel.\n",
    "\n",
    "Uma série tem 4 partes importantes:\n",
    "- Os elementos em si\n",
    "- O índice que contém a referência para acessar os elementos\n",
    "- O tipo dos elementos\n",
    "- Um nome"
   ]
  },
  {
   "cell_type": "markdown",
   "id": "97092086-b667-4779-bc85-f12b86f14882",
   "metadata": {},
   "source": [
    "#### Elementos e Tipos\n",
    "\n",
    "Os elementos podem ser de qualquer tipo, ou seja, podemos ter uma série com números e strings, por exemplo.\n",
    "\n",
    "Abaixo, criamos duas séries de exemplo de forma bem parecida como criamos a lista, com a exceção de que as criamos a partir da classe Series do pandas:"
   ]
  },
  {
   "cell_type": "code",
   "execution_count": 3,
   "id": "ce845cfe-e605-44c2-b8a1-f7f3529cad87",
   "metadata": {},
   "outputs": [
    {
     "data": {
      "text/plain": [
       "0    42\n",
       "1    99\n",
       "2    -1\n",
       "dtype: int64"
      ]
     },
     "execution_count": 3,
     "metadata": {},
     "output_type": "execute_result"
    }
   ],
   "source": [
    "serie = pd.Series([42, 99, -1])\n",
    "serie"
   ]
  },
  {
   "cell_type": "code",
   "execution_count": 4,
   "id": "4267cbf6-15c8-4f74-aa86-2cbc00b2104e",
   "metadata": {},
   "outputs": [
    {
     "data": {
      "text/plain": [
       "0    radiohead\n",
       "1          2.3\n",
       "2         True\n",
       "dtype: object"
      ]
     },
     "execution_count": 4,
     "metadata": {},
     "output_type": "execute_result"
    }
   ],
   "source": [
    "serie2 = pd.Series(['radiohead', 2.3, True])\n",
    "serie2"
   ]
  },
  {
   "cell_type": "markdown",
   "id": "8451a709-36c6-48ea-87cd-d9a618fa8a23",
   "metadata": {},
   "source": [
    "#### Acessando elementos\n",
    "\n",
    "Numa lista, acessamos os elementos por meio de índices posicionais, numéricos, certo?\n",
    "\n",
    "Acessar o primeiro elemento: lista[0], o terceiro elemento: lista[2], e assim por diante.\n",
    "\n",
    "Nas séries podemos acessar da mesma forma, porém, podemos acessar os elementos de uma _serie_ com um índice posicional, mas não precisa ser assim, podemos criar um índice próprio que nem precisa ser numérico.\n",
    "\n",
    "Vamos criar um caso de exemplo, queremos guardar as calorias de cada alimento que vamos ingerir... E com isso criamos uma serie com as calorias de uma banana, um prato feito e um big mac:"
   ]
  },
  {
   "cell_type": "code",
   "execution_count": 7,
   "id": "9aed06d2-6f32-4d30-bd80-e4694f27331e",
   "metadata": {},
   "outputs": [
    {
     "data": {
      "text/plain": [
       "0    200\n",
       "1    350\n",
       "2    550\n",
       "dtype: int64"
      ]
     },
     "execution_count": 7,
     "metadata": {},
     "output_type": "execute_result"
    }
   ],
   "source": [
    "serie_sem_nome = pd.Series([200, 350, 550])\n",
    "serie_sem_nome"
   ]
  },
  {
   "cell_type": "code",
   "execution_count": 8,
   "id": "65a5ec94-6a89-4fa2-9879-6eee8d4419a5",
   "metadata": {},
   "outputs": [
    {
     "data": {
      "text/plain": [
       "banana         200\n",
       "prato feito    350\n",
       "big mac        550\n",
       "dtype: int64"
      ]
     },
     "execution_count": 8,
     "metadata": {},
     "output_type": "execute_result"
    }
   ],
   "source": [
    "# Vamos agora dar nomes aos indices e assim saberemos quais calorias é de quais alimentos:\n",
    "serie_com_nome = pd.Series([200, 350, 550], index=['banana', 'prato feito', 'big mac'])\n",
    "serie_com_nome"
   ]
  },
  {
   "cell_type": "code",
   "execution_count": 10,
   "id": "8d8c19c6-9c28-4873-ae70-1ce27318ab29",
   "metadata": {},
   "outputs": [
    {
     "data": {
      "text/plain": [
       "np.int64(550)"
      ]
     },
     "execution_count": 10,
     "metadata": {},
     "output_type": "execute_result"
    }
   ],
   "source": [
    "# Quantas calorias tem um big mac?\n",
    "serie_com_nome['big mac']"
   ]
  },
  {
   "cell_type": "markdown",
   "id": "f0dccc9e-6c4b-4465-8bff-0dd2fd69e7d2",
   "metadata": {},
   "source": [
    "Vamos para mais um exemplo, para conseguirmos entender sobre acessar os elementos de uma **serie**"
   ]
  },
  {
   "cell_type": "code",
   "execution_count": 19,
   "id": "4bb3a5a6-8a06-4786-b817-b51315ae743e",
   "metadata": {},
   "outputs": [],
   "source": [
    "labels = ['a', 'b', 'c']\n",
    "minha_lista = [10, 20, 30]\n",
    "d = {'a':10, 'b':20, 'c':30} # Um dicionário para utilizar no Series"
   ]
  },
  {
   "cell_type": "markdown",
   "id": "8dbb4e26-d7bb-4822-8c4f-9c3fc508bacb",
   "metadata": {},
   "source": [
    "**Uma observação importante:**\n",
    "Não preciso especificar qual será meu _data_ ou meu _index_, o pandas identifica automáticamente quando eu coloco em ordem, veja os exemplos abaixo."
   ]
  },
  {
   "cell_type": "code",
   "execution_count": 14,
   "id": "d6b53fea-7a04-49e2-a9eb-08a75005e918",
   "metadata": {},
   "outputs": [
    {
     "data": {
      "text/plain": [
       "0    a\n",
       "1    b\n",
       "2    c\n",
       "dtype: object"
      ]
     },
     "execution_count": 14,
     "metadata": {},
     "output_type": "execute_result"
    }
   ],
   "source": [
    "pd.Series(labels)"
   ]
  },
  {
   "cell_type": "code",
   "execution_count": 16,
   "id": "2cdfaea6-4629-4cba-bb76-0cf99f94305a",
   "metadata": {},
   "outputs": [
    {
     "data": {
      "text/plain": [
       "10    a\n",
       "20    b\n",
       "30    c\n",
       "dtype: object"
      ]
     },
     "execution_count": 16,
     "metadata": {},
     "output_type": "execute_result"
    }
   ],
   "source": [
    "pd.Series(labels, minha_lista)\n",
    "# A mesma coisa seria: pd.Series(data=labels, index=minha_lista)"
   ]
  },
  {
   "cell_type": "markdown",
   "id": "7a965fa5-40e9-43c9-a0dd-c76f16947519",
   "metadata": {},
   "source": [
    "Eu também posso utilizar dicionários no Series, e o interessante é que, automaticamente o _pandas_ identifica a chave do dicionário como o indice do elemento. Vejamos abaixo:"
   ]
  },
  {
   "cell_type": "code",
   "execution_count": 17,
   "id": "c1021d88-348e-4957-be4e-f3969d4b884d",
   "metadata": {},
   "outputs": [
    {
     "data": {
      "text/plain": [
       "a    10\n",
       "b    20\n",
       "c    30\n",
       "dtype: int64"
      ]
     },
     "execution_count": 17,
     "metadata": {},
     "output_type": "execute_result"
    }
   ],
   "source": [
    "pd.Series(d)"
   ]
  },
  {
   "cell_type": "code",
   "execution_count": 18,
   "id": "252bfb3d-f671-4f28-b1f4-a3a6a1e0a943",
   "metadata": {},
   "outputs": [
    {
     "data": {
      "text/plain": [
       "banana     34\n",
       "uva        21\n",
       "laranja    22\n",
       "dtype: int64"
      ]
     },
     "execution_count": 18,
     "metadata": {},
     "output_type": "execute_result"
    }
   ],
   "source": [
    "d2 = {\"banana\": 34, \"uva\": 21, \"laranja\": 22} # Quantidade de frutas que eu tenho\n",
    "pd.Series(d2)"
   ]
  },
  {
   "cell_type": "code",
   "execution_count": 22,
   "id": "8634aa29-dfa4-467d-96ff-ad84c82c0cb0",
   "metadata": {},
   "outputs": [
    {
     "data": {
      "text/plain": [
       "34"
      ]
     },
     "execution_count": 22,
     "metadata": {},
     "output_type": "execute_result"
    }
   ],
   "source": [
    "# Quantas bananas eu tenho?\n",
    "d2['banana']"
   ]
  },
  {
   "cell_type": "markdown",
   "id": "72d27084-12b0-43e9-8b21-46aef8ab98df",
   "metadata": {},
   "source": [
    "___"
   ]
  },
  {
   "cell_type": "markdown",
   "id": "193c3de5-79ae-4e0d-b416-5711565c4285",
   "metadata": {},
   "source": [
    "### 1.3. DataFrames\n",
    "\n",
    "O DataFrame do Pandas é uma maneira de representar e trabalhar com dados tabulares. Ele pode ser visto como uma tabela que organiza os dados em linhas e colunas, criando uma estrutura de dados bidimensional. Um DataFrame pode ser criado do zero ou você pode usar outras estruturas de dados, como matrizes NumPy.\n",
    "\n",
    "Em outras palavras: DataFrames são estruturas 2D (linhas e colunas) — parecida com uma planilha do Excel ou uma tabela SQL."
   ]
  },
  {
   "cell_type": "markdown",
   "id": "1d932e7e-47d7-43d0-a5db-daefd689ec4d",
   "metadata": {},
   "source": [
    "#### Criando DataFrames"
   ]
  },
  {
   "cell_type": "code",
   "execution_count": 4,
   "id": "81c1e029-5d38-4518-9717-5519c2d15d6a",
   "metadata": {},
   "outputs": [
    {
     "name": "stdout",
     "output_type": "stream",
     "text": [
      "     Nome  Idade          Cidade\n",
      "0     Ana     25       São Paulo\n",
      "1   Bruno     30  Rio de Janeiro\n",
      "2  Carlos     35  Belo Horizonte\n"
     ]
    }
   ],
   "source": [
    "# Criando DataFrames a partir de dicionários:\n",
    "\n",
    "dados = {\n",
    "'Nome': ['Ana', 'Bruno', 'Carlos'],\n",
    "'Idade': [25, 30, 35],\n",
    "'Cidade': ['São Paulo', 'Rio de Janeiro', 'Belo Horizonte']\n",
    "}\n",
    "\n",
    "df = pd.DataFrame(dados)\n",
    "print(df)"
   ]
  },
  {
   "cell_type": "code",
   "execution_count": 32,
   "id": "78f93152-8c34-4002-a167-b7add3c43b36",
   "metadata": {},
   "outputs": [
    {
     "name": "stdout",
     "output_type": "stream",
     "text": [
      "             Calorias  Gordura (%)\n",
      "banana            200            0\n",
      "prato feito       350            6\n",
      "big mac           550           15\n",
      "\n"
     ]
    }
   ],
   "source": [
    "# Criando DataFrames a partir de listas:\n",
    "df2 = pd.DataFrame({'Calorias':[200, 350, 550], 'Gordura (%)':[0, 6, 15]}, index=['banana', 'prato feito', 'big mac'])\n",
    "print(df2)\n",
    "print()"
   ]
  },
  {
   "cell_type": "code",
   "execution_count": 5,
   "id": "e092bd82-c797-482f-9e2e-0b8300e6b8e9",
   "metadata": {},
   "outputs": [
    {
     "data": {
      "text/html": [
       "<div>\n",
       "<style scoped>\n",
       "    .dataframe tbody tr th:only-of-type {\n",
       "        vertical-align: middle;\n",
       "    }\n",
       "\n",
       "    .dataframe tbody tr th {\n",
       "        vertical-align: top;\n",
       "    }\n",
       "\n",
       "    .dataframe thead th {\n",
       "        text-align: right;\n",
       "    }\n",
       "</style>\n",
       "<table border=\"1\" class=\"dataframe\">\n",
       "  <thead>\n",
       "    <tr style=\"text-align: right;\">\n",
       "      <th></th>\n",
       "      <th>Nome</th>\n",
       "      <th>Idade</th>\n",
       "      <th>Cidade</th>\n",
       "      <th>UF</th>\n",
       "    </tr>\n",
       "  </thead>\n",
       "  <tbody>\n",
       "    <tr>\n",
       "      <th>1</th>\n",
       "      <td>Ana</td>\n",
       "      <td>25</td>\n",
       "      <td>São Paulo</td>\n",
       "      <td>NaN</td>\n",
       "    </tr>\n",
       "    <tr>\n",
       "      <th>2</th>\n",
       "      <td>Bruno</td>\n",
       "      <td>30</td>\n",
       "      <td>Rio de Janeiro</td>\n",
       "      <td>NaN</td>\n",
       "    </tr>\n",
       "    <tr>\n",
       "      <th>3</th>\n",
       "      <td>Carlos</td>\n",
       "      <td>35</td>\n",
       "      <td>Belo Horizonte</td>\n",
       "      <td>NaN</td>\n",
       "    </tr>\n",
       "  </tbody>\n",
       "</table>\n",
       "</div>"
      ],
      "text/plain": [
       "     Nome  Idade          Cidade   UF\n",
       "1     Ana     25       São Paulo  NaN\n",
       "2   Bruno     30  Rio de Janeiro  NaN\n",
       "3  Carlos     35  Belo Horizonte  NaN"
      ]
     },
     "execution_count": 5,
     "metadata": {},
     "output_type": "execute_result"
    }
   ],
   "source": [
    "# Outra maneira de criar um DataFrame\n",
    "df2_v2 = pd.DataFrame(dados, columns= ['Nome', 'Idade', 'Cidade', 'UF'], index=[1, 2, 3])\n",
    "# Criei o DataFrame já identificando os indices e também quais seriam suas colunas.\n",
    "# E também passando de onde viria os dados.\n",
    "\n",
    "df2_v2"
   ]
  },
  {
   "cell_type": "markdown",
   "id": "0180641e-1876-45c9-a48e-f3f4570f7b44",
   "metadata": {},
   "source": [
    "#### Acessando DataFrames\n",
    "\n",
    "Quando trabalhamos com Series, acessamos atraves do indice, já nos DataFrammes, acessamos atraves do nome da coluna"
   ]
  },
  {
   "cell_type": "code",
   "execution_count": 36,
   "id": "c83d9f1a-b942-4d30-83ea-7127159e17f7",
   "metadata": {},
   "outputs": [
    {
     "data": {
      "text/html": [
       "<div>\n",
       "<style scoped>\n",
       "    .dataframe tbody tr th:only-of-type {\n",
       "        vertical-align: middle;\n",
       "    }\n",
       "\n",
       "    .dataframe tbody tr th {\n",
       "        vertical-align: top;\n",
       "    }\n",
       "\n",
       "    .dataframe thead th {\n",
       "        text-align: right;\n",
       "    }\n",
       "</style>\n",
       "<table border=\"1\" class=\"dataframe\">\n",
       "  <thead>\n",
       "    <tr style=\"text-align: right;\">\n",
       "      <th></th>\n",
       "      <th>Cidade</th>\n",
       "    </tr>\n",
       "  </thead>\n",
       "  <tbody>\n",
       "    <tr>\n",
       "      <th>0</th>\n",
       "      <td>São Paulo</td>\n",
       "    </tr>\n",
       "    <tr>\n",
       "      <th>1</th>\n",
       "      <td>Rio de Janeiro</td>\n",
       "    </tr>\n",
       "    <tr>\n",
       "      <th>2</th>\n",
       "      <td>Belo Horizonte</td>\n",
       "    </tr>\n",
       "  </tbody>\n",
       "</table>\n",
       "</div>"
      ],
      "text/plain": [
       "           Cidade\n",
       "0       São Paulo\n",
       "1  Rio de Janeiro\n",
       "2  Belo Horizonte"
      ]
     },
     "execution_count": 36,
     "metadata": {},
     "output_type": "execute_result"
    }
   ],
   "source": [
    "df[['Cidade']] # Retornar a consulta como DataFrame"
   ]
  },
  {
   "cell_type": "code",
   "execution_count": 37,
   "id": "5d1a4d83-d9bb-4975-8b17-cdd5291463c5",
   "metadata": {},
   "outputs": [
    {
     "data": {
      "text/plain": [
       "0         São Paulo\n",
       "1    Rio de Janeiro\n",
       "2    Belo Horizonte\n",
       "Name: Cidade, dtype: object"
      ]
     },
     "execution_count": 37,
     "metadata": {},
     "output_type": "execute_result"
    }
   ],
   "source": [
    "df['Cidade'] # Retornar a consulta como Serie"
   ]
  },
  {
   "cell_type": "markdown",
   "id": "fd9eefc2-4e40-491c-802c-1ecb5b16aa24",
   "metadata": {},
   "source": [
    "#### Adicionando colunas"
   ]
  },
  {
   "cell_type": "code",
   "execution_count": 55,
   "id": "318c8d93-0657-401c-a562-1ddc28972bba",
   "metadata": {},
   "outputs": [],
   "source": [
    "df['new'] = df['Idade']"
   ]
  },
  {
   "cell_type": "code",
   "execution_count": 39,
   "id": "62569a55-188a-4480-aede-364c406fb855",
   "metadata": {},
   "outputs": [
    {
     "data": {
      "text/html": [
       "<div>\n",
       "<style scoped>\n",
       "    .dataframe tbody tr th:only-of-type {\n",
       "        vertical-align: middle;\n",
       "    }\n",
       "\n",
       "    .dataframe tbody tr th {\n",
       "        vertical-align: top;\n",
       "    }\n",
       "\n",
       "    .dataframe thead th {\n",
       "        text-align: right;\n",
       "    }\n",
       "</style>\n",
       "<table border=\"1\" class=\"dataframe\">\n",
       "  <thead>\n",
       "    <tr style=\"text-align: right;\">\n",
       "      <th></th>\n",
       "      <th>Nome</th>\n",
       "      <th>Idade</th>\n",
       "      <th>Cidade</th>\n",
       "      <th>new</th>\n",
       "    </tr>\n",
       "  </thead>\n",
       "  <tbody>\n",
       "    <tr>\n",
       "      <th>0</th>\n",
       "      <td>Ana</td>\n",
       "      <td>25</td>\n",
       "      <td>São Paulo</td>\n",
       "      <td>25</td>\n",
       "    </tr>\n",
       "    <tr>\n",
       "      <th>1</th>\n",
       "      <td>Bruno</td>\n",
       "      <td>30</td>\n",
       "      <td>Rio de Janeiro</td>\n",
       "      <td>30</td>\n",
       "    </tr>\n",
       "    <tr>\n",
       "      <th>2</th>\n",
       "      <td>Carlos</td>\n",
       "      <td>35</td>\n",
       "      <td>Belo Horizonte</td>\n",
       "      <td>35</td>\n",
       "    </tr>\n",
       "  </tbody>\n",
       "</table>\n",
       "</div>"
      ],
      "text/plain": [
       "     Nome  Idade          Cidade  new\n",
       "0     Ana     25       São Paulo   25\n",
       "1   Bruno     30  Rio de Janeiro   30\n",
       "2  Carlos     35  Belo Horizonte   35"
      ]
     },
     "execution_count": 39,
     "metadata": {},
     "output_type": "execute_result"
    }
   ],
   "source": [
    "df"
   ]
  },
  {
   "cell_type": "code",
   "execution_count": 44,
   "id": "8a74503e-e000-4052-b65b-f780c10aee23",
   "metadata": {},
   "outputs": [],
   "source": [
    "# Quantas calorias eu consumiria ao comer duas vezes:\n",
    "df2['Total_Calorias'] = df2['Calorias'] * 2"
   ]
  },
  {
   "cell_type": "code",
   "execution_count": 43,
   "id": "ba566faa-fd76-47dd-8a8d-bff312092108",
   "metadata": {},
   "outputs": [
    {
     "data": {
      "text/html": [
       "<div>\n",
       "<style scoped>\n",
       "    .dataframe tbody tr th:only-of-type {\n",
       "        vertical-align: middle;\n",
       "    }\n",
       "\n",
       "    .dataframe tbody tr th {\n",
       "        vertical-align: top;\n",
       "    }\n",
       "\n",
       "    .dataframe thead th {\n",
       "        text-align: right;\n",
       "    }\n",
       "</style>\n",
       "<table border=\"1\" class=\"dataframe\">\n",
       "  <thead>\n",
       "    <tr style=\"text-align: right;\">\n",
       "      <th></th>\n",
       "      <th>Calorias</th>\n",
       "      <th>Gordura (%)</th>\n",
       "      <th>Total_Calorias</th>\n",
       "    </tr>\n",
       "  </thead>\n",
       "  <tbody>\n",
       "    <tr>\n",
       "      <th>banana</th>\n",
       "      <td>200</td>\n",
       "      <td>0</td>\n",
       "      <td>400</td>\n",
       "    </tr>\n",
       "    <tr>\n",
       "      <th>prato feito</th>\n",
       "      <td>350</td>\n",
       "      <td>6</td>\n",
       "      <td>700</td>\n",
       "    </tr>\n",
       "    <tr>\n",
       "      <th>big mac</th>\n",
       "      <td>550</td>\n",
       "      <td>15</td>\n",
       "      <td>1100</td>\n",
       "    </tr>\n",
       "  </tbody>\n",
       "</table>\n",
       "</div>"
      ],
      "text/plain": [
       "             Calorias  Gordura (%)  Total_Calorias\n",
       "banana            200            0             400\n",
       "prato feito       350            6             700\n",
       "big mac           550           15            1100"
      ]
     },
     "execution_count": 43,
     "metadata": {},
     "output_type": "execute_result"
    }
   ],
   "source": [
    "df2"
   ]
  },
  {
   "cell_type": "markdown",
   "id": "ef66d2cf-d739-4793-8343-52e822efa067",
   "metadata": {},
   "source": [
    "#### Deletando colunas do DataFrame\n",
    "\n",
    "Um observação curiosa é que, no Pandas, se não for especificado, ele ira trabalhar com uma especie de copia do DataFrame, e você trabalhará com isso, até que seja especificado que você quer que seja o original. O que isso quer dizer?\n",
    "\n",
    "Vamos atentar ao exemplo abaixo:"
   ]
  },
  {
   "cell_type": "code",
   "execution_count": 50,
   "id": "96e970ae-8d70-4028-ba5c-84500acdecad",
   "metadata": {},
   "outputs": [
    {
     "data": {
      "text/html": [
       "<div>\n",
       "<style scoped>\n",
       "    .dataframe tbody tr th:only-of-type {\n",
       "        vertical-align: middle;\n",
       "    }\n",
       "\n",
       "    .dataframe tbody tr th {\n",
       "        vertical-align: top;\n",
       "    }\n",
       "\n",
       "    .dataframe thead th {\n",
       "        text-align: right;\n",
       "    }\n",
       "</style>\n",
       "<table border=\"1\" class=\"dataframe\">\n",
       "  <thead>\n",
       "    <tr style=\"text-align: right;\">\n",
       "      <th></th>\n",
       "      <th>Nome</th>\n",
       "      <th>Idade</th>\n",
       "      <th>Cidade</th>\n",
       "    </tr>\n",
       "  </thead>\n",
       "  <tbody>\n",
       "    <tr>\n",
       "      <th>0</th>\n",
       "      <td>Ana</td>\n",
       "      <td>25</td>\n",
       "      <td>São Paulo</td>\n",
       "    </tr>\n",
       "    <tr>\n",
       "      <th>1</th>\n",
       "      <td>Bruno</td>\n",
       "      <td>30</td>\n",
       "      <td>Rio de Janeiro</td>\n",
       "    </tr>\n",
       "    <tr>\n",
       "      <th>2</th>\n",
       "      <td>Carlos</td>\n",
       "      <td>35</td>\n",
       "      <td>Belo Horizonte</td>\n",
       "    </tr>\n",
       "  </tbody>\n",
       "</table>\n",
       "</div>"
      ],
      "text/plain": [
       "     Nome  Idade          Cidade\n",
       "0     Ana     25       São Paulo\n",
       "1   Bruno     30  Rio de Janeiro\n",
       "2  Carlos     35  Belo Horizonte"
      ]
     },
     "execution_count": 50,
     "metadata": {},
     "output_type": "execute_result"
    }
   ],
   "source": [
    "df.drop('new', axis=1)\t\n",
    "\n",
    "# axis=0 corresponde a linhas\n",
    "# axis=1 corresponde a colunas"
   ]
  },
  {
   "cell_type": "markdown",
   "id": "8c36fb07-831a-458d-a081-971e75e02e2b",
   "metadata": {},
   "source": [
    "O comando: _df.drop('new', axis=1)_ diz para o Pandas apagar a coluna que tem o nome 'new'. Porém, ele trabalha com o 'como seria' se for feito dessa maneira.\n",
    "\n",
    "Se eu for acessar novamente esse dataframe, a coluna 'new' ainda estará lá:"
   ]
  },
  {
   "cell_type": "code",
   "execution_count": 51,
   "id": "8773450e-54c0-482a-a3ef-35fd4735da46",
   "metadata": {},
   "outputs": [
    {
     "data": {
      "text/html": [
       "<div>\n",
       "<style scoped>\n",
       "    .dataframe tbody tr th:only-of-type {\n",
       "        vertical-align: middle;\n",
       "    }\n",
       "\n",
       "    .dataframe tbody tr th {\n",
       "        vertical-align: top;\n",
       "    }\n",
       "\n",
       "    .dataframe thead th {\n",
       "        text-align: right;\n",
       "    }\n",
       "</style>\n",
       "<table border=\"1\" class=\"dataframe\">\n",
       "  <thead>\n",
       "    <tr style=\"text-align: right;\">\n",
       "      <th></th>\n",
       "      <th>Nome</th>\n",
       "      <th>Idade</th>\n",
       "      <th>Cidade</th>\n",
       "      <th>new</th>\n",
       "    </tr>\n",
       "  </thead>\n",
       "  <tbody>\n",
       "    <tr>\n",
       "      <th>0</th>\n",
       "      <td>Ana</td>\n",
       "      <td>25</td>\n",
       "      <td>São Paulo</td>\n",
       "      <td>25</td>\n",
       "    </tr>\n",
       "    <tr>\n",
       "      <th>1</th>\n",
       "      <td>Bruno</td>\n",
       "      <td>30</td>\n",
       "      <td>Rio de Janeiro</td>\n",
       "      <td>30</td>\n",
       "    </tr>\n",
       "    <tr>\n",
       "      <th>2</th>\n",
       "      <td>Carlos</td>\n",
       "      <td>35</td>\n",
       "      <td>Belo Horizonte</td>\n",
       "      <td>35</td>\n",
       "    </tr>\n",
       "  </tbody>\n",
       "</table>\n",
       "</div>"
      ],
      "text/plain": [
       "     Nome  Idade          Cidade  new\n",
       "0     Ana     25       São Paulo   25\n",
       "1   Bruno     30  Rio de Janeiro   30\n",
       "2  Carlos     35  Belo Horizonte   35"
      ]
     },
     "execution_count": 51,
     "metadata": {},
     "output_type": "execute_result"
    }
   ],
   "source": [
    "df"
   ]
  },
  {
   "cell_type": "markdown",
   "id": "601634be-315e-4f57-a366-74c3e4a8be07",
   "metadata": {},
   "source": [
    "Então, como eu apago definitivamente a coluna?\n",
    "\n",
    "Existem diversas maneiras, uma delas é salvar em um novo DataFrame:"
   ]
  },
  {
   "cell_type": "code",
   "execution_count": 52,
   "id": "dc81b425-e6ba-4c05-9e07-402c239669c5",
   "metadata": {},
   "outputs": [
    {
     "data": {
      "text/html": [
       "<div>\n",
       "<style scoped>\n",
       "    .dataframe tbody tr th:only-of-type {\n",
       "        vertical-align: middle;\n",
       "    }\n",
       "\n",
       "    .dataframe tbody tr th {\n",
       "        vertical-align: top;\n",
       "    }\n",
       "\n",
       "    .dataframe thead th {\n",
       "        text-align: right;\n",
       "    }\n",
       "</style>\n",
       "<table border=\"1\" class=\"dataframe\">\n",
       "  <thead>\n",
       "    <tr style=\"text-align: right;\">\n",
       "      <th></th>\n",
       "      <th>Nome</th>\n",
       "      <th>Idade</th>\n",
       "      <th>Cidade</th>\n",
       "    </tr>\n",
       "  </thead>\n",
       "  <tbody>\n",
       "    <tr>\n",
       "      <th>0</th>\n",
       "      <td>Ana</td>\n",
       "      <td>25</td>\n",
       "      <td>São Paulo</td>\n",
       "    </tr>\n",
       "    <tr>\n",
       "      <th>1</th>\n",
       "      <td>Bruno</td>\n",
       "      <td>30</td>\n",
       "      <td>Rio de Janeiro</td>\n",
       "    </tr>\n",
       "    <tr>\n",
       "      <th>2</th>\n",
       "      <td>Carlos</td>\n",
       "      <td>35</td>\n",
       "      <td>Belo Horizonte</td>\n",
       "    </tr>\n",
       "  </tbody>\n",
       "</table>\n",
       "</div>"
      ],
      "text/plain": [
       "     Nome  Idade          Cidade\n",
       "0     Ana     25       São Paulo\n",
       "1   Bruno     30  Rio de Janeiro\n",
       "2  Carlos     35  Belo Horizonte"
      ]
     },
     "execution_count": 52,
     "metadata": {},
     "output_type": "execute_result"
    }
   ],
   "source": [
    "df3 = df.drop('new', axis=1)\n",
    "df3"
   ]
  },
  {
   "cell_type": "markdown",
   "id": "ff077572-a09e-4319-997a-f25e09a6cb75",
   "metadata": {},
   "source": [
    "Ou então, utilizar a flag da própria função que permite fazer isso:"
   ]
  },
  {
   "cell_type": "code",
   "execution_count": 56,
   "id": "f1272a6b-1e3d-4aeb-8912-8c964bf57cd2",
   "metadata": {},
   "outputs": [],
   "source": [
    "df.drop('new', axis=1, inplace=True) # Está dizendo que quero deletar do DataFrame Original sem cópias"
   ]
  },
  {
   "cell_type": "code",
   "execution_count": 57,
   "id": "40e0ea2b-693f-44da-b8f8-bd533ba31e90",
   "metadata": {},
   "outputs": [
    {
     "data": {
      "text/html": [
       "<div>\n",
       "<style scoped>\n",
       "    .dataframe tbody tr th:only-of-type {\n",
       "        vertical-align: middle;\n",
       "    }\n",
       "\n",
       "    .dataframe tbody tr th {\n",
       "        vertical-align: top;\n",
       "    }\n",
       "\n",
       "    .dataframe thead th {\n",
       "        text-align: right;\n",
       "    }\n",
       "</style>\n",
       "<table border=\"1\" class=\"dataframe\">\n",
       "  <thead>\n",
       "    <tr style=\"text-align: right;\">\n",
       "      <th></th>\n",
       "      <th>Nome</th>\n",
       "      <th>Idade</th>\n",
       "      <th>Cidade</th>\n",
       "    </tr>\n",
       "  </thead>\n",
       "  <tbody>\n",
       "    <tr>\n",
       "      <th>0</th>\n",
       "      <td>Ana</td>\n",
       "      <td>25</td>\n",
       "      <td>São Paulo</td>\n",
       "    </tr>\n",
       "    <tr>\n",
       "      <th>1</th>\n",
       "      <td>Bruno</td>\n",
       "      <td>30</td>\n",
       "      <td>Rio de Janeiro</td>\n",
       "    </tr>\n",
       "    <tr>\n",
       "      <th>2</th>\n",
       "      <td>Carlos</td>\n",
       "      <td>35</td>\n",
       "      <td>Belo Horizonte</td>\n",
       "    </tr>\n",
       "  </tbody>\n",
       "</table>\n",
       "</div>"
      ],
      "text/plain": [
       "     Nome  Idade          Cidade\n",
       "0     Ana     25       São Paulo\n",
       "1   Bruno     30  Rio de Janeiro\n",
       "2  Carlos     35  Belo Horizonte"
      ]
     },
     "execution_count": 57,
     "metadata": {},
     "output_type": "execute_result"
    }
   ],
   "source": [
    "df"
   ]
  },
  {
   "cell_type": "markdown",
   "id": "fecad898-72a6-4981-938e-2fd86e2cd2fd",
   "metadata": {},
   "source": [
    "### 🔍 Principais operações com DataFrame:"
   ]
  },
  {
   "cell_type": "markdown",
   "id": "a58579f0-a796-4f7b-ad5a-f44a391597ad",
   "metadata": {},
   "source": [
    "| Comando                | O que faz                                      | Exemplo                             |\n",
    "| ---------------------- | ---------------------------------------------- | ----------------------------------- |\n",
    "| `.head()`              | Mostra as 5 primeiras linhas                   | `df.head()`                         |\n",
    "| `.tail()`              | Mostra as 5 últimas linhas                     | `df.tail()`                         |\n",
    "| `.shape`               | Retorna (linhas, colunas)                      | `df.shape`                          |\n",
    "| `.columns`             | Mostra os nomes das colunas                    | `df.columns`                        |\n",
    "| `.index`               | Mostra os índices                              | `df.index`                          |\n",
    "| Acessar uma coluna     | Retorna uma Series                             | `df['Nome']`                        |\n",
    "| Acessar várias colunas | Retorna outro DataFrame com colunas escolhidas | `df[['Nome', 'Idade']]`             |\n",
    "| Acessar uma linha      | Retorna uma linha específica                   | `df.loc[0]`                         |\n",
    "| Filtrar linhas         | Retorna linhas com condição lógica             | `df[df['Idade'] > 25]`              |\n",
    "| Adicionar coluna       | Cria uma nova coluna                           | `df['Altura'] = [1.65, 1.80, 1.70]` |\n",
    "| Remover coluna         | Remove uma coluna                              | `df.drop('Cidade', axis=1)`         |\n",
    "| Ordenar por coluna     | Ordena as linhas                               | `df.sort_values('Idade')`           |\n"
   ]
  },
  {
   "cell_type": "markdown",
   "id": "9b0170f5-e9b4-426e-b21c-3110e14136a4",
   "metadata": {},
   "source": [
    "### 📝 Exemplo completo:"
   ]
  },
  {
   "cell_type": "code",
   "execution_count": 4,
   "id": "6a80eed2-e10f-4604-bef9-ef912a5c5756",
   "metadata": {},
   "outputs": [
    {
     "name": "stdout",
     "output_type": "stream",
     "text": [
      "DataFrame completo:\n",
      "     Nome  Idade          Cidade\n",
      "0    Ana     25       São Paulo\n",
      "1  Bruno     30  Rio de Janeiro\n",
      "2  Carla     22        Curitiba\n",
      "----------------------------------------\n",
      "\n",
      "Somente a coluna Nome:\n",
      " 0      Ana\n",
      "1    Bruno\n",
      "2    Carla\n",
      "Name: Nome, dtype: object\n",
      "----------------------------------------\n",
      "\n",
      "Somente as duas primeiras linhas:\n",
      "     Nome  Idade          Cidade\n",
      "0    Ana     25       São Paulo\n",
      "1  Bruno     30  Rio de Janeiro\n",
      "----------------------------------------\n",
      "\n",
      "Filtrando quem tem Idade maior que 23 anos:\n",
      "     Nome  Idade          Cidade\n",
      "0    Ana     25       São Paulo\n",
      "1  Bruno     30  Rio de Janeiro\n",
      "----------------------------------------\n",
      "\n",
      "DataFrame ordenado pela Idade:\n",
      "     Nome  Idade          Cidade\n",
      "2  Carla     22        Curitiba\n",
      "0    Ana     25       São Paulo\n",
      "1  Bruno     30  Rio de Janeiro\n",
      "----------------------------------------\n"
     ]
    }
   ],
   "source": [
    "dados2 = {\n",
    "    'Nome': ['Ana', 'Bruno', 'Carla'],\n",
    "    'Idade': [25, 30, 22],\n",
    "    'Cidade': ['São Paulo', 'Rio de Janeiro', 'Curitiba']\n",
    "}\n",
    "\n",
    "df_dados2 = pd.DataFrame(dados2)\n",
    "\n",
    "print(\"DataFrame completo:\\n\", df_dados2)\n",
    "print(\"----------------------------------------\")\n",
    "print(\"\\nSomente a coluna Nome:\\n\", df_dados2['Nome'])\n",
    "print(\"----------------------------------------\")\n",
    "print(\"\\nSomente as duas primeiras linhas:\\n\", df_dados2.head(2))\n",
    "print(\"----------------------------------------\")\n",
    "print(\"\\nFiltrando quem tem Idade maior que 23 anos:\\n\", df_dados2[df_dados2['Idade'] > 23])\n",
    "print(\"----------------------------------------\")\n",
    "print(\"\\nDataFrame ordenado pela Idade:\\n\", df_dados2.sort_values('Idade'))\n",
    "print(\"----------------------------------------\")\n"
   ]
  },
  {
   "cell_type": "markdown",
   "id": "bff35d15-8bb5-44ff-b88d-dca5101542a5",
   "metadata": {},
   "source": [
    "____"
   ]
  },
  {
   "cell_type": "markdown",
   "id": "97171f2b-f017-409a-865b-1a236aa4d0f9",
   "metadata": {},
   "source": [
    "# 1.4. Acessando o indice do DataFrame (iloc[]) e Filtros\n",
    "\n",
    "### O que é .iloc[]?\n",
    ".iloc[] é usado para selecionar linhas e colunas pelo número da posição (índice inteiro). Significa: \"integer-location based indexing\".\n",
    "\n",
    "Ou seja: você não usa o nome da coluna ou do índice personalizado — usa apenas números (0, 1, 2, ...).\n"
   ]
  },
  {
   "cell_type": "code",
   "execution_count": 5,
   "id": "da28836a-092e-4bcd-83e0-b1fe95d09ca6",
   "metadata": {},
   "outputs": [
    {
     "data": {
      "text/html": [
       "<div>\n",
       "<style scoped>\n",
       "    .dataframe tbody tr th:only-of-type {\n",
       "        vertical-align: middle;\n",
       "    }\n",
       "\n",
       "    .dataframe tbody tr th {\n",
       "        vertical-align: top;\n",
       "    }\n",
       "\n",
       "    .dataframe thead th {\n",
       "        text-align: right;\n",
       "    }\n",
       "</style>\n",
       "<table border=\"1\" class=\"dataframe\">\n",
       "  <thead>\n",
       "    <tr style=\"text-align: right;\">\n",
       "      <th></th>\n",
       "      <th>Nome</th>\n",
       "      <th>Idade</th>\n",
       "      <th>Cidade</th>\n",
       "    </tr>\n",
       "  </thead>\n",
       "  <tbody>\n",
       "    <tr>\n",
       "      <th>0</th>\n",
       "      <td>Ana</td>\n",
       "      <td>25</td>\n",
       "      <td>São Paulo</td>\n",
       "    </tr>\n",
       "    <tr>\n",
       "      <th>1</th>\n",
       "      <td>Bruno</td>\n",
       "      <td>30</td>\n",
       "      <td>Rio de Janeiro</td>\n",
       "    </tr>\n",
       "    <tr>\n",
       "      <th>2</th>\n",
       "      <td>Carla</td>\n",
       "      <td>22</td>\n",
       "      <td>Curitiba</td>\n",
       "    </tr>\n",
       "  </tbody>\n",
       "</table>\n",
       "</div>"
      ],
      "text/plain": [
       "    Nome  Idade          Cidade\n",
       "0    Ana     25       São Paulo\n",
       "1  Bruno     30  Rio de Janeiro\n",
       "2  Carla     22        Curitiba"
      ]
     },
     "execution_count": 5,
     "metadata": {},
     "output_type": "execute_result"
    }
   ],
   "source": [
    "# Vamos utilizar o dataFrame anterior: dados2\n",
    "df_dados2"
   ]
  },
  {
   "cell_type": "markdown",
   "id": "cd1f5d48-e324-41e3-a13f-171efb5e4836",
   "metadata": {},
   "source": [
    "## 1.4.1. Utilizando o *iloc*:\n",
    "\n",
    "**Atenção**: O índice começa do zero, e como consequencia o fatiamento é igual ao range() do Python, por exemplo:\n",
    "\n",
    "Dado os seguintes valores: (5, 2, 6, 8). Faça um fatiamento de (0, 2).\n",
    "\n",
    "Resultado: _(5, 2)_\n",
    "\n",
    "\n",
    "**Quando usar .iloc[]?**\n",
    "- ✔️ Quando você quer selecionar pelo número da posição da linha/coluna, e não pelo nome.\n",
    "- ✔️ Muito útil em laços, funções ou manipulações onde não sabe o nome da coluna.\n",
    "\n",
    "___\n",
    "\n",
    "### 1. Selecionar uma linha especifica:"
   ]
  },
  {
   "cell_type": "code",
   "execution_count": 16,
   "id": "5f1e6484-29d3-4811-98ed-7a19696b9390",
   "metadata": {},
   "outputs": [
    {
     "data": {
      "text/plain": [
       "Nome            Ana\n",
       "Idade            25\n",
       "Cidade    São Paulo\n",
       "Name: 0, dtype: object"
      ]
     },
     "execution_count": 16,
     "metadata": {},
     "output_type": "execute_result"
    }
   ],
   "source": [
    "df.iloc[0]\n",
    "# Vai selecionar a primeira linha do dataFrame"
   ]
  },
  {
   "cell_type": "markdown",
   "id": "918b228d-dbf3-46b7-a4be-52dbb8af6685",
   "metadata": {},
   "source": [
    "### 2. Selecionar uma célula específica (linha, coluna):"
   ]
  },
  {
   "cell_type": "code",
   "execution_count": 19,
   "id": "b4b34268-d673-4ed6-a859-7a8a3610c54e",
   "metadata": {},
   "outputs": [
    {
     "data": {
      "text/plain": [
       "np.int64(25)"
      ]
     },
     "execution_count": 19,
     "metadata": {},
     "output_type": "execute_result"
    }
   ],
   "source": [
    "df.iloc[0, 1] # Primeira linha, segunda coluna\n",
    "\n",
    "# O resultado será a idade de Ana, 25"
   ]
  },
  {
   "cell_type": "markdown",
   "id": "3e5ef189-1713-4fff-97d5-99f79c494233",
   "metadata": {},
   "source": [
    "### 3. Selecionar um intervalo de linhas (slice):"
   ]
  },
  {
   "cell_type": "code",
   "execution_count": 23,
   "id": "f1b7f071-2965-4bc0-913d-3b34c91acd25",
   "metadata": {},
   "outputs": [
    {
     "data": {
      "text/html": [
       "<div>\n",
       "<style scoped>\n",
       "    .dataframe tbody tr th:only-of-type {\n",
       "        vertical-align: middle;\n",
       "    }\n",
       "\n",
       "    .dataframe tbody tr th {\n",
       "        vertical-align: top;\n",
       "    }\n",
       "\n",
       "    .dataframe thead th {\n",
       "        text-align: right;\n",
       "    }\n",
       "</style>\n",
       "<table border=\"1\" class=\"dataframe\">\n",
       "  <thead>\n",
       "    <tr style=\"text-align: right;\">\n",
       "      <th></th>\n",
       "      <th>Nome</th>\n",
       "      <th>Idade</th>\n",
       "      <th>Cidade</th>\n",
       "    </tr>\n",
       "  </thead>\n",
       "  <tbody>\n",
       "    <tr>\n",
       "      <th>0</th>\n",
       "      <td>Ana</td>\n",
       "      <td>25</td>\n",
       "      <td>São Paulo</td>\n",
       "    </tr>\n",
       "    <tr>\n",
       "      <th>1</th>\n",
       "      <td>Bruno</td>\n",
       "      <td>30</td>\n",
       "      <td>Rio de Janeiro</td>\n",
       "    </tr>\n",
       "  </tbody>\n",
       "</table>\n",
       "</div>"
      ],
      "text/plain": [
       "    Nome  Idade          Cidade\n",
       "0    Ana     25       São Paulo\n",
       "1  Bruno     30  Rio de Janeiro"
      ]
     },
     "execution_count": 23,
     "metadata": {},
     "output_type": "execute_result"
    }
   ],
   "source": [
    "df.iloc[0:2] # Vai retornar as duas primeiras linhas"
   ]
  },
  {
   "cell_type": "markdown",
   "id": "c1d916cb-6870-4627-8e94-742617f60d42",
   "metadata": {},
   "source": [
    "### 4. Selecionar uma coluna específica (todas as linhas, coluna 0):\n"
   ]
  },
  {
   "cell_type": "code",
   "execution_count": 25,
   "id": "6e25d145-7cbc-4699-83c4-3e713052648e",
   "metadata": {},
   "outputs": [
    {
     "data": {
      "text/plain": [
       "0      Ana\n",
       "1    Bruno\n",
       "2    Carla\n",
       "Name: Nome, dtype: object"
      ]
     },
     "execution_count": 25,
     "metadata": {},
     "output_type": "execute_result"
    }
   ],
   "source": [
    "df.iloc[:, 0] # Retorna a coluna 'Nome' e todas as linhas da coluna"
   ]
  },
  {
   "cell_type": "markdown",
   "id": "3dcabe93-2f1c-47e4-9756-718b6f1da9a8",
   "metadata": {},
   "source": [
    "### 5. Selecionar um \"pedaço\" específico:"
   ]
  },
  {
   "cell_type": "code",
   "execution_count": 27,
   "id": "b2179b17-d1b8-4d50-9246-1d7535604792",
   "metadata": {},
   "outputs": [
    {
     "data": {
      "text/html": [
       "<div>\n",
       "<style scoped>\n",
       "    .dataframe tbody tr th:only-of-type {\n",
       "        vertical-align: middle;\n",
       "    }\n",
       "\n",
       "    .dataframe tbody tr th {\n",
       "        vertical-align: top;\n",
       "    }\n",
       "\n",
       "    .dataframe thead th {\n",
       "        text-align: right;\n",
       "    }\n",
       "</style>\n",
       "<table border=\"1\" class=\"dataframe\">\n",
       "  <thead>\n",
       "    <tr style=\"text-align: right;\">\n",
       "      <th></th>\n",
       "      <th>Nome</th>\n",
       "      <th>Idade</th>\n",
       "    </tr>\n",
       "  </thead>\n",
       "  <tbody>\n",
       "    <tr>\n",
       "      <th>0</th>\n",
       "      <td>Ana</td>\n",
       "      <td>25</td>\n",
       "    </tr>\n",
       "    <tr>\n",
       "      <th>1</th>\n",
       "      <td>Bruno</td>\n",
       "      <td>30</td>\n",
       "    </tr>\n",
       "  </tbody>\n",
       "</table>\n",
       "</div>"
      ],
      "text/plain": [
       "    Nome  Idade\n",
       "0    Ana     25\n",
       "1  Bruno     30"
      ]
     },
     "execution_count": 27,
     "metadata": {},
     "output_type": "execute_result"
    }
   ],
   "source": [
    "df.iloc[0:2, 0:2]    # Linhas 0 e 1, Colunas 0 e 1"
   ]
  },
  {
   "cell_type": "markdown",
   "id": "b73366f4-75d9-4b61-9159-ee4419170501",
   "metadata": {},
   "source": [
    "\n",
    "### 📌 Diferença entre .loc[] e .iloc[]:\n",
    "\n",
    "| Método    | Baseado em...        | Exemplo             |\n",
    "| --------- | -------------------- | ------------------- |\n",
    "| `.loc[]`  | **Nome** (label)     | `df.loc[0, 'Nome']` |\n",
    "| `.iloc[]` | **Posição (número)** | `df.iloc[0, 0]`     |\n"
   ]
  },
  {
   "cell_type": "markdown",
   "id": "0dc04f9a-a315-4987-b8bf-2dcd4c9a348e",
   "metadata": {},
   "source": [
    "### 1.4.2. Filtros:\n",
    " \n",
    "#### O que é um Filtro no Pandas?\n",
    "Filtrar um DataFrame significa selecionar linhas que atendem a uma condição específica.\n",
    "Saber fazer filtros em DataFrames é uma das habilidades mais importantes em Pandas — e a maioria das análises de dados começa por aqui.\n",
    "\n",
    "Por exemplo:\n",
    "- Quero ver só as pessoas com idade maior que 25.\n",
    "- Quero ver quem mora em \"São Paulo\"."
   ]
  },
  {
   "cell_type": "code",
   "execution_count": 47,
   "id": "a190ad1c-4662-4a84-98f0-0777caf3f50b",
   "metadata": {},
   "outputs": [
    {
     "data": {
      "text/html": [
       "<div>\n",
       "<style scoped>\n",
       "    .dataframe tbody tr th:only-of-type {\n",
       "        vertical-align: middle;\n",
       "    }\n",
       "\n",
       "    .dataframe tbody tr th {\n",
       "        vertical-align: top;\n",
       "    }\n",
       "\n",
       "    .dataframe thead th {\n",
       "        text-align: right;\n",
       "    }\n",
       "</style>\n",
       "<table border=\"1\" class=\"dataframe\">\n",
       "  <thead>\n",
       "    <tr style=\"text-align: right;\">\n",
       "      <th></th>\n",
       "      <th>Nome</th>\n",
       "      <th>Idade</th>\n",
       "      <th>Cidade</th>\n",
       "    </tr>\n",
       "  </thead>\n",
       "  <tbody>\n",
       "    <tr>\n",
       "      <th>0</th>\n",
       "      <td>Ana</td>\n",
       "      <td>25</td>\n",
       "      <td>São Paulo</td>\n",
       "    </tr>\n",
       "    <tr>\n",
       "      <th>1</th>\n",
       "      <td>Bruno</td>\n",
       "      <td>30</td>\n",
       "      <td>Rio de Janeiro</td>\n",
       "    </tr>\n",
       "    <tr>\n",
       "      <th>2</th>\n",
       "      <td>Carla</td>\n",
       "      <td>22</td>\n",
       "      <td>Curitiba</td>\n",
       "    </tr>\n",
       "    <tr>\n",
       "      <th>3</th>\n",
       "      <td>Daniel</td>\n",
       "      <td>28</td>\n",
       "      <td>São Paulo</td>\n",
       "    </tr>\n",
       "  </tbody>\n",
       "</table>\n",
       "</div>"
      ],
      "text/plain": [
       "     Nome  Idade          Cidade\n",
       "0     Ana     25       São Paulo\n",
       "1   Bruno     30  Rio de Janeiro\n",
       "2   Carla     22        Curitiba\n",
       "3  Daniel     28       São Paulo"
      ]
     },
     "execution_count": 47,
     "metadata": {},
     "output_type": "execute_result"
    }
   ],
   "source": [
    "dados3 = {\n",
    "    'Nome': ['Ana', 'Bruno', 'Carla', 'Daniel'],\n",
    "    'Idade': [25, 30, 22, 28],\n",
    "    'Cidade': ['São Paulo', 'Rio de Janeiro', 'Curitiba', 'São Paulo']\n",
    "}\n",
    "\n",
    "df3 = pd.DataFrame(dados3)\n",
    "df3"
   ]
  },
  {
   "cell_type": "markdown",
   "id": "040e882f-60cd-4bbd-8cf3-c87851ea50b2",
   "metadata": {},
   "source": [
    "### Como fazer filtros?\n",
    "\n",
    "#### 1. Filtro simples (condição única)"
   ]
  },
  {
   "cell_type": "code",
   "execution_count": 12,
   "id": "a3c2e139-86ee-43c3-8b46-14c77cc1b268",
   "metadata": {},
   "outputs": [
    {
     "data": {
      "text/html": [
       "<div>\n",
       "<style scoped>\n",
       "    .dataframe tbody tr th:only-of-type {\n",
       "        vertical-align: middle;\n",
       "    }\n",
       "\n",
       "    .dataframe tbody tr th {\n",
       "        vertical-align: top;\n",
       "    }\n",
       "\n",
       "    .dataframe thead th {\n",
       "        text-align: right;\n",
       "    }\n",
       "</style>\n",
       "<table border=\"1\" class=\"dataframe\">\n",
       "  <thead>\n",
       "    <tr style=\"text-align: right;\">\n",
       "      <th></th>\n",
       "      <th>Nome</th>\n",
       "      <th>Idade</th>\n",
       "      <th>Cidade</th>\n",
       "    </tr>\n",
       "  </thead>\n",
       "  <tbody>\n",
       "    <tr>\n",
       "      <th>1</th>\n",
       "      <td>Bruno</td>\n",
       "      <td>30</td>\n",
       "      <td>Rio de Janeiro</td>\n",
       "    </tr>\n",
       "    <tr>\n",
       "      <th>3</th>\n",
       "      <td>Daniel</td>\n",
       "      <td>28</td>\n",
       "      <td>São Paulo</td>\n",
       "    </tr>\n",
       "  </tbody>\n",
       "</table>\n",
       "</div>"
      ],
      "text/plain": [
       "     Nome  Idade          Cidade\n",
       "1   Bruno     30  Rio de Janeiro\n",
       "3  Daniel     28       São Paulo"
      ]
     },
     "execution_count": 12,
     "metadata": {},
     "output_type": "execute_result"
    }
   ],
   "source": [
    "# Quero apenas as colunas que tenham idade maior que 25 anos\n",
    "df3[df3['Idade'] > 25]"
   ]
  },
  {
   "cell_type": "markdown",
   "id": "3ed5a559-5e18-4322-945c-4d6580771ce9",
   "metadata": {},
   "source": [
    "#### 2. Filtro com Igualdade: "
   ]
  },
  {
   "cell_type": "code",
   "execution_count": 14,
   "id": "8b826ca4-3807-4865-83ab-3f0673929e0c",
   "metadata": {},
   "outputs": [
    {
     "data": {
      "text/html": [
       "<div>\n",
       "<style scoped>\n",
       "    .dataframe tbody tr th:only-of-type {\n",
       "        vertical-align: middle;\n",
       "    }\n",
       "\n",
       "    .dataframe tbody tr th {\n",
       "        vertical-align: top;\n",
       "    }\n",
       "\n",
       "    .dataframe thead th {\n",
       "        text-align: right;\n",
       "    }\n",
       "</style>\n",
       "<table border=\"1\" class=\"dataframe\">\n",
       "  <thead>\n",
       "    <tr style=\"text-align: right;\">\n",
       "      <th></th>\n",
       "      <th>Nome</th>\n",
       "      <th>Idade</th>\n",
       "      <th>Cidade</th>\n",
       "    </tr>\n",
       "  </thead>\n",
       "  <tbody>\n",
       "    <tr>\n",
       "      <th>0</th>\n",
       "      <td>Ana</td>\n",
       "      <td>25</td>\n",
       "      <td>São Paulo</td>\n",
       "    </tr>\n",
       "    <tr>\n",
       "      <th>3</th>\n",
       "      <td>Daniel</td>\n",
       "      <td>28</td>\n",
       "      <td>São Paulo</td>\n",
       "    </tr>\n",
       "  </tbody>\n",
       "</table>\n",
       "</div>"
      ],
      "text/plain": [
       "     Nome  Idade     Cidade\n",
       "0     Ana     25  São Paulo\n",
       "3  Daniel     28  São Paulo"
      ]
     },
     "execution_count": 14,
     "metadata": {},
     "output_type": "execute_result"
    }
   ],
   "source": [
    "# Mostre só quem mora em São Paulo:\n",
    "df3[df3['Cidade'] == 'São Paulo']"
   ]
  },
  {
   "cell_type": "markdown",
   "id": "2a7076bd-618e-4283-a809-2219134a55a7",
   "metadata": {},
   "source": [
    "#### 3. Filtro com múltiplas condições (AND):"
   ]
  },
  {
   "cell_type": "code",
   "execution_count": 18,
   "id": "44fe5b41-35d4-4791-a673-b7a49250b7f4",
   "metadata": {},
   "outputs": [
    {
     "data": {
      "text/html": [
       "<div>\n",
       "<style scoped>\n",
       "    .dataframe tbody tr th:only-of-type {\n",
       "        vertical-align: middle;\n",
       "    }\n",
       "\n",
       "    .dataframe tbody tr th {\n",
       "        vertical-align: top;\n",
       "    }\n",
       "\n",
       "    .dataframe thead th {\n",
       "        text-align: right;\n",
       "    }\n",
       "</style>\n",
       "<table border=\"1\" class=\"dataframe\">\n",
       "  <thead>\n",
       "    <tr style=\"text-align: right;\">\n",
       "      <th></th>\n",
       "      <th>Nome</th>\n",
       "      <th>Idade</th>\n",
       "      <th>Cidade</th>\n",
       "    </tr>\n",
       "  </thead>\n",
       "  <tbody>\n",
       "    <tr>\n",
       "      <th>3</th>\n",
       "      <td>Daniel</td>\n",
       "      <td>28</td>\n",
       "      <td>São Paulo</td>\n",
       "    </tr>\n",
       "  </tbody>\n",
       "</table>\n",
       "</div>"
      ],
      "text/plain": [
       "     Nome  Idade     Cidade\n",
       "3  Daniel     28  São Paulo"
      ]
     },
     "execution_count": 18,
     "metadata": {},
     "output_type": "execute_result"
    }
   ],
   "source": [
    "# Quem tem mais de 25 anos e mora em São Paulo:\n",
    "df3[(df3['Idade'] > 25) & (df3['Cidade'] == 'São Paulo')]"
   ]
  },
  {
   "cell_type": "markdown",
   "id": "0ed6e976-43e7-492e-9147-c3776fd73d32",
   "metadata": {},
   "source": [
    "#### 4. Filtros com múltiplas condições (OR):"
   ]
  },
  {
   "cell_type": "code",
   "execution_count": 19,
   "id": "0af8099a-48ff-4d97-9603-15a3698bc846",
   "metadata": {},
   "outputs": [
    {
     "data": {
      "text/html": [
       "<div>\n",
       "<style scoped>\n",
       "    .dataframe tbody tr th:only-of-type {\n",
       "        vertical-align: middle;\n",
       "    }\n",
       "\n",
       "    .dataframe tbody tr th {\n",
       "        vertical-align: top;\n",
       "    }\n",
       "\n",
       "    .dataframe thead th {\n",
       "        text-align: right;\n",
       "    }\n",
       "</style>\n",
       "<table border=\"1\" class=\"dataframe\">\n",
       "  <thead>\n",
       "    <tr style=\"text-align: right;\">\n",
       "      <th></th>\n",
       "      <th>Nome</th>\n",
       "      <th>Idade</th>\n",
       "      <th>Cidade</th>\n",
       "    </tr>\n",
       "  </thead>\n",
       "  <tbody>\n",
       "    <tr>\n",
       "      <th>0</th>\n",
       "      <td>Ana</td>\n",
       "      <td>25</td>\n",
       "      <td>São Paulo</td>\n",
       "    </tr>\n",
       "    <tr>\n",
       "      <th>2</th>\n",
       "      <td>Carla</td>\n",
       "      <td>22</td>\n",
       "      <td>Curitiba</td>\n",
       "    </tr>\n",
       "    <tr>\n",
       "      <th>3</th>\n",
       "      <td>Daniel</td>\n",
       "      <td>28</td>\n",
       "      <td>São Paulo</td>\n",
       "    </tr>\n",
       "  </tbody>\n",
       "</table>\n",
       "</div>"
      ],
      "text/plain": [
       "     Nome  Idade     Cidade\n",
       "0     Ana     25  São Paulo\n",
       "2   Carla     22   Curitiba\n",
       "3  Daniel     28  São Paulo"
      ]
     },
     "execution_count": 19,
     "metadata": {},
     "output_type": "execute_result"
    }
   ],
   "source": [
    "# Quem mora em Curitiba ou São Paulo:\n",
    "df3[(df3['Cidade'] == 'Curitiba') | (df3['Cidade'] == 'São Paulo')]"
   ]
  },
  {
   "cell_type": "markdown",
   "id": "5069d10b-fa77-457e-9bc5-b56ab5ba5676",
   "metadata": {},
   "source": [
    "#### 5. Filtro com isin() (valor está em uma lista):\n"
   ]
  },
  {
   "cell_type": "code",
   "execution_count": 23,
   "id": "dff088c1-3e4b-4a93-8ffe-755e2ca0184a",
   "metadata": {},
   "outputs": [
    {
     "data": {
      "text/html": [
       "<div>\n",
       "<style scoped>\n",
       "    .dataframe tbody tr th:only-of-type {\n",
       "        vertical-align: middle;\n",
       "    }\n",
       "\n",
       "    .dataframe tbody tr th {\n",
       "        vertical-align: top;\n",
       "    }\n",
       "\n",
       "    .dataframe thead th {\n",
       "        text-align: right;\n",
       "    }\n",
       "</style>\n",
       "<table border=\"1\" class=\"dataframe\">\n",
       "  <thead>\n",
       "    <tr style=\"text-align: right;\">\n",
       "      <th></th>\n",
       "      <th>Nome</th>\n",
       "      <th>Idade</th>\n",
       "      <th>Cidade</th>\n",
       "    </tr>\n",
       "  </thead>\n",
       "  <tbody>\n",
       "    <tr>\n",
       "      <th>1</th>\n",
       "      <td>Bruno</td>\n",
       "      <td>30</td>\n",
       "      <td>Rio de Janeiro</td>\n",
       "    </tr>\n",
       "    <tr>\n",
       "      <th>2</th>\n",
       "      <td>Carla</td>\n",
       "      <td>22</td>\n",
       "      <td>Curitiba</td>\n",
       "    </tr>\n",
       "  </tbody>\n",
       "</table>\n",
       "</div>"
      ],
      "text/plain": [
       "    Nome  Idade          Cidade\n",
       "1  Bruno     30  Rio de Janeiro\n",
       "2  Carla     22        Curitiba"
      ]
     },
     "execution_count": 23,
     "metadata": {},
     "output_type": "execute_result"
    }
   ],
   "source": [
    "# Quem mora em Curitiba ou Rio de Janeiro:\n",
    "df3[df3['Cidade'].isin(['Curitiba', 'Rio de Janeiro'])]"
   ]
  },
  {
   "cell_type": "markdown",
   "id": "b5a55e61-d92b-4e23-ab1d-226aee67318e",
   "metadata": {},
   "source": [
    "#### 6. Filtro com not(~):"
   ]
  },
  {
   "cell_type": "code",
   "execution_count": 26,
   "id": "20651487-2570-4f0b-a25c-6383389ed777",
   "metadata": {},
   "outputs": [
    {
     "data": {
      "text/html": [
       "<div>\n",
       "<style scoped>\n",
       "    .dataframe tbody tr th:only-of-type {\n",
       "        vertical-align: middle;\n",
       "    }\n",
       "\n",
       "    .dataframe tbody tr th {\n",
       "        vertical-align: top;\n",
       "    }\n",
       "\n",
       "    .dataframe thead th {\n",
       "        text-align: right;\n",
       "    }\n",
       "</style>\n",
       "<table border=\"1\" class=\"dataframe\">\n",
       "  <thead>\n",
       "    <tr style=\"text-align: right;\">\n",
       "      <th></th>\n",
       "      <th>Nome</th>\n",
       "      <th>Idade</th>\n",
       "      <th>Cidade</th>\n",
       "    </tr>\n",
       "  </thead>\n",
       "  <tbody>\n",
       "    <tr>\n",
       "      <th>1</th>\n",
       "      <td>Bruno</td>\n",
       "      <td>30</td>\n",
       "      <td>Rio de Janeiro</td>\n",
       "    </tr>\n",
       "    <tr>\n",
       "      <th>2</th>\n",
       "      <td>Carla</td>\n",
       "      <td>22</td>\n",
       "      <td>Curitiba</td>\n",
       "    </tr>\n",
       "  </tbody>\n",
       "</table>\n",
       "</div>"
      ],
      "text/plain": [
       "    Nome  Idade          Cidade\n",
       "1  Bruno     30  Rio de Janeiro\n",
       "2  Carla     22        Curitiba"
      ]
     },
     "execution_count": 26,
     "metadata": {},
     "output_type": "execute_result"
    }
   ],
   "source": [
    "# Quem não mora em São Paulo\n",
    "df3[~df3['Cidade'].isin(['São Paulo'])]"
   ]
  },
  {
   "cell_type": "markdown",
   "id": "80af891c-8aa3-4042-81d0-ebb1b5dae279",
   "metadata": {},
   "source": [
    "### Dicas importantes:\n",
    "Para combinar condições:\n",
    "- AND: &\n",
    "- OR: |\n",
    "- NOT: ~\n",
    "\n",
    "Sempre coloque parênteses nas condições:"
   ]
  },
  {
   "cell_type": "code",
   "execution_count": 27,
   "id": "bf3bb93f-f423-47c7-bca9-6703e93a8298",
   "metadata": {},
   "outputs": [
    {
     "data": {
      "text/plain": [
       "0    False\n",
       "1    False\n",
       "2    False\n",
       "3     True\n",
       "dtype: bool"
      ]
     },
     "execution_count": 27,
     "metadata": {},
     "output_type": "execute_result"
    }
   ],
   "source": [
    "(df3['Idade'] > 25) & (df3['Cidade'] == 'São Paulo')"
   ]
  },
  {
   "cell_type": "markdown",
   "id": "3563176f-ea4a-4dc1-8ee2-532d7ac5331c",
   "metadata": {},
   "source": [
    ".isin([]) é ótimo para verificar vários valores de uma vez."
   ]
  },
  {
   "cell_type": "markdown",
   "id": "5b06a21e-ed8a-47ff-82cd-73e88124f669",
   "metadata": {},
   "source": [
    "___"
   ]
  },
  {
   "cell_type": "markdown",
   "id": "379a2db0-8dd6-43e0-a8ed-1d37f0584986",
   "metadata": {},
   "source": [
    "# 1.5. Operações com índices\n",
    "\n",
    "### O que é um Índice no Pandas?\n",
    "Em um DataFrame ou Series, o índice é a \"etiqueta\" que identifica cada linha.\n",
    "\n",
    "Ele funciona como o \"endereço\" de cada dado — como se fosse o número da linha em uma tabela do Excel"
   ]
  },
  {
   "cell_type": "code",
   "execution_count": 48,
   "id": "e893601e-c6d7-4881-9ed7-e49e0602d175",
   "metadata": {},
   "outputs": [
    {
     "data": {
      "text/html": [
       "<div>\n",
       "<style scoped>\n",
       "    .dataframe tbody tr th:only-of-type {\n",
       "        vertical-align: middle;\n",
       "    }\n",
       "\n",
       "    .dataframe tbody tr th {\n",
       "        vertical-align: top;\n",
       "    }\n",
       "\n",
       "    .dataframe thead th {\n",
       "        text-align: right;\n",
       "    }\n",
       "</style>\n",
       "<table border=\"1\" class=\"dataframe\">\n",
       "  <thead>\n",
       "    <tr style=\"text-align: right;\">\n",
       "      <th></th>\n",
       "      <th>Nome</th>\n",
       "      <th>Idade</th>\n",
       "      <th>Cidade</th>\n",
       "    </tr>\n",
       "  </thead>\n",
       "  <tbody>\n",
       "    <tr>\n",
       "      <th>0</th>\n",
       "      <td>Ana</td>\n",
       "      <td>25</td>\n",
       "      <td>São Paulo</td>\n",
       "    </tr>\n",
       "    <tr>\n",
       "      <th>1</th>\n",
       "      <td>Bruno</td>\n",
       "      <td>30</td>\n",
       "      <td>Rio de Janeiro</td>\n",
       "    </tr>\n",
       "    <tr>\n",
       "      <th>2</th>\n",
       "      <td>Carla</td>\n",
       "      <td>22</td>\n",
       "      <td>Curitiba</td>\n",
       "    </tr>\n",
       "    <tr>\n",
       "      <th>3</th>\n",
       "      <td>Daniel</td>\n",
       "      <td>28</td>\n",
       "      <td>São Paulo</td>\n",
       "    </tr>\n",
       "  </tbody>\n",
       "</table>\n",
       "</div>"
      ],
      "text/plain": [
       "     Nome  Idade          Cidade\n",
       "0     Ana     25       São Paulo\n",
       "1   Bruno     30  Rio de Janeiro\n",
       "2   Carla     22        Curitiba\n",
       "3  Daniel     28       São Paulo"
      ]
     },
     "execution_count": 48,
     "metadata": {},
     "output_type": "execute_result"
    }
   ],
   "source": [
    "# Exemplo:\n",
    "df3"
   ]
  },
  {
   "cell_type": "markdown",
   "id": "78c41f8c-06d0-4eaf-a76a-f376e8f3eb47",
   "metadata": {},
   "source": [
    "Os números a esquerda (0, 1, 2 e 3) são os índices. Eles não fazem parte dos seus dados — são um \"rótulo\" para acessar linhas.\n",
    "\n",
    "\n",
    "**Uma dica importante e interresante** é que você sempre pode usar **_índices numéricos_ com .iloc[]** e **_índices \"nomeados\"_ com .loc[]**."
   ]
  },
  {
   "cell_type": "markdown",
   "id": "0813eb07-2675-48ae-adc6-9caf1ee10ce3",
   "metadata": {},
   "source": [
    "## Operações Comuns com índices:\n",
    "\n",
    "### 1. Acessar um índice:"
   ]
  },
  {
   "cell_type": "code",
   "execution_count": 49,
   "id": "3b37cd28-36cd-447a-b0a8-e1b35ca959b7",
   "metadata": {},
   "outputs": [
    {
     "data": {
      "text/plain": [
       "RangeIndex(start=0, stop=4, step=1)"
      ]
     },
     "execution_count": 49,
     "metadata": {},
     "output_type": "execute_result"
    }
   ],
   "source": [
    "# Ele mostrara os indices\n",
    "# Caso os indices tenham sido gerados de maneira padrão, que é quando não definimos um index\n",
    "# e o próprio pandas cria um rangeIndex, ele mostrará exatamente isso no resultado.\n",
    "df3.index"
   ]
  },
  {
   "cell_type": "code",
   "execution_count": 42,
   "id": "10c7c6ff-c160-44b6-960f-3f6519c669bc",
   "metadata": {},
   "outputs": [
    {
     "data": {
      "text/plain": [
       "Index(['Nome', 'Idade', 'Cidade'], dtype='object')"
      ]
     },
     "execution_count": 42,
     "metadata": {},
     "output_type": "execute_result"
    }
   ],
   "source": [
    "# Por exemplo, as colunas foram definidas antecipadamente, então quando eu peço para ver...\n",
    "df3.columns"
   ]
  },
  {
   "cell_type": "markdown",
   "id": "62e3be06-410b-4061-91e8-bf4f164c280f",
   "metadata": {},
   "source": [
    "### 2. Definir um índice personalizado:"
   ]
  },
  {
   "cell_type": "code",
   "execution_count": 50,
   "id": "b33c9ffe-e2af-41fb-9bd0-5ebfeff0d828",
   "metadata": {},
   "outputs": [],
   "source": [
    "#### Vamos definir que a coluna 'Nome' será os index\n",
    "df3.set_index('Nome', inplace=True)"
   ]
  },
  {
   "cell_type": "code",
   "execution_count": 51,
   "id": "f76b9e55-9a92-4a6f-8b5a-b488d8e80619",
   "metadata": {},
   "outputs": [
    {
     "data": {
      "text/html": [
       "<div>\n",
       "<style scoped>\n",
       "    .dataframe tbody tr th:only-of-type {\n",
       "        vertical-align: middle;\n",
       "    }\n",
       "\n",
       "    .dataframe tbody tr th {\n",
       "        vertical-align: top;\n",
       "    }\n",
       "\n",
       "    .dataframe thead th {\n",
       "        text-align: right;\n",
       "    }\n",
       "</style>\n",
       "<table border=\"1\" class=\"dataframe\">\n",
       "  <thead>\n",
       "    <tr style=\"text-align: right;\">\n",
       "      <th></th>\n",
       "      <th>Idade</th>\n",
       "      <th>Cidade</th>\n",
       "    </tr>\n",
       "    <tr>\n",
       "      <th>Nome</th>\n",
       "      <th></th>\n",
       "      <th></th>\n",
       "    </tr>\n",
       "  </thead>\n",
       "  <tbody>\n",
       "    <tr>\n",
       "      <th>Ana</th>\n",
       "      <td>25</td>\n",
       "      <td>São Paulo</td>\n",
       "    </tr>\n",
       "    <tr>\n",
       "      <th>Bruno</th>\n",
       "      <td>30</td>\n",
       "      <td>Rio de Janeiro</td>\n",
       "    </tr>\n",
       "    <tr>\n",
       "      <th>Carla</th>\n",
       "      <td>22</td>\n",
       "      <td>Curitiba</td>\n",
       "    </tr>\n",
       "    <tr>\n",
       "      <th>Daniel</th>\n",
       "      <td>28</td>\n",
       "      <td>São Paulo</td>\n",
       "    </tr>\n",
       "  </tbody>\n",
       "</table>\n",
       "</div>"
      ],
      "text/plain": [
       "        Idade          Cidade\n",
       "Nome                         \n",
       "Ana        25       São Paulo\n",
       "Bruno      30  Rio de Janeiro\n",
       "Carla      22        Curitiba\n",
       "Daniel     28       São Paulo"
      ]
     },
     "execution_count": 51,
     "metadata": {},
     "output_type": "execute_result"
    }
   ],
   "source": [
    "df3"
   ]
  },
  {
   "cell_type": "markdown",
   "id": "64787cdd-136a-4c2d-b5fd-625322413031",
   "metadata": {},
   "source": [
    "### 3. Resetar o índice\n",
    "O índice volta a ser numérico (0, 1, 2) e a coluna 'Nome' volta a ser coluna normal."
   ]
  },
  {
   "cell_type": "code",
   "execution_count": 52,
   "id": "cd674cd0-57c9-464e-89a0-47f591370734",
   "metadata": {},
   "outputs": [],
   "source": [
    "df3.reset_index(inplace=True)"
   ]
  },
  {
   "cell_type": "code",
   "execution_count": 53,
   "id": "066345f0-227a-4dac-87ab-88031ea00ec3",
   "metadata": {},
   "outputs": [
    {
     "data": {
      "text/html": [
       "<div>\n",
       "<style scoped>\n",
       "    .dataframe tbody tr th:only-of-type {\n",
       "        vertical-align: middle;\n",
       "    }\n",
       "\n",
       "    .dataframe tbody tr th {\n",
       "        vertical-align: top;\n",
       "    }\n",
       "\n",
       "    .dataframe thead th {\n",
       "        text-align: right;\n",
       "    }\n",
       "</style>\n",
       "<table border=\"1\" class=\"dataframe\">\n",
       "  <thead>\n",
       "    <tr style=\"text-align: right;\">\n",
       "      <th></th>\n",
       "      <th>Nome</th>\n",
       "      <th>Idade</th>\n",
       "      <th>Cidade</th>\n",
       "    </tr>\n",
       "  </thead>\n",
       "  <tbody>\n",
       "    <tr>\n",
       "      <th>0</th>\n",
       "      <td>Ana</td>\n",
       "      <td>25</td>\n",
       "      <td>São Paulo</td>\n",
       "    </tr>\n",
       "    <tr>\n",
       "      <th>1</th>\n",
       "      <td>Bruno</td>\n",
       "      <td>30</td>\n",
       "      <td>Rio de Janeiro</td>\n",
       "    </tr>\n",
       "    <tr>\n",
       "      <th>2</th>\n",
       "      <td>Carla</td>\n",
       "      <td>22</td>\n",
       "      <td>Curitiba</td>\n",
       "    </tr>\n",
       "    <tr>\n",
       "      <th>3</th>\n",
       "      <td>Daniel</td>\n",
       "      <td>28</td>\n",
       "      <td>São Paulo</td>\n",
       "    </tr>\n",
       "  </tbody>\n",
       "</table>\n",
       "</div>"
      ],
      "text/plain": [
       "     Nome  Idade          Cidade\n",
       "0     Ana     25       São Paulo\n",
       "1   Bruno     30  Rio de Janeiro\n",
       "2   Carla     22        Curitiba\n",
       "3  Daniel     28       São Paulo"
      ]
     },
     "execution_count": 53,
     "metadata": {},
     "output_type": "execute_result"
    }
   ],
   "source": [
    "df3"
   ]
  },
  {
   "cell_type": "markdown",
   "id": "b52df0c1-12ed-4762-aa26-25115d1fbe2f",
   "metadata": {},
   "source": [
    "### 4. Renomear índices:"
   ]
  },
  {
   "cell_type": "code",
   "execution_count": 55,
   "id": "40c44ea7-4b08-4c9e-8269-9f6bfb4e5958",
   "metadata": {},
   "outputs": [],
   "source": [
    "df3.index = ['A', 'B', 'C', 'D']"
   ]
  },
  {
   "cell_type": "code",
   "execution_count": 56,
   "id": "c87adeeb-e4e2-496d-9a6d-74d592aa3469",
   "metadata": {},
   "outputs": [
    {
     "data": {
      "text/html": [
       "<div>\n",
       "<style scoped>\n",
       "    .dataframe tbody tr th:only-of-type {\n",
       "        vertical-align: middle;\n",
       "    }\n",
       "\n",
       "    .dataframe tbody tr th {\n",
       "        vertical-align: top;\n",
       "    }\n",
       "\n",
       "    .dataframe thead th {\n",
       "        text-align: right;\n",
       "    }\n",
       "</style>\n",
       "<table border=\"1\" class=\"dataframe\">\n",
       "  <thead>\n",
       "    <tr style=\"text-align: right;\">\n",
       "      <th></th>\n",
       "      <th>Nome</th>\n",
       "      <th>Idade</th>\n",
       "      <th>Cidade</th>\n",
       "    </tr>\n",
       "  </thead>\n",
       "  <tbody>\n",
       "    <tr>\n",
       "      <th>A</th>\n",
       "      <td>Ana</td>\n",
       "      <td>25</td>\n",
       "      <td>São Paulo</td>\n",
       "    </tr>\n",
       "    <tr>\n",
       "      <th>B</th>\n",
       "      <td>Bruno</td>\n",
       "      <td>30</td>\n",
       "      <td>Rio de Janeiro</td>\n",
       "    </tr>\n",
       "    <tr>\n",
       "      <th>C</th>\n",
       "      <td>Carla</td>\n",
       "      <td>22</td>\n",
       "      <td>Curitiba</td>\n",
       "    </tr>\n",
       "    <tr>\n",
       "      <th>D</th>\n",
       "      <td>Daniel</td>\n",
       "      <td>28</td>\n",
       "      <td>São Paulo</td>\n",
       "    </tr>\n",
       "  </tbody>\n",
       "</table>\n",
       "</div>"
      ],
      "text/plain": [
       "     Nome  Idade          Cidade\n",
       "A     Ana     25       São Paulo\n",
       "B   Bruno     30  Rio de Janeiro\n",
       "C   Carla     22        Curitiba\n",
       "D  Daniel     28       São Paulo"
      ]
     },
     "execution_count": 56,
     "metadata": {},
     "output_type": "execute_result"
    }
   ],
   "source": [
    "df3"
   ]
  },
  {
   "cell_type": "markdown",
   "id": "f5141465-1236-47b1-9f23-240dd34d90a0",
   "metadata": {},
   "source": [
    "### 5. Filtrar usando índice:"
   ]
  },
  {
   "cell_type": "code",
   "execution_count": 60,
   "id": "e2f54eb1-19dc-4834-9cc7-f1ae35fce25f",
   "metadata": {},
   "outputs": [
    {
     "name": "stdout",
     "output_type": "stream",
     "text": [
      "Idade            25\n",
      "Cidade    São Paulo\n",
      "Name: Ana, dtype: object\n"
     ]
    }
   ],
   "source": [
    "df3_copy = df3.set_index('Nome')\n",
    "print(df3_copy.loc['Ana']) # Acessa a lista da Ana"
   ]
  },
  {
   "cell_type": "markdown",
   "id": "702b5ddf-9430-434c-b2a7-7861c0b56f23",
   "metadata": {},
   "source": [
    "### RESUMO RÁPIDO:\n",
    "\n",
    "| Operação                    | Código                       | O que faz                               |\n",
    "| --------------------------- | ---------------------------- | --------------------------------------- |\n",
    "| Ver índice                  | `df.index`                   | Mostra o índice atual                   |\n",
    "| Definir coluna como índice  | `df.set_index('coluna')`     | Transforma uma coluna no novo índice    |\n",
    "| Resetar índice              | `df.reset_index()`           | Volta para índice padrão (0,1,2...)     |\n",
    "| Ordenar pelo índice         | `df.sort_index()`            | Ordena DataFrame pelo índice            |\n",
    "| Renomear índice manualmente | `df.index = ['a', 'b', 'c']` | Define índices novos                    |\n",
    "| Filtrar pelo índice         | `df.loc['rótulo']`           | Acessa linhas específicas usando índice |\n"
   ]
  },
  {
   "cell_type": "markdown",
   "id": "a6a84d2e-04a9-4e9e-8db2-9d0597fa0cf9",
   "metadata": {},
   "source": [
    "___"
   ]
  },
  {
   "cell_type": "markdown",
   "id": "8adaec63-e6a4-443a-9807-bf0d17168186",
   "metadata": {},
   "source": [
    "# 1.6. Tratamento de dados ausentes\n",
    "\n",
    "### O que são Dados Ausentes?\n",
    "São valores faltantes, nulos ou indefinidos em um conjunto de dados.\n",
    "\n",
    "No Pandas, eles aparecem geralmente como:\n",
    "- NaN (Not a Number)\n",
    "- None (Python)\n",
    "\n",
    "\n",
    "**Dicas importantes**:\n",
    "- Nunca elimine dados ausentes automaticamente — às vezes eles são importantes.\n",
    "- Decida o que fazer caso a caso: remover? preencher? ignorar?\n",
    "- Valores ausentes podem enviesar uma análise estatística se não forem tratados."
   ]
  },
  {
   "cell_type": "code",
   "execution_count": 85,
   "id": "d77626f0-242f-4aa1-8ff2-54e8324281c8",
   "metadata": {},
   "outputs": [],
   "source": [
    "# Exemplo\n",
    "import numpy as np\n",
    "\n",
    "dados_ausentes = {'Nome': ['Ana', 'Bruno', 'Carla', 'Daniel'],\n",
    "         'Idade': [25, np.nan, 22, 28],\n",
    "         'Cidade': ['São Paulo', 'Rio de Janeiro', None, 'São Paulo']}\n",
    "\n",
    "df_ausentes = pd.DataFrame(dados_ausentes)"
   ]
  },
  {
   "cell_type": "code",
   "execution_count": 66,
   "id": "716b1ed9-926c-4b6c-a543-f8e4e59862fb",
   "metadata": {},
   "outputs": [
    {
     "data": {
      "text/html": [
       "<div>\n",
       "<style scoped>\n",
       "    .dataframe tbody tr th:only-of-type {\n",
       "        vertical-align: middle;\n",
       "    }\n",
       "\n",
       "    .dataframe tbody tr th {\n",
       "        vertical-align: top;\n",
       "    }\n",
       "\n",
       "    .dataframe thead th {\n",
       "        text-align: right;\n",
       "    }\n",
       "</style>\n",
       "<table border=\"1\" class=\"dataframe\">\n",
       "  <thead>\n",
       "    <tr style=\"text-align: right;\">\n",
       "      <th></th>\n",
       "      <th>Nome</th>\n",
       "      <th>Idade</th>\n",
       "      <th>Cidade</th>\n",
       "    </tr>\n",
       "  </thead>\n",
       "  <tbody>\n",
       "    <tr>\n",
       "      <th>0</th>\n",
       "      <td>Ana</td>\n",
       "      <td>25.0</td>\n",
       "      <td>São Paulo</td>\n",
       "    </tr>\n",
       "    <tr>\n",
       "      <th>1</th>\n",
       "      <td>Bruno</td>\n",
       "      <td>NaN</td>\n",
       "      <td>Rio de Janeiro</td>\n",
       "    </tr>\n",
       "    <tr>\n",
       "      <th>2</th>\n",
       "      <td>Carla</td>\n",
       "      <td>22.0</td>\n",
       "      <td>None</td>\n",
       "    </tr>\n",
       "    <tr>\n",
       "      <th>3</th>\n",
       "      <td>Daniel</td>\n",
       "      <td>28.0</td>\n",
       "      <td>São Paulo</td>\n",
       "    </tr>\n",
       "  </tbody>\n",
       "</table>\n",
       "</div>"
      ],
      "text/plain": [
       "     Nome  Idade          Cidade\n",
       "0     Ana   25.0       São Paulo\n",
       "1   Bruno    NaN  Rio de Janeiro\n",
       "2   Carla   22.0            None\n",
       "3  Daniel   28.0       São Paulo"
      ]
     },
     "execution_count": 66,
     "metadata": {},
     "output_type": "execute_result"
    }
   ],
   "source": [
    "df_ausentes"
   ]
  },
  {
   "cell_type": "markdown",
   "id": "cd3c4049-c4d6-4701-aea6-92cd91d8c7ae",
   "metadata": {},
   "source": [
    "### 1. Identificar dados ausentes:"
   ]
  },
  {
   "cell_type": "code",
   "execution_count": 68,
   "id": "f3d040a2-2e08-4119-8085-8f4fc4df28ef",
   "metadata": {},
   "outputs": [
    {
     "data": {
      "text/html": [
       "<div>\n",
       "<style scoped>\n",
       "    .dataframe tbody tr th:only-of-type {\n",
       "        vertical-align: middle;\n",
       "    }\n",
       "\n",
       "    .dataframe tbody tr th {\n",
       "        vertical-align: top;\n",
       "    }\n",
       "\n",
       "    .dataframe thead th {\n",
       "        text-align: right;\n",
       "    }\n",
       "</style>\n",
       "<table border=\"1\" class=\"dataframe\">\n",
       "  <thead>\n",
       "    <tr style=\"text-align: right;\">\n",
       "      <th></th>\n",
       "      <th>Nome</th>\n",
       "      <th>Idade</th>\n",
       "      <th>Cidade</th>\n",
       "    </tr>\n",
       "  </thead>\n",
       "  <tbody>\n",
       "    <tr>\n",
       "      <th>0</th>\n",
       "      <td>False</td>\n",
       "      <td>False</td>\n",
       "      <td>False</td>\n",
       "    </tr>\n",
       "    <tr>\n",
       "      <th>1</th>\n",
       "      <td>False</td>\n",
       "      <td>True</td>\n",
       "      <td>False</td>\n",
       "    </tr>\n",
       "    <tr>\n",
       "      <th>2</th>\n",
       "      <td>False</td>\n",
       "      <td>False</td>\n",
       "      <td>True</td>\n",
       "    </tr>\n",
       "    <tr>\n",
       "      <th>3</th>\n",
       "      <td>False</td>\n",
       "      <td>False</td>\n",
       "      <td>False</td>\n",
       "    </tr>\n",
       "  </tbody>\n",
       "</table>\n",
       "</div>"
      ],
      "text/plain": [
       "    Nome  Idade  Cidade\n",
       "0  False  False   False\n",
       "1  False   True   False\n",
       "2  False  False    True\n",
       "3  False  False   False"
      ]
     },
     "execution_count": 68,
     "metadata": {},
     "output_type": "execute_result"
    }
   ],
   "source": [
    "df_ausentes.isnull() # Mostra True onde há valores ausentes\n"
   ]
  },
  {
   "cell_type": "code",
   "execution_count": 69,
   "id": "fc47b8f4-55d3-406a-8bb2-f2a856384da3",
   "metadata": {},
   "outputs": [
    {
     "data": {
      "text/plain": [
       "Nome      0\n",
       "Idade     1\n",
       "Cidade    1\n",
       "dtype: int64"
      ]
     },
     "execution_count": 69,
     "metadata": {},
     "output_type": "execute_result"
    }
   ],
   "source": [
    "# Contar os valores ausentes\n",
    "df_ausentes.isnull().sum()"
   ]
  },
  {
   "cell_type": "markdown",
   "id": "b3828535-1a9d-4488-b8d4-63e768d9e837",
   "metadata": {},
   "source": [
    "### 2. Filtrar linhas com dados ausentes:"
   ]
  },
  {
   "cell_type": "code",
   "execution_count": 70,
   "id": "6ce42718-beb8-4fcc-982b-07021341e5ae",
   "metadata": {},
   "outputs": [
    {
     "data": {
      "text/html": [
       "<div>\n",
       "<style scoped>\n",
       "    .dataframe tbody tr th:only-of-type {\n",
       "        vertical-align: middle;\n",
       "    }\n",
       "\n",
       "    .dataframe tbody tr th {\n",
       "        vertical-align: top;\n",
       "    }\n",
       "\n",
       "    .dataframe thead th {\n",
       "        text-align: right;\n",
       "    }\n",
       "</style>\n",
       "<table border=\"1\" class=\"dataframe\">\n",
       "  <thead>\n",
       "    <tr style=\"text-align: right;\">\n",
       "      <th></th>\n",
       "      <th>Nome</th>\n",
       "      <th>Idade</th>\n",
       "      <th>Cidade</th>\n",
       "    </tr>\n",
       "  </thead>\n",
       "  <tbody>\n",
       "    <tr>\n",
       "      <th>1</th>\n",
       "      <td>Bruno</td>\n",
       "      <td>NaN</td>\n",
       "      <td>Rio de Janeiro</td>\n",
       "    </tr>\n",
       "  </tbody>\n",
       "</table>\n",
       "</div>"
      ],
      "text/plain": [
       "    Nome  Idade          Cidade\n",
       "1  Bruno    NaN  Rio de Janeiro"
      ]
     },
     "execution_count": 70,
     "metadata": {},
     "output_type": "execute_result"
    }
   ],
   "source": [
    "df_ausentes[df_ausentes['Idade'].isnull()]   # Filtra linhas onde 'Idade' é NaN"
   ]
  },
  {
   "cell_type": "markdown",
   "id": "a3abe588-1d4e-48d0-86c3-87ec80ea6534",
   "metadata": {},
   "source": [
    "### 3. Remover dados ausentes"
   ]
  },
  {
   "cell_type": "code",
   "execution_count": 72,
   "id": "d16d035c-5e45-45ae-be36-2f9f9dc6c9ac",
   "metadata": {},
   "outputs": [
    {
     "data": {
      "text/html": [
       "<div>\n",
       "<style scoped>\n",
       "    .dataframe tbody tr th:only-of-type {\n",
       "        vertical-align: middle;\n",
       "    }\n",
       "\n",
       "    .dataframe tbody tr th {\n",
       "        vertical-align: top;\n",
       "    }\n",
       "\n",
       "    .dataframe thead th {\n",
       "        text-align: right;\n",
       "    }\n",
       "</style>\n",
       "<table border=\"1\" class=\"dataframe\">\n",
       "  <thead>\n",
       "    <tr style=\"text-align: right;\">\n",
       "      <th></th>\n",
       "      <th>Nome</th>\n",
       "      <th>Idade</th>\n",
       "      <th>Cidade</th>\n",
       "    </tr>\n",
       "  </thead>\n",
       "  <tbody>\n",
       "    <tr>\n",
       "      <th>0</th>\n",
       "      <td>Ana</td>\n",
       "      <td>25.0</td>\n",
       "      <td>São Paulo</td>\n",
       "    </tr>\n",
       "    <tr>\n",
       "      <th>3</th>\n",
       "      <td>Daniel</td>\n",
       "      <td>28.0</td>\n",
       "      <td>São Paulo</td>\n",
       "    </tr>\n",
       "  </tbody>\n",
       "</table>\n",
       "</div>"
      ],
      "text/plain": [
       "     Nome  Idade     Cidade\n",
       "0     Ana   25.0  São Paulo\n",
       "3  Daniel   28.0  São Paulo"
      ]
     },
     "execution_count": 72,
     "metadata": {},
     "output_type": "execute_result"
    }
   ],
   "source": [
    "# Remove qualquer linha que contenha pelo menos um NaN:\n",
    "df_ausentes.dropna()"
   ]
  },
  {
   "cell_type": "code",
   "execution_count": 73,
   "id": "1caeb335-a6cd-4786-9d3d-8e53c9ba9198",
   "metadata": {},
   "outputs": [
    {
     "data": {
      "text/html": [
       "<div>\n",
       "<style scoped>\n",
       "    .dataframe tbody tr th:only-of-type {\n",
       "        vertical-align: middle;\n",
       "    }\n",
       "\n",
       "    .dataframe tbody tr th {\n",
       "        vertical-align: top;\n",
       "    }\n",
       "\n",
       "    .dataframe thead th {\n",
       "        text-align: right;\n",
       "    }\n",
       "</style>\n",
       "<table border=\"1\" class=\"dataframe\">\n",
       "  <thead>\n",
       "    <tr style=\"text-align: right;\">\n",
       "      <th></th>\n",
       "      <th>Nome</th>\n",
       "      <th>Idade</th>\n",
       "      <th>Cidade</th>\n",
       "    </tr>\n",
       "  </thead>\n",
       "  <tbody>\n",
       "    <tr>\n",
       "      <th>0</th>\n",
       "      <td>Ana</td>\n",
       "      <td>25.0</td>\n",
       "      <td>São Paulo</td>\n",
       "    </tr>\n",
       "    <tr>\n",
       "      <th>1</th>\n",
       "      <td>Bruno</td>\n",
       "      <td>NaN</td>\n",
       "      <td>Rio de Janeiro</td>\n",
       "    </tr>\n",
       "    <tr>\n",
       "      <th>2</th>\n",
       "      <td>Carla</td>\n",
       "      <td>22.0</td>\n",
       "      <td>None</td>\n",
       "    </tr>\n",
       "    <tr>\n",
       "      <th>3</th>\n",
       "      <td>Daniel</td>\n",
       "      <td>28.0</td>\n",
       "      <td>São Paulo</td>\n",
       "    </tr>\n",
       "  </tbody>\n",
       "</table>\n",
       "</div>"
      ],
      "text/plain": [
       "     Nome  Idade          Cidade\n",
       "0     Ana   25.0       São Paulo\n",
       "1   Bruno    NaN  Rio de Janeiro\n",
       "2   Carla   22.0            None\n",
       "3  Daniel   28.0       São Paulo"
      ]
     },
     "execution_count": 73,
     "metadata": {},
     "output_type": "execute_result"
    }
   ],
   "source": [
    "#  Remove só se todos os valores da linha forem NaN:\n",
    "df_ausentes.dropna(how='all')"
   ]
  },
  {
   "cell_type": "markdown",
   "id": "e4d23e3a-f274-4a25-bf5a-48bae88a6562",
   "metadata": {},
   "source": [
    "### 4. Preencher valores ausentes:"
   ]
  },
  {
   "cell_type": "code",
   "execution_count": 74,
   "id": "4900f415-6156-40c5-8303-af10fba018f7",
   "metadata": {},
   "outputs": [],
   "source": [
    "# Com valor especifico:\n",
    "df_ausentes['Idade'] = df_ausentes['Idade'].fillna(0)   # Preenche NaN da coluna 'Idade' com 0"
   ]
  },
  {
   "cell_type": "code",
   "execution_count": 75,
   "id": "cf798efa-f75c-4e38-a79b-d09df0deacfb",
   "metadata": {},
   "outputs": [
    {
     "data": {
      "text/html": [
       "<div>\n",
       "<style scoped>\n",
       "    .dataframe tbody tr th:only-of-type {\n",
       "        vertical-align: middle;\n",
       "    }\n",
       "\n",
       "    .dataframe tbody tr th {\n",
       "        vertical-align: top;\n",
       "    }\n",
       "\n",
       "    .dataframe thead th {\n",
       "        text-align: right;\n",
       "    }\n",
       "</style>\n",
       "<table border=\"1\" class=\"dataframe\">\n",
       "  <thead>\n",
       "    <tr style=\"text-align: right;\">\n",
       "      <th></th>\n",
       "      <th>Nome</th>\n",
       "      <th>Idade</th>\n",
       "      <th>Cidade</th>\n",
       "    </tr>\n",
       "  </thead>\n",
       "  <tbody>\n",
       "    <tr>\n",
       "      <th>0</th>\n",
       "      <td>Ana</td>\n",
       "      <td>25.0</td>\n",
       "      <td>São Paulo</td>\n",
       "    </tr>\n",
       "    <tr>\n",
       "      <th>1</th>\n",
       "      <td>Bruno</td>\n",
       "      <td>0.0</td>\n",
       "      <td>Rio de Janeiro</td>\n",
       "    </tr>\n",
       "    <tr>\n",
       "      <th>2</th>\n",
       "      <td>Carla</td>\n",
       "      <td>22.0</td>\n",
       "      <td>None</td>\n",
       "    </tr>\n",
       "    <tr>\n",
       "      <th>3</th>\n",
       "      <td>Daniel</td>\n",
       "      <td>28.0</td>\n",
       "      <td>São Paulo</td>\n",
       "    </tr>\n",
       "  </tbody>\n",
       "</table>\n",
       "</div>"
      ],
      "text/plain": [
       "     Nome  Idade          Cidade\n",
       "0     Ana   25.0       São Paulo\n",
       "1   Bruno    0.0  Rio de Janeiro\n",
       "2   Carla   22.0            None\n",
       "3  Daniel   28.0       São Paulo"
      ]
     },
     "execution_count": 75,
     "metadata": {},
     "output_type": "execute_result"
    }
   ],
   "source": [
    "df_ausentes"
   ]
  },
  {
   "cell_type": "code",
   "execution_count": 80,
   "id": "d82f27b8-c20a-466b-9f11-69d47c6dadc2",
   "metadata": {},
   "outputs": [],
   "source": [
    "# Com a média, mediana ou moda:\n",
    "df_ausentes['Idade'] = df_ausentes['Idade'].fillna(df_ausentes['Idade'].mean())  # Preenche com a média"
   ]
  },
  {
   "cell_type": "code",
   "execution_count": 81,
   "id": "3f25b156-3d7a-4bef-96ab-94e462743515",
   "metadata": {},
   "outputs": [
    {
     "data": {
      "text/html": [
       "<div>\n",
       "<style scoped>\n",
       "    .dataframe tbody tr th:only-of-type {\n",
       "        vertical-align: middle;\n",
       "    }\n",
       "\n",
       "    .dataframe tbody tr th {\n",
       "        vertical-align: top;\n",
       "    }\n",
       "\n",
       "    .dataframe thead th {\n",
       "        text-align: right;\n",
       "    }\n",
       "</style>\n",
       "<table border=\"1\" class=\"dataframe\">\n",
       "  <thead>\n",
       "    <tr style=\"text-align: right;\">\n",
       "      <th></th>\n",
       "      <th>Nome</th>\n",
       "      <th>Idade</th>\n",
       "      <th>Cidade</th>\n",
       "    </tr>\n",
       "  </thead>\n",
       "  <tbody>\n",
       "    <tr>\n",
       "      <th>0</th>\n",
       "      <td>Ana</td>\n",
       "      <td>25.0</td>\n",
       "      <td>São Paulo</td>\n",
       "    </tr>\n",
       "    <tr>\n",
       "      <th>1</th>\n",
       "      <td>Bruno</td>\n",
       "      <td>25.0</td>\n",
       "      <td>Rio de Janeiro</td>\n",
       "    </tr>\n",
       "    <tr>\n",
       "      <th>2</th>\n",
       "      <td>Carla</td>\n",
       "      <td>22.0</td>\n",
       "      <td>None</td>\n",
       "    </tr>\n",
       "    <tr>\n",
       "      <th>3</th>\n",
       "      <td>Daniel</td>\n",
       "      <td>28.0</td>\n",
       "      <td>São Paulo</td>\n",
       "    </tr>\n",
       "  </tbody>\n",
       "</table>\n",
       "</div>"
      ],
      "text/plain": [
       "     Nome  Idade          Cidade\n",
       "0     Ana   25.0       São Paulo\n",
       "1   Bruno   25.0  Rio de Janeiro\n",
       "2   Carla   22.0            None\n",
       "3  Daniel   28.0       São Paulo"
      ]
     },
     "execution_count": 81,
     "metadata": {},
     "output_type": "execute_result"
    }
   ],
   "source": [
    "df_ausentes"
   ]
  },
  {
   "cell_type": "code",
   "execution_count": 89,
   "id": "89e4e9c9-2a25-4475-a248-86679f6708e0",
   "metadata": {},
   "outputs": [],
   "source": [
    "# Utilização em texto:\n",
    "df_ausentes['Cidade'] = df_ausentes['Cidade'].fillna('Não informado')"
   ]
  },
  {
   "cell_type": "code",
   "execution_count": 84,
   "id": "03b5f975-602a-4e6c-9c89-4fb0c7db39fc",
   "metadata": {},
   "outputs": [
    {
     "data": {
      "text/html": [
       "<div>\n",
       "<style scoped>\n",
       "    .dataframe tbody tr th:only-of-type {\n",
       "        vertical-align: middle;\n",
       "    }\n",
       "\n",
       "    .dataframe tbody tr th {\n",
       "        vertical-align: top;\n",
       "    }\n",
       "\n",
       "    .dataframe thead th {\n",
       "        text-align: right;\n",
       "    }\n",
       "</style>\n",
       "<table border=\"1\" class=\"dataframe\">\n",
       "  <thead>\n",
       "    <tr style=\"text-align: right;\">\n",
       "      <th></th>\n",
       "      <th>Nome</th>\n",
       "      <th>Idade</th>\n",
       "      <th>Cidade</th>\n",
       "    </tr>\n",
       "  </thead>\n",
       "  <tbody>\n",
       "    <tr>\n",
       "      <th>0</th>\n",
       "      <td>Ana</td>\n",
       "      <td>25.0</td>\n",
       "      <td>São Paulo</td>\n",
       "    </tr>\n",
       "    <tr>\n",
       "      <th>1</th>\n",
       "      <td>Bruno</td>\n",
       "      <td>25.0</td>\n",
       "      <td>Rio de Janeiro</td>\n",
       "    </tr>\n",
       "    <tr>\n",
       "      <th>2</th>\n",
       "      <td>Carla</td>\n",
       "      <td>22.0</td>\n",
       "      <td>Não informado</td>\n",
       "    </tr>\n",
       "    <tr>\n",
       "      <th>3</th>\n",
       "      <td>Daniel</td>\n",
       "      <td>28.0</td>\n",
       "      <td>São Paulo</td>\n",
       "    </tr>\n",
       "  </tbody>\n",
       "</table>\n",
       "</div>"
      ],
      "text/plain": [
       "     Nome  Idade          Cidade\n",
       "0     Ana   25.0       São Paulo\n",
       "1   Bruno   25.0  Rio de Janeiro\n",
       "2   Carla   22.0   Não informado\n",
       "3  Daniel   28.0       São Paulo"
      ]
     },
     "execution_count": 84,
     "metadata": {},
     "output_type": "execute_result"
    }
   ],
   "source": [
    "df_ausentes"
   ]
  },
  {
   "cell_type": "markdown",
   "id": "b8b4727c-c864-4444-b393-a33bf8759092",
   "metadata": {},
   "source": [
    "### 5. Substituir todos os NaN's do DataFrame"
   ]
  },
  {
   "cell_type": "code",
   "execution_count": 88,
   "id": "72d366a9-05b9-42ef-b96c-2f5a0fe1ace2",
   "metadata": {},
   "outputs": [
    {
     "data": {
      "text/html": [
       "<div>\n",
       "<style scoped>\n",
       "    .dataframe tbody tr th:only-of-type {\n",
       "        vertical-align: middle;\n",
       "    }\n",
       "\n",
       "    .dataframe tbody tr th {\n",
       "        vertical-align: top;\n",
       "    }\n",
       "\n",
       "    .dataframe thead th {\n",
       "        text-align: right;\n",
       "    }\n",
       "</style>\n",
       "<table border=\"1\" class=\"dataframe\">\n",
       "  <thead>\n",
       "    <tr style=\"text-align: right;\">\n",
       "      <th></th>\n",
       "      <th>Nome</th>\n",
       "      <th>Idade</th>\n",
       "      <th>Cidade</th>\n",
       "    </tr>\n",
       "  </thead>\n",
       "  <tbody>\n",
       "    <tr>\n",
       "      <th>0</th>\n",
       "      <td>Ana</td>\n",
       "      <td>25.0</td>\n",
       "      <td>São Paulo</td>\n",
       "    </tr>\n",
       "    <tr>\n",
       "      <th>1</th>\n",
       "      <td>Bruno</td>\n",
       "      <td>Sem dado</td>\n",
       "      <td>Rio de Janeiro</td>\n",
       "    </tr>\n",
       "    <tr>\n",
       "      <th>2</th>\n",
       "      <td>Carla</td>\n",
       "      <td>22.0</td>\n",
       "      <td>Sem dado</td>\n",
       "    </tr>\n",
       "    <tr>\n",
       "      <th>3</th>\n",
       "      <td>Daniel</td>\n",
       "      <td>28.0</td>\n",
       "      <td>São Paulo</td>\n",
       "    </tr>\n",
       "  </tbody>\n",
       "</table>\n",
       "</div>"
      ],
      "text/plain": [
       "     Nome     Idade          Cidade\n",
       "0     Ana      25.0       São Paulo\n",
       "1   Bruno  Sem dado  Rio de Janeiro\n",
       "2   Carla      22.0        Sem dado\n",
       "3  Daniel      28.0       São Paulo"
      ]
     },
     "execution_count": 88,
     "metadata": {},
     "output_type": "execute_result"
    }
   ],
   "source": [
    "df_ausentes.fillna('Sem dado')  # Substitui todos os NaN do DataFrame"
   ]
  },
  {
   "cell_type": "markdown",
   "id": "ff455ed7-093e-4853-871e-c59cdf784fa9",
   "metadata": {},
   "source": [
    "___"
   ]
  },
  {
   "cell_type": "markdown",
   "id": "6f2cae63-7312-4119-9113-105a829467bb",
   "metadata": {},
   "source": [
    "# 1.6. Groupby\n",
    "\n",
    "O método groupby() do Pandas é uma das ferramentas mais poderosas e essenciais para análises agrupadas — muito usado em relatórios, resumos, dashboards e análise de dados reais.\n",
    "\n",
    "### O que é o .groupby()?\n",
    "O .groupby() é usado para:\n",
    "1. Agrupar dados de um DataFrame com base em uma ou mais colunas.\n",
    "2. Fazer alguma operação de agregação (como soma, média, contagem, etc.) em cada grupo.\n",
    "\n",
    "Ele funciona assim: Dividir ➡️ Agrupar ➡️ Agregar\n",
    "\n",
    "Vamos ao exemplo:"
   ]
  },
  {
   "cell_type": "code",
   "execution_count": 91,
   "id": "56c1f279-fc64-41a8-80fb-b0c987d05c48",
   "metadata": {},
   "outputs": [
    {
     "data": {
      "text/html": [
       "<div>\n",
       "<style scoped>\n",
       "    .dataframe tbody tr th:only-of-type {\n",
       "        vertical-align: middle;\n",
       "    }\n",
       "\n",
       "    .dataframe tbody tr th {\n",
       "        vertical-align: top;\n",
       "    }\n",
       "\n",
       "    .dataframe thead th {\n",
       "        text-align: right;\n",
       "    }\n",
       "</style>\n",
       "<table border=\"1\" class=\"dataframe\">\n",
       "  <thead>\n",
       "    <tr style=\"text-align: right;\">\n",
       "      <th></th>\n",
       "      <th>Categoria</th>\n",
       "      <th>Valor</th>\n",
       "    </tr>\n",
       "  </thead>\n",
       "  <tbody>\n",
       "    <tr>\n",
       "      <th>0</th>\n",
       "      <td>A</td>\n",
       "      <td>10</td>\n",
       "    </tr>\n",
       "    <tr>\n",
       "      <th>1</th>\n",
       "      <td>B</td>\n",
       "      <td>20</td>\n",
       "    </tr>\n",
       "    <tr>\n",
       "      <th>2</th>\n",
       "      <td>A</td>\n",
       "      <td>15</td>\n",
       "    </tr>\n",
       "    <tr>\n",
       "      <th>3</th>\n",
       "      <td>B</td>\n",
       "      <td>25</td>\n",
       "    </tr>\n",
       "    <tr>\n",
       "      <th>4</th>\n",
       "      <td>A</td>\n",
       "      <td>10</td>\n",
       "    </tr>\n",
       "    <tr>\n",
       "      <th>5</th>\n",
       "      <td>C</td>\n",
       "      <td>30</td>\n",
       "    </tr>\n",
       "  </tbody>\n",
       "</table>\n",
       "</div>"
      ],
      "text/plain": [
       "  Categoria  Valor\n",
       "0         A     10\n",
       "1         B     20\n",
       "2         A     15\n",
       "3         B     25\n",
       "4         A     10\n",
       "5         C     30"
      ]
     },
     "execution_count": 91,
     "metadata": {},
     "output_type": "execute_result"
    }
   ],
   "source": [
    "dados3 = {'Categoria': ['A', 'B', 'A', 'B', 'A', 'C'],\n",
    "         'Valor': [10, 20, 15, 25, 10, 30]}\n",
    "\n",
    "df3 = pd.DataFrame(dados3)\n",
    "df3"
   ]
  },
  {
   "cell_type": "markdown",
   "id": "fa7c2633-e700-4a42-b12a-b3e8c6015c49",
   "metadata": {},
   "source": [
    "### 1. Agregar por categoria e somar valores:"
   ]
  },
  {
   "cell_type": "code",
   "execution_count": 93,
   "id": "0ef9134f-5b7d-482f-af71-3c7d30fa8193",
   "metadata": {},
   "outputs": [
    {
     "data": {
      "text/plain": [
       "Categoria\n",
       "A    35\n",
       "B    45\n",
       "C    30\n",
       "Name: Valor, dtype: int64"
      ]
     },
     "execution_count": 93,
     "metadata": {},
     "output_type": "execute_result"
    }
   ],
   "source": [
    "df3.groupby('Categoria')['Valor'].sum() # O pandas irá somar os valores de cada categoria"
   ]
  },
  {
   "cell_type": "markdown",
   "id": "8d1d0cdd-7d41-4203-883f-c01a45e82043",
   "metadata": {},
   "source": [
    "### 2. Calcular a média dos valores por categoria:"
   ]
  },
  {
   "cell_type": "code",
   "execution_count": 95,
   "id": "72030915-3a0e-4ee6-8fb3-069fb2fa046d",
   "metadata": {},
   "outputs": [
    {
     "data": {
      "text/plain": [
       "Categoria\n",
       "A    11.666667\n",
       "B    22.500000\n",
       "C    30.000000\n",
       "Name: Valor, dtype: float64"
      ]
     },
     "execution_count": 95,
     "metadata": {},
     "output_type": "execute_result"
    }
   ],
   "source": [
    "df3.groupby('Categoria')['Valor'].mean()"
   ]
  },
  {
   "cell_type": "markdown",
   "id": "1431e4d4-3714-49ff-b6e2-33d22504a82f",
   "metadata": {},
   "source": [
    "### 3. Contar em quantas entradas há em cada categoria:"
   ]
  },
  {
   "cell_type": "code",
   "execution_count": 96,
   "id": "d8805943-bc2f-487b-847d-d85705a8af9d",
   "metadata": {},
   "outputs": [
    {
     "data": {
      "text/plain": [
       "Categoria\n",
       "A    3\n",
       "B    2\n",
       "C    1\n",
       "Name: Valor, dtype: int64"
      ]
     },
     "execution_count": 96,
     "metadata": {},
     "output_type": "execute_result"
    }
   ],
   "source": [
    "df3.groupby('Categoria')['Valor'].count()"
   ]
  },
  {
   "cell_type": "markdown",
   "id": "6a57ff5d-91af-4cd4-9766-4a3dd8afa308",
   "metadata": {},
   "source": [
    "### 4. Obter várias estatisticas ao mesmo tempo:"
   ]
  },
  {
   "cell_type": "code",
   "execution_count": 99,
   "id": "d8928793-e51e-4bb3-b436-4bcd41dfe3f2",
   "metadata": {},
   "outputs": [
    {
     "data": {
      "text/html": [
       "<div>\n",
       "<style scoped>\n",
       "    .dataframe tbody tr th:only-of-type {\n",
       "        vertical-align: middle;\n",
       "    }\n",
       "\n",
       "    .dataframe tbody tr th {\n",
       "        vertical-align: top;\n",
       "    }\n",
       "\n",
       "    .dataframe thead th {\n",
       "        text-align: right;\n",
       "    }\n",
       "</style>\n",
       "<table border=\"1\" class=\"dataframe\">\n",
       "  <thead>\n",
       "    <tr style=\"text-align: right;\">\n",
       "      <th></th>\n",
       "      <th>sum</th>\n",
       "      <th>mean</th>\n",
       "      <th>count</th>\n",
       "    </tr>\n",
       "    <tr>\n",
       "      <th>Categoria</th>\n",
       "      <th></th>\n",
       "      <th></th>\n",
       "      <th></th>\n",
       "    </tr>\n",
       "  </thead>\n",
       "  <tbody>\n",
       "    <tr>\n",
       "      <th>A</th>\n",
       "      <td>35</td>\n",
       "      <td>11.666667</td>\n",
       "      <td>3</td>\n",
       "    </tr>\n",
       "    <tr>\n",
       "      <th>B</th>\n",
       "      <td>45</td>\n",
       "      <td>22.500000</td>\n",
       "      <td>2</td>\n",
       "    </tr>\n",
       "    <tr>\n",
       "      <th>C</th>\n",
       "      <td>30</td>\n",
       "      <td>30.000000</td>\n",
       "      <td>1</td>\n",
       "    </tr>\n",
       "  </tbody>\n",
       "</table>\n",
       "</div>"
      ],
      "text/plain": [
       "           sum       mean  count\n",
       "Categoria                       \n",
       "A           35  11.666667      3\n",
       "B           45  22.500000      2\n",
       "C           30  30.000000      1"
      ]
     },
     "execution_count": 99,
     "metadata": {},
     "output_type": "execute_result"
    }
   ],
   "source": [
    "df3.groupby('Categoria')['Valor'].agg(['sum', 'mean', 'count'])"
   ]
  },
  {
   "cell_type": "markdown",
   "id": "592ee7c9-3a8a-4646-b545-ecda069b3473",
   "metadata": {},
   "source": [
    "## Agrupando por mais de uma coluna"
   ]
  },
  {
   "cell_type": "code",
   "execution_count": 101,
   "id": "77ac7ba0-3ad7-4bab-998d-b6193e9b878f",
   "metadata": {},
   "outputs": [
    {
     "data": {
      "text/html": [
       "<div>\n",
       "<style scoped>\n",
       "    .dataframe tbody tr th:only-of-type {\n",
       "        vertical-align: middle;\n",
       "    }\n",
       "\n",
       "    .dataframe tbody tr th {\n",
       "        vertical-align: top;\n",
       "    }\n",
       "\n",
       "    .dataframe thead th {\n",
       "        text-align: right;\n",
       "    }\n",
       "</style>\n",
       "<table border=\"1\" class=\"dataframe\">\n",
       "  <thead>\n",
       "    <tr style=\"text-align: right;\">\n",
       "      <th></th>\n",
       "      <th>Categoria</th>\n",
       "      <th>Subcategoria</th>\n",
       "      <th>Valor</th>\n",
       "    </tr>\n",
       "  </thead>\n",
       "  <tbody>\n",
       "    <tr>\n",
       "      <th>0</th>\n",
       "      <td>A</td>\n",
       "      <td>X</td>\n",
       "      <td>10</td>\n",
       "    </tr>\n",
       "    <tr>\n",
       "      <th>1</th>\n",
       "      <td>A</td>\n",
       "      <td>Y</td>\n",
       "      <td>15</td>\n",
       "    </tr>\n",
       "    <tr>\n",
       "      <th>2</th>\n",
       "      <td>B</td>\n",
       "      <td>X</td>\n",
       "      <td>20</td>\n",
       "    </tr>\n",
       "    <tr>\n",
       "      <th>3</th>\n",
       "      <td>B</td>\n",
       "      <td>Y</td>\n",
       "      <td>25</td>\n",
       "    </tr>\n",
       "    <tr>\n",
       "      <th>4</th>\n",
       "      <td>C</td>\n",
       "      <td>X</td>\n",
       "      <td>30</td>\n",
       "    </tr>\n",
       "    <tr>\n",
       "      <th>5</th>\n",
       "      <td>C</td>\n",
       "      <td>Y</td>\n",
       "      <td>35</td>\n",
       "    </tr>\n",
       "  </tbody>\n",
       "</table>\n",
       "</div>"
      ],
      "text/plain": [
       "  Categoria Subcategoria  Valor\n",
       "0         A            X     10\n",
       "1         A            Y     15\n",
       "2         B            X     20\n",
       "3         B            Y     25\n",
       "4         C            X     30\n",
       "5         C            Y     35"
      ]
     },
     "execution_count": 101,
     "metadata": {},
     "output_type": "execute_result"
    }
   ],
   "source": [
    "dados4 = {'Categoria': ['A', 'A', 'B', 'B', 'C', 'C'],\n",
    "         'Subcategoria': ['X', 'Y', 'X', 'Y', 'X', 'Y'],\n",
    "         'Valor': [10, 15, 20, 25, 30, 35]}\n",
    "\n",
    "df4 = pd.DataFrame(dados4)\n",
    "df4"
   ]
  },
  {
   "cell_type": "code",
   "execution_count": 102,
   "id": "62570aa2-f821-4cd4-8a84-1745f07b6741",
   "metadata": {},
   "outputs": [
    {
     "data": {
      "text/plain": [
       "Categoria  Subcategoria\n",
       "A          X               10\n",
       "           Y               15\n",
       "B          X               20\n",
       "           Y               25\n",
       "C          X               30\n",
       "           Y               35\n",
       "Name: Valor, dtype: int64"
      ]
     },
     "execution_count": 102,
     "metadata": {},
     "output_type": "execute_result"
    }
   ],
   "source": [
    "df4.groupby(['Categoria', 'Subcategoria'])['Valor'].sum()"
   ]
  },
  {
   "cell_type": "markdown",
   "id": "fd9dae9a-5609-44f1-9dc9-dd2cff9c20be",
   "metadata": {},
   "source": [
    "___"
   ]
  },
  {
   "cell_type": "markdown",
   "id": "9d3f2071-40a9-49b4-9be2-4cc87bea8c16",
   "metadata": {},
   "source": [
    "# 1.7. Merge, concat e Join\n",
    "Todas essas funções são usadas para combinar/juntar DataFrames. Mas cada uma tem um jeito específico de fazer isso.\n",
    "\n",
    "## 1.7.1. Concat:\n",
    "É simplesmente juntar um embaixo ou ao lado do outro.\n",
    "\n",
    "Pense assim: `É como empilhar várias planilhas ou colar blocos`.\n",
    "\n",
    "Serve para:\n",
    "- Empilhar DataFrames (em cima/embaixo ou lado a lado).\n",
    "- Não se importa com chaves/colunas iguais.\n"
   ]
  },
  {
   "cell_type": "code",
   "execution_count": 104,
   "id": "8a8072fe-6ffa-4fb1-a1c0-4fb307278736",
   "metadata": {},
   "outputs": [],
   "source": [
    "df_1 = pd.DataFrame({'A': ['A1', 'A2'], 'B': ['B1', 'B2']})\n",
    "df_2 = pd.DataFrame({'A': ['A3', 'A4'], 'B': ['B3', 'B4']})"
   ]
  },
  {
   "cell_type": "code",
   "execution_count": 105,
   "id": "b0310f27-3c82-4a68-ac3b-ecab85f19c40",
   "metadata": {},
   "outputs": [
    {
     "data": {
      "text/html": [
       "<div>\n",
       "<style scoped>\n",
       "    .dataframe tbody tr th:only-of-type {\n",
       "        vertical-align: middle;\n",
       "    }\n",
       "\n",
       "    .dataframe tbody tr th {\n",
       "        vertical-align: top;\n",
       "    }\n",
       "\n",
       "    .dataframe thead th {\n",
       "        text-align: right;\n",
       "    }\n",
       "</style>\n",
       "<table border=\"1\" class=\"dataframe\">\n",
       "  <thead>\n",
       "    <tr style=\"text-align: right;\">\n",
       "      <th></th>\n",
       "      <th>A</th>\n",
       "      <th>B</th>\n",
       "    </tr>\n",
       "  </thead>\n",
       "  <tbody>\n",
       "    <tr>\n",
       "      <th>0</th>\n",
       "      <td>A1</td>\n",
       "      <td>B1</td>\n",
       "    </tr>\n",
       "    <tr>\n",
       "      <th>1</th>\n",
       "      <td>A2</td>\n",
       "      <td>B2</td>\n",
       "    </tr>\n",
       "  </tbody>\n",
       "</table>\n",
       "</div>"
      ],
      "text/plain": [
       "    A   B\n",
       "0  A1  B1\n",
       "1  A2  B2"
      ]
     },
     "execution_count": 105,
     "metadata": {},
     "output_type": "execute_result"
    }
   ],
   "source": [
    "df_1"
   ]
  },
  {
   "cell_type": "code",
   "execution_count": 106,
   "id": "9de734d1-4de8-4cf8-ad5c-46bc0fa03309",
   "metadata": {},
   "outputs": [
    {
     "data": {
      "text/html": [
       "<div>\n",
       "<style scoped>\n",
       "    .dataframe tbody tr th:only-of-type {\n",
       "        vertical-align: middle;\n",
       "    }\n",
       "\n",
       "    .dataframe tbody tr th {\n",
       "        vertical-align: top;\n",
       "    }\n",
       "\n",
       "    .dataframe thead th {\n",
       "        text-align: right;\n",
       "    }\n",
       "</style>\n",
       "<table border=\"1\" class=\"dataframe\">\n",
       "  <thead>\n",
       "    <tr style=\"text-align: right;\">\n",
       "      <th></th>\n",
       "      <th>A</th>\n",
       "      <th>B</th>\n",
       "    </tr>\n",
       "  </thead>\n",
       "  <tbody>\n",
       "    <tr>\n",
       "      <th>0</th>\n",
       "      <td>A3</td>\n",
       "      <td>B3</td>\n",
       "    </tr>\n",
       "    <tr>\n",
       "      <th>1</th>\n",
       "      <td>A4</td>\n",
       "      <td>B4</td>\n",
       "    </tr>\n",
       "  </tbody>\n",
       "</table>\n",
       "</div>"
      ],
      "text/plain": [
       "    A   B\n",
       "0  A3  B3\n",
       "1  A4  B4"
      ]
     },
     "execution_count": 106,
     "metadata": {},
     "output_type": "execute_result"
    }
   ],
   "source": [
    "df_2"
   ]
  },
  {
   "cell_type": "markdown",
   "id": "55176500-ef5a-4a45-a960-c71573f6024b",
   "metadata": {},
   "source": [
    "### Juntar DataFrames em linhas (vertical):"
   ]
  },
  {
   "cell_type": "code",
   "execution_count": 107,
   "id": "479b0e72-7be3-423e-a24d-129ed6238bf6",
   "metadata": {},
   "outputs": [
    {
     "data": {
      "text/html": [
       "<div>\n",
       "<style scoped>\n",
       "    .dataframe tbody tr th:only-of-type {\n",
       "        vertical-align: middle;\n",
       "    }\n",
       "\n",
       "    .dataframe tbody tr th {\n",
       "        vertical-align: top;\n",
       "    }\n",
       "\n",
       "    .dataframe thead th {\n",
       "        text-align: right;\n",
       "    }\n",
       "</style>\n",
       "<table border=\"1\" class=\"dataframe\">\n",
       "  <thead>\n",
       "    <tr style=\"text-align: right;\">\n",
       "      <th></th>\n",
       "      <th>A</th>\n",
       "      <th>B</th>\n",
       "    </tr>\n",
       "  </thead>\n",
       "  <tbody>\n",
       "    <tr>\n",
       "      <th>0</th>\n",
       "      <td>A1</td>\n",
       "      <td>B1</td>\n",
       "    </tr>\n",
       "    <tr>\n",
       "      <th>1</th>\n",
       "      <td>A2</td>\n",
       "      <td>B2</td>\n",
       "    </tr>\n",
       "    <tr>\n",
       "      <th>0</th>\n",
       "      <td>A3</td>\n",
       "      <td>B3</td>\n",
       "    </tr>\n",
       "    <tr>\n",
       "      <th>1</th>\n",
       "      <td>A4</td>\n",
       "      <td>B4</td>\n",
       "    </tr>\n",
       "  </tbody>\n",
       "</table>\n",
       "</div>"
      ],
      "text/plain": [
       "    A   B\n",
       "0  A1  B1\n",
       "1  A2  B2\n",
       "0  A3  B3\n",
       "1  A4  B4"
      ]
     },
     "execution_count": 107,
     "metadata": {},
     "output_type": "execute_result"
    }
   ],
   "source": [
    "pd.concat([df_1, df_2])"
   ]
  },
  {
   "cell_type": "markdown",
   "id": "1072486f-66e0-4b48-ad0d-6d6c502a3207",
   "metadata": {},
   "source": [
    "### Juntar DataFrames lado a lado (horizontal):"
   ]
  },
  {
   "cell_type": "code",
   "execution_count": 109,
   "id": "794a7863-8d7e-4f63-95d0-cc36c17ba5b7",
   "metadata": {},
   "outputs": [
    {
     "data": {
      "text/html": [
       "<div>\n",
       "<style scoped>\n",
       "    .dataframe tbody tr th:only-of-type {\n",
       "        vertical-align: middle;\n",
       "    }\n",
       "\n",
       "    .dataframe tbody tr th {\n",
       "        vertical-align: top;\n",
       "    }\n",
       "\n",
       "    .dataframe thead th {\n",
       "        text-align: right;\n",
       "    }\n",
       "</style>\n",
       "<table border=\"1\" class=\"dataframe\">\n",
       "  <thead>\n",
       "    <tr style=\"text-align: right;\">\n",
       "      <th></th>\n",
       "      <th>A</th>\n",
       "      <th>B</th>\n",
       "      <th>A</th>\n",
       "      <th>B</th>\n",
       "    </tr>\n",
       "  </thead>\n",
       "  <tbody>\n",
       "    <tr>\n",
       "      <th>0</th>\n",
       "      <td>A1</td>\n",
       "      <td>B1</td>\n",
       "      <td>A3</td>\n",
       "      <td>B3</td>\n",
       "    </tr>\n",
       "    <tr>\n",
       "      <th>1</th>\n",
       "      <td>A2</td>\n",
       "      <td>B2</td>\n",
       "      <td>A4</td>\n",
       "      <td>B4</td>\n",
       "    </tr>\n",
       "  </tbody>\n",
       "</table>\n",
       "</div>"
      ],
      "text/plain": [
       "    A   B   A   B\n",
       "0  A1  B1  A3  B3\n",
       "1  A2  B2  A4  B4"
      ]
     },
     "execution_count": 109,
     "metadata": {},
     "output_type": "execute_result"
    }
   ],
   "source": [
    "pd.concat([df_1, df_2], axis=1)"
   ]
  },
  {
   "cell_type": "markdown",
   "id": "db046dc5-bce8-49f1-a4c3-ccbde59c0f21",
   "metadata": {},
   "source": [
    "## 1.7.2. merge() - Juntar como no SQL (por chave):\n",
    "\n",
    " Serve para:\n",
    "- Juntar DataFrames com base em uma coluna em comum (chave).\n",
    "-  Igual ao JOIN do SQL.\n",
    "\n",
    "Pense assim: _Juntar duas tabelas onde existe uma coluna em comum, tipo ID, CPF, produto, etc._\n",
    "\n",
    "**Dicas importantes:**\n",
    "- Sempre confira se as colunas-chaves estão com nomes idênticos antes de fazer merge.\n",
    "- Para merges com nomes de colunas diferentes: **`|pd.merge(df1, df2, left_on='coluna1', right_on='coluna2')|`**\n",
    "- No concat(), os dados podem ficar desalinhados se as colunas forem diferentes."
   ]
  },
  {
   "cell_type": "code",
   "execution_count": 110,
   "id": "28e3a15e-b948-4657-9e62-bafeaaaf1c1d",
   "metadata": {},
   "outputs": [],
   "source": [
    "# Exemplo:\n",
    "df_1 = pd.DataFrame({'ID': [1, 2, 3], 'Nome': ['Ana', 'Bruno', 'Carla']})\n",
    "df_2 = pd.DataFrame({'ID': [1, 2, 4], 'Cidade': ['SP', 'RJ', 'MG']})"
   ]
  },
  {
   "cell_type": "code",
   "execution_count": 111,
   "id": "d7350e79-0208-4ffe-9fb5-50915f608147",
   "metadata": {},
   "outputs": [
    {
     "data": {
      "text/html": [
       "<div>\n",
       "<style scoped>\n",
       "    .dataframe tbody tr th:only-of-type {\n",
       "        vertical-align: middle;\n",
       "    }\n",
       "\n",
       "    .dataframe tbody tr th {\n",
       "        vertical-align: top;\n",
       "    }\n",
       "\n",
       "    .dataframe thead th {\n",
       "        text-align: right;\n",
       "    }\n",
       "</style>\n",
       "<table border=\"1\" class=\"dataframe\">\n",
       "  <thead>\n",
       "    <tr style=\"text-align: right;\">\n",
       "      <th></th>\n",
       "      <th>ID</th>\n",
       "      <th>Nome</th>\n",
       "    </tr>\n",
       "  </thead>\n",
       "  <tbody>\n",
       "    <tr>\n",
       "      <th>0</th>\n",
       "      <td>1</td>\n",
       "      <td>Ana</td>\n",
       "    </tr>\n",
       "    <tr>\n",
       "      <th>1</th>\n",
       "      <td>2</td>\n",
       "      <td>Bruno</td>\n",
       "    </tr>\n",
       "    <tr>\n",
       "      <th>2</th>\n",
       "      <td>3</td>\n",
       "      <td>Carla</td>\n",
       "    </tr>\n",
       "  </tbody>\n",
       "</table>\n",
       "</div>"
      ],
      "text/plain": [
       "   ID   Nome\n",
       "0   1    Ana\n",
       "1   2  Bruno\n",
       "2   3  Carla"
      ]
     },
     "execution_count": 111,
     "metadata": {},
     "output_type": "execute_result"
    }
   ],
   "source": [
    "df_1"
   ]
  },
  {
   "cell_type": "code",
   "execution_count": 112,
   "id": "37ad5fe0-3ce9-4542-a70b-d2148344a322",
   "metadata": {},
   "outputs": [
    {
     "data": {
      "text/html": [
       "<div>\n",
       "<style scoped>\n",
       "    .dataframe tbody tr th:only-of-type {\n",
       "        vertical-align: middle;\n",
       "    }\n",
       "\n",
       "    .dataframe tbody tr th {\n",
       "        vertical-align: top;\n",
       "    }\n",
       "\n",
       "    .dataframe thead th {\n",
       "        text-align: right;\n",
       "    }\n",
       "</style>\n",
       "<table border=\"1\" class=\"dataframe\">\n",
       "  <thead>\n",
       "    <tr style=\"text-align: right;\">\n",
       "      <th></th>\n",
       "      <th>ID</th>\n",
       "      <th>Cidade</th>\n",
       "    </tr>\n",
       "  </thead>\n",
       "  <tbody>\n",
       "    <tr>\n",
       "      <th>0</th>\n",
       "      <td>1</td>\n",
       "      <td>SP</td>\n",
       "    </tr>\n",
       "    <tr>\n",
       "      <th>1</th>\n",
       "      <td>2</td>\n",
       "      <td>RJ</td>\n",
       "    </tr>\n",
       "    <tr>\n",
       "      <th>2</th>\n",
       "      <td>4</td>\n",
       "      <td>MG</td>\n",
       "    </tr>\n",
       "  </tbody>\n",
       "</table>\n",
       "</div>"
      ],
      "text/plain": [
       "   ID Cidade\n",
       "0   1     SP\n",
       "1   2     RJ\n",
       "2   4     MG"
      ]
     },
     "execution_count": 112,
     "metadata": {},
     "output_type": "execute_result"
    }
   ],
   "source": [
    "df_2"
   ]
  },
  {
   "cell_type": "code",
   "execution_count": 114,
   "id": "1e360871-f289-4492-a91a-9e33f4ca75dd",
   "metadata": {},
   "outputs": [
    {
     "data": {
      "text/html": [
       "<div>\n",
       "<style scoped>\n",
       "    .dataframe tbody tr th:only-of-type {\n",
       "        vertical-align: middle;\n",
       "    }\n",
       "\n",
       "    .dataframe tbody tr th {\n",
       "        vertical-align: top;\n",
       "    }\n",
       "\n",
       "    .dataframe thead th {\n",
       "        text-align: right;\n",
       "    }\n",
       "</style>\n",
       "<table border=\"1\" class=\"dataframe\">\n",
       "  <thead>\n",
       "    <tr style=\"text-align: right;\">\n",
       "      <th></th>\n",
       "      <th>ID</th>\n",
       "      <th>Nome</th>\n",
       "      <th>Cidade</th>\n",
       "    </tr>\n",
       "  </thead>\n",
       "  <tbody>\n",
       "    <tr>\n",
       "      <th>0</th>\n",
       "      <td>1</td>\n",
       "      <td>Ana</td>\n",
       "      <td>SP</td>\n",
       "    </tr>\n",
       "    <tr>\n",
       "      <th>1</th>\n",
       "      <td>2</td>\n",
       "      <td>Bruno</td>\n",
       "      <td>RJ</td>\n",
       "    </tr>\n",
       "  </tbody>\n",
       "</table>\n",
       "</div>"
      ],
      "text/plain": [
       "   ID   Nome Cidade\n",
       "0   1    Ana     SP\n",
       "1   2  Bruno     RJ"
      ]
     },
     "execution_count": 114,
     "metadata": {},
     "output_type": "execute_result"
    }
   ],
   "source": [
    "pd.merge(df_1, df_2, on='ID')"
   ]
  },
  {
   "cell_type": "markdown",
   "id": "4cc72ed8-385e-40f7-abe0-e1f825fa9162",
   "metadata": {},
   "source": [
    "✔️ Só aparecem os IDs que existem nos dois DataFrames.\n",
    "\n",
    "### Tipos de Merge:\n",
    "\n",
    "| Tipo de Merge    | Descrição                        | Código                                     |\n",
    "| ---------------- | -------------------------------- | ------------------------------------------ |\n",
    "| `inner` (padrão) | Só o que existe nos dois         | `pd.merge(df1, df2, on='ID', how='inner')` |\n",
    "| `left`           | Tudo do DF1 + combinações do DF2 | `how='left'`                               |\n",
    "| `right`          | Tudo do DF2 + combinações do DF1 | `how='right'`                              |\n",
    "| `outer`          | Todos os dados dos dois DF       | `how='outer'`                              |\n"
   ]
  },
  {
   "cell_type": "markdown",
   "id": "c9361482-66c3-49d3-aeff-2f08ed239a8f",
   "metadata": {},
   "source": [
    "## 1.7.3. join() - Juntar usando o índice como chave:\n",
    "\n",
    "Serve para:\n",
    "- Juntar DataFrames pelos seus índices (não colunas)."
   ]
  },
  {
   "cell_type": "code",
   "execution_count": 115,
   "id": "c2fb6ae4-bb4e-4582-a1fc-c7fd7b188744",
   "metadata": {},
   "outputs": [],
   "source": [
    "# Exemplo:\n",
    "df_1 = pd.DataFrame({'Nome': ['Ana', 'Bruno', 'Carla']}, index=[1,2,3])\n",
    "df_2 = pd.DataFrame({'Idade': [25,30,22]}, index=[1,2,3])"
   ]
  },
  {
   "cell_type": "code",
   "execution_count": 116,
   "id": "cb03405f-50a0-490f-990a-581a7fea451d",
   "metadata": {},
   "outputs": [
    {
     "data": {
      "text/html": [
       "<div>\n",
       "<style scoped>\n",
       "    .dataframe tbody tr th:only-of-type {\n",
       "        vertical-align: middle;\n",
       "    }\n",
       "\n",
       "    .dataframe tbody tr th {\n",
       "        vertical-align: top;\n",
       "    }\n",
       "\n",
       "    .dataframe thead th {\n",
       "        text-align: right;\n",
       "    }\n",
       "</style>\n",
       "<table border=\"1\" class=\"dataframe\">\n",
       "  <thead>\n",
       "    <tr style=\"text-align: right;\">\n",
       "      <th></th>\n",
       "      <th>Nome</th>\n",
       "    </tr>\n",
       "  </thead>\n",
       "  <tbody>\n",
       "    <tr>\n",
       "      <th>1</th>\n",
       "      <td>Ana</td>\n",
       "    </tr>\n",
       "    <tr>\n",
       "      <th>2</th>\n",
       "      <td>Bruno</td>\n",
       "    </tr>\n",
       "    <tr>\n",
       "      <th>3</th>\n",
       "      <td>Carla</td>\n",
       "    </tr>\n",
       "  </tbody>\n",
       "</table>\n",
       "</div>"
      ],
      "text/plain": [
       "    Nome\n",
       "1    Ana\n",
       "2  Bruno\n",
       "3  Carla"
      ]
     },
     "execution_count": 116,
     "metadata": {},
     "output_type": "execute_result"
    }
   ],
   "source": [
    "df_1"
   ]
  },
  {
   "cell_type": "code",
   "execution_count": 117,
   "id": "92324d96-91cb-4f6e-a377-0e8d760bd31f",
   "metadata": {},
   "outputs": [
    {
     "data": {
      "text/html": [
       "<div>\n",
       "<style scoped>\n",
       "    .dataframe tbody tr th:only-of-type {\n",
       "        vertical-align: middle;\n",
       "    }\n",
       "\n",
       "    .dataframe tbody tr th {\n",
       "        vertical-align: top;\n",
       "    }\n",
       "\n",
       "    .dataframe thead th {\n",
       "        text-align: right;\n",
       "    }\n",
       "</style>\n",
       "<table border=\"1\" class=\"dataframe\">\n",
       "  <thead>\n",
       "    <tr style=\"text-align: right;\">\n",
       "      <th></th>\n",
       "      <th>Idade</th>\n",
       "    </tr>\n",
       "  </thead>\n",
       "  <tbody>\n",
       "    <tr>\n",
       "      <th>1</th>\n",
       "      <td>25</td>\n",
       "    </tr>\n",
       "    <tr>\n",
       "      <th>2</th>\n",
       "      <td>30</td>\n",
       "    </tr>\n",
       "    <tr>\n",
       "      <th>3</th>\n",
       "      <td>22</td>\n",
       "    </tr>\n",
       "  </tbody>\n",
       "</table>\n",
       "</div>"
      ],
      "text/plain": [
       "   Idade\n",
       "1     25\n",
       "2     30\n",
       "3     22"
      ]
     },
     "execution_count": 117,
     "metadata": {},
     "output_type": "execute_result"
    }
   ],
   "source": [
    "df_2"
   ]
  },
  {
   "cell_type": "code",
   "execution_count": 119,
   "id": "9c1d303b-4601-4154-9bd6-6719701d3447",
   "metadata": {},
   "outputs": [
    {
     "data": {
      "text/html": [
       "<div>\n",
       "<style scoped>\n",
       "    .dataframe tbody tr th:only-of-type {\n",
       "        vertical-align: middle;\n",
       "    }\n",
       "\n",
       "    .dataframe tbody tr th {\n",
       "        vertical-align: top;\n",
       "    }\n",
       "\n",
       "    .dataframe thead th {\n",
       "        text-align: right;\n",
       "    }\n",
       "</style>\n",
       "<table border=\"1\" class=\"dataframe\">\n",
       "  <thead>\n",
       "    <tr style=\"text-align: right;\">\n",
       "      <th></th>\n",
       "      <th>Nome</th>\n",
       "      <th>Idade</th>\n",
       "    </tr>\n",
       "  </thead>\n",
       "  <tbody>\n",
       "    <tr>\n",
       "      <th>1</th>\n",
       "      <td>Ana</td>\n",
       "      <td>25</td>\n",
       "    </tr>\n",
       "    <tr>\n",
       "      <th>2</th>\n",
       "      <td>Bruno</td>\n",
       "      <td>30</td>\n",
       "    </tr>\n",
       "    <tr>\n",
       "      <th>3</th>\n",
       "      <td>Carla</td>\n",
       "      <td>22</td>\n",
       "    </tr>\n",
       "  </tbody>\n",
       "</table>\n",
       "</div>"
      ],
      "text/plain": [
       "    Nome  Idade\n",
       "1    Ana     25\n",
       "2  Bruno     30\n",
       "3  Carla     22"
      ]
     },
     "execution_count": 119,
     "metadata": {},
     "output_type": "execute_result"
    }
   ],
   "source": [
    "df_1.join(df_2)"
   ]
  },
  {
   "cell_type": "markdown",
   "id": "72e077b7-94a8-405f-8da1-c3853bab05c1",
   "metadata": {},
   "source": [
    "✔️ Juntou automaticamente pelos índices iguais."
   ]
  },
  {
   "cell_type": "markdown",
   "id": "9b706215-81ed-4f0f-9bf4-49730b84f713",
   "metadata": {},
   "source": [
    "## Resumo:\n",
    "\n",
    "| Método     | Usa chave?       | Usa índice?  | Exemplo útil             | Parecido com        |\n",
    "| ---------- | ---------------- | ------------ | ------------------------ | ------------------- |\n",
    "| `concat()` | Não (só empilha) | Não          | Empilhar ou lado a lado  | \"Copiar e colar\"    |\n",
    "| `merge()`  | Sim (coluna)     | Não          | Juntar por coluna comum  | SQL JOIN            |\n",
    "| `join()`   | Não              | Sim (índice) | Juntar baseado no índice | SQL JOIN por índice |\n"
   ]
  },
  {
   "cell_type": "markdown",
   "id": "d2e0af2d-6ba8-4979-82c8-fd7f313edd0f",
   "metadata": {},
   "source": [
    "___"
   ]
  },
  {
   "cell_type": "markdown",
   "id": "317c0f72-45ad-459a-b97d-17941b5563ba",
   "metadata": {},
   "source": [
    "# 1.8. Operações com DataFrames\n",
    "Depois que você entende bem o que é um DataFrame, o próximo passo natural é aprender a fazer operações com DataFrames — algo que você usará muito no dia a dia de análise de dados.\n",
    "\n",
    "## O que são \"operações com DataFrames\"?\n",
    "São ações que podemos realizar entre colunas, entre linhas, entre dois DataFrames ou com constantes.\n",
    "\n",
    "**Exemplos:**\n",
    "- Soma de colunas\n",
    "- Subtração entre DataFrames\n",
    "- Operações aritméticas\n",
    "- Comparações\n",
    "- Aplicação de funções"
   ]
  },
  {
   "cell_type": "code",
   "execution_count": 121,
   "id": "f7ea6dfd-858f-456e-a54a-41fe820b09b5",
   "metadata": {},
   "outputs": [],
   "source": [
    "df = pd.DataFrame({\n",
    "    'Produto': ['A', 'B', 'C'],\n",
    "    'Preço': [10, 20, 15],\n",
    "    'Quantidade': [2, 1, 3]\n",
    "})"
   ]
  },
  {
   "cell_type": "code",
   "execution_count": 122,
   "id": "29691b88-0f53-481a-b715-c3fdca0f5864",
   "metadata": {},
   "outputs": [
    {
     "data": {
      "text/html": [
       "<div>\n",
       "<style scoped>\n",
       "    .dataframe tbody tr th:only-of-type {\n",
       "        vertical-align: middle;\n",
       "    }\n",
       "\n",
       "    .dataframe tbody tr th {\n",
       "        vertical-align: top;\n",
       "    }\n",
       "\n",
       "    .dataframe thead th {\n",
       "        text-align: right;\n",
       "    }\n",
       "</style>\n",
       "<table border=\"1\" class=\"dataframe\">\n",
       "  <thead>\n",
       "    <tr style=\"text-align: right;\">\n",
       "      <th></th>\n",
       "      <th>Produto</th>\n",
       "      <th>Preço</th>\n",
       "      <th>Quantidade</th>\n",
       "    </tr>\n",
       "  </thead>\n",
       "  <tbody>\n",
       "    <tr>\n",
       "      <th>0</th>\n",
       "      <td>A</td>\n",
       "      <td>10</td>\n",
       "      <td>2</td>\n",
       "    </tr>\n",
       "    <tr>\n",
       "      <th>1</th>\n",
       "      <td>B</td>\n",
       "      <td>20</td>\n",
       "      <td>1</td>\n",
       "    </tr>\n",
       "    <tr>\n",
       "      <th>2</th>\n",
       "      <td>C</td>\n",
       "      <td>15</td>\n",
       "      <td>3</td>\n",
       "    </tr>\n",
       "  </tbody>\n",
       "</table>\n",
       "</div>"
      ],
      "text/plain": [
       "  Produto  Preço  Quantidade\n",
       "0       A     10           2\n",
       "1       B     20           1\n",
       "2       C     15           3"
      ]
     },
     "execution_count": 122,
     "metadata": {},
     "output_type": "execute_result"
    }
   ],
   "source": [
    "df"
   ]
  },
  {
   "cell_type": "markdown",
   "id": "73547027-a0e5-4d0e-b73d-969c566b3c63",
   "metadata": {},
   "source": [
    "## Tipos de operações comuns:\n",
    "\n",
    "### 1. Operações aritmeticas comuns"
   ]
  },
  {
   "cell_type": "code",
   "execution_count": 125,
   "id": "3df44a94-9c63-471e-9445-776f1965cd45",
   "metadata": {},
   "outputs": [],
   "source": [
    "# Quero o valor total dos produtos (A quantidade multiplicado pelo preço\n",
    "df['Total'] = df['Preço'] * df['Quantidade']"
   ]
  },
  {
   "cell_type": "code",
   "execution_count": 124,
   "id": "b5f28a92-fae6-403a-b8b0-525c8a50ee66",
   "metadata": {},
   "outputs": [
    {
     "data": {
      "text/html": [
       "<div>\n",
       "<style scoped>\n",
       "    .dataframe tbody tr th:only-of-type {\n",
       "        vertical-align: middle;\n",
       "    }\n",
       "\n",
       "    .dataframe tbody tr th {\n",
       "        vertical-align: top;\n",
       "    }\n",
       "\n",
       "    .dataframe thead th {\n",
       "        text-align: right;\n",
       "    }\n",
       "</style>\n",
       "<table border=\"1\" class=\"dataframe\">\n",
       "  <thead>\n",
       "    <tr style=\"text-align: right;\">\n",
       "      <th></th>\n",
       "      <th>Produto</th>\n",
       "      <th>Preço</th>\n",
       "      <th>Quantidade</th>\n",
       "      <th>Total</th>\n",
       "    </tr>\n",
       "  </thead>\n",
       "  <tbody>\n",
       "    <tr>\n",
       "      <th>0</th>\n",
       "      <td>A</td>\n",
       "      <td>10</td>\n",
       "      <td>2</td>\n",
       "      <td>20</td>\n",
       "    </tr>\n",
       "    <tr>\n",
       "      <th>1</th>\n",
       "      <td>B</td>\n",
       "      <td>20</td>\n",
       "      <td>1</td>\n",
       "      <td>20</td>\n",
       "    </tr>\n",
       "    <tr>\n",
       "      <th>2</th>\n",
       "      <td>C</td>\n",
       "      <td>15</td>\n",
       "      <td>3</td>\n",
       "      <td>45</td>\n",
       "    </tr>\n",
       "  </tbody>\n",
       "</table>\n",
       "</div>"
      ],
      "text/plain": [
       "  Produto  Preço  Quantidade  Total\n",
       "0       A     10           2     20\n",
       "1       B     20           1     20\n",
       "2       C     15           3     45"
      ]
     },
     "execution_count": 124,
     "metadata": {},
     "output_type": "execute_result"
    }
   ],
   "source": [
    "df"
   ]
  },
  {
   "cell_type": "markdown",
   "id": "a0f9c6e5-6ab2-48a1-b73a-9e2fa0e8785a",
   "metadata": {},
   "source": [
    "### 2. Operações Aritméticas com Constantes:"
   ]
  },
  {
   "cell_type": "code",
   "execution_count": 126,
   "id": "bb8c7ad2-73f0-4753-a043-568b83b700eb",
   "metadata": {},
   "outputs": [],
   "source": [
    "df['Preço_com_Desconto'] = df['Preço'] * 0.9   # 10% de desconto"
   ]
  },
  {
   "cell_type": "code",
   "execution_count": 127,
   "id": "dc462e44-cda8-45d4-a288-9aac0f6f338e",
   "metadata": {},
   "outputs": [
    {
     "data": {
      "text/html": [
       "<div>\n",
       "<style scoped>\n",
       "    .dataframe tbody tr th:only-of-type {\n",
       "        vertical-align: middle;\n",
       "    }\n",
       "\n",
       "    .dataframe tbody tr th {\n",
       "        vertical-align: top;\n",
       "    }\n",
       "\n",
       "    .dataframe thead th {\n",
       "        text-align: right;\n",
       "    }\n",
       "</style>\n",
       "<table border=\"1\" class=\"dataframe\">\n",
       "  <thead>\n",
       "    <tr style=\"text-align: right;\">\n",
       "      <th></th>\n",
       "      <th>Produto</th>\n",
       "      <th>Preço</th>\n",
       "      <th>Quantidade</th>\n",
       "      <th>Total</th>\n",
       "      <th>Preço_com_Desconto</th>\n",
       "    </tr>\n",
       "  </thead>\n",
       "  <tbody>\n",
       "    <tr>\n",
       "      <th>0</th>\n",
       "      <td>A</td>\n",
       "      <td>10</td>\n",
       "      <td>2</td>\n",
       "      <td>20</td>\n",
       "      <td>9.0</td>\n",
       "    </tr>\n",
       "    <tr>\n",
       "      <th>1</th>\n",
       "      <td>B</td>\n",
       "      <td>20</td>\n",
       "      <td>1</td>\n",
       "      <td>20</td>\n",
       "      <td>18.0</td>\n",
       "    </tr>\n",
       "    <tr>\n",
       "      <th>2</th>\n",
       "      <td>C</td>\n",
       "      <td>15</td>\n",
       "      <td>3</td>\n",
       "      <td>45</td>\n",
       "      <td>13.5</td>\n",
       "    </tr>\n",
       "  </tbody>\n",
       "</table>\n",
       "</div>"
      ],
      "text/plain": [
       "  Produto  Preço  Quantidade  Total  Preço_com_Desconto\n",
       "0       A     10           2     20                 9.0\n",
       "1       B     20           1     20                18.0\n",
       "2       C     15           3     45                13.5"
      ]
     },
     "execution_count": 127,
     "metadata": {},
     "output_type": "execute_result"
    }
   ],
   "source": [
    "df"
   ]
  },
  {
   "cell_type": "markdown",
   "id": "57fe7ce1-5300-46d1-80f6-a18d2fa845ee",
   "metadata": {},
   "source": [
    "### 3. Operações entre DataFrames (Mesmo formato):"
   ]
  },
  {
   "cell_type": "code",
   "execution_count": 129,
   "id": "490c1871-993e-4119-b69a-8931465dbb88",
   "metadata": {},
   "outputs": [
    {
     "data": {
      "text/html": [
       "<div>\n",
       "<style scoped>\n",
       "    .dataframe tbody tr th:only-of-type {\n",
       "        vertical-align: middle;\n",
       "    }\n",
       "\n",
       "    .dataframe tbody tr th {\n",
       "        vertical-align: top;\n",
       "    }\n",
       "\n",
       "    .dataframe thead th {\n",
       "        text-align: right;\n",
       "    }\n",
       "</style>\n",
       "<table border=\"1\" class=\"dataframe\">\n",
       "  <thead>\n",
       "    <tr style=\"text-align: right;\">\n",
       "      <th></th>\n",
       "      <th>A</th>\n",
       "      <th>B</th>\n",
       "    </tr>\n",
       "  </thead>\n",
       "  <tbody>\n",
       "    <tr>\n",
       "      <th>0</th>\n",
       "      <td>6</td>\n",
       "      <td>10</td>\n",
       "    </tr>\n",
       "    <tr>\n",
       "      <th>1</th>\n",
       "      <td>8</td>\n",
       "      <td>12</td>\n",
       "    </tr>\n",
       "  </tbody>\n",
       "</table>\n",
       "</div>"
      ],
      "text/plain": [
       "   A   B\n",
       "0  6  10\n",
       "1  8  12"
      ]
     },
     "execution_count": 129,
     "metadata": {},
     "output_type": "execute_result"
    }
   ],
   "source": [
    "df1 = pd.DataFrame({'A': [1, 2], 'B': [3, 4]})\n",
    "df2 = pd.DataFrame({'A': [5, 6], 'B': [7, 8]})\n",
    "\n",
    "df1 + df2"
   ]
  },
  {
   "cell_type": "markdown",
   "id": "f3ce2f28-b117-4f9d-96aa-fa929fd33388",
   "metadata": {},
   "source": [
    "### 4. Operações lógicas (Comparações):"
   ]
  },
  {
   "cell_type": "code",
   "execution_count": 132,
   "id": "2825f4b2-8cde-4ff3-8959-83c600f3bc08",
   "metadata": {},
   "outputs": [],
   "source": [
    "df['Caro'] = df['Preço'] > 15 # Se 'Preço' for maior que 15, significa que ele é caro, então retorna 'True'"
   ]
  },
  {
   "cell_type": "code",
   "execution_count": 131,
   "id": "5cf6bd81-0849-4d00-9d50-5ef083481af1",
   "metadata": {},
   "outputs": [
    {
     "data": {
      "text/html": [
       "<div>\n",
       "<style scoped>\n",
       "    .dataframe tbody tr th:only-of-type {\n",
       "        vertical-align: middle;\n",
       "    }\n",
       "\n",
       "    .dataframe tbody tr th {\n",
       "        vertical-align: top;\n",
       "    }\n",
       "\n",
       "    .dataframe thead th {\n",
       "        text-align: right;\n",
       "    }\n",
       "</style>\n",
       "<table border=\"1\" class=\"dataframe\">\n",
       "  <thead>\n",
       "    <tr style=\"text-align: right;\">\n",
       "      <th></th>\n",
       "      <th>Produto</th>\n",
       "      <th>Preço</th>\n",
       "      <th>Quantidade</th>\n",
       "      <th>Total</th>\n",
       "      <th>Preço_com_Desconto</th>\n",
       "      <th>Caro</th>\n",
       "    </tr>\n",
       "  </thead>\n",
       "  <tbody>\n",
       "    <tr>\n",
       "      <th>0</th>\n",
       "      <td>A</td>\n",
       "      <td>10</td>\n",
       "      <td>2</td>\n",
       "      <td>20</td>\n",
       "      <td>9.0</td>\n",
       "      <td>False</td>\n",
       "    </tr>\n",
       "    <tr>\n",
       "      <th>1</th>\n",
       "      <td>B</td>\n",
       "      <td>20</td>\n",
       "      <td>1</td>\n",
       "      <td>20</td>\n",
       "      <td>18.0</td>\n",
       "      <td>True</td>\n",
       "    </tr>\n",
       "    <tr>\n",
       "      <th>2</th>\n",
       "      <td>C</td>\n",
       "      <td>15</td>\n",
       "      <td>3</td>\n",
       "      <td>45</td>\n",
       "      <td>13.5</td>\n",
       "      <td>False</td>\n",
       "    </tr>\n",
       "  </tbody>\n",
       "</table>\n",
       "</div>"
      ],
      "text/plain": [
       "  Produto  Preço  Quantidade  Total  Preço_com_Desconto   Caro\n",
       "0       A     10           2     20                 9.0  False\n",
       "1       B     20           1     20                18.0   True\n",
       "2       C     15           3     45                13.5  False"
      ]
     },
     "execution_count": 131,
     "metadata": {},
     "output_type": "execute_result"
    }
   ],
   "source": [
    "df"
   ]
  },
  {
   "cell_type": "markdown",
   "id": "3b38bd95-4658-4878-b3da-6218139abc09",
   "metadata": {},
   "source": [
    "### 5. Estatísticas rápidas:"
   ]
  },
  {
   "cell_type": "code",
   "execution_count": 135,
   "id": "c566f78f-a536-485e-a574-717c1441f671",
   "metadata": {},
   "outputs": [
    {
     "data": {
      "text/plain": [
       "np.int64(45)"
      ]
     },
     "execution_count": 135,
     "metadata": {},
     "output_type": "execute_result"
    }
   ],
   "source": [
    "df['Preço'].sum()     # Soma total"
   ]
  },
  {
   "cell_type": "code",
   "execution_count": 136,
   "id": "159167a2-c7cf-47d2-b4a5-40a61d66cfa7",
   "metadata": {},
   "outputs": [
    {
     "data": {
      "text/plain": [
       "np.float64(15.0)"
      ]
     },
     "execution_count": 136,
     "metadata": {},
     "output_type": "execute_result"
    }
   ],
   "source": [
    "df['Preço'].mean()    # Média"
   ]
  },
  {
   "cell_type": "code",
   "execution_count": 137,
   "id": "e4a39af8-1380-4043-ac6f-92c8d7c2e72b",
   "metadata": {},
   "outputs": [
    {
     "data": {
      "text/plain": [
       "np.int64(10)"
      ]
     },
     "execution_count": 137,
     "metadata": {},
     "output_type": "execute_result"
    }
   ],
   "source": [
    "df['Preço'].min()     # Mínimo"
   ]
  },
  {
   "cell_type": "code",
   "execution_count": 138,
   "id": "d8b99d10-16ec-4b47-9c76-d6a43708ea7a",
   "metadata": {},
   "outputs": [
    {
     "data": {
      "text/plain": [
       "np.int64(20)"
      ]
     },
     "execution_count": 138,
     "metadata": {},
     "output_type": "execute_result"
    }
   ],
   "source": [
    "df['Preço'].max()     # Máximo"
   ]
  },
  {
   "cell_type": "code",
   "execution_count": 139,
   "id": "edeed1c4-f9dd-462b-a522-3fd8ae03eddf",
   "metadata": {},
   "outputs": [
    {
     "data": {
      "text/plain": [
       "np.float64(5.0)"
      ]
     },
     "execution_count": 139,
     "metadata": {},
     "output_type": "execute_result"
    }
   ],
   "source": [
    "df['Preço'].std()     # Desvio padrão"
   ]
  },
  {
   "cell_type": "markdown",
   "id": "83cb7442-d19c-45a6-9315-c9fa849980ec",
   "metadata": {},
   "source": [
    "### 6. Aplicando funções com `.apply()`"
   ]
  },
  {
   "cell_type": "code",
   "execution_count": 146,
   "id": "933229d7-c27c-4128-9c86-3634784fbcfa",
   "metadata": {},
   "outputs": [],
   "source": [
    "df['Preço_formatado'] = df['Preço'].apply(lambda x: f'R${x:.2f}')"
   ]
  },
  {
   "cell_type": "code",
   "execution_count": 147,
   "id": "493f2637-fedc-4cd5-9e55-1c37f253b829",
   "metadata": {},
   "outputs": [
    {
     "data": {
      "text/html": [
       "<div>\n",
       "<style scoped>\n",
       "    .dataframe tbody tr th:only-of-type {\n",
       "        vertical-align: middle;\n",
       "    }\n",
       "\n",
       "    .dataframe tbody tr th {\n",
       "        vertical-align: top;\n",
       "    }\n",
       "\n",
       "    .dataframe thead th {\n",
       "        text-align: right;\n",
       "    }\n",
       "</style>\n",
       "<table border=\"1\" class=\"dataframe\">\n",
       "  <thead>\n",
       "    <tr style=\"text-align: right;\">\n",
       "      <th></th>\n",
       "      <th>Produto</th>\n",
       "      <th>Preço</th>\n",
       "      <th>Quantidade</th>\n",
       "      <th>Total</th>\n",
       "      <th>Preço_com_Desconto</th>\n",
       "      <th>Caro</th>\n",
       "      <th>Preço_formatado</th>\n",
       "    </tr>\n",
       "  </thead>\n",
       "  <tbody>\n",
       "    <tr>\n",
       "      <th>0</th>\n",
       "      <td>A</td>\n",
       "      <td>10</td>\n",
       "      <td>2</td>\n",
       "      <td>20</td>\n",
       "      <td>9.0</td>\n",
       "      <td>False</td>\n",
       "      <td>R$10.00</td>\n",
       "    </tr>\n",
       "    <tr>\n",
       "      <th>1</th>\n",
       "      <td>B</td>\n",
       "      <td>20</td>\n",
       "      <td>1</td>\n",
       "      <td>20</td>\n",
       "      <td>18.0</td>\n",
       "      <td>True</td>\n",
       "      <td>R$20.00</td>\n",
       "    </tr>\n",
       "    <tr>\n",
       "      <th>2</th>\n",
       "      <td>C</td>\n",
       "      <td>15</td>\n",
       "      <td>3</td>\n",
       "      <td>45</td>\n",
       "      <td>13.5</td>\n",
       "      <td>False</td>\n",
       "      <td>R$15.00</td>\n",
       "    </tr>\n",
       "  </tbody>\n",
       "</table>\n",
       "</div>"
      ],
      "text/plain": [
       "  Produto  Preço  Quantidade  Total  Preço_com_Desconto   Caro Preço_formatado\n",
       "0       A     10           2     20                 9.0  False         R$10.00\n",
       "1       B     20           1     20                18.0   True         R$20.00\n",
       "2       C     15           3     45                13.5  False         R$15.00"
      ]
     },
     "execution_count": 147,
     "metadata": {},
     "output_type": "execute_result"
    }
   ],
   "source": [
    "df"
   ]
  },
  {
   "cell_type": "markdown",
   "id": "6fafa471-5672-4915-8f46-e5e0e80b88c4",
   "metadata": {},
   "source": [
    "### Outras coisas:"
   ]
  },
  {
   "cell_type": "code",
   "execution_count": 141,
   "id": "ed1b547d-7bfa-4a57-b186-b74f63f7e7cb",
   "metadata": {},
   "outputs": [
    {
     "name": "stdout",
     "output_type": "stream",
     "text": [
      "<class 'pandas.core.frame.DataFrame'>\n",
      "RangeIndex: 3 entries, 0 to 2\n",
      "Data columns (total 6 columns):\n",
      " #   Column              Non-Null Count  Dtype  \n",
      "---  ------              --------------  -----  \n",
      " 0   Produto             3 non-null      object \n",
      " 1   Preço               3 non-null      int64  \n",
      " 2   Quantidade          3 non-null      int64  \n",
      " 3   Total               3 non-null      int64  \n",
      " 4   Preço_com_Desconto  3 non-null      float64\n",
      " 5   Caro                3 non-null      bool   \n",
      "dtypes: bool(1), float64(1), int64(3), object(1)\n",
      "memory usage: 255.0+ bytes\n"
     ]
    }
   ],
   "source": [
    "df.info()"
   ]
  },
  {
   "cell_type": "code",
   "execution_count": 142,
   "id": "a3de5332-e5e1-4f70-928b-5e39b3532970",
   "metadata": {},
   "outputs": [
    {
     "data": {
      "text/plain": [
       "Index                 132\n",
       "Produto                24\n",
       "Preço                  24\n",
       "Quantidade             24\n",
       "Total                  24\n",
       "Preço_com_Desconto     24\n",
       "Caro                    3\n",
       "dtype: int64"
      ]
     },
     "execution_count": 142,
     "metadata": {},
     "output_type": "execute_result"
    }
   ],
   "source": [
    "df.memory_usage()"
   ]
  },
  {
   "cell_type": "code",
   "execution_count": 144,
   "id": "2e4547dd-b05e-42b1-b577-26895ab642f4",
   "metadata": {},
   "outputs": [],
   "source": [
    "# Gerar um novo dataframe copiando algum já existente\n",
    "df_copiar = df.copy()"
   ]
  },
  {
   "cell_type": "code",
   "execution_count": 145,
   "id": "d1170d57-8d08-43c0-b69d-947b39274a1d",
   "metadata": {},
   "outputs": [
    {
     "data": {
      "text/html": [
       "<div>\n",
       "<style scoped>\n",
       "    .dataframe tbody tr th:only-of-type {\n",
       "        vertical-align: middle;\n",
       "    }\n",
       "\n",
       "    .dataframe tbody tr th {\n",
       "        vertical-align: top;\n",
       "    }\n",
       "\n",
       "    .dataframe thead th {\n",
       "        text-align: right;\n",
       "    }\n",
       "</style>\n",
       "<table border=\"1\" class=\"dataframe\">\n",
       "  <thead>\n",
       "    <tr style=\"text-align: right;\">\n",
       "      <th></th>\n",
       "      <th>Produto</th>\n",
       "      <th>Preço</th>\n",
       "      <th>Quantidade</th>\n",
       "      <th>Total</th>\n",
       "      <th>Preço_com_Desconto</th>\n",
       "      <th>Caro</th>\n",
       "    </tr>\n",
       "  </thead>\n",
       "  <tbody>\n",
       "    <tr>\n",
       "      <th>0</th>\n",
       "      <td>A</td>\n",
       "      <td>10</td>\n",
       "      <td>2</td>\n",
       "      <td>20</td>\n",
       "      <td>9.0</td>\n",
       "      <td>False</td>\n",
       "    </tr>\n",
       "    <tr>\n",
       "      <th>1</th>\n",
       "      <td>B</td>\n",
       "      <td>20</td>\n",
       "      <td>1</td>\n",
       "      <td>20</td>\n",
       "      <td>18.0</td>\n",
       "      <td>True</td>\n",
       "    </tr>\n",
       "    <tr>\n",
       "      <th>2</th>\n",
       "      <td>C</td>\n",
       "      <td>15</td>\n",
       "      <td>3</td>\n",
       "      <td>45</td>\n",
       "      <td>13.5</td>\n",
       "      <td>False</td>\n",
       "    </tr>\n",
       "  </tbody>\n",
       "</table>\n",
       "</div>"
      ],
      "text/plain": [
       "  Produto  Preço  Quantidade  Total  Preço_com_Desconto   Caro\n",
       "0       A     10           2     20                 9.0  False\n",
       "1       B     20           1     20                18.0   True\n",
       "2       C     15           3     45                13.5  False"
      ]
     },
     "execution_count": 145,
     "metadata": {},
     "output_type": "execute_result"
    }
   ],
   "source": [
    "df_copiar"
   ]
  },
  {
   "cell_type": "markdown",
   "id": "8d78a434-def6-41da-8605-0c3e01f90ee7",
   "metadata": {},
   "source": [
    "___"
   ]
  },
  {
   "cell_type": "markdown",
   "id": "15706b70-dff0-4019-8753-37ab3cfe207e",
   "metadata": {},
   "source": [
    "# 1.9. Séries Temporais no Pandas\n",
    "\n",
    "## O que são Séries Temporais?\n",
    "Série temporal é um conjunto de dados onde o fator tempo (data/hora) é essencial.\n",
    "\n",
    "**Exemplo de séries temporais:**\n",
    "\n",
    "- Preços de ações ao longo dos dias.\n",
    "- Vendas mensais de uma empresa.\n",
    "- Temperatura diária de uma cidade.\n",
    "- Frequência de acesso a um site por hora.\n",
    "\n",
    "**Dicas Importantes**:\n",
    "- Trabalhe sempre com datas no tipo datetime64: **`pd.to_datetime(df['coluna_de_data'])`**\n",
    "- Use resample() para agrupar dados temporais (muito usado em dashboards).\n",
    "- Para análise de tendências e sazonalidade, séries temporais são essenciais!"
   ]
  },
  {
   "cell_type": "code",
   "execution_count": 154,
   "id": "7d3f210f-f542-4211-a13c-14f67ced16af",
   "metadata": {},
   "outputs": [],
   "source": [
    "# Exemplo:\n",
    "datas = pd.date_range(start='2024-01-01', periods=5, freq='D')\n",
    "vendas = [100, 150, 200, 130, 170]\n",
    "\n",
    "df = pd.DataFrame({'Data': datas, 'Vendas': vendas})"
   ]
  },
  {
   "cell_type": "code",
   "execution_count": 155,
   "id": "f330d383-f499-4ff1-baad-e9bf9d41dd1e",
   "metadata": {},
   "outputs": [
    {
     "data": {
      "text/html": [
       "<div>\n",
       "<style scoped>\n",
       "    .dataframe tbody tr th:only-of-type {\n",
       "        vertical-align: middle;\n",
       "    }\n",
       "\n",
       "    .dataframe tbody tr th {\n",
       "        vertical-align: top;\n",
       "    }\n",
       "\n",
       "    .dataframe thead th {\n",
       "        text-align: right;\n",
       "    }\n",
       "</style>\n",
       "<table border=\"1\" class=\"dataframe\">\n",
       "  <thead>\n",
       "    <tr style=\"text-align: right;\">\n",
       "      <th></th>\n",
       "      <th>Data</th>\n",
       "      <th>Vendas</th>\n",
       "    </tr>\n",
       "  </thead>\n",
       "  <tbody>\n",
       "    <tr>\n",
       "      <th>0</th>\n",
       "      <td>2024-01-01</td>\n",
       "      <td>100</td>\n",
       "    </tr>\n",
       "    <tr>\n",
       "      <th>1</th>\n",
       "      <td>2024-01-02</td>\n",
       "      <td>150</td>\n",
       "    </tr>\n",
       "    <tr>\n",
       "      <th>2</th>\n",
       "      <td>2024-01-03</td>\n",
       "      <td>200</td>\n",
       "    </tr>\n",
       "    <tr>\n",
       "      <th>3</th>\n",
       "      <td>2024-01-04</td>\n",
       "      <td>130</td>\n",
       "    </tr>\n",
       "    <tr>\n",
       "      <th>4</th>\n",
       "      <td>2024-01-05</td>\n",
       "      <td>170</td>\n",
       "    </tr>\n",
       "  </tbody>\n",
       "</table>\n",
       "</div>"
      ],
      "text/plain": [
       "        Data  Vendas\n",
       "0 2024-01-01     100\n",
       "1 2024-01-02     150\n",
       "2 2024-01-03     200\n",
       "3 2024-01-04     130\n",
       "4 2024-01-05     170"
      ]
     },
     "execution_count": 155,
     "metadata": {},
     "output_type": "execute_result"
    }
   ],
   "source": [
    "df"
   ]
  },
  {
   "cell_type": "markdown",
   "id": "af63defa-e419-4596-a253-942f822343bd",
   "metadata": {},
   "source": [
    "### 1. Transformando coluna em índice temporal:"
   ]
  },
  {
   "cell_type": "code",
   "execution_count": 157,
   "id": "87776939-ae3f-4c19-b67b-7010ce633247",
   "metadata": {},
   "outputs": [],
   "source": [
    "df.set_index('Data', inplace=True) # Agora o índice é temporal — o Pandas reconhece a coluna \"Data\" como um objeto de tempo."
   ]
  },
  {
   "cell_type": "code",
   "execution_count": 159,
   "id": "b67dd98c-8f2f-4fd2-a98f-67dfa42c3470",
   "metadata": {},
   "outputs": [
    {
     "data": {
      "text/plain": [
       "DatetimeIndex(['2024-01-01', '2024-01-02', '2024-01-03', '2024-01-04',\n",
       "               '2024-01-05'],\n",
       "              dtype='datetime64[ns]', name='Data', freq=None)"
      ]
     },
     "execution_count": 159,
     "metadata": {},
     "output_type": "execute_result"
    }
   ],
   "source": [
    "df.index # O índice é do tipo 'DatetimeIndex"
   ]
  },
  {
   "cell_type": "code",
   "execution_count": 160,
   "id": "a5e27f44-5e10-4cf8-a4a5-0fec07d38b9e",
   "metadata": {},
   "outputs": [
    {
     "data": {
      "text/html": [
       "<div>\n",
       "<style scoped>\n",
       "    .dataframe tbody tr th:only-of-type {\n",
       "        vertical-align: middle;\n",
       "    }\n",
       "\n",
       "    .dataframe tbody tr th {\n",
       "        vertical-align: top;\n",
       "    }\n",
       "\n",
       "    .dataframe thead th {\n",
       "        text-align: right;\n",
       "    }\n",
       "</style>\n",
       "<table border=\"1\" class=\"dataframe\">\n",
       "  <thead>\n",
       "    <tr style=\"text-align: right;\">\n",
       "      <th></th>\n",
       "      <th>Vendas</th>\n",
       "    </tr>\n",
       "    <tr>\n",
       "      <th>Data</th>\n",
       "      <th></th>\n",
       "    </tr>\n",
       "  </thead>\n",
       "  <tbody>\n",
       "    <tr>\n",
       "      <th>2024-01-01</th>\n",
       "      <td>100</td>\n",
       "    </tr>\n",
       "    <tr>\n",
       "      <th>2024-01-02</th>\n",
       "      <td>150</td>\n",
       "    </tr>\n",
       "    <tr>\n",
       "      <th>2024-01-03</th>\n",
       "      <td>200</td>\n",
       "    </tr>\n",
       "    <tr>\n",
       "      <th>2024-01-04</th>\n",
       "      <td>130</td>\n",
       "    </tr>\n",
       "    <tr>\n",
       "      <th>2024-01-05</th>\n",
       "      <td>170</td>\n",
       "    </tr>\n",
       "  </tbody>\n",
       "</table>\n",
       "</div>"
      ],
      "text/plain": [
       "            Vendas\n",
       "Data              \n",
       "2024-01-01     100\n",
       "2024-01-02     150\n",
       "2024-01-03     200\n",
       "2024-01-04     130\n",
       "2024-01-05     170"
      ]
     },
     "execution_count": 160,
     "metadata": {},
     "output_type": "execute_result"
    }
   ],
   "source": [
    "df"
   ]
  },
  {
   "cell_type": "markdown",
   "id": "cb5856c0-0429-4568-8f8c-d5b39a694fcc",
   "metadata": {},
   "source": [
    "### 2. Selecionando por datas:"
   ]
  },
  {
   "cell_type": "code",
   "execution_count": 162,
   "id": "0eb5ab43-b88e-4d98-80d9-bf831a833974",
   "metadata": {},
   "outputs": [
    {
     "data": {
      "text/html": [
       "<div>\n",
       "<style scoped>\n",
       "    .dataframe tbody tr th:only-of-type {\n",
       "        vertical-align: middle;\n",
       "    }\n",
       "\n",
       "    .dataframe tbody tr th {\n",
       "        vertical-align: top;\n",
       "    }\n",
       "\n",
       "    .dataframe thead th {\n",
       "        text-align: right;\n",
       "    }\n",
       "</style>\n",
       "<table border=\"1\" class=\"dataframe\">\n",
       "  <thead>\n",
       "    <tr style=\"text-align: right;\">\n",
       "      <th></th>\n",
       "      <th>Vendas</th>\n",
       "    </tr>\n",
       "    <tr>\n",
       "      <th>Data</th>\n",
       "      <th></th>\n",
       "    </tr>\n",
       "  </thead>\n",
       "  <tbody>\n",
       "    <tr>\n",
       "      <th>2024-01-04</th>\n",
       "      <td>130</td>\n",
       "    </tr>\n",
       "  </tbody>\n",
       "</table>\n",
       "</div>"
      ],
      "text/plain": [
       "            Vendas\n",
       "Data              \n",
       "2024-01-04     130"
      ]
     },
     "execution_count": 162,
     "metadata": {},
     "output_type": "execute_result"
    }
   ],
   "source": [
    "# Com o index sendo um dataframe, também temos a capacidade de fazer o seguinte...\n",
    "# Quero puxar apenas quando o dia for apenas 04:\n",
    "df[df.index.day == 4]\n",
    "\n",
    "# Mas também serve para se quisesse apenas o mês, ou o ano, enfim, para diversas coisas envolvendo períodos de tempo"
   ]
  },
  {
   "cell_type": "code",
   "execution_count": 163,
   "id": "3c52658a-2975-430e-9150-2157b911b5ab",
   "metadata": {},
   "outputs": [
    {
     "data": {
      "text/plain": [
       "Vendas    200\n",
       "Name: 2024-01-03 00:00:00, dtype: int64"
      ]
     },
     "execution_count": 163,
     "metadata": {},
     "output_type": "execute_result"
    }
   ],
   "source": [
    "df.loc['2024-01-03']"
   ]
  },
  {
   "cell_type": "markdown",
   "id": "54e7a6f0-7488-47c8-aecf-a5b192c252f4",
   "metadata": {},
   "source": [
    "### 3. Filtro por intervalo de datas:"
   ]
  },
  {
   "cell_type": "code",
   "execution_count": 164,
   "id": "92a3e2b6-42d0-454f-8c28-c85a49a8ae7f",
   "metadata": {},
   "outputs": [
    {
     "data": {
      "text/html": [
       "<div>\n",
       "<style scoped>\n",
       "    .dataframe tbody tr th:only-of-type {\n",
       "        vertical-align: middle;\n",
       "    }\n",
       "\n",
       "    .dataframe tbody tr th {\n",
       "        vertical-align: top;\n",
       "    }\n",
       "\n",
       "    .dataframe thead th {\n",
       "        text-align: right;\n",
       "    }\n",
       "</style>\n",
       "<table border=\"1\" class=\"dataframe\">\n",
       "  <thead>\n",
       "    <tr style=\"text-align: right;\">\n",
       "      <th></th>\n",
       "      <th>Vendas</th>\n",
       "    </tr>\n",
       "    <tr>\n",
       "      <th>Data</th>\n",
       "      <th></th>\n",
       "    </tr>\n",
       "  </thead>\n",
       "  <tbody>\n",
       "    <tr>\n",
       "      <th>2024-01-02</th>\n",
       "      <td>150</td>\n",
       "    </tr>\n",
       "    <tr>\n",
       "      <th>2024-01-03</th>\n",
       "      <td>200</td>\n",
       "    </tr>\n",
       "    <tr>\n",
       "      <th>2024-01-04</th>\n",
       "      <td>130</td>\n",
       "    </tr>\n",
       "  </tbody>\n",
       "</table>\n",
       "</div>"
      ],
      "text/plain": [
       "            Vendas\n",
       "Data              \n",
       "2024-01-02     150\n",
       "2024-01-03     200\n",
       "2024-01-04     130"
      ]
     },
     "execution_count": 164,
     "metadata": {},
     "output_type": "execute_result"
    }
   ],
   "source": [
    "df.loc['2024-01-02':'2024-01-04']"
   ]
  },
  {
   "cell_type": "markdown",
   "id": "b251aa18-6e7d-48c0-af5c-5a88f6548e8d",
   "metadata": {},
   "source": [
    "### 4. Resampling (Reamostragem)\n",
    "\n",
    "Reagrupar dados por período — exemplo: somar vendas por mês:"
   ]
  },
  {
   "cell_type": "code",
   "execution_count": 166,
   "id": "007859af-f490-46f4-a20c-2a20938c2862",
   "metadata": {},
   "outputs": [
    {
     "data": {
      "text/html": [
       "<div>\n",
       "<style scoped>\n",
       "    .dataframe tbody tr th:only-of-type {\n",
       "        vertical-align: middle;\n",
       "    }\n",
       "\n",
       "    .dataframe tbody tr th {\n",
       "        vertical-align: top;\n",
       "    }\n",
       "\n",
       "    .dataframe thead th {\n",
       "        text-align: right;\n",
       "    }\n",
       "</style>\n",
       "<table border=\"1\" class=\"dataframe\">\n",
       "  <thead>\n",
       "    <tr style=\"text-align: right;\">\n",
       "      <th></th>\n",
       "      <th>Vendas</th>\n",
       "    </tr>\n",
       "    <tr>\n",
       "      <th>Data</th>\n",
       "      <th></th>\n",
       "    </tr>\n",
       "  </thead>\n",
       "  <tbody>\n",
       "    <tr>\n",
       "      <th>2024-01-31</th>\n",
       "      <td>750</td>\n",
       "    </tr>\n",
       "  </tbody>\n",
       "</table>\n",
       "</div>"
      ],
      "text/plain": [
       "            Vendas\n",
       "Data              \n",
       "2024-01-31     750"
      ]
     },
     "execution_count": 166,
     "metadata": {},
     "output_type": "execute_result"
    }
   ],
   "source": [
    "df.resample('D').sum()    # 'D' = diário\n",
    "df.resample('ME').sum()    # 'ME' = mensal"
   ]
  },
  {
   "cell_type": "markdown",
   "id": "a5139768-197a-4c7b-8d3f-404fc77c37f0",
   "metadata": {},
   "source": [
    "### 5. Extraindo partes da data:"
   ]
  },
  {
   "cell_type": "code",
   "execution_count": 167,
   "id": "5c5286fe-6166-4cd7-b68e-26566e4b399d",
   "metadata": {},
   "outputs": [],
   "source": [
    "df['Ano'] = df.index.year\n",
    "df['Mes'] = df.index.month\n",
    "df['Dia'] = df.index.day"
   ]
  },
  {
   "cell_type": "code",
   "execution_count": 168,
   "id": "68b07d55-9823-4393-a8b0-17da4b084efa",
   "metadata": {},
   "outputs": [
    {
     "data": {
      "text/html": [
       "<div>\n",
       "<style scoped>\n",
       "    .dataframe tbody tr th:only-of-type {\n",
       "        vertical-align: middle;\n",
       "    }\n",
       "\n",
       "    .dataframe tbody tr th {\n",
       "        vertical-align: top;\n",
       "    }\n",
       "\n",
       "    .dataframe thead th {\n",
       "        text-align: right;\n",
       "    }\n",
       "</style>\n",
       "<table border=\"1\" class=\"dataframe\">\n",
       "  <thead>\n",
       "    <tr style=\"text-align: right;\">\n",
       "      <th></th>\n",
       "      <th>Vendas</th>\n",
       "      <th>Ano</th>\n",
       "      <th>Mes</th>\n",
       "      <th>Dia</th>\n",
       "    </tr>\n",
       "    <tr>\n",
       "      <th>Data</th>\n",
       "      <th></th>\n",
       "      <th></th>\n",
       "      <th></th>\n",
       "      <th></th>\n",
       "    </tr>\n",
       "  </thead>\n",
       "  <tbody>\n",
       "    <tr>\n",
       "      <th>2024-01-01</th>\n",
       "      <td>100</td>\n",
       "      <td>2024</td>\n",
       "      <td>1</td>\n",
       "      <td>1</td>\n",
       "    </tr>\n",
       "    <tr>\n",
       "      <th>2024-01-02</th>\n",
       "      <td>150</td>\n",
       "      <td>2024</td>\n",
       "      <td>1</td>\n",
       "      <td>2</td>\n",
       "    </tr>\n",
       "    <tr>\n",
       "      <th>2024-01-03</th>\n",
       "      <td>200</td>\n",
       "      <td>2024</td>\n",
       "      <td>1</td>\n",
       "      <td>3</td>\n",
       "    </tr>\n",
       "    <tr>\n",
       "      <th>2024-01-04</th>\n",
       "      <td>130</td>\n",
       "      <td>2024</td>\n",
       "      <td>1</td>\n",
       "      <td>4</td>\n",
       "    </tr>\n",
       "    <tr>\n",
       "      <th>2024-01-05</th>\n",
       "      <td>170</td>\n",
       "      <td>2024</td>\n",
       "      <td>1</td>\n",
       "      <td>5</td>\n",
       "    </tr>\n",
       "  </tbody>\n",
       "</table>\n",
       "</div>"
      ],
      "text/plain": [
       "            Vendas   Ano  Mes  Dia\n",
       "Data                              \n",
       "2024-01-01     100  2024    1    1\n",
       "2024-01-02     150  2024    1    2\n",
       "2024-01-03     200  2024    1    3\n",
       "2024-01-04     130  2024    1    4\n",
       "2024-01-05     170  2024    1    5"
      ]
     },
     "execution_count": 168,
     "metadata": {},
     "output_type": "execute_result"
    }
   ],
   "source": [
    "df"
   ]
  },
  {
   "cell_type": "markdown",
   "id": "4c35e93a-6f25-4634-9735-2786e3b9f43e",
   "metadata": {},
   "source": [
    "___"
   ]
  },
  {
   "cell_type": "markdown",
   "id": "92469eb0-0f25-4ae7-90eb-294850cb73d1",
   "metadata": {},
   "source": [
    "# 1.10. Entrada e Saída de dados\n",
    "\n",
    "Saber como fazer entrada e saída de dados (I/O — Input/Output) no Pandas é essencial, porque quase todo trabalho real de análise começa com:\n",
    "\n",
    "- Ler dados de um arquivo (Excel, CSV, SQL, JSON etc.)\n",
    "- Manipular no Python\n",
    "- Salvar os dados processados para um novo arquivo."
   ]
  },
  {
   "cell_type": "markdown",
   "id": "a70c7cfd-896f-4eed-afd4-6d75f91a6ae4",
   "metadata": {},
   "source": [
    "O Pandas consegue ler arquivos de vários formatos, como por exemplo: **_CSV (o mais comum), Excel (.xlsx), JSON, Arquivo de texto delimitado, SQL, dentre outros_**.\n",
    "\n",
    "Como são diversos os modos de se ter uma entrada de dados (e consequentemente a saída dos dados), não vai ser possível mostrar todas as maneiras, por isso **irei focar apenas em CSV**. \n",
    "\n",
    "\n",
    "Foi baixado um modelo de dataset CSV no 'Kaggle' para ser utilizado como prática."
   ]
  },
  {
   "cell_type": "code",
   "execution_count": 171,
   "id": "9fe2c23c-186d-4669-b223-8abd41326fb3",
   "metadata": {},
   "outputs": [],
   "source": [
    "# Lendo o arquivo CSV\n",
    "df_csv = pd.read_csv('Books.csv')"
   ]
  },
  {
   "cell_type": "code",
   "execution_count": 170,
   "id": "3faf98fa-c163-4d43-b3f7-178878ce04ff",
   "metadata": {},
   "outputs": [
    {
     "data": {
      "text/html": [
       "<div>\n",
       "<style scoped>\n",
       "    .dataframe tbody tr th:only-of-type {\n",
       "        vertical-align: middle;\n",
       "    }\n",
       "\n",
       "    .dataframe tbody tr th {\n",
       "        vertical-align: top;\n",
       "    }\n",
       "\n",
       "    .dataframe thead th {\n",
       "        text-align: right;\n",
       "    }\n",
       "</style>\n",
       "<table border=\"1\" class=\"dataframe\">\n",
       "  <thead>\n",
       "    <tr style=\"text-align: right;\">\n",
       "      <th></th>\n",
       "      <th>title</th>\n",
       "      <th>author</th>\n",
       "      <th>pages</th>\n",
       "      <th>genre</th>\n",
       "      <th>description</th>\n",
       "      <th>published_date</th>\n",
       "      <th>publisher</th>\n",
       "      <th>language</th>\n",
       "      <th>average_rating</th>\n",
       "      <th>ratings_count</th>\n",
       "      <th>thumbnail</th>\n",
       "    </tr>\n",
       "  </thead>\n",
       "  <tbody>\n",
       "    <tr>\n",
       "      <th>0</th>\n",
       "      <td>Fictional Points of View</td>\n",
       "      <td>Peter Lamarque</td>\n",
       "      <td>252</td>\n",
       "      <td>Literary Criticism</td>\n",
       "      <td>The volume focuses on a wide range of thinkers...</td>\n",
       "      <td>1996</td>\n",
       "      <td>Cornell University Press</td>\n",
       "      <td>en</td>\n",
       "      <td>No rating</td>\n",
       "      <td>0</td>\n",
       "      <td>http://books.google.com/books/content?id=rh-om...</td>\n",
       "    </tr>\n",
       "    <tr>\n",
       "      <th>1</th>\n",
       "      <td>Science Fiction and Fantasy Literature</td>\n",
       "      <td>R. Reginald, Douglas Menville, Mary A. Burgess</td>\n",
       "      <td>802</td>\n",
       "      <td>Reference</td>\n",
       "      <td>Science Fiction and Fantasy Literature, A Chec...</td>\n",
       "      <td>2010-09-01</td>\n",
       "      <td>Wildside Press LLC</td>\n",
       "      <td>en</td>\n",
       "      <td>No rating</td>\n",
       "      <td>0</td>\n",
       "      <td>http://books.google.com/books/content?id=P8zW2...</td>\n",
       "    </tr>\n",
       "    <tr>\n",
       "      <th>2</th>\n",
       "      <td>Library of Congress Subject Headings</td>\n",
       "      <td>Library of Congress. Cataloging Policy and Sup...</td>\n",
       "      <td>1662</td>\n",
       "      <td>Subject headings, Library of Congress</td>\n",
       "      <td>No description available</td>\n",
       "      <td>2004</td>\n",
       "      <td>Unknown Publisher</td>\n",
       "      <td>en</td>\n",
       "      <td>No rating</td>\n",
       "      <td>0</td>\n",
       "      <td>http://books.google.com/books/content?id=pEhkh...</td>\n",
       "    </tr>\n",
       "    <tr>\n",
       "      <th>3</th>\n",
       "      <td>Library of Congress Subject Headings</td>\n",
       "      <td>Library of Congress</td>\n",
       "      <td>1512</td>\n",
       "      <td>Subject headings, Library of Congress</td>\n",
       "      <td>No description available</td>\n",
       "      <td>2007</td>\n",
       "      <td>Unknown Publisher</td>\n",
       "      <td>en</td>\n",
       "      <td>No rating</td>\n",
       "      <td>0</td>\n",
       "      <td>http://books.google.com/books/content?id=FgAjF...</td>\n",
       "    </tr>\n",
       "    <tr>\n",
       "      <th>4</th>\n",
       "      <td>Fictional Space in the Modernist and Post-mode...</td>\n",
       "      <td>Carl Darryl Malmgren</td>\n",
       "      <td>248</td>\n",
       "      <td>Fiction</td>\n",
       "      <td>Fictional space is the imaginal expanse of fie...</td>\n",
       "      <td>1985</td>\n",
       "      <td>Bucknell University Press</td>\n",
       "      <td>en</td>\n",
       "      <td>No rating</td>\n",
       "      <td>0</td>\n",
       "      <td>http://books.google.com/books/content?id=KXzoz...</td>\n",
       "    </tr>\n",
       "    <tr>\n",
       "      <th>...</th>\n",
       "      <td>...</td>\n",
       "      <td>...</td>\n",
       "      <td>...</td>\n",
       "      <td>...</td>\n",
       "      <td>...</td>\n",
       "      <td>...</td>\n",
       "      <td>...</td>\n",
       "      <td>...</td>\n",
       "      <td>...</td>\n",
       "      <td>...</td>\n",
       "      <td>...</td>\n",
       "    </tr>\n",
       "    <tr>\n",
       "      <th>2044</th>\n",
       "      <td>The Index Card</td>\n",
       "      <td>Helaine Olen, Harold Pollack</td>\n",
       "      <td>256</td>\n",
       "      <td>Personal Finance</td>\n",
       "      <td>Simplifies personal finance to ten rules that ...</td>\n",
       "      <td>2016-01-05</td>\n",
       "      <td>Portfolio</td>\n",
       "      <td>en</td>\n",
       "      <td>4.0</td>\n",
       "      <td>30000</td>\n",
       "      <td>http://books.google.com/books/content?id=8z4_D...</td>\n",
       "    </tr>\n",
       "    <tr>\n",
       "      <th>2045</th>\n",
       "      <td>The Road to Wealth</td>\n",
       "      <td>Suze Orman</td>\n",
       "      <td>608</td>\n",
       "      <td>Personal Finance</td>\n",
       "      <td>A comprehensive guide to managing money, inves...</td>\n",
       "      <td>2001-04-01</td>\n",
       "      <td>Riverhead Books</td>\n",
       "      <td>en</td>\n",
       "      <td>4.1</td>\n",
       "      <td>50000</td>\n",
       "      <td>http://books.google.com/books/content?id=zv0oD...</td>\n",
       "    </tr>\n",
       "    <tr>\n",
       "      <th>2046</th>\n",
       "      <td>The Success Principles</td>\n",
       "      <td>Jack Canfield</td>\n",
       "      <td>512</td>\n",
       "      <td>Self-Help</td>\n",
       "      <td>A guide to achieving personal and financial su...</td>\n",
       "      <td>2004-12-28</td>\n",
       "      <td>HarperCollins</td>\n",
       "      <td>en</td>\n",
       "      <td>4.2</td>\n",
       "      <td>100000</td>\n",
       "      <td>http://books.google.com/books/content?id=7zL_D...</td>\n",
       "    </tr>\n",
       "    <tr>\n",
       "      <th>2047</th>\n",
       "      <td>The Courage to Be Rich</td>\n",
       "      <td>Suze Orman</td>\n",
       "      <td>448</td>\n",
       "      <td>Personal Finance</td>\n",
       "      <td>Combines emotional and practical advice for bu...</td>\n",
       "      <td>1999-03-01</td>\n",
       "      <td>Riverhead Books</td>\n",
       "      <td>en</td>\n",
       "      <td>4.0</td>\n",
       "      <td>40000</td>\n",
       "      <td>http://books.google.com/books/content?id=2c3_D...</td>\n",
       "    </tr>\n",
       "    <tr>\n",
       "      <th>2048</th>\n",
       "      <td>The Money Manual</td>\n",
       "      <td>Tonya Rapley</td>\n",
       "      <td>256</td>\n",
       "      <td>Personal Finance</td>\n",
       "      <td>A millennial-focused guide to budgeting, savin...</td>\n",
       "      <td>2023-05-16</td>\n",
       "      <td>Adams Media</td>\n",
       "      <td>en</td>\n",
       "      <td>4.2</td>\n",
       "      <td>20000</td>\n",
       "      <td>http://books.google.com/books/content?id=3z3_D...</td>\n",
       "    </tr>\n",
       "  </tbody>\n",
       "</table>\n",
       "<p>2049 rows × 11 columns</p>\n",
       "</div>"
      ],
      "text/plain": [
       "                                                  title  \\\n",
       "0                              Fictional Points of View   \n",
       "1                Science Fiction and Fantasy Literature   \n",
       "2                  Library of Congress Subject Headings   \n",
       "3                  Library of Congress Subject Headings   \n",
       "4     Fictional Space in the Modernist and Post-mode...   \n",
       "...                                                 ...   \n",
       "2044                                     The Index Card   \n",
       "2045                                 The Road to Wealth   \n",
       "2046                             The Success Principles   \n",
       "2047                             The Courage to Be Rich   \n",
       "2048                                   The Money Manual   \n",
       "\n",
       "                                                 author pages  \\\n",
       "0                                        Peter Lamarque   252   \n",
       "1        R. Reginald, Douglas Menville, Mary A. Burgess   802   \n",
       "2     Library of Congress. Cataloging Policy and Sup...  1662   \n",
       "3                                   Library of Congress  1512   \n",
       "4                                  Carl Darryl Malmgren   248   \n",
       "...                                                 ...   ...   \n",
       "2044                       Helaine Olen, Harold Pollack   256   \n",
       "2045                                         Suze Orman   608   \n",
       "2046                                      Jack Canfield   512   \n",
       "2047                                         Suze Orman   448   \n",
       "2048                                       Tonya Rapley   256   \n",
       "\n",
       "                                      genre  \\\n",
       "0                        Literary Criticism   \n",
       "1                                 Reference   \n",
       "2     Subject headings, Library of Congress   \n",
       "3     Subject headings, Library of Congress   \n",
       "4                                   Fiction   \n",
       "...                                     ...   \n",
       "2044                       Personal Finance   \n",
       "2045                       Personal Finance   \n",
       "2046                              Self-Help   \n",
       "2047                       Personal Finance   \n",
       "2048                       Personal Finance   \n",
       "\n",
       "                                            description published_date  \\\n",
       "0     The volume focuses on a wide range of thinkers...           1996   \n",
       "1     Science Fiction and Fantasy Literature, A Chec...     2010-09-01   \n",
       "2                              No description available           2004   \n",
       "3                              No description available           2007   \n",
       "4     Fictional space is the imaginal expanse of fie...           1985   \n",
       "...                                                 ...            ...   \n",
       "2044  Simplifies personal finance to ten rules that ...     2016-01-05   \n",
       "2045  A comprehensive guide to managing money, inves...     2001-04-01   \n",
       "2046  A guide to achieving personal and financial su...     2004-12-28   \n",
       "2047  Combines emotional and practical advice for bu...     1999-03-01   \n",
       "2048  A millennial-focused guide to budgeting, savin...     2023-05-16   \n",
       "\n",
       "                      publisher language average_rating  ratings_count  \\\n",
       "0      Cornell University Press       en      No rating              0   \n",
       "1            Wildside Press LLC       en      No rating              0   \n",
       "2             Unknown Publisher       en      No rating              0   \n",
       "3             Unknown Publisher       en      No rating              0   \n",
       "4     Bucknell University Press       en      No rating              0   \n",
       "...                         ...      ...            ...            ...   \n",
       "2044                  Portfolio       en            4.0          30000   \n",
       "2045            Riverhead Books       en            4.1          50000   \n",
       "2046              HarperCollins       en            4.2         100000   \n",
       "2047            Riverhead Books       en            4.0          40000   \n",
       "2048                Adams Media       en            4.2          20000   \n",
       "\n",
       "                                              thumbnail  \n",
       "0     http://books.google.com/books/content?id=rh-om...  \n",
       "1     http://books.google.com/books/content?id=P8zW2...  \n",
       "2     http://books.google.com/books/content?id=pEhkh...  \n",
       "3     http://books.google.com/books/content?id=FgAjF...  \n",
       "4     http://books.google.com/books/content?id=KXzoz...  \n",
       "...                                                 ...  \n",
       "2044  http://books.google.com/books/content?id=8z4_D...  \n",
       "2045  http://books.google.com/books/content?id=zv0oD...  \n",
       "2046  http://books.google.com/books/content?id=7zL_D...  \n",
       "2047  http://books.google.com/books/content?id=2c3_D...  \n",
       "2048  http://books.google.com/books/content?id=3z3_D...  \n",
       "\n",
       "[2049 rows x 11 columns]"
      ]
     },
     "execution_count": 170,
     "metadata": {},
     "output_type": "execute_result"
    }
   ],
   "source": [
    "df_csv"
   ]
  },
  {
   "cell_type": "code",
   "execution_count": 172,
   "id": "d2dd0058-3f6c-4757-b942-d390228d9d52",
   "metadata": {},
   "outputs": [
    {
     "name": "stdout",
     "output_type": "stream",
     "text": [
      "<class 'pandas.core.frame.DataFrame'>\n",
      "RangeIndex: 2049 entries, 0 to 2048\n",
      "Data columns (total 11 columns):\n",
      " #   Column          Non-Null Count  Dtype \n",
      "---  ------          --------------  ----- \n",
      " 0   title           2049 non-null   object\n",
      " 1   author          2049 non-null   object\n",
      " 2   pages           2049 non-null   object\n",
      " 3   genre           2049 non-null   object\n",
      " 4   description     2049 non-null   object\n",
      " 5   published_date  2049 non-null   object\n",
      " 6   publisher       2049 non-null   object\n",
      " 7   language        2049 non-null   object\n",
      " 8   average_rating  2049 non-null   object\n",
      " 9   ratings_count   2049 non-null   int64 \n",
      " 10  thumbnail       2049 non-null   object\n",
      "dtypes: int64(1), object(10)\n",
      "memory usage: 176.2+ KB\n"
     ]
    }
   ],
   "source": [
    "df_csv.info()"
   ]
  },
  {
   "cell_type": "markdown",
   "id": "28e0ea0d-fe7a-4643-8bc9-b81106680086",
   "metadata": {},
   "source": [
    "---"
   ]
  },
  {
   "cell_type": "code",
   "execution_count": 182,
   "id": "2b322389-4ee4-4abf-8e47-ff3cc54e4b4a",
   "metadata": {},
   "outputs": [],
   "source": [
    "# Filtrando o DataFrame para mostrar os livros publicados acima de 1990 e menor que 2000:\n",
    "df_filtrado = df_csv[(df_csv['published_date'] > '1990') | (df_csv['published_date'] < '2000') ]"
   ]
  },
  {
   "cell_type": "code",
   "execution_count": 183,
   "id": "0fd88444-eb35-450b-8707-b116f0c5b4ba",
   "metadata": {},
   "outputs": [
    {
     "data": {
      "text/html": [
       "<div>\n",
       "<style scoped>\n",
       "    .dataframe tbody tr th:only-of-type {\n",
       "        vertical-align: middle;\n",
       "    }\n",
       "\n",
       "    .dataframe tbody tr th {\n",
       "        vertical-align: top;\n",
       "    }\n",
       "\n",
       "    .dataframe thead th {\n",
       "        text-align: right;\n",
       "    }\n",
       "</style>\n",
       "<table border=\"1\" class=\"dataframe\">\n",
       "  <thead>\n",
       "    <tr style=\"text-align: right;\">\n",
       "      <th></th>\n",
       "      <th>title</th>\n",
       "      <th>author</th>\n",
       "      <th>pages</th>\n",
       "      <th>genre</th>\n",
       "      <th>description</th>\n",
       "      <th>published_date</th>\n",
       "      <th>publisher</th>\n",
       "      <th>language</th>\n",
       "      <th>average_rating</th>\n",
       "      <th>ratings_count</th>\n",
       "      <th>thumbnail</th>\n",
       "    </tr>\n",
       "  </thead>\n",
       "  <tbody>\n",
       "    <tr>\n",
       "      <th>0</th>\n",
       "      <td>Fictional Points of View</td>\n",
       "      <td>Peter Lamarque</td>\n",
       "      <td>252</td>\n",
       "      <td>Literary Criticism</td>\n",
       "      <td>The volume focuses on a wide range of thinkers...</td>\n",
       "      <td>1996</td>\n",
       "      <td>Cornell University Press</td>\n",
       "      <td>en</td>\n",
       "      <td>No rating</td>\n",
       "      <td>0</td>\n",
       "      <td>http://books.google.com/books/content?id=rh-om...</td>\n",
       "    </tr>\n",
       "    <tr>\n",
       "      <th>1</th>\n",
       "      <td>Science Fiction and Fantasy Literature</td>\n",
       "      <td>R. Reginald, Douglas Menville, Mary A. Burgess</td>\n",
       "      <td>802</td>\n",
       "      <td>Reference</td>\n",
       "      <td>Science Fiction and Fantasy Literature, A Chec...</td>\n",
       "      <td>2010-09-01</td>\n",
       "      <td>Wildside Press LLC</td>\n",
       "      <td>en</td>\n",
       "      <td>No rating</td>\n",
       "      <td>0</td>\n",
       "      <td>http://books.google.com/books/content?id=P8zW2...</td>\n",
       "    </tr>\n",
       "    <tr>\n",
       "      <th>2</th>\n",
       "      <td>Library of Congress Subject Headings</td>\n",
       "      <td>Library of Congress. Cataloging Policy and Sup...</td>\n",
       "      <td>1662</td>\n",
       "      <td>Subject headings, Library of Congress</td>\n",
       "      <td>No description available</td>\n",
       "      <td>2004</td>\n",
       "      <td>Unknown Publisher</td>\n",
       "      <td>en</td>\n",
       "      <td>No rating</td>\n",
       "      <td>0</td>\n",
       "      <td>http://books.google.com/books/content?id=pEhkh...</td>\n",
       "    </tr>\n",
       "    <tr>\n",
       "      <th>3</th>\n",
       "      <td>Library of Congress Subject Headings</td>\n",
       "      <td>Library of Congress</td>\n",
       "      <td>1512</td>\n",
       "      <td>Subject headings, Library of Congress</td>\n",
       "      <td>No description available</td>\n",
       "      <td>2007</td>\n",
       "      <td>Unknown Publisher</td>\n",
       "      <td>en</td>\n",
       "      <td>No rating</td>\n",
       "      <td>0</td>\n",
       "      <td>http://books.google.com/books/content?id=FgAjF...</td>\n",
       "    </tr>\n",
       "    <tr>\n",
       "      <th>4</th>\n",
       "      <td>Fictional Space in the Modernist and Post-mode...</td>\n",
       "      <td>Carl Darryl Malmgren</td>\n",
       "      <td>248</td>\n",
       "      <td>Fiction</td>\n",
       "      <td>Fictional space is the imaginal expanse of fie...</td>\n",
       "      <td>1985</td>\n",
       "      <td>Bucknell University Press</td>\n",
       "      <td>en</td>\n",
       "      <td>No rating</td>\n",
       "      <td>0</td>\n",
       "      <td>http://books.google.com/books/content?id=KXzoz...</td>\n",
       "    </tr>\n",
       "    <tr>\n",
       "      <th>...</th>\n",
       "      <td>...</td>\n",
       "      <td>...</td>\n",
       "      <td>...</td>\n",
       "      <td>...</td>\n",
       "      <td>...</td>\n",
       "      <td>...</td>\n",
       "      <td>...</td>\n",
       "      <td>...</td>\n",
       "      <td>...</td>\n",
       "      <td>...</td>\n",
       "      <td>...</td>\n",
       "    </tr>\n",
       "    <tr>\n",
       "      <th>2044</th>\n",
       "      <td>The Index Card</td>\n",
       "      <td>Helaine Olen, Harold Pollack</td>\n",
       "      <td>256</td>\n",
       "      <td>Personal Finance</td>\n",
       "      <td>Simplifies personal finance to ten rules that ...</td>\n",
       "      <td>2016-01-05</td>\n",
       "      <td>Portfolio</td>\n",
       "      <td>en</td>\n",
       "      <td>4.0</td>\n",
       "      <td>30000</td>\n",
       "      <td>http://books.google.com/books/content?id=8z4_D...</td>\n",
       "    </tr>\n",
       "    <tr>\n",
       "      <th>2045</th>\n",
       "      <td>The Road to Wealth</td>\n",
       "      <td>Suze Orman</td>\n",
       "      <td>608</td>\n",
       "      <td>Personal Finance</td>\n",
       "      <td>A comprehensive guide to managing money, inves...</td>\n",
       "      <td>2001-04-01</td>\n",
       "      <td>Riverhead Books</td>\n",
       "      <td>en</td>\n",
       "      <td>4.1</td>\n",
       "      <td>50000</td>\n",
       "      <td>http://books.google.com/books/content?id=zv0oD...</td>\n",
       "    </tr>\n",
       "    <tr>\n",
       "      <th>2046</th>\n",
       "      <td>The Success Principles</td>\n",
       "      <td>Jack Canfield</td>\n",
       "      <td>512</td>\n",
       "      <td>Self-Help</td>\n",
       "      <td>A guide to achieving personal and financial su...</td>\n",
       "      <td>2004-12-28</td>\n",
       "      <td>HarperCollins</td>\n",
       "      <td>en</td>\n",
       "      <td>4.2</td>\n",
       "      <td>100000</td>\n",
       "      <td>http://books.google.com/books/content?id=7zL_D...</td>\n",
       "    </tr>\n",
       "    <tr>\n",
       "      <th>2047</th>\n",
       "      <td>The Courage to Be Rich</td>\n",
       "      <td>Suze Orman</td>\n",
       "      <td>448</td>\n",
       "      <td>Personal Finance</td>\n",
       "      <td>Combines emotional and practical advice for bu...</td>\n",
       "      <td>1999-03-01</td>\n",
       "      <td>Riverhead Books</td>\n",
       "      <td>en</td>\n",
       "      <td>4.0</td>\n",
       "      <td>40000</td>\n",
       "      <td>http://books.google.com/books/content?id=2c3_D...</td>\n",
       "    </tr>\n",
       "    <tr>\n",
       "      <th>2048</th>\n",
       "      <td>The Money Manual</td>\n",
       "      <td>Tonya Rapley</td>\n",
       "      <td>256</td>\n",
       "      <td>Personal Finance</td>\n",
       "      <td>A millennial-focused guide to budgeting, savin...</td>\n",
       "      <td>2023-05-16</td>\n",
       "      <td>Adams Media</td>\n",
       "      <td>en</td>\n",
       "      <td>4.2</td>\n",
       "      <td>20000</td>\n",
       "      <td>http://books.google.com/books/content?id=3z3_D...</td>\n",
       "    </tr>\n",
       "  </tbody>\n",
       "</table>\n",
       "<p>2049 rows × 11 columns</p>\n",
       "</div>"
      ],
      "text/plain": [
       "                                                  title  \\\n",
       "0                              Fictional Points of View   \n",
       "1                Science Fiction and Fantasy Literature   \n",
       "2                  Library of Congress Subject Headings   \n",
       "3                  Library of Congress Subject Headings   \n",
       "4     Fictional Space in the Modernist and Post-mode...   \n",
       "...                                                 ...   \n",
       "2044                                     The Index Card   \n",
       "2045                                 The Road to Wealth   \n",
       "2046                             The Success Principles   \n",
       "2047                             The Courage to Be Rich   \n",
       "2048                                   The Money Manual   \n",
       "\n",
       "                                                 author pages  \\\n",
       "0                                        Peter Lamarque   252   \n",
       "1        R. Reginald, Douglas Menville, Mary A. Burgess   802   \n",
       "2     Library of Congress. Cataloging Policy and Sup...  1662   \n",
       "3                                   Library of Congress  1512   \n",
       "4                                  Carl Darryl Malmgren   248   \n",
       "...                                                 ...   ...   \n",
       "2044                       Helaine Olen, Harold Pollack   256   \n",
       "2045                                         Suze Orman   608   \n",
       "2046                                      Jack Canfield   512   \n",
       "2047                                         Suze Orman   448   \n",
       "2048                                       Tonya Rapley   256   \n",
       "\n",
       "                                      genre  \\\n",
       "0                        Literary Criticism   \n",
       "1                                 Reference   \n",
       "2     Subject headings, Library of Congress   \n",
       "3     Subject headings, Library of Congress   \n",
       "4                                   Fiction   \n",
       "...                                     ...   \n",
       "2044                       Personal Finance   \n",
       "2045                       Personal Finance   \n",
       "2046                              Self-Help   \n",
       "2047                       Personal Finance   \n",
       "2048                       Personal Finance   \n",
       "\n",
       "                                            description published_date  \\\n",
       "0     The volume focuses on a wide range of thinkers...           1996   \n",
       "1     Science Fiction and Fantasy Literature, A Chec...     2010-09-01   \n",
       "2                              No description available           2004   \n",
       "3                              No description available           2007   \n",
       "4     Fictional space is the imaginal expanse of fie...           1985   \n",
       "...                                                 ...            ...   \n",
       "2044  Simplifies personal finance to ten rules that ...     2016-01-05   \n",
       "2045  A comprehensive guide to managing money, inves...     2001-04-01   \n",
       "2046  A guide to achieving personal and financial su...     2004-12-28   \n",
       "2047  Combines emotional and practical advice for bu...     1999-03-01   \n",
       "2048  A millennial-focused guide to budgeting, savin...     2023-05-16   \n",
       "\n",
       "                      publisher language average_rating  ratings_count  \\\n",
       "0      Cornell University Press       en      No rating              0   \n",
       "1            Wildside Press LLC       en      No rating              0   \n",
       "2             Unknown Publisher       en      No rating              0   \n",
       "3             Unknown Publisher       en      No rating              0   \n",
       "4     Bucknell University Press       en      No rating              0   \n",
       "...                         ...      ...            ...            ...   \n",
       "2044                  Portfolio       en            4.0          30000   \n",
       "2045            Riverhead Books       en            4.1          50000   \n",
       "2046              HarperCollins       en            4.2         100000   \n",
       "2047            Riverhead Books       en            4.0          40000   \n",
       "2048                Adams Media       en            4.2          20000   \n",
       "\n",
       "                                              thumbnail  \n",
       "0     http://books.google.com/books/content?id=rh-om...  \n",
       "1     http://books.google.com/books/content?id=P8zW2...  \n",
       "2     http://books.google.com/books/content?id=pEhkh...  \n",
       "3     http://books.google.com/books/content?id=FgAjF...  \n",
       "4     http://books.google.com/books/content?id=KXzoz...  \n",
       "...                                                 ...  \n",
       "2044  http://books.google.com/books/content?id=8z4_D...  \n",
       "2045  http://books.google.com/books/content?id=zv0oD...  \n",
       "2046  http://books.google.com/books/content?id=7zL_D...  \n",
       "2047  http://books.google.com/books/content?id=2c3_D...  \n",
       "2048  http://books.google.com/books/content?id=3z3_D...  \n",
       "\n",
       "[2049 rows x 11 columns]"
      ]
     },
     "execution_count": 183,
     "metadata": {},
     "output_type": "execute_result"
    }
   ],
   "source": [
    "df_filtrado"
   ]
  },
  {
   "cell_type": "code",
   "execution_count": 184,
   "id": "3c9ef4ca-e14a-4787-ad68-9d48fe796a25",
   "metadata": {},
   "outputs": [],
   "source": [
    "# Criando um novo arquivo CSV:\n",
    "# Vamos pegar a informação anterior gerada com o filtro e colocara para gerar um novo arquivo\n",
    "\n",
    "df_filtrado.to_csv(\"book_filtrado.csv\")"
   ]
  },
  {
   "cell_type": "code",
   "execution_count": 186,
   "id": "5f94db0d-8266-43fb-a952-afe16908dc38",
   "metadata": {},
   "outputs": [
    {
     "data": {
      "text/html": [
       "<div>\n",
       "<style scoped>\n",
       "    .dataframe tbody tr th:only-of-type {\n",
       "        vertical-align: middle;\n",
       "    }\n",
       "\n",
       "    .dataframe tbody tr th {\n",
       "        vertical-align: top;\n",
       "    }\n",
       "\n",
       "    .dataframe thead th {\n",
       "        text-align: right;\n",
       "    }\n",
       "</style>\n",
       "<table border=\"1\" class=\"dataframe\">\n",
       "  <thead>\n",
       "    <tr style=\"text-align: right;\">\n",
       "      <th></th>\n",
       "      <th>Unnamed: 0</th>\n",
       "      <th>title</th>\n",
       "      <th>author</th>\n",
       "      <th>pages</th>\n",
       "      <th>genre</th>\n",
       "      <th>description</th>\n",
       "      <th>published_date</th>\n",
       "      <th>publisher</th>\n",
       "      <th>language</th>\n",
       "      <th>average_rating</th>\n",
       "      <th>ratings_count</th>\n",
       "      <th>thumbnail</th>\n",
       "    </tr>\n",
       "  </thead>\n",
       "  <tbody>\n",
       "    <tr>\n",
       "      <th>0</th>\n",
       "      <td>0</td>\n",
       "      <td>Fictional Points of View</td>\n",
       "      <td>Peter Lamarque</td>\n",
       "      <td>252</td>\n",
       "      <td>Literary Criticism</td>\n",
       "      <td>The volume focuses on a wide range of thinkers...</td>\n",
       "      <td>1996</td>\n",
       "      <td>Cornell University Press</td>\n",
       "      <td>en</td>\n",
       "      <td>No rating</td>\n",
       "      <td>0</td>\n",
       "      <td>http://books.google.com/books/content?id=rh-om...</td>\n",
       "    </tr>\n",
       "    <tr>\n",
       "      <th>1</th>\n",
       "      <td>1</td>\n",
       "      <td>Science Fiction and Fantasy Literature</td>\n",
       "      <td>R. Reginald, Douglas Menville, Mary A. Burgess</td>\n",
       "      <td>802</td>\n",
       "      <td>Reference</td>\n",
       "      <td>Science Fiction and Fantasy Literature, A Chec...</td>\n",
       "      <td>2010-09-01</td>\n",
       "      <td>Wildside Press LLC</td>\n",
       "      <td>en</td>\n",
       "      <td>No rating</td>\n",
       "      <td>0</td>\n",
       "      <td>http://books.google.com/books/content?id=P8zW2...</td>\n",
       "    </tr>\n",
       "    <tr>\n",
       "      <th>2</th>\n",
       "      <td>2</td>\n",
       "      <td>Library of Congress Subject Headings</td>\n",
       "      <td>Library of Congress. Cataloging Policy and Sup...</td>\n",
       "      <td>1662</td>\n",
       "      <td>Subject headings, Library of Congress</td>\n",
       "      <td>No description available</td>\n",
       "      <td>2004</td>\n",
       "      <td>Unknown Publisher</td>\n",
       "      <td>en</td>\n",
       "      <td>No rating</td>\n",
       "      <td>0</td>\n",
       "      <td>http://books.google.com/books/content?id=pEhkh...</td>\n",
       "    </tr>\n",
       "    <tr>\n",
       "      <th>3</th>\n",
       "      <td>3</td>\n",
       "      <td>Library of Congress Subject Headings</td>\n",
       "      <td>Library of Congress</td>\n",
       "      <td>1512</td>\n",
       "      <td>Subject headings, Library of Congress</td>\n",
       "      <td>No description available</td>\n",
       "      <td>2007</td>\n",
       "      <td>Unknown Publisher</td>\n",
       "      <td>en</td>\n",
       "      <td>No rating</td>\n",
       "      <td>0</td>\n",
       "      <td>http://books.google.com/books/content?id=FgAjF...</td>\n",
       "    </tr>\n",
       "    <tr>\n",
       "      <th>4</th>\n",
       "      <td>4</td>\n",
       "      <td>Fictional Space in the Modernist and Post-mode...</td>\n",
       "      <td>Carl Darryl Malmgren</td>\n",
       "      <td>248</td>\n",
       "      <td>Fiction</td>\n",
       "      <td>Fictional space is the imaginal expanse of fie...</td>\n",
       "      <td>1985</td>\n",
       "      <td>Bucknell University Press</td>\n",
       "      <td>en</td>\n",
       "      <td>No rating</td>\n",
       "      <td>0</td>\n",
       "      <td>http://books.google.com/books/content?id=KXzoz...</td>\n",
       "    </tr>\n",
       "    <tr>\n",
       "      <th>...</th>\n",
       "      <td>...</td>\n",
       "      <td>...</td>\n",
       "      <td>...</td>\n",
       "      <td>...</td>\n",
       "      <td>...</td>\n",
       "      <td>...</td>\n",
       "      <td>...</td>\n",
       "      <td>...</td>\n",
       "      <td>...</td>\n",
       "      <td>...</td>\n",
       "      <td>...</td>\n",
       "      <td>...</td>\n",
       "    </tr>\n",
       "    <tr>\n",
       "      <th>2044</th>\n",
       "      <td>2044</td>\n",
       "      <td>The Index Card</td>\n",
       "      <td>Helaine Olen, Harold Pollack</td>\n",
       "      <td>256</td>\n",
       "      <td>Personal Finance</td>\n",
       "      <td>Simplifies personal finance to ten rules that ...</td>\n",
       "      <td>2016-01-05</td>\n",
       "      <td>Portfolio</td>\n",
       "      <td>en</td>\n",
       "      <td>4.0</td>\n",
       "      <td>30000</td>\n",
       "      <td>http://books.google.com/books/content?id=8z4_D...</td>\n",
       "    </tr>\n",
       "    <tr>\n",
       "      <th>2045</th>\n",
       "      <td>2045</td>\n",
       "      <td>The Road to Wealth</td>\n",
       "      <td>Suze Orman</td>\n",
       "      <td>608</td>\n",
       "      <td>Personal Finance</td>\n",
       "      <td>A comprehensive guide to managing money, inves...</td>\n",
       "      <td>2001-04-01</td>\n",
       "      <td>Riverhead Books</td>\n",
       "      <td>en</td>\n",
       "      <td>4.1</td>\n",
       "      <td>50000</td>\n",
       "      <td>http://books.google.com/books/content?id=zv0oD...</td>\n",
       "    </tr>\n",
       "    <tr>\n",
       "      <th>2046</th>\n",
       "      <td>2046</td>\n",
       "      <td>The Success Principles</td>\n",
       "      <td>Jack Canfield</td>\n",
       "      <td>512</td>\n",
       "      <td>Self-Help</td>\n",
       "      <td>A guide to achieving personal and financial su...</td>\n",
       "      <td>2004-12-28</td>\n",
       "      <td>HarperCollins</td>\n",
       "      <td>en</td>\n",
       "      <td>4.2</td>\n",
       "      <td>100000</td>\n",
       "      <td>http://books.google.com/books/content?id=7zL_D...</td>\n",
       "    </tr>\n",
       "    <tr>\n",
       "      <th>2047</th>\n",
       "      <td>2047</td>\n",
       "      <td>The Courage to Be Rich</td>\n",
       "      <td>Suze Orman</td>\n",
       "      <td>448</td>\n",
       "      <td>Personal Finance</td>\n",
       "      <td>Combines emotional and practical advice for bu...</td>\n",
       "      <td>1999-03-01</td>\n",
       "      <td>Riverhead Books</td>\n",
       "      <td>en</td>\n",
       "      <td>4.0</td>\n",
       "      <td>40000</td>\n",
       "      <td>http://books.google.com/books/content?id=2c3_D...</td>\n",
       "    </tr>\n",
       "    <tr>\n",
       "      <th>2048</th>\n",
       "      <td>2048</td>\n",
       "      <td>The Money Manual</td>\n",
       "      <td>Tonya Rapley</td>\n",
       "      <td>256</td>\n",
       "      <td>Personal Finance</td>\n",
       "      <td>A millennial-focused guide to budgeting, savin...</td>\n",
       "      <td>2023-05-16</td>\n",
       "      <td>Adams Media</td>\n",
       "      <td>en</td>\n",
       "      <td>4.2</td>\n",
       "      <td>20000</td>\n",
       "      <td>http://books.google.com/books/content?id=3z3_D...</td>\n",
       "    </tr>\n",
       "  </tbody>\n",
       "</table>\n",
       "<p>2049 rows × 12 columns</p>\n",
       "</div>"
      ],
      "text/plain": [
       "      Unnamed: 0                                              title  \\\n",
       "0              0                           Fictional Points of View   \n",
       "1              1             Science Fiction and Fantasy Literature   \n",
       "2              2               Library of Congress Subject Headings   \n",
       "3              3               Library of Congress Subject Headings   \n",
       "4              4  Fictional Space in the Modernist and Post-mode...   \n",
       "...          ...                                                ...   \n",
       "2044        2044                                     The Index Card   \n",
       "2045        2045                                 The Road to Wealth   \n",
       "2046        2046                             The Success Principles   \n",
       "2047        2047                             The Courage to Be Rich   \n",
       "2048        2048                                   The Money Manual   \n",
       "\n",
       "                                                 author pages  \\\n",
       "0                                        Peter Lamarque   252   \n",
       "1        R. Reginald, Douglas Menville, Mary A. Burgess   802   \n",
       "2     Library of Congress. Cataloging Policy and Sup...  1662   \n",
       "3                                   Library of Congress  1512   \n",
       "4                                  Carl Darryl Malmgren   248   \n",
       "...                                                 ...   ...   \n",
       "2044                       Helaine Olen, Harold Pollack   256   \n",
       "2045                                         Suze Orman   608   \n",
       "2046                                      Jack Canfield   512   \n",
       "2047                                         Suze Orman   448   \n",
       "2048                                       Tonya Rapley   256   \n",
       "\n",
       "                                      genre  \\\n",
       "0                        Literary Criticism   \n",
       "1                                 Reference   \n",
       "2     Subject headings, Library of Congress   \n",
       "3     Subject headings, Library of Congress   \n",
       "4                                   Fiction   \n",
       "...                                     ...   \n",
       "2044                       Personal Finance   \n",
       "2045                       Personal Finance   \n",
       "2046                              Self-Help   \n",
       "2047                       Personal Finance   \n",
       "2048                       Personal Finance   \n",
       "\n",
       "                                            description published_date  \\\n",
       "0     The volume focuses on a wide range of thinkers...           1996   \n",
       "1     Science Fiction and Fantasy Literature, A Chec...     2010-09-01   \n",
       "2                              No description available           2004   \n",
       "3                              No description available           2007   \n",
       "4     Fictional space is the imaginal expanse of fie...           1985   \n",
       "...                                                 ...            ...   \n",
       "2044  Simplifies personal finance to ten rules that ...     2016-01-05   \n",
       "2045  A comprehensive guide to managing money, inves...     2001-04-01   \n",
       "2046  A guide to achieving personal and financial su...     2004-12-28   \n",
       "2047  Combines emotional and practical advice for bu...     1999-03-01   \n",
       "2048  A millennial-focused guide to budgeting, savin...     2023-05-16   \n",
       "\n",
       "                      publisher language average_rating  ratings_count  \\\n",
       "0      Cornell University Press       en      No rating              0   \n",
       "1            Wildside Press LLC       en      No rating              0   \n",
       "2             Unknown Publisher       en      No rating              0   \n",
       "3             Unknown Publisher       en      No rating              0   \n",
       "4     Bucknell University Press       en      No rating              0   \n",
       "...                         ...      ...            ...            ...   \n",
       "2044                  Portfolio       en            4.0          30000   \n",
       "2045            Riverhead Books       en            4.1          50000   \n",
       "2046              HarperCollins       en            4.2         100000   \n",
       "2047            Riverhead Books       en            4.0          40000   \n",
       "2048                Adams Media       en            4.2          20000   \n",
       "\n",
       "                                              thumbnail  \n",
       "0     http://books.google.com/books/content?id=rh-om...  \n",
       "1     http://books.google.com/books/content?id=P8zW2...  \n",
       "2     http://books.google.com/books/content?id=pEhkh...  \n",
       "3     http://books.google.com/books/content?id=FgAjF...  \n",
       "4     http://books.google.com/books/content?id=KXzoz...  \n",
       "...                                                 ...  \n",
       "2044  http://books.google.com/books/content?id=8z4_D...  \n",
       "2045  http://books.google.com/books/content?id=zv0oD...  \n",
       "2046  http://books.google.com/books/content?id=7zL_D...  \n",
       "2047  http://books.google.com/books/content?id=2c3_D...  \n",
       "2048  http://books.google.com/books/content?id=3z3_D...  \n",
       "\n",
       "[2049 rows x 12 columns]"
      ]
     },
     "execution_count": 186,
     "metadata": {},
     "output_type": "execute_result"
    }
   ],
   "source": [
    "pd.read_csv('book_filtrado.csv') # Gerado e visualizado com sucesso"
   ]
  },
  {
   "cell_type": "markdown",
   "id": "08aafaf3-b36c-4094-af02-0fd1aca45aa1",
   "metadata": {},
   "source": [
    "# Referencias:\n",
    "\n",
    "- Sobre Series:\n",
    "    - https://pythonacademy.com.br/blog/series-no-pandas\n",
    " \n",
    "\n",
    "- Sobre DataFrames:\n",
    "    - https://pythonacademy.com.br/blog/dataframes-do-pandas\n",
    " \n",
    "- https://www.alura.com.br/artigos/pandas-o-que-e-para-que-serve-como-instalar?srsltid=AfmBOoownB66j48peufL3Qc19kyDVEx4h1Id7PtWKpn9LGqSsJOU1dwZ"
   ]
  },
  {
   "cell_type": "markdown",
   "id": "f46f562a-9fcf-48ac-915c-20976eea4dd0",
   "metadata": {},
   "source": [
    "# Tópicos\n",
    "Os tópicos a seguir foram retirados de estudos do curso: \n",
    "- \"Data Science e Machine Learning - Asimov Academy, -> A maior parte\n",
    "- \"Curso da DSA - \" ,\n",
    "- \"Ciência de Dados Impressionardo\" - Telegram, e\n",
    "- de outros locais de sites da internet."
   ]
  }
 ],
 "metadata": {
  "kernelspec": {
   "display_name": "Python 3 (ipykernel)",
   "language": "python",
   "name": "python3"
  },
  "language_info": {
   "codemirror_mode": {
    "name": "ipython",
    "version": 3
   },
   "file_extension": ".py",
   "mimetype": "text/x-python",
   "name": "python",
   "nbconvert_exporter": "python",
   "pygments_lexer": "ipython3",
   "version": "3.12.2"
  }
 },
 "nbformat": 4,
 "nbformat_minor": 5
}
