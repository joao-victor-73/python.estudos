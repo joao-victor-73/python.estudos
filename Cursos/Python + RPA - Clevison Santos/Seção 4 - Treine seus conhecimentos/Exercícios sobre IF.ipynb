{
 "cells": [
  {
   "cell_type": "markdown",
   "id": "727d32f4-905c-48db-be9d-f1f45ad66d3e",
   "metadata": {},
   "source": [
    "# 93. Exercícios sobre IF\n",
    "\n",
    "### Exercício 1: Comparação de números:\n",
    "Solicite dois números ao usuário. Use if para imprimir qual dos dois números é maior, ou se eles são iguais."
   ]
  },
  {
   "cell_type": "code",
   "execution_count": 3,
   "id": "afc454d6-a663-4ab7-b16c-9c4889797992",
   "metadata": {},
   "outputs": [
    {
     "name": "stdin",
     "output_type": "stream",
     "text": [
      "Digite um número:  2\n",
      "Digite outro número:  3\n"
     ]
    },
    {
     "name": "stdout",
     "output_type": "stream",
     "text": [
      "O número 3 é maior que 2\n"
     ]
    }
   ],
   "source": [
    "n1 = int(input(\"Digite um número: \"))\n",
    "n2 = int(input(\"Digite outro número: \"))\n",
    "\n",
    "if n1 > n2:\n",
    "    print(f\"O número {n1} é maior que {n2}\")\n",
    "elif n2 > n1:\n",
    "    print(f\"O número {n2} é maior que {n1}\")\n",
    "elif n1 == n2:\n",
    "    print(f\"O número {n1} é igual a que {n2}\")"
   ]
  },
  {
   "cell_type": "markdown",
   "id": "540e85ea-fd6a-4008-9276-326de7e8f738",
   "metadata": {},
   "source": [
    "### Exercício 2: Verificar se um número é par ou impar\n",
    "\n",
    "Escreva um programa que peça um número e informe se ele é par ou ímpar."
   ]
  },
  {
   "cell_type": "code",
   "execution_count": 8,
   "id": "9b4a7815-e574-479b-b58e-584919c6b171",
   "metadata": {},
   "outputs": [
    {
     "name": "stdin",
     "output_type": "stream",
     "text": [
      "Digite um número:  124\n"
     ]
    },
    {
     "name": "stdout",
     "output_type": "stream",
     "text": [
      "O número 124 é PAR\n"
     ]
    }
   ],
   "source": [
    "n1 = int(input(\"Digite um número: \"))\n",
    "\n",
    "if n1 % 2 == 0:\n",
    "    print(f\"O número {n1} é PAR\")\n",
    "else:\n",
    "    print(f\"O número {n1} é ÍMPAR\")"
   ]
  },
  {
   "cell_type": "markdown",
   "id": "d6e4f4e2-869c-4a42-a5b7-5a659f820e84",
   "metadata": {},
   "source": [
    "### Exercício 3: Verificação de Temperatura:\n",
    "\n",
    "Peça ao usuário para digitar a temperatura atual.\n",
    "- Se a temperatura estiver abaixo de 10ºC, imprima \"Muito frio!\".\n",
    "- Se estiver entre 10ºC e 25ºC, imprima \"Clima agradável!\".\n",
    "- Se estiver acima de 25ºC, imprima \"Está quente!\"."
   ]
  },
  {
   "cell_type": "code",
   "execution_count": 18,
   "id": "5ef3c827-1ac5-49f8-82b6-0e11988fc1f1",
   "metadata": {},
   "outputs": [
    {
     "name": "stdin",
     "output_type": "stream",
     "text": [
      "Digite a temperatura atual:  10.5\n"
     ]
    },
    {
     "name": "stdout",
     "output_type": "stream",
     "text": [
      "A temperatura digitada foi 10.5ºC, e está... Com um clima agradável!\n"
     ]
    }
   ],
   "source": [
    "temp = float(input(\"Digite a temperatura atual: \"))\n",
    "\n",
    "print(f\"A temperatura digitada foi {temp}ºC, e está...\", end=\" \")\n",
    "\n",
    "if temp <= 10:\n",
    "    print(\"Muito frio!\")\n",
    "elif temp > 10 and temp <= 25:\n",
    "    print(\"Com um clima agradável!\")\n",
    "elif temp > 25:\n",
    "    print(\"Está quente!\")\n",
    "    "
   ]
  },
  {
   "cell_type": "markdown",
   "id": "7848b811-1e86-4688-b81f-483367e3d0fd",
   "metadata": {},
   "source": [
    "\n",
    "______"
   ]
  },
  {
   "cell_type": "markdown",
   "id": "f41273f4-3b8a-455c-98bf-989e66ec1f44",
   "metadata": {},
   "source": [
    "# 94. Exercícios sobre IF parte 2\n",
    "\n",
    "### Exercício 09: Classificar nota:\n",
    "\n",
    "Peça a nota de um aluno e exiba sua classificação:\n",
    "- A (de 9 a 10)\n",
    "- B (de 7 a 8.9)\n",
    "- C (de 5 a 6.9)\n",
    "- D (abaixo de 5)"
   ]
  },
  {
   "cell_type": "code",
   "execution_count": 35,
   "id": "bf074de0-35d7-4121-8100-013dbdf37d36",
   "metadata": {},
   "outputs": [
    {
     "name": "stdin",
     "output_type": "stream",
     "text": [
      "Digite sua nota:  8\n"
     ]
    },
    {
     "name": "stdout",
     "output_type": "stream",
     "text": [
      "Você recebeu um B\n"
     ]
    }
   ],
   "source": [
    "nota = float(input(\"Digite sua nota: \"))\n",
    "\n",
    "if nota >= 9 and nota <= 10:\n",
    "    print(\"Você recebeu um A\")\n",
    "elif nota >= 7 and nota <= 8.9:\n",
    "    print(\"Você recebeu um B\")\n",
    "elif nota >= 5 and nota <= 6.9:\n",
    "    print(\"Você recebeu um C\")\n",
    "elif nota < 5:\n",
    "    print(\"Você recebeu um D\")\n",
    "else:\n",
    "    print(\"Nota invalida, tente novamente!\")"
   ]
  },
  {
   "cell_type": "markdown",
   "id": "c5ba570b-bd13-4eb5-a5cb-bf683a4e8964",
   "metadata": {},
   "source": [
    "### Exercício 09: Verificar divisibilidade por 3 e 5\n",
    "\n",
    "Peça um número e verifique se ele é divisível por 3, por 5, ou por ambos."
   ]
  },
  {
   "cell_type": "code",
   "execution_count": 45,
   "id": "ef4ceb61-be2e-4375-a7a7-9b05bed422ed",
   "metadata": {},
   "outputs": [
    {
     "name": "stdin",
     "output_type": "stream",
     "text": [
      "Digite um número:  30\n"
     ]
    },
    {
     "name": "stdout",
     "output_type": "stream",
     "text": [
      "O número 30 é divisível por 3 e por 5\n"
     ]
    }
   ],
   "source": [
    "num = int(input(\"Digite um número: \"))\n",
    "\n",
    "if num % 3 == 0 and num % 5 == 0:\n",
    "    print(f\"O número {num} é divisível por 3 e por 5\")\n",
    "elif num % 3 == 0:\n",
    "    print(f\"O número {num} é divisível por 3\")\n",
    "elif num % 5 == 0:\n",
    "    print(f\"O número {num} é divisível por 5\")\n",
    "else:\n",
    "    print(\"Divisão inválida! Não é divisível nem por 5 nem por 3\")"
   ]
  },
  {
   "cell_type": "markdown",
   "id": "5ecac8b4-a5cf-4d07-9025-01d7d45ea323",
   "metadata": {},
   "source": [
    "### Exercício 10: Cálculo de salário com bônus\n",
    "\n",
    "Peça o salário de um funcionário e o número de anos de trabalho. Se ele trabalha mais de 5 anos, adicione um bônus de 10% ao salário."
   ]
  }
 ],
 "metadata": {
  "kernelspec": {
   "display_name": "Python 3 (ipykernel)",
   "language": "python",
   "name": "python3"
  },
  "language_info": {
   "codemirror_mode": {
    "name": "ipython",
    "version": 3
   },
   "file_extension": ".py",
   "mimetype": "text/x-python",
   "name": "python",
   "nbconvert_exporter": "python",
   "pygments_lexer": "ipython3",
   "version": "3.12.2"
  }
 },
 "nbformat": 4,
 "nbformat_minor": 5
}
