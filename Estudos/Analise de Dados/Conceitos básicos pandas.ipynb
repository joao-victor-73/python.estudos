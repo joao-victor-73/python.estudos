{
 "cells": [
  {
   "cell_type": "code",
   "execution_count": 1,
   "id": "030a6f78-4264-461d-9830-6e32ab685dcd",
   "metadata": {},
   "outputs": [],
   "source": [
    "import pandas as pd"
   ]
  },
  {
   "cell_type": "markdown",
   "id": "1fdd04ef-c236-4f20-8bfb-5e58a581cc1b",
   "metadata": {},
   "source": [
    "Os tópicos a seguir foram retirados de estudos do curso: \"Data Science e Machine Learning - Asimov Academy\n",
    "\n",
    "# 2. Analisando dados com Pandas\n",
    "\n",
    "### 2.1. Conceitos básicos de Pandas\n",
    "\n",
    "\n",
    "A Ciência de Dados, ou a Análise de Dados, é um ramo que vem ganhando cada vez mais notoriedade, várias empresas de pequeno a grande porte, como a Netflix, Airbnb e Google já possuem atividades de tomada de decisão baseadas em dados. Nesse cenário, a linguagem Python é bastante utilizada devido a sua versatilidade e simplicidade, contando com uma vasta quantidade de bibliotecas, e entre elas, o Pandas.\n",
    "\n",
    "#### O que é Pandas?\n",
    "\n",
    "Pandas é uma biblioteca de código aberto (open source), construída sobre a linguagem Python, e que providencia uma abordagem rápida e flexível, com estruturas robustas para se trabalhar com dados relacionais (ou rotulados), e tudo isso de maneira simples e intuitiva.\n",
    "\n",
    "De maneira geral, o Pandas pode ser utilizado para várias atividades e processos, entre eles: **limpeza e tratamento de dados, análise exploratória de dados (EDA)**, suporte em atividades de Machine Learning, consultas e queries em bancos de dados relacionais, visualização de dados, webscraping e muito mais. E além disso, também possui ótima integração com várias outras bibliotecas muito utilizadas em Ciência de Dados, tais como: Numpy, Scikit-Learn, Seaborn, Altair, Matplotlib, Plotly, Scipy e outros."
   ]
  },
  {
   "cell_type": "markdown",
   "id": "e9e1f802-7f72-4964-9cb0-8ac03ac729df",
   "metadata": {},
   "source": [
    "### 2.4. Series\n",
    "\n",
    "A estrutura principal do Pandas é composta por dois tipos de objetos: _Series e DataFrames_, vamos falar um pouco sobre o primeiro tipo;\n",
    "\n",
    "As _Series_ nada mais são que uma espécie de arranjo unidimensional, como uma lista por exemplo, mas que possui algumas características diferentes, uma delas é que possui rótulos para cada elemento do array, ou seja, **uma Série é um array unidimensional capaz de armazenar qualquer tipo de dado e vem com um índice que nos ajuda a localizar esses dados rapidamente.** Para facilitar, pense na _Serie_ como uma coluna de uma tabela no Excel.\n",
    "\n",
    "Uma série tem 4 partes importantes:\n",
    "- Os elementos em si\n",
    "- O índice que contém a referência para acessar os elementos\n",
    "- O tipo dos elementos\n",
    "- Um nome"
   ]
  },
  {
   "cell_type": "markdown",
   "id": "97092086-b667-4779-bc85-f12b86f14882",
   "metadata": {},
   "source": [
    "#### Elementos e Tipos\n",
    "\n",
    "Os elementos podem ser de qualquer tipo, ou seja, podemos ter uma série com números e strings, por exemplo.\n",
    "\n",
    "Abaixo, criamos duas séries de exemplo de forma bem parecida como criamos a lista, com a exceção de que as criamos a partir da classe Series do pandas:"
   ]
  },
  {
   "cell_type": "code",
   "execution_count": 3,
   "id": "ce845cfe-e605-44c2-b8a1-f7f3529cad87",
   "metadata": {},
   "outputs": [
    {
     "data": {
      "text/plain": [
       "0    42\n",
       "1    99\n",
       "2    -1\n",
       "dtype: int64"
      ]
     },
     "execution_count": 3,
     "metadata": {},
     "output_type": "execute_result"
    }
   ],
   "source": [
    "serie = pd.Series([42, 99, -1])\n",
    "serie"
   ]
  },
  {
   "cell_type": "code",
   "execution_count": 4,
   "id": "4267cbf6-15c8-4f74-aa86-2cbc00b2104e",
   "metadata": {},
   "outputs": [
    {
     "data": {
      "text/plain": [
       "0    radiohead\n",
       "1          2.3\n",
       "2         True\n",
       "dtype: object"
      ]
     },
     "execution_count": 4,
     "metadata": {},
     "output_type": "execute_result"
    }
   ],
   "source": [
    "serie2 = pd.Series(['radiohead', 2.3, True])\n",
    "serie2"
   ]
  },
  {
   "cell_type": "markdown",
   "id": "8451a709-36c6-48ea-87cd-d9a618fa8a23",
   "metadata": {},
   "source": [
    "#### Acessando elementos\n",
    "\n",
    "Numa lista, acessamos os elementos por meio de índices posicionais, numéricos, certo?\n",
    "\n",
    "Acessar o primeiro elemento: lista[0], o terceiro elemento: lista[2], e assim por diante.\n",
    "\n",
    "Nas séries podemos acessar da mesma forma, porém, podemos acessar os elementos de uma _serie_ com um índice posicional, mas não precisa ser assim, podemos criar um índice próprio que nem precisa ser numérico.\n",
    "\n",
    "Vamos criar um caso de exemplo, queremos guardar as calorias de cada alimento que vamos ingerir... E com isso criamos uma serie com as calorias de uma banana, um prato feito e um big mac:"
   ]
  },
  {
   "cell_type": "code",
   "execution_count": 7,
   "id": "9aed06d2-6f32-4d30-bd80-e4694f27331e",
   "metadata": {},
   "outputs": [
    {
     "data": {
      "text/plain": [
       "0    200\n",
       "1    350\n",
       "2    550\n",
       "dtype: int64"
      ]
     },
     "execution_count": 7,
     "metadata": {},
     "output_type": "execute_result"
    }
   ],
   "source": [
    "serie_sem_nome = pd.Series([200, 350, 550])\n",
    "serie_sem_nome"
   ]
  },
  {
   "cell_type": "code",
   "execution_count": 8,
   "id": "65a5ec94-6a89-4fa2-9879-6eee8d4419a5",
   "metadata": {},
   "outputs": [
    {
     "data": {
      "text/plain": [
       "banana         200\n",
       "prato feito    350\n",
       "big mac        550\n",
       "dtype: int64"
      ]
     },
     "execution_count": 8,
     "metadata": {},
     "output_type": "execute_result"
    }
   ],
   "source": [
    "# Vamos agora dar nomes aos indices e assim saberemos quais calorias é de quais alimentos:\n",
    "serie_com_nome = pd.Series([200, 350, 550], index=['banana', 'prato feito', 'big mac'])\n",
    "serie_com_nome"
   ]
  },
  {
   "cell_type": "code",
   "execution_count": 10,
   "id": "8d8c19c6-9c28-4873-ae70-1ce27318ab29",
   "metadata": {},
   "outputs": [
    {
     "data": {
      "text/plain": [
       "np.int64(550)"
      ]
     },
     "execution_count": 10,
     "metadata": {},
     "output_type": "execute_result"
    }
   ],
   "source": [
    "# Quantas calorias tem um big mac?\n",
    "serie_com_nome['big mac']"
   ]
  },
  {
   "cell_type": "markdown",
   "id": "f0dccc9e-6c4b-4465-8bff-0dd2fd69e7d2",
   "metadata": {},
   "source": [
    "Vamos para mais um exemplo, para conseguirmos entender sobre acessar os elementos de uma **serie**"
   ]
  },
  {
   "cell_type": "code",
   "execution_count": 19,
   "id": "4bb3a5a6-8a06-4786-b817-b51315ae743e",
   "metadata": {},
   "outputs": [],
   "source": [
    "labels = ['a', 'b', 'c']\n",
    "minha_lista = [10, 20, 30]\n",
    "d = {'a':10, 'b':20, 'c':30} # Um dicionário para utilizar no Series"
   ]
  },
  {
   "cell_type": "markdown",
   "id": "8dbb4e26-d7bb-4822-8c4f-9c3fc508bacb",
   "metadata": {},
   "source": [
    "**Uma observação importante:**\n",
    "Não preciso especificar qual será meu data ou meu index, o pandas identifica automáticamente quando eu coloco em ordem, veja os exemplos abaixo."
   ]
  },
  {
   "cell_type": "code",
   "execution_count": 14,
   "id": "d6b53fea-7a04-49e2-a9eb-08a75005e918",
   "metadata": {},
   "outputs": [
    {
     "data": {
      "text/plain": [
       "0    a\n",
       "1    b\n",
       "2    c\n",
       "dtype: object"
      ]
     },
     "execution_count": 14,
     "metadata": {},
     "output_type": "execute_result"
    }
   ],
   "source": [
    "pd.Series(labels)"
   ]
  },
  {
   "cell_type": "code",
   "execution_count": 16,
   "id": "2cdfaea6-4629-4cba-bb76-0cf99f94305a",
   "metadata": {},
   "outputs": [
    {
     "data": {
      "text/plain": [
       "10    a\n",
       "20    b\n",
       "30    c\n",
       "dtype: object"
      ]
     },
     "execution_count": 16,
     "metadata": {},
     "output_type": "execute_result"
    }
   ],
   "source": [
    "pd.Series(labels, minha_lista)\n",
    "# A mesma coisa seria: pd.Series(data=labels, index=minha_lista)"
   ]
  },
  {
   "cell_type": "markdown",
   "id": "7a965fa5-40e9-43c9-a0dd-c76f16947519",
   "metadata": {},
   "source": [
    "Eu também posso utilizar dicionários no Series, e o interessante é que, automaticamente o _pandas_ identifica a chave do dicionário como o indice do elemento. Vejamos abaixo:"
   ]
  },
  {
   "cell_type": "code",
   "execution_count": 17,
   "id": "c1021d88-348e-4957-be4e-f3969d4b884d",
   "metadata": {},
   "outputs": [
    {
     "data": {
      "text/plain": [
       "a    10\n",
       "b    20\n",
       "c    30\n",
       "dtype: int64"
      ]
     },
     "execution_count": 17,
     "metadata": {},
     "output_type": "execute_result"
    }
   ],
   "source": [
    "pd.Series(d)"
   ]
  },
  {
   "cell_type": "code",
   "execution_count": 18,
   "id": "252bfb3d-f671-4f28-b1f4-a3a6a1e0a943",
   "metadata": {},
   "outputs": [
    {
     "data": {
      "text/plain": [
       "banana     34\n",
       "uva        21\n",
       "laranja    22\n",
       "dtype: int64"
      ]
     },
     "execution_count": 18,
     "metadata": {},
     "output_type": "execute_result"
    }
   ],
   "source": [
    "d2 = {\"banana\": 34, \"uva\": 21, \"laranja\": 22} # Quantidade de frutas que eu tenho\n",
    "pd.Series(d2)"
   ]
  },
  {
   "cell_type": "code",
   "execution_count": 22,
   "id": "8634aa29-dfa4-467d-96ff-ad84c82c0cb0",
   "metadata": {},
   "outputs": [
    {
     "data": {
      "text/plain": [
       "34"
      ]
     },
     "execution_count": 22,
     "metadata": {},
     "output_type": "execute_result"
    }
   ],
   "source": [
    "# Quantas bananas eu tenho?\n",
    "d2['banana']"
   ]
  },
  {
   "cell_type": "markdown",
   "id": "193c3de5-79ae-4e0d-b416-5711565c4285",
   "metadata": {},
   "source": [
    "### 2.5. DataFrames\n",
    "\n",
    "O DataFrame do Pandas é uma maneira de representar e trabalhar com dados tabulares. Ele pode ser visto como uma tabela que organiza os dados em linhas e colunas, criando uma estrutura de dados bidimensional. Um DataFrame pode ser criado do zero ou você pode usar outras estruturas de dados, como matrizes NumPy.\n",
    "\n",
    "Em outras palavras: DataFrames são estruturas 2D (linhas e colunas) — parecida com uma planilha do Excel ou uma tabela SQL."
   ]
  },
  {
   "cell_type": "markdown",
   "id": "1d932e7e-47d7-43d0-a5db-daefd689ec4d",
   "metadata": {},
   "source": [
    "#### Criando DataFrames"
   ]
  },
  {
   "cell_type": "code",
   "execution_count": 28,
   "id": "81c1e029-5d38-4518-9717-5519c2d15d6a",
   "metadata": {},
   "outputs": [
    {
     "name": "stdout",
     "output_type": "stream",
     "text": [
      "     Nome  Idade          Cidade\n",
      "0     Ana     25       São Paulo\n",
      "1   Bruno     30  Rio de Janeiro\n",
      "2  Carlos     35  Belo Horizonte\n"
     ]
    }
   ],
   "source": [
    "# Criando DataFrames a partir de dicionários:\n",
    "\n",
    "dados = {\n",
    "'Nome': ['Ana', 'Bruno', 'Carlos'],\n",
    "'Idade': [25, 30, 35],\n",
    "'Cidade': ['São Paulo', 'Rio de Janeiro', 'Belo Horizonte']\n",
    "}\n",
    "\n",
    "df = pd.DataFrame(dados)\n",
    "print(df)"
   ]
  },
  {
   "cell_type": "code",
   "execution_count": 32,
   "id": "78f93152-8c34-4002-a167-b7add3c43b36",
   "metadata": {},
   "outputs": [
    {
     "name": "stdout",
     "output_type": "stream",
     "text": [
      "             Calorias  Gordura (%)\n",
      "banana            200            0\n",
      "prato feito       350            6\n",
      "big mac           550           15\n",
      "\n"
     ]
    }
   ],
   "source": [
    "# Criando DataFrames a partir de listas:\n",
    "df2 = pd.DataFrame({'Calorias':[200, 350, 550], 'Gordura (%)':[0, 6, 15]}, index=['banana', 'prato feito', 'big mac'])\n",
    "print(df2)\n",
    "print()"
   ]
  },
  {
   "cell_type": "markdown",
   "id": "0180641e-1876-45c9-a48e-f3f4570f7b44",
   "metadata": {},
   "source": [
    "#### Acessando DataFrames\n",
    "\n",
    "Quando trabalhamos com Series, acessamos atraves do indice, já nos DataFrammes, acessamos atraves do nome da coluna"
   ]
  },
  {
   "cell_type": "code",
   "execution_count": 36,
   "id": "c83d9f1a-b942-4d30-83ea-7127159e17f7",
   "metadata": {},
   "outputs": [
    {
     "data": {
      "text/html": [
       "<div>\n",
       "<style scoped>\n",
       "    .dataframe tbody tr th:only-of-type {\n",
       "        vertical-align: middle;\n",
       "    }\n",
       "\n",
       "    .dataframe tbody tr th {\n",
       "        vertical-align: top;\n",
       "    }\n",
       "\n",
       "    .dataframe thead th {\n",
       "        text-align: right;\n",
       "    }\n",
       "</style>\n",
       "<table border=\"1\" class=\"dataframe\">\n",
       "  <thead>\n",
       "    <tr style=\"text-align: right;\">\n",
       "      <th></th>\n",
       "      <th>Cidade</th>\n",
       "    </tr>\n",
       "  </thead>\n",
       "  <tbody>\n",
       "    <tr>\n",
       "      <th>0</th>\n",
       "      <td>São Paulo</td>\n",
       "    </tr>\n",
       "    <tr>\n",
       "      <th>1</th>\n",
       "      <td>Rio de Janeiro</td>\n",
       "    </tr>\n",
       "    <tr>\n",
       "      <th>2</th>\n",
       "      <td>Belo Horizonte</td>\n",
       "    </tr>\n",
       "  </tbody>\n",
       "</table>\n",
       "</div>"
      ],
      "text/plain": [
       "           Cidade\n",
       "0       São Paulo\n",
       "1  Rio de Janeiro\n",
       "2  Belo Horizonte"
      ]
     },
     "execution_count": 36,
     "metadata": {},
     "output_type": "execute_result"
    }
   ],
   "source": [
    "df[['Cidade']] # Retornar a consulta como DataFrame"
   ]
  },
  {
   "cell_type": "code",
   "execution_count": 37,
   "id": "5d1a4d83-d9bb-4975-8b17-cdd5291463c5",
   "metadata": {},
   "outputs": [
    {
     "data": {
      "text/plain": [
       "0         São Paulo\n",
       "1    Rio de Janeiro\n",
       "2    Belo Horizonte\n",
       "Name: Cidade, dtype: object"
      ]
     },
     "execution_count": 37,
     "metadata": {},
     "output_type": "execute_result"
    }
   ],
   "source": [
    "df['Cidade'] # Retornar a consulta como Serie"
   ]
  },
  {
   "cell_type": "markdown",
   "id": "fd9eefc2-4e40-491c-802c-1ecb5b16aa24",
   "metadata": {},
   "source": [
    "#### Adicionando colunas"
   ]
  },
  {
   "cell_type": "code",
   "execution_count": 38,
   "id": "318c8d93-0657-401c-a562-1ddc28972bba",
   "metadata": {},
   "outputs": [],
   "source": [
    "df['new'] = df['Idade']"
   ]
  },
  {
   "cell_type": "code",
   "execution_count": 39,
   "id": "62569a55-188a-4480-aede-364c406fb855",
   "metadata": {},
   "outputs": [
    {
     "data": {
      "text/html": [
       "<div>\n",
       "<style scoped>\n",
       "    .dataframe tbody tr th:only-of-type {\n",
       "        vertical-align: middle;\n",
       "    }\n",
       "\n",
       "    .dataframe tbody tr th {\n",
       "        vertical-align: top;\n",
       "    }\n",
       "\n",
       "    .dataframe thead th {\n",
       "        text-align: right;\n",
       "    }\n",
       "</style>\n",
       "<table border=\"1\" class=\"dataframe\">\n",
       "  <thead>\n",
       "    <tr style=\"text-align: right;\">\n",
       "      <th></th>\n",
       "      <th>Nome</th>\n",
       "      <th>Idade</th>\n",
       "      <th>Cidade</th>\n",
       "      <th>new</th>\n",
       "    </tr>\n",
       "  </thead>\n",
       "  <tbody>\n",
       "    <tr>\n",
       "      <th>0</th>\n",
       "      <td>Ana</td>\n",
       "      <td>25</td>\n",
       "      <td>São Paulo</td>\n",
       "      <td>25</td>\n",
       "    </tr>\n",
       "    <tr>\n",
       "      <th>1</th>\n",
       "      <td>Bruno</td>\n",
       "      <td>30</td>\n",
       "      <td>Rio de Janeiro</td>\n",
       "      <td>30</td>\n",
       "    </tr>\n",
       "    <tr>\n",
       "      <th>2</th>\n",
       "      <td>Carlos</td>\n",
       "      <td>35</td>\n",
       "      <td>Belo Horizonte</td>\n",
       "      <td>35</td>\n",
       "    </tr>\n",
       "  </tbody>\n",
       "</table>\n",
       "</div>"
      ],
      "text/plain": [
       "     Nome  Idade          Cidade  new\n",
       "0     Ana     25       São Paulo   25\n",
       "1   Bruno     30  Rio de Janeiro   30\n",
       "2  Carlos     35  Belo Horizonte   35"
      ]
     },
     "execution_count": 39,
     "metadata": {},
     "output_type": "execute_result"
    }
   ],
   "source": [
    "df"
   ]
  },
  {
   "cell_type": "code",
   "execution_count": 44,
   "id": "8a74503e-e000-4052-b65b-f780c10aee23",
   "metadata": {},
   "outputs": [],
   "source": [
    "# Quantas calorias eu consumiria ao comer duas vezes:\n",
    "df2['Total_Calorias'] = df2['Calorias'] * 2"
   ]
  },
  {
   "cell_type": "code",
   "execution_count": 43,
   "id": "ba566faa-fd76-47dd-8a8d-bff312092108",
   "metadata": {},
   "outputs": [
    {
     "data": {
      "text/html": [
       "<div>\n",
       "<style scoped>\n",
       "    .dataframe tbody tr th:only-of-type {\n",
       "        vertical-align: middle;\n",
       "    }\n",
       "\n",
       "    .dataframe tbody tr th {\n",
       "        vertical-align: top;\n",
       "    }\n",
       "\n",
       "    .dataframe thead th {\n",
       "        text-align: right;\n",
       "    }\n",
       "</style>\n",
       "<table border=\"1\" class=\"dataframe\">\n",
       "  <thead>\n",
       "    <tr style=\"text-align: right;\">\n",
       "      <th></th>\n",
       "      <th>Calorias</th>\n",
       "      <th>Gordura (%)</th>\n",
       "      <th>Total_Calorias</th>\n",
       "    </tr>\n",
       "  </thead>\n",
       "  <tbody>\n",
       "    <tr>\n",
       "      <th>banana</th>\n",
       "      <td>200</td>\n",
       "      <td>0</td>\n",
       "      <td>400</td>\n",
       "    </tr>\n",
       "    <tr>\n",
       "      <th>prato feito</th>\n",
       "      <td>350</td>\n",
       "      <td>6</td>\n",
       "      <td>700</td>\n",
       "    </tr>\n",
       "    <tr>\n",
       "      <th>big mac</th>\n",
       "      <td>550</td>\n",
       "      <td>15</td>\n",
       "      <td>1100</td>\n",
       "    </tr>\n",
       "  </tbody>\n",
       "</table>\n",
       "</div>"
      ],
      "text/plain": [
       "             Calorias  Gordura (%)  Total_Calorias\n",
       "banana            200            0             400\n",
       "prato feito       350            6             700\n",
       "big mac           550           15            1100"
      ]
     },
     "execution_count": 43,
     "metadata": {},
     "output_type": "execute_result"
    }
   ],
   "source": [
    "df2"
   ]
  },
  {
   "cell_type": "markdown",
   "id": "ef66d2cf-d739-4793-8343-52e822efa067",
   "metadata": {},
   "source": [
    "#### Deletando colunas do DataFrame\n",
    "\n",
    "Um observação curiosa é que, no Pandas, se não for especificado, ele ira trabalhar com uma especie de copia do DataFrame, e você trabalhará com isso, até que seja especificado que você quer que seja o original. O que isso quer dizer?\n",
    "\n",
    "Vamos atentar ao exemplo abaixo:"
   ]
  },
  {
   "cell_type": "code",
   "execution_count": 50,
   "id": "96e970ae-8d70-4028-ba5c-84500acdecad",
   "metadata": {},
   "outputs": [
    {
     "data": {
      "text/html": [
       "<div>\n",
       "<style scoped>\n",
       "    .dataframe tbody tr th:only-of-type {\n",
       "        vertical-align: middle;\n",
       "    }\n",
       "\n",
       "    .dataframe tbody tr th {\n",
       "        vertical-align: top;\n",
       "    }\n",
       "\n",
       "    .dataframe thead th {\n",
       "        text-align: right;\n",
       "    }\n",
       "</style>\n",
       "<table border=\"1\" class=\"dataframe\">\n",
       "  <thead>\n",
       "    <tr style=\"text-align: right;\">\n",
       "      <th></th>\n",
       "      <th>Nome</th>\n",
       "      <th>Idade</th>\n",
       "      <th>Cidade</th>\n",
       "    </tr>\n",
       "  </thead>\n",
       "  <tbody>\n",
       "    <tr>\n",
       "      <th>0</th>\n",
       "      <td>Ana</td>\n",
       "      <td>25</td>\n",
       "      <td>São Paulo</td>\n",
       "    </tr>\n",
       "    <tr>\n",
       "      <th>1</th>\n",
       "      <td>Bruno</td>\n",
       "      <td>30</td>\n",
       "      <td>Rio de Janeiro</td>\n",
       "    </tr>\n",
       "    <tr>\n",
       "      <th>2</th>\n",
       "      <td>Carlos</td>\n",
       "      <td>35</td>\n",
       "      <td>Belo Horizonte</td>\n",
       "    </tr>\n",
       "  </tbody>\n",
       "</table>\n",
       "</div>"
      ],
      "text/plain": [
       "     Nome  Idade          Cidade\n",
       "0     Ana     25       São Paulo\n",
       "1   Bruno     30  Rio de Janeiro\n",
       "2  Carlos     35  Belo Horizonte"
      ]
     },
     "execution_count": 50,
     "metadata": {},
     "output_type": "execute_result"
    }
   ],
   "source": [
    "df.drop('new', axis=1)\t\n",
    "\n",
    "# axis=0 corresponde a linhas\n",
    "# axis=1 corresponde a colunas"
   ]
  },
  {
   "cell_type": "markdown",
   "id": "8c36fb07-831a-458d-a081-971e75e02e2b",
   "metadata": {},
   "source": [
    "O comando: _df.drop('new', axis=1)_ diz para o Pandas apagar a coluna que tem o nome 'new'. Porém, ele trabalha com o 'como seria' se for feito dessa maneira.\n",
    "\n",
    "Se eu for acessar novamente esse dataframe, a coluna 'new' ainda estará lá:"
   ]
  },
  {
   "cell_type": "code",
   "execution_count": 51,
   "id": "8773450e-54c0-482a-a3ef-35fd4735da46",
   "metadata": {},
   "outputs": [
    {
     "data": {
      "text/html": [
       "<div>\n",
       "<style scoped>\n",
       "    .dataframe tbody tr th:only-of-type {\n",
       "        vertical-align: middle;\n",
       "    }\n",
       "\n",
       "    .dataframe tbody tr th {\n",
       "        vertical-align: top;\n",
       "    }\n",
       "\n",
       "    .dataframe thead th {\n",
       "        text-align: right;\n",
       "    }\n",
       "</style>\n",
       "<table border=\"1\" class=\"dataframe\">\n",
       "  <thead>\n",
       "    <tr style=\"text-align: right;\">\n",
       "      <th></th>\n",
       "      <th>Nome</th>\n",
       "      <th>Idade</th>\n",
       "      <th>Cidade</th>\n",
       "      <th>new</th>\n",
       "    </tr>\n",
       "  </thead>\n",
       "  <tbody>\n",
       "    <tr>\n",
       "      <th>0</th>\n",
       "      <td>Ana</td>\n",
       "      <td>25</td>\n",
       "      <td>São Paulo</td>\n",
       "      <td>25</td>\n",
       "    </tr>\n",
       "    <tr>\n",
       "      <th>1</th>\n",
       "      <td>Bruno</td>\n",
       "      <td>30</td>\n",
       "      <td>Rio de Janeiro</td>\n",
       "      <td>30</td>\n",
       "    </tr>\n",
       "    <tr>\n",
       "      <th>2</th>\n",
       "      <td>Carlos</td>\n",
       "      <td>35</td>\n",
       "      <td>Belo Horizonte</td>\n",
       "      <td>35</td>\n",
       "    </tr>\n",
       "  </tbody>\n",
       "</table>\n",
       "</div>"
      ],
      "text/plain": [
       "     Nome  Idade          Cidade  new\n",
       "0     Ana     25       São Paulo   25\n",
       "1   Bruno     30  Rio de Janeiro   30\n",
       "2  Carlos     35  Belo Horizonte   35"
      ]
     },
     "execution_count": 51,
     "metadata": {},
     "output_type": "execute_result"
    }
   ],
   "source": [
    "df"
   ]
  },
  {
   "cell_type": "markdown",
   "id": "601634be-315e-4f57-a366-74c3e4a8be07",
   "metadata": {},
   "source": [
    "Então, como eu apago definitivamente a coluna?\n",
    "\n",
    "Existem diversas maneiras, uma delas é salvar em um novo DataFrame:"
   ]
  },
  {
   "cell_type": "code",
   "execution_count": 52,
   "id": "dc81b425-e6ba-4c05-9e07-402c239669c5",
   "metadata": {},
   "outputs": [
    {
     "data": {
      "text/html": [
       "<div>\n",
       "<style scoped>\n",
       "    .dataframe tbody tr th:only-of-type {\n",
       "        vertical-align: middle;\n",
       "    }\n",
       "\n",
       "    .dataframe tbody tr th {\n",
       "        vertical-align: top;\n",
       "    }\n",
       "\n",
       "    .dataframe thead th {\n",
       "        text-align: right;\n",
       "    }\n",
       "</style>\n",
       "<table border=\"1\" class=\"dataframe\">\n",
       "  <thead>\n",
       "    <tr style=\"text-align: right;\">\n",
       "      <th></th>\n",
       "      <th>Nome</th>\n",
       "      <th>Idade</th>\n",
       "      <th>Cidade</th>\n",
       "    </tr>\n",
       "  </thead>\n",
       "  <tbody>\n",
       "    <tr>\n",
       "      <th>0</th>\n",
       "      <td>Ana</td>\n",
       "      <td>25</td>\n",
       "      <td>São Paulo</td>\n",
       "    </tr>\n",
       "    <tr>\n",
       "      <th>1</th>\n",
       "      <td>Bruno</td>\n",
       "      <td>30</td>\n",
       "      <td>Rio de Janeiro</td>\n",
       "    </tr>\n",
       "    <tr>\n",
       "      <th>2</th>\n",
       "      <td>Carlos</td>\n",
       "      <td>35</td>\n",
       "      <td>Belo Horizonte</td>\n",
       "    </tr>\n",
       "  </tbody>\n",
       "</table>\n",
       "</div>"
      ],
      "text/plain": [
       "     Nome  Idade          Cidade\n",
       "0     Ana     25       São Paulo\n",
       "1   Bruno     30  Rio de Janeiro\n",
       "2  Carlos     35  Belo Horizonte"
      ]
     },
     "execution_count": 52,
     "metadata": {},
     "output_type": "execute_result"
    }
   ],
   "source": [
    "df3 = df.drop('new', axis=1)\n",
    "df3"
   ]
  },
  {
   "cell_type": "markdown",
   "id": "ff077572-a09e-4319-997a-f25e09a6cb75",
   "metadata": {},
   "source": [
    "Ou então, utilizar a flag da própria função que permite fazer isso:"
   ]
  },
  {
   "cell_type": "code",
   "execution_count": 53,
   "id": "f1272a6b-1e3d-4aeb-8912-8c964bf57cd2",
   "metadata": {},
   "outputs": [
    {
     "data": {
      "text/html": [
       "<div>\n",
       "<style scoped>\n",
       "    .dataframe tbody tr th:only-of-type {\n",
       "        vertical-align: middle;\n",
       "    }\n",
       "\n",
       "    .dataframe tbody tr th {\n",
       "        vertical-align: top;\n",
       "    }\n",
       "\n",
       "    .dataframe thead th {\n",
       "        text-align: right;\n",
       "    }\n",
       "</style>\n",
       "<table border=\"1\" class=\"dataframe\">\n",
       "  <thead>\n",
       "    <tr style=\"text-align: right;\">\n",
       "      <th></th>\n",
       "      <th>Nome</th>\n",
       "      <th>Idade</th>\n",
       "      <th>Cidade</th>\n",
       "    </tr>\n",
       "  </thead>\n",
       "  <tbody>\n",
       "    <tr>\n",
       "      <th>0</th>\n",
       "      <td>Ana</td>\n",
       "      <td>25</td>\n",
       "      <td>São Paulo</td>\n",
       "    </tr>\n",
       "    <tr>\n",
       "      <th>1</th>\n",
       "      <td>Bruno</td>\n",
       "      <td>30</td>\n",
       "      <td>Rio de Janeiro</td>\n",
       "    </tr>\n",
       "    <tr>\n",
       "      <th>2</th>\n",
       "      <td>Carlos</td>\n",
       "      <td>35</td>\n",
       "      <td>Belo Horizonte</td>\n",
       "    </tr>\n",
       "  </tbody>\n",
       "</table>\n",
       "</div>"
      ],
      "text/plain": [
       "     Nome  Idade          Cidade\n",
       "0     Ana     25       São Paulo\n",
       "1   Bruno     30  Rio de Janeiro\n",
       "2  Carlos     35  Belo Horizonte"
      ]
     },
     "execution_count": 53,
     "metadata": {},
     "output_type": "execute_result"
    }
   ],
   "source": [
    "df.drop('new', axis=1, inplace=True) # Está dizendo que quero deletar do DataFrame Original e manter no Original\n",
    "df"
   ]
  },
  {
   "cell_type": "markdown",
   "id": "08aafaf3-b36c-4094-af02-0fd1aca45aa1",
   "metadata": {},
   "source": [
    "# Referencias:\n",
    "\n",
    "- Sobre Series:\n",
    "    - https://pythonacademy.com.br/blog/series-no-pandas\n",
    " \n",
    "\n",
    "- Sobre DataFrames:\n",
    "    - https://pythonacademy.com.br/blog/dataframes-do-pandas"
   ]
  }
 ],
 "metadata": {
  "kernelspec": {
   "display_name": "Python 3 (ipykernel)",
   "language": "python",
   "name": "python3"
  },
  "language_info": {
   "codemirror_mode": {
    "name": "ipython",
    "version": 3
   },
   "file_extension": ".py",
   "mimetype": "text/x-python",
   "name": "python",
   "nbconvert_exporter": "python",
   "pygments_lexer": "ipython3",
   "version": "3.12.2"
  }
 },
 "nbformat": 4,
 "nbformat_minor": 5
}
