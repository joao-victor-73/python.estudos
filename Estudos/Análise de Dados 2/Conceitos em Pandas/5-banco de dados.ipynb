{
 "cells": [
  {
   "cell_type": "code",
   "execution_count": null,
   "id": "41a9a392-121a-4938-ba90-51d6cd00d5b4",
   "metadata": {},
   "outputs": [],
   "source": []
  }
 ],
 "metadata": {
  "kernelspec": {
   "display_name": "",
   "name": ""
  },
  "language_info": {
   "name": ""
  }
 },
 "nbformat": 4,
 "nbformat_minor": 5
}
