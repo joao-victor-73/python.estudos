{
 "cells": [
  {
   "cell_type": "markdown",
   "id": "cf12c314-37b2-4fa2-b566-7f630286a7ae",
   "metadata": {},
   "source": [
    "# 66. Introdução a Matrizes\n",
    "\n"
   ]
  },
  {
   "cell_type": "code",
   "execution_count": 14,
   "id": "e441b5fb-f3be-4d40-aff1-1d65134b7f2e",
   "metadata": {},
   "outputs": [
    {
     "name": "stdout",
     "output_type": "stream",
     "text": [
      "Imprimindo Matriz A:\n",
      "10 11 12 \n",
      "13 14 14 \n",
      "16 17 18 \n",
      "\n",
      "Imprimindo Matriz B:\n",
      "1 2 3 \n",
      "4 5 6 \n",
      "7 8 9 \n"
     ]
    }
   ],
   "source": [
    "# Exemplo prático: Subtração de Matrizes 3x3 em Python\n",
    "\n",
    "# Inicializando a matriz A com valores pré-definidos\n",
    "# Matriz 3x3 (3 colunas, 3 linhas) - Cada lista dentro da lista é uma linha.\n",
    "A = [[10, 11, 12], [13, 14, 14], [16, 17, 18]]\n",
    "\n",
    "print(\"Imprimindo Matriz A:\")\n",
    "\n",
    "# Inicia um loop para percorrer as linhas da matriz\n",
    "for linha in range(3):\n",
    "\n",
    "    # Inicia um loop interno para percorrer as colunas da matriz\n",
    "    for coluna in range(3):\n",
    "        print(f\"{A[linha][coluna]}\", end=\" \")\n",
    "\n",
    "    print()\n",
    "\n",
    "B = [[1, 2, 3], [4, 5, 6], [7, 8, 9]]\n",
    "\n",
    "print(\"\\nImprimindo Matriz B:\")\n",
    "# Inicia um loop para percorrer as linhas da matriz\n",
    "for linha in range(3):\n",
    "\n",
    "    # Inicia um loop interno para percorrer as colunas da matriz\n",
    "    for coluna in range(3):\n",
    "        print(f\"{B[linha][coluna]}\", end=\" \")\n",
    "    \n",
    "    print()"
   ]
  },
  {
   "cell_type": "code",
   "execution_count": 12,
   "id": "55404511-9908-44db-84c3-6f4942378361",
   "metadata": {},
   "outputs": [
    {
     "name": "stdout",
     "output_type": "stream",
     "text": [
      "Subtração das Matrizes A e B:\n",
      "[9, 9, 9]\n",
      "[9, 9, 8]\n",
      "[9, 9, 9]\n",
      "\n",
      "Soma das Matrizes A e B:\n",
      "[11, 13, 15]\n",
      "[17, 19, 20]\n",
      "[23, 25, 27]\n"
     ]
    }
   ],
   "source": [
    "# Subtração das Matrizes A e B:\n",
    "\n",
    "D = [[0, 0, 0], [0, 0, 0], [0, 0, 0]]\n",
    "\n",
    "print(\"Subtração das Matrizes A e B:\")\n",
    "\n",
    "for linha in range(3):\n",
    "    for coluna in range(3):\n",
    "        D[linha][coluna] = A[linha][coluna] - B[linha][coluna]\n",
    "\n",
    "\n",
    "for linha in D:\n",
    "    print(linha)\n",
    "\n",
    "\n",
    "print(\"\\nSoma das Matrizes A e B:\")\n",
    "\n",
    "for linha in range(3):\n",
    "    for coluna in range(3):\n",
    "        D[linha][coluna] = A[linha][coluna] + B[linha][coluna]\n",
    "\n",
    "\n",
    "for linha in D:\n",
    "    print(linha)\n"
   ]
  },
  {
   "cell_type": "markdown",
   "id": "ebdd72cd-bf23-49f4-ae2d-b8c8b4e78cf1",
   "metadata": {},
   "source": [
    "### Exercício: Soma dos números pares em uma matriz 4x4\n",
    "\n",
    "Dada a seguinte matriz 4x4: [[1, 2, 3, 4], [5, 6, 7, 8], [9, 10, 11, 12], [13, 14, 15, 16]]\n",
    "\n",
    "1. Escreva um programa em Python que percorre cada elemento da matriz;\n",
    "2. Some todos os números pares presentes na matriz;\n",
    "3. Imprima o resultado da soma."
   ]
  },
  {
   "cell_type": "code",
   "execution_count": 20,
   "id": "64cde65e-9ee2-4145-9b71-8a48890bd01a",
   "metadata": {},
   "outputs": [
    {
     "name": "stdout",
     "output_type": "stream",
     "text": [
      "1 2 3 4 \n",
      "5 6 7 8 \n",
      "9 10 11 12 \n",
      "13 14 15 16 \n"
     ]
    }
   ],
   "source": [
    "matriz = [[1, 2, 3, 4], [5, 6, 7, 8], [9, 10, 11, 12], [13, 14, 15, 16]]\n",
    "\n",
    "for linha in range(4):\n",
    "    for coluna in range(4):\n",
    "        print(f\"{matriz[linha][coluna]}\", end=\" \")\n",
    "    \n",
    "    print()"
   ]
  },
  {
   "cell_type": "markdown",
   "id": "3225d599-10ae-436c-96b7-3244cb74c69a",
   "metadata": {},
   "source": [
    "# 67. Matriz - Somar Coluna e Linhas e Exercício\n",
    "\n",
    "Podemos criar um código para somar os valores de uma coluna especifica em uma matriz.\n",
    "\n",
    "Para este exemplo, vamos considerar que desejamos somar os valores da primeira coluna."
   ]
  },
  {
   "cell_type": "code",
   "execution_count": 23,
   "id": "28c3c56c-7be7-4eed-bfc7-8bf23aa1b653",
   "metadata": {},
   "outputs": [
    {
     "name": "stdout",
     "output_type": "stream",
     "text": [
      "1 2 3 4 \n",
      "5 6 7 8 \n",
      "9 10 11 12 \n",
      "13 14 15 16 \n",
      "\n",
      "A Soma dos valores da coluna 0 é: 28\n"
     ]
    }
   ],
   "source": [
    "# Somar uma coluna\n",
    "\n",
    "# Podemos criar um código para somar os valores de uma coluna específica em uma matriz.\n",
    "# Para este exemplo, vamos considerar que desejamos somar os valores da primeira coluna.\n",
    "\n",
    "M = [\n",
    "    [1, 2, 3, 4],\n",
    "    [5, 6, 7, 8],\n",
    "    [9, 10, 11, 12],\n",
    "    [13, 14, 15, 16]\n",
    "]\n",
    "\n",
    "coluna_especifica = 0\n",
    "soma_coluna = 0\n",
    "\n",
    "for linha in range(4):\n",
    "    soma_coluna += M[linha][coluna_especifica]\n",
    "    for coluna in range(4):\n",
    "        print(f\"{M[linha][coluna]}\", end=\" \")\n",
    "    print()\n",
    "\n",
    "print(f\"\\nA Soma dos valores da coluna {coluna_especifica} é: {soma_coluna}\")"
   ]
  },
  {
   "cell_type": "markdown",
   "id": "8aaab75f-0e5f-40a6-ba10-58fcbce3b3ec",
   "metadata": {},
   "source": [
    "# 68. Matriz de Strings\n",
    "\n",
    "Uma matriz de strings é basicamente uma lista em que cada elemento interno é uma string. Vamos a um exemplo prático:"
   ]
  },
  {
   "cell_type": "code",
   "execution_count": 25,
   "id": "5e6360f6-9599-41d7-9f60-2ef1edcb392f",
   "metadata": {},
   "outputs": [
    {
     "name": "stdout",
     "output_type": "stream",
     "text": [
      "Gato Cachorro \n",
      "Pássaro Peixe \n"
     ]
    }
   ],
   "source": [
    "# Vamos considerar uma matriz 2x2, onde cada elemento é uma string representando um nome de animal:\n",
    "\n",
    "\"\"\"\n",
    "        COLUNA 0     COLUNA 1\n",
    "0        \"Gato\"     \"Cachorro\"\n",
    "1        \"Pássaro\"  \"Peixe\"\n",
    "\"\"\"\n",
    "\n",
    "\n",
    "\n",
    "# Criar e imprimir essa matriz:\n",
    "\n",
    "\n",
    "# Criando a matriz 2x2 de strings:\n",
    "animais = [\n",
    "    [\"Gato\", \"Cachorro\"],\n",
    "    [\"Pássaro\", \"Peixe\"]\n",
    "]\n",
    "\n",
    "for i in range(2):\n",
    "    for j in range(2):\n",
    "        print(animais[i][j], end=\" \")\n",
    "    print()"
   ]
  }
 ],
 "metadata": {
  "kernelspec": {
   "display_name": "Python 3 (ipykernel)",
   "language": "python",
   "name": "python3"
  },
  "language_info": {
   "codemirror_mode": {
    "name": "ipython",
    "version": 3
   },
   "file_extension": ".py",
   "mimetype": "text/x-python",
   "name": "python",
   "nbconvert_exporter": "python",
   "pygments_lexer": "ipython3",
   "version": "3.12.2"
  }
 },
 "nbformat": 4,
 "nbformat_minor": 5
}
