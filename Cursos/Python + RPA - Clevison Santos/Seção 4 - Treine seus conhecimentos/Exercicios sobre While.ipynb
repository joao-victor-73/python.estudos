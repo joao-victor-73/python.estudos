{
 "cells": [
  {
   "cell_type": "markdown",
   "id": "bb37d56c-48eb-423e-9645-7aef922baf2a",
   "metadata": {},
   "source": [
    "# 96. Exercícios sobre While"
   ]
  },
  {
   "cell_type": "markdown",
   "id": "de80b873-c6e5-4b1e-8891-af3e233653ff",
   "metadata": {},
   "source": [
    "### Exercício 1: Contagem de 1 a 10\n",
    "\n",
    "Escreva um programa que conte de 1 a 10 utilizando o laço while."
   ]
  }
 ],
 "metadata": {
  "kernelspec": {
   "display_name": "Python 3 (ipykernel)",
   "language": "python",
   "name": "python3"
  },
  "language_info": {
   "codemirror_mode": {
    "name": "ipython",
    "version": 3
   },
   "file_extension": ".py",
   "mimetype": "text/x-python",
   "name": "python",
   "nbconvert_exporter": "python",
   "pygments_lexer": "ipython3",
   "version": "3.12.2"
  }
 },
 "nbformat": 4,
 "nbformat_minor": 5
}
