{
 "cells": [
  {
   "cell_type": "code",
   "execution_count": 1,
   "id": "b669b25c-4eef-4032-be98-2f10edeb4ab9",
   "metadata": {},
   "outputs": [],
   "source": [
    "import pandas as pd\n",
    "import matplotlib.pyplot as plt"
   ]
  },
  {
   "cell_type": "code",
   "execution_count": 3,
   "id": "01043488-c7ff-4d24-9e5b-7c385c9ef281",
   "metadata": {},
   "outputs": [],
   "source": [
    "df = pd.DataFrame({\n",
    "    \"nome\": [\"Ana\", \"Bruno\", \"Carla\", \"Daniel\", \"Eva\"],\n",
    "    \"idade\": [23, 35, 29, 40, 30],\n",
    "    \"cidade\": [\"SP\", \"RJ\", \"SP\", \"BH\", \"RJ\"]\n",
    "})"
   ]
  },
  {
   "cell_type": "code",
   "execution_count": 4,
   "id": "dd49a334-4b41-4b5b-99ac-a369ccde4140",
   "metadata": {},
   "outputs": [
    {
     "data": {
      "text/html": [
       "<div>\n",
       "<style scoped>\n",
       "    .dataframe tbody tr th:only-of-type {\n",
       "        vertical-align: middle;\n",
       "    }\n",
       "\n",
       "    .dataframe tbody tr th {\n",
       "        vertical-align: top;\n",
       "    }\n",
       "\n",
       "    .dataframe thead th {\n",
       "        text-align: right;\n",
       "    }\n",
       "</style>\n",
       "<table border=\"1\" class=\"dataframe\">\n",
       "  <thead>\n",
       "    <tr style=\"text-align: right;\">\n",
       "      <th></th>\n",
       "      <th>nome</th>\n",
       "      <th>idade</th>\n",
       "      <th>cidade</th>\n",
       "    </tr>\n",
       "  </thead>\n",
       "  <tbody>\n",
       "    <tr>\n",
       "      <th>0</th>\n",
       "      <td>Ana</td>\n",
       "      <td>23</td>\n",
       "      <td>SP</td>\n",
       "    </tr>\n",
       "    <tr>\n",
       "      <th>1</th>\n",
       "      <td>Bruno</td>\n",
       "      <td>35</td>\n",
       "      <td>RJ</td>\n",
       "    </tr>\n",
       "    <tr>\n",
       "      <th>2</th>\n",
       "      <td>Carla</td>\n",
       "      <td>29</td>\n",
       "      <td>SP</td>\n",
       "    </tr>\n",
       "    <tr>\n",
       "      <th>3</th>\n",
       "      <td>Daniel</td>\n",
       "      <td>40</td>\n",
       "      <td>BH</td>\n",
       "    </tr>\n",
       "    <tr>\n",
       "      <th>4</th>\n",
       "      <td>Eva</td>\n",
       "      <td>30</td>\n",
       "      <td>RJ</td>\n",
       "    </tr>\n",
       "  </tbody>\n",
       "</table>\n",
       "</div>"
      ],
      "text/plain": [
       "     nome  idade cidade\n",
       "0     Ana     23     SP\n",
       "1   Bruno     35     RJ\n",
       "2   Carla     29     SP\n",
       "3  Daniel     40     BH\n",
       "4     Eva     30     RJ"
      ]
     },
     "execution_count": 4,
     "metadata": {},
     "output_type": "execute_result"
    }
   ],
   "source": [
    "df"
   ]
  },
  {
   "cell_type": "markdown",
   "id": "f069414f-e593-4195-b03d-a853387798a7",
   "metadata": {},
   "source": [
    "# Visualização de Gráficos"
   ]
  },
  {
   "cell_type": "code",
   "execution_count": 11,
   "id": "b529efcc-b48a-4cd7-b761-e586296d54a5",
   "metadata": {},
   "outputs": [
    {
     "data": {
      "text/plain": [
       "<function matplotlib.pyplot.show(close=None, block=None)>"
      ]
     },
     "execution_count": 11,
     "metadata": {},
     "output_type": "execute_result"
    },
    {
     "data": {
      "image/png": "[encoded data removed]",
      "text/plain": [
       "<Figure size 640x480 with 1 Axes>"
      ]
     },
     "metadata": {},
     "output_type": "display_data"
    }
   ],
   "source": [
    "# Histograma\n",
    "df[\"idade\"].plot(kind=\"hist\", bins=10, title=\"Distribuição de Idades\")\n",
    "plt.show"
   ]
  },
  {
   "cell_type": "markdown",
   "id": "0b569e42-45c4-4f5d-9f6f-dc8bcfc1ebd1",
   "metadata": {},
   "source": [
    "# Gráficos boxplot"
   ]
  },
  {
   "cell_type": "code",
   "execution_count": 1,
   "id": "74ad3dba-f34d-4f1c-b03f-b8bec65500d0",
   "metadata": {},
   "outputs": [
    {
     "data": {
      "image/png": "[encoded data removed]",
      "text/plain": [
       "<Figure size 640x480 with 1 Axes>"
      ]
     },
     "metadata": {},
     "output_type": "display_data"
    }
   ],
   "source": [
    "import pandas as pd\n",
    "import matplotlib.pyplot as plt\n",
    "\n",
    "# Exemplo de dataset\n",
    "dados = pd.DataFrame({\n",
    "    \"Notas\": [4, 5, 6, 6, 7, 7, 8, 9, 10, 10, 2, 20]\n",
    "})\n",
    "\n",
    "# Criando boxplot\n",
    "dados.boxplot(column=\"Notas\")\n",
    "plt.show()\n"
   ]
  },
  {
   "cell_type": "markdown",
   "id": "9a15a792-e954-4239-bba2-a6d866adc59c",
   "metadata": {},
   "source": [
    "# Estatística Descritiva"
   ]
  },
  {
   "cell_type": "code",
   "execution_count": 2,
   "id": "a24acf91-6491-443b-ad0e-3632da390b97",
   "metadata": {},
   "outputs": [
    {
     "name": "stdout",
     "output_type": "stream",
     "text": [
      "           notas\n",
      "count   7.000000\n",
      "mean    7.857143\n",
      "std     1.951800\n",
      "min     5.000000\n",
      "25%     6.500000\n",
      "50%     8.000000\n",
      "75%     9.500000\n",
      "max    10.000000\n"
     ]
    }
   ],
   "source": [
    "import pandas as pd\n",
    "\n",
    "dados = pd.DataFrame({\n",
    "    \"notas\": [5, 6, 7, 8, 9, 10, 10]\n",
    "})\n",
    "\n",
    "# Estatística descritiva geral\n",
    "print(dados.describe())"
   ]
  },
  {
   "cell_type": "markdown",
   "id": "863d996d-7978-4f56-8b4f-ec76db328c67",
   "metadata": {},
   "source": [
    "# Tabela Pivot"
   ]
  },
  {
   "cell_type": "code",
   "execution_count": 4,
   "id": "d11fa15c-b446-4384-80d6-4a5d31797c1c",
   "metadata": {},
   "outputs": [
    {
     "data": {
      "text/html": [
       "<div>\n",
       "<style scoped>\n",
       "    .dataframe tbody tr th:only-of-type {\n",
       "        vertical-align: middle;\n",
       "    }\n",
       "\n",
       "    .dataframe tbody tr th {\n",
       "        vertical-align: top;\n",
       "    }\n",
       "\n",
       "    .dataframe thead th {\n",
       "        text-align: right;\n",
       "    }\n",
       "</style>\n",
       "<table border=\"1\" class=\"dataframe\">\n",
       "  <thead>\n",
       "    <tr style=\"text-align: right;\">\n",
       "      <th>Mês</th>\n",
       "      <th>Fev</th>\n",
       "      <th>Jan</th>\n",
       "    </tr>\n",
       "    <tr>\n",
       "      <th>Produto</th>\n",
       "      <th></th>\n",
       "      <th></th>\n",
       "    </tr>\n",
       "  </thead>\n",
       "  <tbody>\n",
       "    <tr>\n",
       "      <th>A</th>\n",
       "      <td>150</td>\n",
       "      <td>230</td>\n",
       "    </tr>\n",
       "    <tr>\n",
       "      <th>B</th>\n",
       "      <td>120</td>\n",
       "      <td>200</td>\n",
       "    </tr>\n",
       "    <tr>\n",
       "      <th>C</th>\n",
       "      <td>300</td>\n",
       "      <td>0</td>\n",
       "    </tr>\n",
       "  </tbody>\n",
       "</table>\n",
       "</div>"
      ],
      "text/plain": [
       "Mês      Fev  Jan\n",
       "Produto          \n",
       "A        150  230\n",
       "B        120  200\n",
       "C        300    0"
      ]
     },
     "execution_count": 4,
     "metadata": {},
     "output_type": "execute_result"
    }
   ],
   "source": [
    "import pandas as pd\n",
    "\n",
    "# Criando dataset de exemplo\n",
    "dados = pd.DataFrame({\n",
    "    \"Produto\": [\"A\", \"A\", \"B\", \"B\", \"A\", \"C\"],\n",
    "    \"Mês\": [\"Jan\", \"Fev\", \"Jan\", \"Fev\", \"Jan\", \"Fev\"],\n",
    "    \"Vendas\": [100, 150, 200, 120, 130, 300]\n",
    "})\n",
    "\n",
    "# Criando tabela pivot\n",
    "tabela = dados.pivot_table(\n",
    "    values=\"Vendas\",\n",
    "    index=\"Produto\",\n",
    "    columns=\"Mês\",\n",
    "    aggfunc=\"sum\",\n",
    "    fill_value=0\n",
    ")\n",
    "\n",
    "tabela"
   ]
  }
 ],
 "metadata": {
  "kernelspec": {
   "display_name": "Python 3 (ipykernel)",
   "language": "python",
   "name": "python3"
  },
  "language_info": {
   "codemirror_mode": {
    "name": "ipython",
    "version": 3
   },
   "file_extension": ".py",
   "mimetype": "text/x-python",
   "name": "python",
   "nbconvert_exporter": "python",
   "pygments_lexer": "ipython3",
   "version": "3.12.2"
  }
 },
 "nbformat": 4,
 "nbformat_minor": 5
}
