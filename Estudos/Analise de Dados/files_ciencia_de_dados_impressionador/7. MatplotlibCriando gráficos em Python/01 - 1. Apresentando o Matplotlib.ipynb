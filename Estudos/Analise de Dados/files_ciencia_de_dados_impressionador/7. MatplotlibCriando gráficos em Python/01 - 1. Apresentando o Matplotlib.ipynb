{
 "cells": [
  {
   "cell_type": "markdown",
   "id": "db9f6a79",
   "metadata": {},
   "source": [
    "# Começando no matplotlib"
   ]
  },
  {
   "cell_type": "code",
   "execution_count": 41,
   "id": "b02c10a2",
   "metadata": {},
   "outputs": [
    {
     "data": {
      "image/png": "[encoded data removed]",
      "text/plain": [
       "<Figure size 432x288 with 1 Axes>"
      ]
     },
     "metadata": {
      "needs_background": "light"
     },
     "output_type": "display_data"
    }
   ],
   "source": [
    "import matplotlib.pyplot as plt\n",
    "import numpy as np\n",
    "\n",
    "# make data\n",
    "x = [1,2,3,4]\n",
    "y = [10,50,23,100]\n",
    "y2 = [100,500,230,1000]\n",
    "\n",
    "# plot\n",
    "fig, ax = plt.subplots()\n",
    "\n",
    "ax.plot(x, y, linewidth=2.0)\n",
    "ax.plot(x, y2, linewidth=2.0)\n",
    "ax.bar(x, y2, linewidth=2.0)\n",
    "\n",
    "ax.set(xticks=np.arange(1, 5))\n",
    "\n",
    "ax.tick_params(axis='x',labelcolor='r',labelsize=12)\n",
    "\n",
    "plt.show()"
   ]
  },
  {
   "cell_type": "code",
   "execution_count": 13,
   "id": "970ee5ca",
   "metadata": {},
   "outputs": [
    {
     "data": {
      "text/plain": [
       "array([1, 2, 3, 4])"
      ]
     },
     "execution_count": 13,
     "metadata": {},
     "output_type": "execute_result"
    }
   ],
   "source": [
    "np.arange(1, 5)"
   ]
  },
  {
   "cell_type": "code",
   "execution_count": null,
   "id": "b948a64c",
   "metadata": {},
   "outputs": [],
   "source": []
  }
 ],
 "metadata": {
  "kernelspec": {
   "display_name": "Python 3 (ipykernel)",
   "language": "python",
   "name": "python3"
  },
  "language_info": {
   "codemirror_mode": {
    "name": "ipython",
    "version": 3
   },
   "file_extension": ".py",
   "mimetype": "text/x-python",
   "name": "python",
   "nbconvert_exporter": "python",
   "pygments_lexer": "ipython3",
   "version": "3.9.7"
  }
 },
 "nbformat": 4,
 "nbformat_minor": 5
}
