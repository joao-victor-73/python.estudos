{
 "cells": [
  {
   "cell_type": "markdown",
   "id": "32109259-3829-4003-ac2d-b88d62058bf2",
   "metadata": {},
   "source": [
    "# 29. Introdução as Listas\n",
    "#### Definição e utilidade\n",
    "Listas são uma  das estruturas de dados mais fundamentais em Python. Elas são coleções ordenadas de itens (_que podem ser de qualquer tipo_) e são muito versáteis.\n",
    "\n",
    "A utilidade das listas em python é vasta, elas podem ser usadas para armazenar conjuntos de dados relacionados, manipular esses dados e percorrê-los.\n",
    "\n",
    "Vamos supor que você quer armazenar as notas de um aluno em diferentes matérias. Uma lista é perfeita para isso!"
   ]
  },
  {
   "cell_type": "code",
   "execution_count": 9,
   "id": "850ee6ac-826d-4fdd-a4a4-ac108f51a665",
   "metadata": {},
   "outputs": [
    {
     "name": "stdout",
     "output_type": "stream",
     "text": [
      "[85, 90, 78, 92, 88]\n",
      "['Maça', [2, 4, 6, 8, 10], 'Paulo', 'Henrique']\n"
     ]
    }
   ],
   "source": [
    "# Criando listas\n",
    "notas_aluno = [85, 90, 78, 92, 88]\n",
    "\n",
    "print(notas_aluno)\n",
    "\n",
    "lista_aleatoria = [\"Maça\", [2, 4, 6, 8, 10], \"Paulo\", \"Henrique\"]\n",
    "print(lista_aleatoria)"
   ]
  },
  {
   "cell_type": "code",
   "execution_count": 15,
   "id": "6f81eea3-e562-45b0-ad53-084ee41f39ec",
   "metadata": {},
   "outputs": [
    {
     "name": "stdout",
     "output_type": "stream",
     "text": [
      "90\n",
      "[78, 92]\n",
      "88\n",
      "[2, 4, 6, 8, 10]\n",
      "Henrique\n",
      "\n",
      "[2, 4]\n"
     ]
    }
   ],
   "source": [
    "# Acessando elementos da lista pelo índice\n",
    "print(notas_aluno[1]) # Saída: 90\n",
    "\n",
    "print(notas_aluno[2:4]) # Saída: [78, 92]\n",
    "\n",
    "print(notas_aluno[-1]) # Saída: 88\n",
    "\n",
    "print(lista_aleatoria[1]) # Saída: [2, 4, 6, 8, 10]\n",
    "\n",
    "print(lista_aleatoria[3]) # Saída: Henrique\n",
    "\n",
    "print()\n",
    "# Acessando elementos de uma lista dentro de outra lista\n",
    "print(lista_aleatoria[1][0:2]) # Saída: [2, 4]"
   ]
  },
  {
   "cell_type": "markdown",
   "id": "538f1fd2-5425-4763-8f9a-de41dfd3d3ab",
   "metadata": {},
   "source": [
    "# 30. Operações Básicas com Listas"
   ]
  },
  {
   "cell_type": "code",
   "execution_count": 25,
   "id": "bbe3f919-bced-43c8-a46b-768a11dc085b",
   "metadata": {},
   "outputs": [
    {
     "name": "stdout",
     "output_type": "stream",
     "text": [
      "Lista original: ['Maça', 'Banana', 'Uva']\n",
      "Adicionando elemento com append(): ['Maça', 'Banana', 'Uva', 'Mamão']\n",
      "Adicionando elemento com insert(): ['Maça', 'Abacate', 'Banana', 'Uva', 'Mamão']\n"
     ]
    }
   ],
   "source": [
    "# Adicionar elementos na lista\n",
    "\n",
    "frutas = ['Maça', 'Banana', 'Uva']\n",
    "print(f\"Lista original: {frutas}\")\n",
    "\n",
    "# append - Insere um elemento ao final da lista\n",
    "frutas.append('Mamão')\n",
    "print(f\"Adicionando elemento com append(): {frutas}\")\n",
    "\n",
    "\n",
    "# insert - Insere um elemento na posição desejada\n",
    "frutas.insert(1, 'Abacate')\n",
    "print(f\"Adicionando elemento com insert(): {frutas}\")"
   ]
  },
  {
   "cell_type": "code",
   "execution_count": 26,
   "id": "a40fc7b9-3833-4f1d-a452-410d45587101",
   "metadata": {},
   "outputs": [
    {
     "name": "stdout",
     "output_type": "stream",
     "text": [
      "Remoção com remove() ['Maça', 'Abacate', 'Uva', 'Mamão']\n",
      "Remoção com pop() ['Maça', 'Uva', 'Mamão']\n"
     ]
    }
   ],
   "source": [
    "# Remover elementos da lista\n",
    "\n",
    "# remove()- Remove o primeiro item da lista que tem o valor especificado\n",
    "frutas.remove('Banana')\n",
    "print(f\"Remoção com remove() {frutas}\")\n",
    "\n",
    "# pop()\n",
    "frutas.pop(1) # Vai remover o elemento de indice 1 (Abacate)\n",
    "print(f\"Remoção com pop() {frutas}\")"
   ]
  },
  {
   "cell_type": "code",
   "execution_count": 29,
   "id": "b5b26392-8fc6-4edb-895b-ef58a068e996",
   "metadata": {},
   "outputs": [
    {
     "name": "stdout",
     "output_type": "stream",
     "text": [
      "Concatenando lista com + : [1, 2, 3, 4, 5, 6]\n",
      "Concatenando lista com extend(): [1, 2, 3, 4, 5, 6]\n"
     ]
    }
   ],
   "source": [
    "# Concatenar listas\n",
    "\n",
    "list1 = [1, 2, 3]\n",
    "list2 = [4, 5, 6]\n",
    "\n",
    "# + - Une duas listas\n",
    "print(f\"Concatenando lista com + : {list1 + list2}\")\n",
    "\n",
    "# extend() - Adiciona os elementos de uma lista (ou qualquer iterável) ao final da lista atual\n",
    "list1.extend(list2)\n",
    "print(f\"Concatenando lista com extend(): {list1}\")"
   ]
  },
  {
   "cell_type": "code",
   "execution_count": 35,
   "id": "35273105-c718-4ed8-8644-897050f91c66",
   "metadata": {},
   "outputs": [
    {
     "name": "stdout",
     "output_type": "stream",
     "text": [
      "['Maça', 'Uva', 'Mamão']\n",
      "Você adicionou a uva na lista? True\n",
      "Você adicionou a Melancia na lista? False\n"
     ]
    }
   ],
   "source": [
    "# Verificando se um item está presente na lista\n",
    "print(frutas)\n",
    "\n",
    "print(f\"Você adicionou a uva na lista? \", end=\"\")\n",
    "print(\"Uva\" in frutas) # True: significa que o item está na lista\n",
    "\n",
    "print(f\"Você adicionou a Melancia na lista? \", end=\"\")\n",
    "print(\"Melancia\" in frutas) # False: significa que o item NÃO está na lista\n"
   ]
  },
  {
   "cell_type": "markdown",
   "id": "fa0c002c-3873-4897-883e-8f7f06537b18",
   "metadata": {},
   "source": [
    "# 31. Métodos de Listas\n",
    "\n",
    "- _sort: ordena a lista in-place;_\n",
    "- _reverse: inverte a ordem dos elementos in-place;_\n",
    "- _count: conta o número de ocorrências de um elemento; e_\n",
    "- _index: retorna o índice da primeira ocorrência de um elemento._"
   ]
  },
  {
   "cell_type": "code",
   "execution_count": 42,
   "id": "683e5fb9-7145-4022-a7ac-86bc396eaf5f",
   "metadata": {},
   "outputs": [
    {
     "name": "stdout",
     "output_type": "stream",
     "text": [
      "Lista ordenada de forma crescente: [1, 6, 12, 23, 45]\n",
      "Lista ordenada de forma descrecente: [45, 23, 12, 6, 1]\n",
      "['banana', 'banana', 'cereja', 'damasco', 'maça', 'maça']\n"
     ]
    }
   ],
   "source": [
    "numeros = [23, 1, 45, 6, 12]\n",
    "frutinhas = [\"banana\", \"maça\", \"banana\", \"cereja\", \"maça\", \"damasco\"]\n",
    "\n",
    "# sort(): ordena a lista\n",
    "numeros.sort()\n",
    "print(f\"Lista ordenada de forma crescente: {numeros}\")\n",
    "# Os números estão ordenados de forma crescente. Saída: [1, 6, 12, 23, 45]\n",
    "\n",
    "# de forma descrecente é só colocar: (reverse=True)\n",
    "numeros.sort(reverse=True)\n",
    "print(f\"Lista ordenada de forma descrecente: {numeros}\")\n",
    "\n",
    "frutinhas.sort()\n",
    "print(frutinhas) # Vai ordenar as strings de forma alfabetica"
   ]
  },
  {
   "cell_type": "code",
   "execution_count": 46,
   "id": "ca5b2cf9-4963-4714-a3f0-a793862b23e8",
   "metadata": {},
   "outputs": [
    {
     "name": "stdout",
     "output_type": "stream",
     "text": [
      "Quantas vezes eu coloquei banana na lista? 2\n"
     ]
    }
   ],
   "source": [
    "# count() - conta o número de ocorrências de um elemento.\n",
    "\n",
    "ocorrencias_banana = frutinhas.count('banana')\n",
    "print(f\"Quantas vezes eu coloquei banana na lista? {ocorrencias_banana}\")"
   ]
  },
  {
   "cell_type": "code",
   "execution_count": 51,
   "id": "17d354ed-00ac-4ffd-a03d-9a92fbb7aa8c",
   "metadata": {},
   "outputs": [
    {
     "name": "stdout",
     "output_type": "stream",
     "text": [
      "['banana', 'banana', 'cereja', 'damasco', 'maça', 'maça']\n",
      "0\n"
     ]
    }
   ],
   "source": [
    "# index()\n",
    "\n",
    "print(frutinhas)\n",
    "index_banana = frutinhas.index('banana')\n",
    "print(index_banana) # vai retornar o indice de onde 'banana' está na lista"
   ]
  },
  {
   "cell_type": "markdown",
   "id": "9a847d2a-5620-4e3f-b1aa-55dfee58e3a6",
   "metadata": {},
   "source": [
    "# 32. Slicing de Listas"
   ]
  },
  {
   "cell_type": "code",
   "execution_count": 57,
   "id": "6cc89d38-be80-49b3-8ecb-a1ce34d9ac2a",
   "metadata": {},
   "outputs": [
    {
     "name": "stdout",
     "output_type": "stream",
     "text": [
      "['banana', 'cereja', 'maça']\n",
      "['banana', 'banana', 'cereja', 'damasco', 'maça', 'maça']\n",
      "[1, 6, 20]\n"
     ]
    }
   ],
   "source": [
    "# Slicing com passo\n",
    "\n",
    "numbers = [1, 2, 3, 4, 5, 6, 7, 8, 9, 10, 20, 30, 40]\n",
    "\n",
    "print(frutinhas[::2]) # Pega do inicio até o fim, com passo 2\n",
    "print(frutinhas)\n",
    "\n",
    "\n",
    "print(numbers[::5]) # Pega o elemento na lista a cada 5"
   ]
  },
  {
   "cell_type": "markdown",
   "id": "5b92d9bb-9a8a-40a3-9706-5475718d95b2",
   "metadata": {},
   "source": [
    "# 33. List Comprehensions\n",
    "\n",
    "__List Comprehensions__ são uma das características mais úteis e elegantes de Python.\n",
    "\n",
    "Elas oferecem uma maneira concisa de criar listas, e são frequentemente mais compreensíveis e mais eficientes do que usar loops."
   ]
  },
  {
   "cell_type": "code",
   "execution_count": 5,
   "id": "309ae7b7-fa24-4a54-954c-225e5756341b",
   "metadata": {},
   "outputs": [
    {
     "name": "stdout",
     "output_type": "stream",
     "text": [
      "[0, 1, 4, 9, 16, 25, 36, 49, 64, 81]\n",
      "Quadrados Pares: [0, 4, 16, 36, 64]\n"
     ]
    }
   ],
   "source": [
    "# Exemplo básico:\n",
    "quadrados = [ x**2 for x in range(10)]\n",
    "print(quadrados)\n",
    "\n",
    "\n",
    "# Exemplo com condicional\n",
    "quadrados_pares = [ x**2 for x in range(10) if x % 2 == 0 ]\n",
    "print(f\"Quadrados Pares: {quadrados_pares}\")"
   ]
  },
  {
   "cell_type": "code",
   "execution_count": 10,
   "id": "caf05812-0804-408c-8a74-d10052ff3e65",
   "metadata": {},
   "outputs": [
    {
     "name": "stdout",
     "output_type": "stream",
     "text": [
      "Lista A: [1, 2, 3, 4]\n",
      "Lista B: [1, 2, 3, 4]\n",
      "Dada as listas A e B, os valores que somando resultam em 5, são: [(1, 4), (2, 3), (3, 2), (4, 1)]\n"
     ]
    }
   ],
   "source": [
    "# Exemplo 3: Com for aninhado e armazenamento de tuplas\n",
    "\n",
    "a = [1, 2, 3, 4]\n",
    "b = [1, 2, 3, 4]\n",
    "\n",
    "combinacoes = [ (x, y) for x in a for y in b if x + y == 5 ]\n",
    "\n",
    "print(f\"Lista A: {a}\")\n",
    "print(f\"Lista B: {b}\")\n",
    "print(f\"Dada as listas A e B, os valores que somando resultam em 5, são: {combinacoes}\")\n"
   ]
  },
  {
   "cell_type": "markdown",
   "id": "66196cb0-abae-4105-a162-f353d0cc8dd9",
   "metadata": {},
   "source": [
    "### Exercícios List Comprehensions"
   ]
  },
  {
   "cell_type": "markdown",
   "id": "c37899ee-c2a8-4ae7-828b-0daac9c3705a",
   "metadata": {},
   "source": [
    "# 34. Listas Aninhadas\n",
    "\n",
    "Listas aninhadas, ou listas de listas, são basicamente listas que têm outras listas como seus elementos. \n",
    "\n",
    "Elas são úteis em muitas situações, especialmente ao representar estruturas bidimensionais como matrizes."
   ]
  },
  {
   "cell_type": "code",
   "execution_count": 19,
   "id": "b6958d6e-6564-49ae-ae85-87ac32068ce5",
   "metadata": {},
   "outputs": [
    {
     "name": "stdout",
     "output_type": "stream",
     "text": [
      "5\n",
      "[4, 5, 6]\n",
      "1 - 2 - 3 - 4 - 5 - 6 - 7 - 8 - 9 - "
     ]
    }
   ],
   "source": [
    "# Criando listas aninhadas \n",
    "\n",
    "# Para o exemplo, vamos imaginar que queremos uma matriz 3x3:\n",
    "matriz = [\n",
    "    [1, 2, 3],\n",
    "    [4, 5, 6],\n",
    "    [7, 8, 9]\n",
    "]\n",
    "\n",
    "\n",
    "# Acessando listas aninhadas\n",
    "print(matriz[1][1]) # Saída: 5\n",
    "print(matriz[1][0:3]) # Saída: [4, 5, 6]\n",
    "\n",
    "\n",
    "# Utilizando loops aninhados para iterar:\n",
    "for linha in matriz:\n",
    "    for num in linha:\n",
    "        print(num, end=\" - \")"
   ]
  },
  {
   "cell_type": "markdown",
   "id": "5b020886-c537-46e7-baff-4398484538c7",
   "metadata": {},
   "source": [
    "# 35. Utilidades e Funções com Listas\n"
   ]
  },
  {
   "cell_type": "code",
   "execution_count": 4,
   "id": "c8fcd3b7-0f68-40f7-8da0-76680832bd73",
   "metadata": {},
   "outputs": [
    {
     "name": "stdout",
     "output_type": "stream",
     "text": [
      "A lista de números é: [6, 3, 8, 15, 2, 7, 14]\n"
     ]
    }
   ],
   "source": [
    "\n",
    "numeros = [6, 3, 8, 15, 2, 7, 14]\n",
    "\n",
    "print(f\"A lista de números é: {numeros}\")"
   ]
  },
  {
   "cell_type": "code",
   "execution_count": 5,
   "id": "93942a6e-901c-49b1-ae34-d424297bddda",
   "metadata": {},
   "outputs": [
    {
     "name": "stdout",
     "output_type": "stream",
     "text": [
      "O número de elementos na lista é 7\n",
      "O maior valor na lista é: 15\n",
      "O menor valor na lista é: 2\n",
      "A soma dos elementos na lista é: 55\n"
     ]
    }
   ],
   "source": [
    "# len(): retorna o número de elementos de uma lista\n",
    "print(f\"O número de elementos na lista é {len(numeros)}\")\n",
    "\n",
    "# max(): retorna o maior valor de uma lista\n",
    "print(f\"O maior valor na lista é: {max(numeros)}\")\n",
    "\n",
    "# min(): retorna o menor valor de uma lista\n",
    "print(f\"O menor valor na lista é: {min(numeros)}\")\n",
    "\n",
    "# sum(): retorna a soma dos elementos de uma lista\n",
    "print(f\"A soma dos elementos na lista é: {sum(numeros)}\")"
   ]
  },
  {
   "cell_type": "markdown",
   "id": "6728a171-1147-4687-b221-61d8dbf76811",
   "metadata": {},
   "source": [
    "#### Exercício\n",
    "\n",
    "Dada a lista de valores = [23, 45, 67, 89, 12, 56, 78, 90, 34, 56], determine e imprima o número de elementos na lista usando a função len().\n",
    "\n",
    "Ainda utilizando a lista valores, encontre e imprima o maior e o menor valor presente na lista;\n",
    "\n",
    "Calcule e imprima a soma de todos os elementos na lista valores;\n",
    "\n",
    "Crie uma lista pesos com os seguintes valores: 58.5, 63.2, 71.3, 69.4, 68.2\n",
    "Calcule e imprima a média dos pesos."
   ]
  },
  {
   "cell_type": "code",
   "execution_count": 8,
   "id": "218bf2d1-6cde-4efe-aa18-b8805b793a3f",
   "metadata": {},
   "outputs": [
    {
     "name": "stdout",
     "output_type": "stream",
     "text": [
      "[23, 45, 67, 89, 12, 56, 78, 90, 34, 56]\n",
      "O menor valor da lista é: 12\n",
      "O maior valor da lista é: 90\n",
      "A soma de todos os valores da lista é: 550 \n",
      "\n",
      "A lista contém os seguintes pesos: [58.5, 63.2, 71.3, 69.4, 68.2]\n",
      "A média dos pesos da lista é: 66.12\n"
     ]
    }
   ],
   "source": [
    "valores = [23, 45, 67, 89, 12, 56, 78, 90, 34, 56]\n",
    "\n",
    "print(valores)\n",
    "print(f\"O menor valor da lista é: {min(valores)}\")\n",
    "print(f\"O maior valor da lista é: {max(valores)}\")\n",
    "print(f\"A soma de todos os valores da lista é: {sum(valores)} \\n\")\n",
    "\n",
    "pesos = [58.5, 63.2, 71.3, 69.4, 68.2]\n",
    "print(f\"A lista contém os seguintes pesos: {pesos}\")\n",
    "print(f\"A média dos pesos da lista é: {sum(pesos) / len(pesos)}\")"
   ]
  },
  {
   "cell_type": "markdown",
   "id": "13a5170a-a444-411f-87a5-f9d0043fd7de",
   "metadata": {},
   "source": [
    "# 36. Iteração em Listas\n"
   ]
  },
  {
   "cell_type": "code",
   "execution_count": 18,
   "id": "eda22728-1056-4e65-ae26-10bbd0140f82",
   "metadata": {},
   "outputs": [
    {
     "name": "stdout",
     "output_type": "stream",
     "text": [
      "Maça\n",
      "Banana\n",
      "Cereja\n",
      "Damasco\n",
      "Figo\n",
      "\n",
      "0 - Maça\n",
      "1 - Banana\n",
      "2 - Cereja\n",
      "3 - Damasco\n",
      "4 - Figo\n"
     ]
    }
   ],
   "source": [
    "frutas = [\"maça\", 'banana', 'cereja', 'damasco', 'figo']\n",
    "\n",
    "for fruta in frutas:\n",
    "    print(fruta.capitalize())\n",
    "\n",
    "print()\n",
    "\n",
    "# A função enumerate() retorna tanto o índice quanto o valor ao iterar sobre uma lista.\n",
    "# Isso é útil quando você quer saber a posição (índice) de cada item na lista enquanto itera.\n",
    "for i, f in enumerate(frutas):\n",
    "    print(f\"{i} - {f.capitalize()}\")"
   ]
  },
  {
   "cell_type": "markdown",
   "id": "a2aba32a-070d-4506-991d-17e418201768",
   "metadata": {},
   "source": [
    "# 37. Listas e Strings\n",
    "\n",
    "- Conversão de Strings para listas: _list()_ e _split()_\n",
    "- Conversão de listas para strings: _join()_"
   ]
  },
  {
   "cell_type": "code",
   "execution_count": 28,
   "id": "2ed1ebaa-95d8-4be1-a590-71eceff62bdd",
   "metadata": {},
   "outputs": [
    {
     "name": "stdout",
     "output_type": "stream",
     "text": [
      "['O', 'l', 'á']\n",
      "['Python', 'é', 'Demais!']\n",
      "\n",
      "['Python', 'é', 'Incrivel!']\n",
      "Python é Incrivel!\n"
     ]
    }
   ],
   "source": [
    "# Conversão de strings para listas\n",
    "\n",
    "# Usando list(): Ao usar a função em uma string, cada caractere da string será um elemento da lista resultante.\n",
    "p = \"Olá\"\n",
    "print(list(p))\n",
    "\n",
    "# Usando split(): A função é usada para dividir uma string em uma lista com base em um delimitador especificado.\n",
    "# Se nenhum delimitador for especificado, ela dividirá a string nos espaços em branco.\n",
    "frase = \"Python é Demais!\"\n",
    "print(frase.split())\n",
    "\n",
    "print()\n",
    "# Conversão de listas para strings\n",
    "\n",
    "# Usando join(): É usada para converter uma lista em uma string.\n",
    "# Ela une os elementos de uma lista em uma única string com base em um delimitador específicado.\n",
    "lista_palavras = ['Python', 'é', 'Incrivel!']\n",
    "print(lista_palavras)\n",
    "\n",
    "frase_juntada = \" \".join(lista_palavras)\n",
    "print(frase_juntada)\n"
   ]
  },
  {
   "cell_type": "markdown",
   "id": "9a8635d8-69e7-4e8e-9bd4-69d3abb449d7",
   "metadata": {},
   "source": [
    "# 38. Exercício Lista de Compras\n",
    "\n",
    "Crie um programa em Python que permita ao usuário adicionar itens a uma lista de compras.\n",
    "O programa deve exibir um menu com as seguintes opções:\n",
    "1. Adicionar item à lista;\n",
    "2. Remover item da lista;\n",
    "3. Exibir lista de compras;\n",
    "4. Sair\n",
    "\n",
    "O programa deve continuar executando até que o usuário escolha a opção 4 para sair."
   ]
  },
  {
   "cell_type": "code",
   "execution_count": 4,
   "id": "e98911d2-015c-47bf-bc0f-89f23fe92a0c",
   "metadata": {},
   "outputs": [
    {
     "name": "stdin",
     "output_type": "stream",
     "text": [
      "\n",
      "    Menu:\n",
      "    1. Adicionar item à lista\n",
      "    2. Remover item da lista\n",
      "    3. Exibir lista de compras\n",
      "    4. Sair\n",
      "     1\n",
      "O que você gostaria de adicionar a lista?  a\n"
     ]
    },
    {
     "name": "stdout",
     "output_type": "stream",
     "text": [
      "Item Adicionado a lista!\n"
     ]
    },
    {
     "name": "stdin",
     "output_type": "stream",
     "text": [
      "\n",
      "    Menu:\n",
      "    1. Adicionar item à lista\n",
      "    2. Remover item da lista\n",
      "    3. Exibir lista de compras\n",
      "    4. Sair\n",
      "     3\n"
     ]
    },
    {
     "name": "stdout",
     "output_type": "stream",
     "text": [
      "A sua lista tem um total de 1 items\n",
      "A sua lista é: \n",
      "1 - a\n"
     ]
    },
    {
     "name": "stdin",
     "output_type": "stream",
     "text": [
      "\n",
      "    Menu:\n",
      "    1. Adicionar item à lista\n",
      "    2. Remover item da lista\n",
      "    3. Exibir lista de compras\n",
      "    4. Sair\n",
      "     4\n"
     ]
    }
   ],
   "source": [
    "lista_usuario = []\n",
    "\n",
    "while True:\n",
    "    resposta = input(\"\"\"\n",
    "    Menu:\n",
    "    1. Adicionar item à lista\n",
    "    2. Remover item da lista\n",
    "    3. Exibir lista de compras\n",
    "    4. Sair\n",
    "    \"\"\")\n",
    "\n",
    "    if resposta == \"1\":\n",
    "        adicionar = input(\"O que você gostaria de adicionar a lista? \")\n",
    "        lista_usuario.append(adicionar)\n",
    "        print(\"Item Adicionado a lista!\")\n",
    "\n",
    "    elif resposta == \"2\":\n",
    "        remover = input(\"Qual item você deseja remover? \")\n",
    "        lista_usuario.remove(remover)\n",
    "        print(\"Item removido com sucesso da lista!\")\n",
    "\n",
    "    elif resposta == \"3\":\n",
    "        print(f\"A sua lista tem um total de {len(lista_usuario)} items\")\n",
    "        print(\"A sua lista é: \")\n",
    "        for indice, item in enumerate(lista_usuario):\n",
    "            print(f\"{indice+1} - {item}\")\n",
    "\n",
    "    elif resposta == \"4\":\n",
    "        break\n",
    "\n",
    "    else:\n",
    "        print(\"Resposta errada, tente novamente\")"
   ]
  }
 ],
 "metadata": {
  "kernelspec": {
   "display_name": "Python 3 (ipykernel)",
   "language": "python",
   "name": "python3"
  },
  "language_info": {
   "codemirror_mode": {
    "name": "ipython",
    "version": 3
   },
   "file_extension": ".py",
   "mimetype": "text/x-python",
   "name": "python",
   "nbconvert_exporter": "python",
   "pygments_lexer": "ipython3",
   "version": "3.12.2"
  }
 },
 "nbformat": 4,
 "nbformat_minor": 5
}
