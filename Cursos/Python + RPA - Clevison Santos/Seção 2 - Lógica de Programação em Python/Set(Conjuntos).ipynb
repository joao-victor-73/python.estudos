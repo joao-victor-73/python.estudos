{
 "cells": [
  {
   "cell_type": "markdown",
   "id": "95727d9c-b1e6-4ef9-9570-3ec5e67e4064",
   "metadata": {},
   "source": [
    "# 59. Set - Definição e Características e Criando um Conjunto\n",
    "\n",
    "Um set é uma coleção desordenada de elementos únicos. Isso significa que não permite duplicatas.\n",
    "\n",
    "Sets são mutáveis, mas os elementos contidos neles devem ser imutáveis (por exemplo, números, strings e tuplas)"
   ]
  },
  {
   "cell_type": "code",
   "execution_count": 5,
   "id": "3318c589-c053-4825-b338-310eb8973746",
   "metadata": {},
   "outputs": [
    {
     "name": "stdout",
     "output_type": "stream",
     "text": [
      "[1, 2, 2, 3, 4, 4, 5, 5, 5]\n",
      "{1, 2, 3, 4, 5}\n"
     ]
    }
   ],
   "source": [
    "# Exemplo 1\n",
    "# Uma aplicação comum do set é a remoção de duplicatas de uma lista.\n",
    "\n",
    "lista1 = [1, 2, 2, 3, 4, 4, 5, 5, 5]\n",
    "print(lista1)\n",
    "\n",
    "# Ao converter uma lista para um conjunto, as duplicatas são automaticamente removidas\n",
    "conjunto1 = set(lista1)\n",
    "print(conjunto1)"
   ]
  },
  {
   "cell_type": "code",
   "execution_count": 8,
   "id": "55ae933d-1463-4fbc-a5f7-dac5ecb93de3",
   "metadata": {},
   "outputs": [
    {
     "name": "stdout",
     "output_type": "stream",
     "text": [
      "{1, (4, 5), 2, 'Python'}\n"
     ]
    }
   ],
   "source": [
    "# Exemplo 2\n",
    "\n",
    "# Enquanto o próprio conjunto é mutável (o que significa que você pode adicionar ou \n",
    "# remover elementos dele), os elementos dentro do conjunto devem ser imutáveis.\n",
    "\n",
    "conjunto2 = {1, 2, \"Python\", (4, 5)}\n",
    "print(conjunto2)"
   ]
  },
  {
   "cell_type": "markdown",
   "id": "bcb5c773-4d14-43ad-a07f-7b9b04ca32c0",
   "metadata": {},
   "source": [
    "Em Python, um conjunto é uma coleção não ordenada de elementos únicos. Isso significa que a ordem dos elementos\n",
    "dentro de um conjunto não é garantida.\n",
    "\n",
    "Quando você imprime um conjunto, os elementos podem ser exibidos em qualquer ordem, pois a estrutura subjacente de dados \n",
    "(geralmente uma tabela hash) não mantém uma ordem específica."
   ]
  },
  {
   "cell_type": "markdown",
   "id": "54184f29-ab9c-4618-82b0-31abdeb8b03a",
   "metadata": {},
   "source": [
    "# 60. Adicionando e Removendo ELementos"
   ]
  }
 ],
 "metadata": {
  "kernelspec": {
   "display_name": "Python 3 (ipykernel)",
   "language": "python",
   "name": "python3"
  },
  "language_info": {
   "codemirror_mode": {
    "name": "ipython",
    "version": 3
   },
   "file_extension": ".py",
   "mimetype": "text/x-python",
   "name": "python",
   "nbconvert_exporter": "python",
   "pygments_lexer": "ipython3",
   "version": "3.12.2"
  }
 },
 "nbformat": 4,
 "nbformat_minor": 5
}
