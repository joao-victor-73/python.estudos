{
 "cells": [
  {
   "cell_type": "markdown",
   "metadata": {},
   "source": [
    "# NumPy e Pandas\n",
    "\n",
    "- São **bibliotecas** do Python voltadas para Ciência de Dados\n",
    "<br><br>\n",
    "- O **NumPy** é a principal biblioteca de **computação numérica** do Python, **otimizada para calculos pesados** e serve de **base para o Pandas**\n",
    "    - No NumPy vamos trabalhar com **arrays**, que são estruturas de dados multidimensionais (1D, 2D, 3D,...)\n",
    "    - Os arrays lembram muito as **listas**, porém com algumas diferenças e várias vantagens na questão de processamento \n",
    "<br><br>\n",
    "- O **Pandas** vai ser a biblioteca que vamos utilizar em toda a parte inicial do nosso processo de Ciência de Dados! Além de possuir **alta performance e fácil uso** para trabalharmos com estruturas de dados, possui um **visual muito amigável** ao usuário não técnico\n",
    "    - Os DataFrames do Pandas lembram muito o excel, popularmente conhecido nas empresas\n",
    "    - É usado **desde a importação da base até a criação do modelo**, incluindo a **análise e visualização dos dados, tratamentos, agregações, etc**\n",
    "<br><br>\n",
    "- Exemplo de um DataFrame do Pandas:\n",
    "<img src=\"https://drive.google.com/uc?id=1IXohvu2-EA3QoOFNUB_K9MSIerIwal_B\" style='width: 9000px;' />"
   ]
  },
  {
   "cell_type": "markdown",
   "metadata": {},
   "source": [
    "- **Podemos começar comparando as funções do Excel com o Pandas**"
   ]
  },
  {
   "cell_type": "code",
   "execution_count": null,
   "metadata": {},
   "outputs": [],
   "source": [
    "# Importando o pandas"
   ]
  },
  {
   "cell_type": "code",
   "execution_count": null,
   "metadata": {},
   "outputs": [],
   "source": [
    "# Lendo uma base no Pandas"
   ]
  },
  {
   "cell_type": "code",
   "execution_count": null,
   "metadata": {},
   "outputs": [],
   "source": [
    "# Verificando o tipo desse dado"
   ]
  },
  {
   "cell_type": "code",
   "execution_count": null,
   "metadata": {},
   "outputs": [],
   "source": [
    "# Visualizando a base"
   ]
  },
  {
   "cell_type": "code",
   "execution_count": null,
   "metadata": {},
   "outputs": [],
   "source": [
    "# Visualizando apenas as 5 primeiras linhas"
   ]
  },
  {
   "cell_type": "code",
   "execution_count": null,
   "metadata": {},
   "outputs": [],
   "source": [
    "# Verificando o tipo de dado em cada uma das colunas"
   ]
  },
  {
   "cell_type": "code",
   "execution_count": null,
   "metadata": {},
   "outputs": [],
   "source": [
    "# Filtrando apenas valores de venda maiores que 80.000"
   ]
  },
  {
   "cell_type": "code",
   "execution_count": null,
   "metadata": {},
   "outputs": [],
   "source": [
    "# Visualizando graficamente a relação entre segundos de tela e Venda $"
   ]
  },
  {
   "cell_type": "code",
   "execution_count": null,
   "metadata": {},
   "outputs": [],
   "source": [
    "# Visualizando a média da venda"
   ]
  }
 ],
 "metadata": {
  "kernelspec": {
   "display_name": "Python 3",
   "language": "python",
   "name": "python3"
  },
  "language_info": {
   "codemirror_mode": {
    "name": "ipython",
    "version": 3
   },
   "file_extension": ".py",
   "mimetype": "text/x-python",
   "name": "python",
   "nbconvert_exporter": "python",
   "pygments_lexer": "ipython3",
   "version": "3.8.5"
  }
 },
 "nbformat": 4,
 "nbformat_minor": 5
}
