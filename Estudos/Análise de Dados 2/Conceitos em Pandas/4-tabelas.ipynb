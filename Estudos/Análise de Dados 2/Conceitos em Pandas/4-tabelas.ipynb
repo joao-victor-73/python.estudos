{
 "cells": [
  {
   "cell_type": "markdown",
   "id": "e607a52d-4e8c-48f9-83a1-39d194b1f78c",
   "metadata": {},
   "source": [
    "- Aulas F085 a F087"
   ]
  },
  {
   "cell_type": "markdown",
   "id": "b8ffacdb-c1f5-40b3-afd0-5429036373e8",
   "metadata": {},
   "source": [
    "___"
   ]
  },
  {
   "cell_type": "code",
   "execution_count": 1,
   "id": "779ad943-74b9-48a7-a799-287f268d0518",
   "metadata": {},
   "outputs": [],
   "source": [
    "import pandas as pd"
   ]
  },
  {
   "cell_type": "code",
   "execution_count": 2,
   "id": "e699aa75-927d-42dd-830c-dfac453da70f",
   "metadata": {},
   "outputs": [],
   "source": [
    "# Importando a base de dados\n",
    "arquivo_caminho = 'kc_house_data.csv'\n",
    "\n",
    "dataset = pd.read_csv(arquivo_caminho, sep=',', header=0)\n",
    "\n",
    "# Transformando a coluna 'date' em um datetime\n",
    "dataset['date'] = pd.to_datetime(dataset['date'])"
   ]
  },
  {
   "cell_type": "markdown",
   "id": "d1af28db-125f-45c4-9e44-907e6c35cfc4",
   "metadata": {},
   "source": [
    "# Tabelas Pivot\n",
    "\n",
    "As tabelas pivot (ou tabelas dinâmicas) são uma forma de reestruturar e resumir dados em um DataFrame, permitindo análises rápidas e agregações personalizadas, em outras palavras, elas são úteis para fazer agrupamento nos dados.\n"
   ]
  },
  {
   "cell_type": "markdown",
   "id": "c22bf807-8a0e-4b26-84ca-816e0e2784ed",
   "metadata": {},
   "source": [
    "Nesse exemplo abaixo iremos contar a quantidade de imóveis agrupados pelas colunas waterfront e floors;\n",
    "\n",
    "- No parâmetro **index** informo as colunas que serão usadas para agregação;\n",
    "- No parâmetro **aggfunc** é usado uma função de agregação, nesse parâmetro é que definimos (no nosso exemplo será a função de count);\n",
    "- No parâmetro **margins=True**, calculamos a quantidade total no final da tabela."
   ]
  },
  {
   "cell_type": "code",
   "execution_count": 3,
   "id": "2ed69177-e45f-49b5-ac14-6914c3cdf169",
   "metadata": {},
   "outputs": [
    {
     "data": {
      "text/html": [
       "<div>\n",
       "<style scoped>\n",
       "    .dataframe tbody tr th:only-of-type {\n",
       "        vertical-align: middle;\n",
       "    }\n",
       "\n",
       "    .dataframe tbody tr th {\n",
       "        vertical-align: top;\n",
       "    }\n",
       "\n",
       "    .dataframe thead th {\n",
       "        text-align: right;\n",
       "    }\n",
       "</style>\n",
       "<table border=\"1\" class=\"dataframe\">\n",
       "  <thead>\n",
       "    <tr style=\"text-align: right;\">\n",
       "      <th></th>\n",
       "      <th></th>\n",
       "      <th>id</th>\n",
       "    </tr>\n",
       "    <tr>\n",
       "      <th>waterfront</th>\n",
       "      <th>floors</th>\n",
       "      <th></th>\n",
       "    </tr>\n",
       "  </thead>\n",
       "  <tbody>\n",
       "    <tr>\n",
       "      <th rowspan=\"6\" valign=\"top\">0</th>\n",
       "      <th>1.0</th>\n",
       "      <td>10623</td>\n",
       "    </tr>\n",
       "    <tr>\n",
       "      <th>1.5</th>\n",
       "      <td>1889</td>\n",
       "    </tr>\n",
       "    <tr>\n",
       "      <th>2.0</th>\n",
       "      <td>8166</td>\n",
       "    </tr>\n",
       "    <tr>\n",
       "      <th>2.5</th>\n",
       "      <td>159</td>\n",
       "    </tr>\n",
       "    <tr>\n",
       "      <th>3.0</th>\n",
       "      <td>605</td>\n",
       "    </tr>\n",
       "    <tr>\n",
       "      <th>3.5</th>\n",
       "      <td>8</td>\n",
       "    </tr>\n",
       "    <tr>\n",
       "      <th rowspan=\"5\" valign=\"top\">1</th>\n",
       "      <th>1.0</th>\n",
       "      <td>57</td>\n",
       "    </tr>\n",
       "    <tr>\n",
       "      <th>1.5</th>\n",
       "      <td>21</td>\n",
       "    </tr>\n",
       "    <tr>\n",
       "      <th>2.0</th>\n",
       "      <td>75</td>\n",
       "    </tr>\n",
       "    <tr>\n",
       "      <th>2.5</th>\n",
       "      <td>2</td>\n",
       "    </tr>\n",
       "    <tr>\n",
       "      <th>3.0</th>\n",
       "      <td>8</td>\n",
       "    </tr>\n",
       "    <tr>\n",
       "      <th>All</th>\n",
       "      <th></th>\n",
       "      <td>21613</td>\n",
       "    </tr>\n",
       "  </tbody>\n",
       "</table>\n",
       "</div>"
      ],
      "text/plain": [
       "                      id\n",
       "waterfront floors       \n",
       "0          1.0     10623\n",
       "           1.5      1889\n",
       "           2.0      8166\n",
       "           2.5       159\n",
       "           3.0       605\n",
       "           3.5         8\n",
       "1          1.0        57\n",
       "           1.5        21\n",
       "           2.0        75\n",
       "           2.5         2\n",
       "           3.0         8\n",
       "All                21613"
      ]
     },
     "execution_count": 3,
     "metadata": {},
     "output_type": "execute_result"
    }
   ],
   "source": [
    "dataset.pivot_table('id', index=['waterfront', 'floors'], aggfunc='count', margins=True)"
   ]
  },
  {
   "cell_type": "markdown",
   "id": "088572d9-f7a5-4bab-91ec-bc40c28061fa",
   "metadata": {},
   "source": [
    "___"
   ]
  },
  {
   "cell_type": "markdown",
   "id": "87d9395d-69aa-4a1e-97a8-8de698d0453e",
   "metadata": {},
   "source": [
    "# Crosstab ou Tabulação Cruzada\n",
    "\n",
    "O crosstab em Pandas é uma função que cria uma tabela de contingência — ou seja, uma tabela que mostra a frequência de ocorrência entre duas (ou mais) variáveis categóricas.\n",
    "\n",
    "É muito usado quando você quer ver como duas variáveis se relacionam em termos de contagem"
   ]
  },
  {
   "cell_type": "code",
   "execution_count": 5,
   "id": "3dd056c5-740a-4bed-bd10-956892c5834d",
   "metadata": {},
   "outputs": [
    {
     "data": {
      "text/html": [
       "<div>\n",
       "<style scoped>\n",
       "    .dataframe tbody tr th:only-of-type {\n",
       "        vertical-align: middle;\n",
       "    }\n",
       "\n",
       "    .dataframe tbody tr th {\n",
       "        vertical-align: top;\n",
       "    }\n",
       "\n",
       "    .dataframe thead th {\n",
       "        text-align: right;\n",
       "    }\n",
       "</style>\n",
       "<table border=\"1\" class=\"dataframe\">\n",
       "  <thead>\n",
       "    <tr style=\"text-align: right;\">\n",
       "      <th>condition</th>\n",
       "      <th>1</th>\n",
       "      <th>2</th>\n",
       "      <th>3</th>\n",
       "      <th>4</th>\n",
       "      <th>5</th>\n",
       "    </tr>\n",
       "    <tr>\n",
       "      <th>bedrooms</th>\n",
       "      <th></th>\n",
       "      <th></th>\n",
       "      <th></th>\n",
       "      <th></th>\n",
       "      <th></th>\n",
       "    </tr>\n",
       "  </thead>\n",
       "  <tbody>\n",
       "    <tr>\n",
       "      <th>0</th>\n",
       "      <td>1</td>\n",
       "      <td>1</td>\n",
       "      <td>10</td>\n",
       "      <td>1</td>\n",
       "      <td>0</td>\n",
       "    </tr>\n",
       "    <tr>\n",
       "      <th>1</th>\n",
       "      <td>4</td>\n",
       "      <td>11</td>\n",
       "      <td>124</td>\n",
       "      <td>48</td>\n",
       "      <td>12</td>\n",
       "    </tr>\n",
       "    <tr>\n",
       "      <th>2</th>\n",
       "      <td>12</td>\n",
       "      <td>51</td>\n",
       "      <td>1779</td>\n",
       "      <td>718</td>\n",
       "      <td>200</td>\n",
       "    </tr>\n",
       "    <tr>\n",
       "      <th>3</th>\n",
       "      <td>8</td>\n",
       "      <td>69</td>\n",
       "      <td>6308</td>\n",
       "      <td>2711</td>\n",
       "      <td>728</td>\n",
       "    </tr>\n",
       "    <tr>\n",
       "      <th>4</th>\n",
       "      <td>4</td>\n",
       "      <td>36</td>\n",
       "      <td>4580</td>\n",
       "      <td>1682</td>\n",
       "      <td>580</td>\n",
       "    </tr>\n",
       "    <tr>\n",
       "      <th>5</th>\n",
       "      <td>0</td>\n",
       "      <td>1</td>\n",
       "      <td>1031</td>\n",
       "      <td>418</td>\n",
       "      <td>151</td>\n",
       "    </tr>\n",
       "    <tr>\n",
       "      <th>6</th>\n",
       "      <td>1</td>\n",
       "      <td>3</td>\n",
       "      <td>158</td>\n",
       "      <td>87</td>\n",
       "      <td>23</td>\n",
       "    </tr>\n",
       "    <tr>\n",
       "      <th>7</th>\n",
       "      <td>0</td>\n",
       "      <td>0</td>\n",
       "      <td>25</td>\n",
       "      <td>9</td>\n",
       "      <td>4</td>\n",
       "    </tr>\n",
       "    <tr>\n",
       "      <th>8</th>\n",
       "      <td>0</td>\n",
       "      <td>0</td>\n",
       "      <td>8</td>\n",
       "      <td>3</td>\n",
       "      <td>2</td>\n",
       "    </tr>\n",
       "    <tr>\n",
       "      <th>9</th>\n",
       "      <td>0</td>\n",
       "      <td>0</td>\n",
       "      <td>6</td>\n",
       "      <td>0</td>\n",
       "      <td>0</td>\n",
       "    </tr>\n",
       "    <tr>\n",
       "      <th>10</th>\n",
       "      <td>0</td>\n",
       "      <td>0</td>\n",
       "      <td>1</td>\n",
       "      <td>2</td>\n",
       "      <td>0</td>\n",
       "    </tr>\n",
       "    <tr>\n",
       "      <th>11</th>\n",
       "      <td>0</td>\n",
       "      <td>0</td>\n",
       "      <td>1</td>\n",
       "      <td>0</td>\n",
       "      <td>0</td>\n",
       "    </tr>\n",
       "    <tr>\n",
       "      <th>33</th>\n",
       "      <td>0</td>\n",
       "      <td>0</td>\n",
       "      <td>0</td>\n",
       "      <td>0</td>\n",
       "      <td>1</td>\n",
       "    </tr>\n",
       "  </tbody>\n",
       "</table>\n",
       "</div>"
      ],
      "text/plain": [
       "condition   1   2     3     4    5\n",
       "bedrooms                          \n",
       "0           1   1    10     1    0\n",
       "1           4  11   124    48   12\n",
       "2          12  51  1779   718  200\n",
       "3           8  69  6308  2711  728\n",
       "4           4  36  4580  1682  580\n",
       "5           0   1  1031   418  151\n",
       "6           1   3   158    87   23\n",
       "7           0   0    25     9    4\n",
       "8           0   0     8     3    2\n",
       "9           0   0     6     0    0\n",
       "10          0   0     1     2    0\n",
       "11          0   0     1     0    0\n",
       "33          0   0     0     0    1"
      ]
     },
     "execution_count": 5,
     "metadata": {},
     "output_type": "execute_result"
    }
   ],
   "source": [
    "# Essa funcionalidade cruza valores das variáveis;\n",
    "# Nesse nosso exemplo podemos ver qual a distribuição dos imóveis por número de quartos com relação a sua condição.\n",
    "\n",
    "pd.crosstab(dataset['bedrooms'], dataset['condition'])\n",
    "\n",
    "# Podemos ver que imóveis com 3 quartos estão mais na condição 5"
   ]
  },
  {
   "cell_type": "markdown",
   "id": "03c4b878-6e9c-4cf1-b03a-785c33113e37",
   "metadata": {},
   "source": [
    "### Plotagem da tabela cruzada"
   ]
  },
  {
   "cell_type": "code",
   "execution_count": 7,
   "id": "e76bacac-0321-42cb-a114-fb5b724d33a2",
   "metadata": {},
   "outputs": [
    {
     "data": {
      "text/plain": [
       "<Axes: title={'center': 'Condition by Bedrooms'}, xlabel='bedrooms'>"
      ]
     },
     "execution_count": 7,
     "metadata": {},
     "output_type": "execute_result"
    },
    {
     "data": {
      "image/png": "[encoded data removed]",
      "text/plain": [
       "<Figure size 640x480 with 1 Axes>"
      ]
     },
     "metadata": {},
     "output_type": "display_data"
    }
   ],
   "source": [
    "# Usamos o método plot com um gráfico de barras\n",
    "table = pd.crosstab(dataset['bedrooms'], dataset['condition'])\n",
    "table.plot(kind='bar', width=1.0, color=['red', 'yellow', 'orange', 'blue', 'green'], title='Condition by Bedrooms', grid=False)"
   ]
  },
  {
   "cell_type": "markdown",
   "id": "80f1294c-e1e8-450d-9e7f-e241018a9dd7",
   "metadata": {},
   "source": [
    "___"
   ]
  },
  {
   "cell_type": "markdown",
   "id": "dcc6579f-bf4d-4f3c-b117-674cdcfb6544",
   "metadata": {},
   "source": [
    "# Trabalhando com Excel\n",
    "\n",
    "Com o pandas, podemos trabalhar com Excel e isso é muito bom, pois, sabemos que temos muita informação nos dias de hoje em planilhas do excel;\n",
    "\n",
    "Diante disso você pode usar o pandas para manipular planilhas do excel e até mesmo gerar novas planilhas a partir de outros dados."
   ]
  },
  {
   "cell_type": "markdown",
   "id": "af3ea14e-8ea1-4af8-8d3a-1308eb155349",
   "metadata": {},
   "source": [
    "- Leitura de uma planilha excel:"
   ]
  },
  {
   "cell_type": "code",
   "execution_count": null,
   "id": "dcaf94c1-6f7c-493c-9d07-5c1bd7e56f3e",
   "metadata": {},
   "outputs": [],
   "source": [
    "df_excel = pd.read_excel('caminho_do_arquivo.xlsx', sheetname=0, header=0)\n",
    "# sheetname é o nome da planilha dentro do arquivo xlsx;\n",
    "# header é o indicativo de onde está o nome das colunas (0 é coluna 1 | 1 é coluna 2 | e por ai em diante)\n",
    "\n",
    "# Caso eu queria especificar qual será o indice basta adicionar o parâmetro index_col=X\n",
    "# onde X é o número da coluna que eu quero como indice."
   ]
  },
  {
   "cell_type": "markdown",
   "id": "0eaf2af0-663f-47ca-b03d-34ce811c799e",
   "metadata": {},
   "source": [
    "___"
   ]
  },
  {
   "cell_type": "markdown",
   "id": "9a4f753b-f0cf-4538-8c21-e5c0eb8bb325",
   "metadata": {},
   "source": [
    "# Gerar planilhas a partir de DataFrames\n",
    "\n",
    "Para esse exemplo, iremos utilizar o dataFrame de imóveis que a gente vem trabalhando.\n",
    "\n",
    "Porém, para não ficar um arquivo muito grande, iremos pegar apenas algumas colunas e transformar em planilha"
   ]
  },
  {
   "cell_type": "code",
   "execution_count": 12,
   "id": "9cd0fb2e-d054-4feb-9b45-c7e7c462f621",
   "metadata": {},
   "outputs": [
    {
     "data": {
      "text/html": [
       "<div>\n",
       "<style scoped>\n",
       "    .dataframe tbody tr th:only-of-type {\n",
       "        vertical-align: middle;\n",
       "    }\n",
       "\n",
       "    .dataframe tbody tr th {\n",
       "        vertical-align: top;\n",
       "    }\n",
       "\n",
       "    .dataframe thead th {\n",
       "        text-align: right;\n",
       "    }\n",
       "</style>\n",
       "<table border=\"1\" class=\"dataframe\">\n",
       "  <thead>\n",
       "    <tr style=\"text-align: right;\">\n",
       "      <th></th>\n",
       "      <th>id</th>\n",
       "      <th>price</th>\n",
       "      <th>bedrooms</th>\n",
       "      <th>bathrooms</th>\n",
       "      <th>sqft_living</th>\n",
       "      <th>floors</th>\n",
       "      <th>waterfront</th>\n",
       "    </tr>\n",
       "  </thead>\n",
       "  <tbody>\n",
       "    <tr>\n",
       "      <th>0</th>\n",
       "      <td>7129300520</td>\n",
       "      <td>221900.0</td>\n",
       "      <td>3</td>\n",
       "      <td>1.00</td>\n",
       "      <td>1180</td>\n",
       "      <td>1.0</td>\n",
       "      <td>0</td>\n",
       "    </tr>\n",
       "    <tr>\n",
       "      <th>1</th>\n",
       "      <td>6414100192</td>\n",
       "      <td>538000.0</td>\n",
       "      <td>3</td>\n",
       "      <td>2.25</td>\n",
       "      <td>2570</td>\n",
       "      <td>2.0</td>\n",
       "      <td>0</td>\n",
       "    </tr>\n",
       "    <tr>\n",
       "      <th>2</th>\n",
       "      <td>5631500400</td>\n",
       "      <td>180000.0</td>\n",
       "      <td>2</td>\n",
       "      <td>1.00</td>\n",
       "      <td>770</td>\n",
       "      <td>1.0</td>\n",
       "      <td>0</td>\n",
       "    </tr>\n",
       "    <tr>\n",
       "      <th>3</th>\n",
       "      <td>2487200875</td>\n",
       "      <td>604000.0</td>\n",
       "      <td>4</td>\n",
       "      <td>3.00</td>\n",
       "      <td>1960</td>\n",
       "      <td>1.0</td>\n",
       "      <td>0</td>\n",
       "    </tr>\n",
       "    <tr>\n",
       "      <th>4</th>\n",
       "      <td>1954400510</td>\n",
       "      <td>510000.0</td>\n",
       "      <td>3</td>\n",
       "      <td>2.00</td>\n",
       "      <td>1680</td>\n",
       "      <td>1.0</td>\n",
       "      <td>0</td>\n",
       "    </tr>\n",
       "  </tbody>\n",
       "</table>\n",
       "</div>"
      ],
      "text/plain": [
       "           id     price  bedrooms  bathrooms  sqft_living  floors  waterfront\n",
       "0  7129300520  221900.0         3       1.00         1180     1.0           0\n",
       "1  6414100192  538000.0         3       2.25         2570     2.0           0\n",
       "2  5631500400  180000.0         2       1.00          770     1.0           0\n",
       "3  2487200875  604000.0         4       3.00         1960     1.0           0\n",
       "4  1954400510  510000.0         3       2.00         1680     1.0           0"
      ]
     },
     "execution_count": 12,
     "metadata": {},
     "output_type": "execute_result"
    }
   ],
   "source": [
    "colunas = ['id', 'price', 'bedrooms', 'bathrooms', 'sqft_living', 'floors', 'waterfront']\n",
    "\n",
    "dataset[colunas].head()"
   ]
  },
  {
   "cell_type": "code",
   "execution_count": 13,
   "id": "07138802-5fde-4731-a22a-4d4ec317d33d",
   "metadata": {},
   "outputs": [],
   "source": [
    "# Escrevendo no disco a planilha sem o valor do indice\n",
    "dataset[colunas].to_excel('planilha_pandas.xlsx', index=False)"
   ]
  },
  {
   "cell_type": "code",
   "execution_count": null,
   "id": "5a7874d5-104b-49f9-a7ad-5ecf01024464",
   "metadata": {},
   "outputs": [],
   "source": []
  },
  {
   "cell_type": "code",
   "execution_count": null,
   "id": "16b0c37e-987d-408b-b01d-801add90db17",
   "metadata": {},
   "outputs": [],
   "source": []
  }
 ],
 "metadata": {
  "kernelspec": {
   "display_name": "Python 3 (ipykernel)",
   "language": "python",
   "name": "python3"
  },
  "language_info": {
   "codemirror_mode": {
    "name": "ipython",
    "version": 3
   },
   "file_extension": ".py",
   "mimetype": "text/x-python",
   "name": "python",
   "nbconvert_exporter": "python",
   "pygments_lexer": "ipython3",
   "version": "3.12.2"
  }
 },
 "nbformat": 4,
 "nbformat_minor": 5
}
