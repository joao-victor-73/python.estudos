{
 "cells": [
  {
   "cell_type": "markdown",
   "id": "14a0ae76-f320-45cf-baaa-89a27a3b6df5",
   "metadata": {},
   "source": [
    "# 23. Kwargs, Variaveis Globais vs Locais e nonlocal"
   ]
  },
  {
   "cell_type": "markdown",
   "id": "a4917408-2f55-4b91-904c-fa2048cd7c03",
   "metadata": {},
   "source": [
    "### Kwargs (xargs)\n",
    "\n",
    "Em python, **kwargs é um parâmetro especial usado em definições de função para capturar argumentos nomeados extras passsados para a função;\n",
    "\n",
    "O termo **kwargs é uma __convenção comumente usada__, mas o nome em si pode ser qualquer outro desde que seja precedido por dois asteriscos.\n",
    "\n",
    "\n",
    "O parâmetro permite que uma função aceite um número variável de argumentos nomeados adicionais. Os argumentos nomeados extras são passados para a função e os valores são os valores atribuídos a esses argumentos."
   ]
  },
  {
   "cell_type": "code",
   "execution_count": 1,
   "id": "4fe55535-1f01-4595-b465-8764959719a3",
   "metadata": {},
   "outputs": [
    {
     "name": "stdout",
     "output_type": "stream",
     "text": [
      "nome: João\n",
      "idade: 25\n",
      "cidade: São Paulo\n",
      "sexo: Masculino\n"
     ]
    }
   ],
   "source": [
    "\n",
    "\n",
    "def exibir_informacoes(**kwargs):\n",
    "    for chave, valor in kwargs.items():\n",
    "        print(f\"{chave}: {str(valor)}\")\n",
    "\n",
    "exibir_informacoes(nome=\"João\", idade=25, cidade=\"São Paulo\", sexo=\"Masculino\")"
   ]
  },
  {
   "cell_type": "markdown",
   "id": "50aa2723-9633-4dd3-b070-895a3e55385f",
   "metadata": {},
   "source": [
    "### Escopo de Variáveis\n",
    "\n",
    "- Variáveis locais vs Globais\n",
    "    - Uma variável definida dentro de uma função é chamada de variável local, enquanto uma definida fora de todas as funções é chamada de variável global."
   ]
  },
  {
   "cell_type": "code",
   "execution_count": 3,
   "id": "3a166426-888b-440f-86cd-34be794f2b64",
   "metadata": {},
   "outputs": [
    {
     "name": "stdout",
     "output_type": "stream",
     "text": [
      "Eu sou uma variável local\n",
      "Eu sou uma variável global\n",
      "Eu sou uma variável global\n"
     ]
    }
   ],
   "source": [
    "var_global = \"Eu sou uma variável global\"\n",
    "\n",
    "def funcao_exemplo():\n",
    "    var_local = \"Eu sou uma variável local\"\n",
    "    print(var_local)\n",
    "    \n",
    "    print(var_global)\n",
    "\n",
    "funcao_exemplo()\n",
    "\n",
    "# imprimindo a variável global fora da função\n",
    "print(var_global)\n",
    "\n",
    "# print(var_local) # Isso resultaria em um erro, pois var_local não existe fora da função."
   ]
  },
  {
   "cell_type": "markdown",
   "id": "ebb2b289-6d55-43af-a04e-af87358e9446",
   "metadata": {},
   "source": [
    "- Uso do global\n",
    "    - Para modificar uma variável global dentro de uma função, você precisa usar a palavra-chave global."
   ]
  },
  {
   "cell_type": "code",
   "execution_count": 5,
   "id": "f9849564-e3d6-4f46-a0ca-8de111a85635",
   "metadata": {},
   "outputs": [
    {
     "name": "stdout",
     "output_type": "stream",
     "text": [
      "1\n",
      "2\n",
      "3\n"
     ]
    }
   ],
   "source": [
    "contador = 0 \n",
    "\n",
    "def incrementar_contador():\n",
    "    # Se caso não for colocado a palavra-chave 'global', o python não identifica a variável como global e\n",
    "    # não permite a sua modificação, apenas a visualização (sem o global)\n",
    "    global contador\n",
    "\n",
    "    contador += 1\n",
    "    print(contador)\n",
    "\n",
    "incrementar_contador()\n",
    "incrementar_contador()\n",
    "incrementar_contador()"
   ]
  },
  {
   "cell_type": "markdown",
   "id": "a806e48b-c951-47b6-8bca-a299fcf5e692",
   "metadata": {},
   "source": [
    "- Uso do nonlocal (em funções aninhadas)\n",
    "    - A palavra-chave 'nonlocal' é usada para trabalhar com variáveis em um escopo mais próximo, mas não global, como em funções aninhadas. "
   ]
  },
  {
   "cell_type": "code",
   "execution_count": 6,
   "id": "fc8b61aa-504a-430f-8e5a-76706f3badf3",
   "metadata": {},
   "outputs": [
    {
     "name": "stdout",
     "output_type": "stream",
     "text": [
      "1. Eu sou externa\n",
      "2. Eu fui modificada pela função interna\n",
      "3. Eu fui modificada pela função interna\n"
     ]
    }
   ],
   "source": [
    "def funcao_externa():\n",
    "    var_externa = \"Eu sou externa\"\n",
    "\n",
    "    print(f\"1. {var_externa}\")\n",
    "\n",
    "    def funcao_interna():\n",
    "        nonlocal var_externa\n",
    "\n",
    "        var_externa = \"Eu fui modificada pela função interna\"\n",
    "        print(f\"2. {var_externa}\")\n",
    "\n",
    "    funcao_interna()\n",
    "    print(f\"3. {var_externa}\")\n",
    "\n",
    "funcao_externa()"
   ]
  },
  {
   "cell_type": "markdown",
   "id": "bda7deb1-c595-41d0-8d92-ccf669dafc09",
   "metadata": {},
   "source": [
    "# 24. Exercícios Funções"
   ]
  },
  {
   "cell_type": "markdown",
   "id": "507137d3-fd17-4449-92e6-43bcf26e8908",
   "metadata": {},
   "source": [
    "### Exercícios Funções"
   ]
  },
  {
   "cell_type": "markdown",
   "id": "43ef9404-d152-4b45-ad44-f8b1081584c7",
   "metadata": {},
   "source": [
    "#### 1. Calculadora Simples com Funções\n",
    "Objetivo: Criar uma calculadora simples que pode realizar quatro operações: adição, subtração, multiplicação e divisão.\n",
    "\n",
    "O usuário deverá fornecer dois números e a operação desejada. A solução deve ser inplementada usando funções.\n"
   ]
  },
  {
   "cell_type": "code",
   "execution_count": null,
   "id": "e1fe0e2b-b1d0-4877-a38b-7e82c1dc2171",
   "metadata": {},
   "outputs": [],
   "source": []
  },
  {
   "cell_type": "markdown",
   "id": "09911260-06be-40db-bb33-467e1ac253a5",
   "metadata": {},
   "source": [
    "#### 2. \n"
   ]
  },
  {
   "cell_type": "code",
   "execution_count": null,
   "id": "2ca899fc-d116-4f0c-85c0-668148c81bbf",
   "metadata": {},
   "outputs": [],
   "source": []
  },
  {
   "cell_type": "markdown",
   "id": "b596b86e-2dd2-4b70-aa02-33e0053a73b3",
   "metadata": {},
   "source": [
    "# 25. Funções Anônimas (Lambda)"
   ]
  },
  {
   "cell_type": "markdown",
   "id": "28e8ec9d-cdf5-44ab-ae27-3791a99e9b58",
   "metadata": {},
   "source": [
    "### Funções Anônimas (Lambda)\n",
    "\n",
    "- Funções lambda são funções anônimas de pequena extensão;\n",
    "- Ao contrário de uma função definida com _def_, a função __lambda__ pode ter apenas uma expressão e retorna implicitamente o resultado dessa expressão;\n",
    "- Ela é **frequentemente usada para pequenas operações que são convenientes de se definir sem nomear uma função completa**."
   ]
  },
  {
   "cell_type": "code",
   "execution_count": 5,
   "id": "7d8ca39b-f2fe-46bd-9492-c9da04722d10",
   "metadata": {},
   "outputs": [
    {
     "name": "stdout",
     "output_type": "stream",
     "text": [
      "Função regular: 10\n",
      "Função Lambda: 20\n"
     ]
    }
   ],
   "source": [
    "# Exemplo prático 1\n",
    "\n",
    "# Função regular para dobrar um número\n",
    "def dobrar(n):\n",
    "    return n * 2\n",
    "\n",
    "print(f\"Função regular: {dobrar(5)}\") # Saída: 10\n",
    "\n",
    "# Função Lambda para dobrar um número\n",
    "dobrar_lambda = lambda n: n * 2\n",
    "\n",
    "print(f\"Função Lambda: {dobrar_lambda(10)}\") # Saída: 20"
   ]
  },
  {
   "cell_type": "code",
   "execution_count": 10,
   "id": "562a7067-5c3d-408a-be26-7a67a045daf1",
   "metadata": {},
   "outputs": [
    {
     "name": "stdout",
     "output_type": "stream",
     "text": [
      "Regular: Negativo\n",
      "Lambda: Positivo\n"
     ]
    }
   ],
   "source": [
    "# Exemplo prático 2\n",
    "\n",
    "# Função regular\n",
    "def classificar_numero(n):\n",
    "    if n < 0:\n",
    "        return \"Negativo\"\n",
    "\n",
    "    elif n == 0:\n",
    "        return \"Zero\"\n",
    "\n",
    "    else:\n",
    "        return \"Positivo\"\n",
    "\n",
    "print(f\"Regular: {classificar_numero(-5)}\") # Saída: Negativo\n",
    "\n",
    "# Função Lambda\n",
    "classificar_lambda = lambda n: \"Negativo\" if n < 0 else (\"Zero\" if n == 0 else \"Positivo\")\n",
    "\n",
    "print(f\"Lambda: {classificar_lambda(5)}\") # Saída: Positivo"
   ]
  },
  {
   "cell_type": "markdown",
   "id": "77c83baf-8887-47e9-a04d-098c8d21300b",
   "metadata": {},
   "source": [
    "### Função lambda com sorted"
   ]
  },
  {
   "cell_type": "code",
   "execution_count": 12,
   "id": "8907cdc4-e6fd-4dec-9ec5-763fcb518bae",
   "metadata": {},
   "outputs": [
    {
     "name": "stdout",
     "output_type": "stream",
     "text": [
      "[('Pedro', 15), ('Allan', 26), ('João', 35), ('Maria', 40)]\n"
     ]
    }
   ],
   "source": [
    "# Função lambda com sorted\n",
    "\n",
    "# Suponha que você tenha uma lista de tuplas representando pessoas e suas idades, e você queira classifica-las pela idade:\n",
    "\n",
    "pessoas = [('João', 35), ('Allan', 26), ('Pedro', 15), ('Maria', 40)]\n",
    "pessoas_ordenadas = sorted(pessoas, key=lambda x: x[1])\n",
    "\n",
    "print(pessoas_ordenadas)"
   ]
  },
  {
   "cell_type": "markdown",
   "id": "cdcaeffb-4eb2-481c-839e-1706085485a8",
   "metadata": {},
   "source": [
    "### Função Lambda com filter"
   ]
  },
  {
   "cell_type": "code",
   "execution_count": 14,
   "id": "ba51328e-08df-44d3-845c-760c4ea71793",
   "metadata": {},
   "outputs": [
    {
     "name": "stdout",
     "output_type": "stream",
     "text": [
      "Lista de números pares: [2, 4, 6, 8, 10]\n"
     ]
    }
   ],
   "source": [
    "# filtramos uma lista para obter apenas números pares usando a função filter() junto com uma função lambda\n",
    "\n",
    "# Lista Original de números\n",
    "numeros = [1, 2, 3, 4, 5, 6, 7, 8, 9, 10]\n",
    "\n",
    "# Usando filter() e lambda para obter apenas números pares\n",
    "numeros_pares = list(filter(lambda x: x % 2 == 0, numeros))\n",
    "\n",
    "print(f\"Lista de números pares: {numeros_pares}\")"
   ]
  },
  {
   "cell_type": "code",
   "execution_count": 16,
   "id": "ed361e6d-7c0b-46ed-88f7-16f422dfb1a3",
   "metadata": {},
   "outputs": [
    {
     "name": "stdout",
     "output_type": "stream",
     "text": [
      "Nomes da lista que começam com A: ['Alice', 'Alex', 'Anna']\n"
     ]
    }
   ],
   "source": [
    "# Vamos criar um exemplo onde filtramos uma lista de strings para obter apenas nomes que começam com a letra \"A\".\n",
    "\n",
    "# Lista original com os nomes:\n",
    "nomes = ['Alice', 'Bob', 'Charlie', 'Alex', 'Anna', 'Tom']\n",
    "\n",
    "# Usando filter() e lambda para obter apenas nomes que começam com \"A\":\n",
    "nomes_com_A = list(filter(lambda nome: nome[0] == 'A', nomes))\n",
    "\n",
    "print(f\"Nomes da lista que começam com A: {nomes_com_A}\")"
   ]
  },
  {
   "cell_type": "markdown",
   "id": "d3a0d572-9b59-417a-849f-e41044d65be6",
   "metadata": {},
   "source": [
    "# 27. Exercício de lambda com filter\n",
    "\n",
    "#### Exercício: Filtrando e transformando dados com lambda\n",
    "\n",
    "**Objetivo:** Familiarizar-se com o uso de funções lambda juntamente com funções built-in como filter e map.\n",
    "\n",
    "**Instruções:**\n",
    "\n",
    "1. Dada uma lista de números: [2, 5, 8, 10, 12, 15, 18, 20, 23, 25, 28].\n",
    "2. Use a função filter() e uma função lambda para criar uma nova lista que contém apenas os números ímpares da lista original.\n",
    "3. Em seguida, use a função map() e uma função lambda para criar uma nova lista que contém o quadrado de cada número da lista de números ímpares.\n",
    "4. Imprima ambas as listas."
   ]
  },
  {
   "cell_type": "code",
   "execution_count": null,
   "id": "d75f4516-66d5-4eff-af47-e85f72203b81",
   "metadata": {},
   "outputs": [],
   "source": []
  }
 ],
 "metadata": {
  "kernelspec": {
   "display_name": "Python 3 (ipykernel)",
   "language": "python",
   "name": "python3"
  },
  "language_info": {
   "codemirror_mode": {
    "name": "ipython",
    "version": 3
   },
   "file_extension": ".py",
   "mimetype": "text/x-python",
   "name": "python",
   "nbconvert_exporter": "python",
   "pygments_lexer": "ipython3",
   "version": "3.12.2"
  }
 },
 "nbformat": 4,
 "nbformat_minor": 5
}
