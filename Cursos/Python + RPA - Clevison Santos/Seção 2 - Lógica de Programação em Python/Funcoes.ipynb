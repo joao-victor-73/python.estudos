{
 "cells": [
  {
   "cell_type": "markdown",
   "id": "14a0ae76-f320-45cf-baaa-89a27a3b6df5",
   "metadata": {},
   "source": [
    "# 23. Kwargs, Variaveis Globais vs Locais e nonlocal"
   ]
  },
  {
   "cell_type": "markdown",
   "id": "a4917408-2f55-4b91-904c-fa2048cd7c03",
   "metadata": {},
   "source": [
    "### Kwargs (xargs)\n",
    "\n",
    "Em python, **kwargs é um parâmetro especial usado em definições de função para capturar argumentos nomeados extras passsados para a função;\n",
    "\n",
    "O termo **kwargs é uma __convenção comumente usada__, mas o nome em si pode ser qualquer outro desde que seja precedido por dois asteriscos.\n",
    "\n",
    "\n",
    "O parâmetro permite que uma função aceite um número variável de argumentos nomeados adicionais. Os argumentos nomeados extras são passados para a função e os valores são os valores atribuídos a esses argumentos."
   ]
  },
  {
   "cell_type": "code",
   "execution_count": 1,
   "id": "4fe55535-1f01-4595-b465-8764959719a3",
   "metadata": {},
   "outputs": [
    {
     "name": "stdout",
     "output_type": "stream",
     "text": [
      "nome: João\n",
      "idade: 25\n",
      "cidade: São Paulo\n",
      "sexo: Masculino\n"
     ]
    }
   ],
   "source": [
    "\n",
    "\n",
    "def exibir_informacoes(**kwargs):\n",
    "    for chave, valor in kwargs.items():\n",
    "        print(f\"{chave}: {str(valor)}\")\n",
    "\n",
    "exibir_informacoes(nome=\"João\", idade=25, cidade=\"São Paulo\", sexo=\"Masculino\")"
   ]
  },
  {
   "cell_type": "markdown",
   "id": "50aa2723-9633-4dd3-b070-895a3e55385f",
   "metadata": {},
   "source": [
    "### Escopo de Variáveis\n",
    "\n",
    "- Variáveis locais vs Globais\n",
    "    - Uma variável definida dentro de uma função é chamada de variável local, enquanto uma definida fora de todas as funções é chamada de variável global."
   ]
  },
  {
   "cell_type": "code",
   "execution_count": 3,
   "id": "3a166426-888b-440f-86cd-34be794f2b64",
   "metadata": {},
   "outputs": [
    {
     "name": "stdout",
     "output_type": "stream",
     "text": [
      "Eu sou uma variável local\n",
      "Eu sou uma variável global\n",
      "Eu sou uma variável global\n"
     ]
    }
   ],
   "source": [
    "var_global = \"Eu sou uma variável global\"\n",
    "\n",
    "def funcao_exemplo():\n",
    "    var_local = \"Eu sou uma variável local\"\n",
    "    print(var_local)\n",
    "    \n",
    "    print(var_global)\n",
    "\n",
    "funcao_exemplo()\n",
    "\n",
    "# imprimindo a variável global fora da função\n",
    "print(var_global)\n",
    "\n",
    "# print(var_local) # Isso resultaria em um erro, pois var_local não existe fora da função."
   ]
  },
  {
   "cell_type": "markdown",
   "id": "ebb2b289-6d55-43af-a04e-af87358e9446",
   "metadata": {},
   "source": [
    "- Uso do global\n",
    "    - Para modificar uma variável global dentro de uma função, você precisa usar a palavra-chave global."
   ]
  },
  {
   "cell_type": "code",
   "execution_count": 5,
   "id": "f9849564-e3d6-4f46-a0ca-8de111a85635",
   "metadata": {},
   "outputs": [
    {
     "name": "stdout",
     "output_type": "stream",
     "text": [
      "1\n",
      "2\n",
      "3\n"
     ]
    }
   ],
   "source": [
    "contador = 0 \n",
    "\n",
    "def incrementar_contador():\n",
    "    # Se caso não for colocado a palavra-chave 'global', o python não identifica a variável como global e\n",
    "    # não permite a sua modificação, apenas a visualização (sem o global)\n",
    "    global contador\n",
    "\n",
    "    contador += 1\n",
    "    print(contador)\n",
    "\n",
    "incrementar_contador()\n",
    "incrementar_contador()\n",
    "incrementar_contador()"
   ]
  },
  {
   "cell_type": "markdown",
   "id": "a806e48b-c951-47b6-8bca-a299fcf5e692",
   "metadata": {},
   "source": [
    "- Uso do nonlocal (em funções aninhadas)\n",
    "    - A palavra-chave 'nonlocal' é usada para trabalhar com variáveis em um escopo mais próximo, mas não global, como em funções aninhadas. "
   ]
  },
  {
   "cell_type": "code",
   "execution_count": 6,
   "id": "fc8b61aa-504a-430f-8e5a-76706f3badf3",
   "metadata": {},
   "outputs": [
    {
     "name": "stdout",
     "output_type": "stream",
     "text": [
      "1. Eu sou externa\n",
      "2. Eu fui modificada pela função interna\n",
      "3. Eu fui modificada pela função interna\n"
     ]
    }
   ],
   "source": [
    "def funcao_externa():\n",
    "    var_externa = \"Eu sou externa\"\n",
    "\n",
    "    print(f\"1. {var_externa}\")\n",
    "\n",
    "    def funcao_interna():\n",
    "        nonlocal var_externa\n",
    "\n",
    "        var_externa = \"Eu fui modificada pela função interna\"\n",
    "        print(f\"2. {var_externa}\")\n",
    "\n",
    "    funcao_interna()\n",
    "    print(f\"3. {var_externa}\")\n",
    "\n",
    "funcao_externa()"
   ]
  },
  {
   "cell_type": "markdown",
   "id": "507137d3-fd17-4449-92e6-43bcf26e8908",
   "metadata": {},
   "source": [
    "### Exercícios Funções"
   ]
  },
  {
   "cell_type": "markdown",
   "id": "43ef9404-d152-4b45-ad44-f8b1081584c7",
   "metadata": {},
   "source": [
    "#### 1. Calculadora Simples com Funções\n",
    "Objetivo: Criar uma calculadora simples que pode realizar quatro operações: adição, subtração, multiplicação e divisão.\n",
    "\n",
    "O usuário deverá fornecer dois números e a operação desejada. A solução deve ser inplementada usando funções.\n"
   ]
  }
 ],
 "metadata": {
  "kernelspec": {
   "display_name": "Python 3 (ipykernel)",
   "language": "python",
   "name": "python3"
  },
  "language_info": {
   "codemirror_mode": {
    "name": "ipython",
    "version": 3
   },
   "file_extension": ".py",
   "mimetype": "text/x-python",
   "name": "python",
   "nbconvert_exporter": "python",
   "pygments_lexer": "ipython3",
   "version": "3.12.2"
  }
 },
 "nbformat": 4,
 "nbformat_minor": 5
}
