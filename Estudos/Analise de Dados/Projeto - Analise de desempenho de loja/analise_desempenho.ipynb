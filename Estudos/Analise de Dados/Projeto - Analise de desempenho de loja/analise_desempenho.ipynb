{
 "cells": [
  {
   "cell_type": "markdown",
   "id": "af6801c3-c64a-49a5-8e75-26ab54106621",
   "metadata": {},
   "source": [
    "10/07/2025"
   ]
  },
  {
   "cell_type": "markdown",
   "id": "c78ab55e-ca7c-4a02-8026-3d03496b778d",
   "metadata": {},
   "source": [
    "# 📊 Projeto: Análise de Desempenho da Loja \"TecnoFácil\""
   ]
  },
  {
   "cell_type": "markdown",
   "id": "90045da6-a09c-4e53-afbb-9190a3a92049",
   "metadata": {},
   "source": [
    "## Contexto\n",
    "\n",
    "A TecnoFácil é uma loja de pequeno porte que vende eletrônicos e acessórios. A gerência quer entender melhor os dados de vendas, clientes e desempenho ao longo dos meses. Você foi contratado como analista de dados para transformar dados brutos em informações úteis.\n",
    "\n",
    "Essa ideia de projeto foi gerado pelo `ChatGPT`, para que eu pudesse colocar em prática todo o meu aprendizado feito nos cursos sobre Pandas, NumPy e Matplotlib."
   ]
  },
  {
   "cell_type": "markdown",
   "id": "ed9b967e-e6bc-4cec-98aa-ebc1041b249a",
   "metadata": {},
   "source": [
    "## 🗂️ Dados do Projeto"
   ]
  },
  {
   "cell_type": "code",
   "execution_count": 1,
   "id": "fb29b4fe-edfa-4b21-ad55-f3c76c5c56b6",
   "metadata": {},
   "outputs": [],
   "source": [
    "import pandas as pd"
   ]
  },
  {
   "cell_type": "code",
   "execution_count": 2,
   "id": "7746e3e6-d2cc-4dd0-9287-b22c1a7ab77c",
   "metadata": {},
   "outputs": [],
   "source": [
    "base = pd.read_csv(\"dados_vendas.csv\")"
   ]
  },
  {
   "cell_type": "code",
   "execution_count": 4,
   "id": "fa5b2f28-b36b-4679-8c1d-05bac0b0177a",
   "metadata": {},
   "outputs": [
    {
     "data": {
      "text/html": [
       "<div>\n",
       "<style scoped>\n",
       "    .dataframe tbody tr th:only-of-type {\n",
       "        vertical-align: middle;\n",
       "    }\n",
       "\n",
       "    .dataframe tbody tr th {\n",
       "        vertical-align: top;\n",
       "    }\n",
       "\n",
       "    .dataframe thead th {\n",
       "        text-align: right;\n",
       "    }\n",
       "</style>\n",
       "<table border=\"1\" class=\"dataframe\">\n",
       "  <thead>\n",
       "    <tr style=\"text-align: right;\">\n",
       "      <th></th>\n",
       "      <th>Data da Venda</th>\n",
       "      <th>Produto</th>\n",
       "      <th>Categoria</th>\n",
       "      <th>Quantidade</th>\n",
       "      <th>Preço Unitário</th>\n",
       "      <th>Receita</th>\n",
       "      <th>Custo</th>\n",
       "      <th>Cliente</th>\n",
       "      <th>Estado</th>\n",
       "    </tr>\n",
       "  </thead>\n",
       "  <tbody>\n",
       "    <tr>\n",
       "      <th>0</th>\n",
       "      <td>2024-09-07</td>\n",
       "      <td>Notebook X1</td>\n",
       "      <td>Informática</td>\n",
       "      <td>1</td>\n",
       "      <td>3200.0</td>\n",
       "      <td>3200.0</td>\n",
       "      <td>2700.0</td>\n",
       "      <td>Bruno Mendes</td>\n",
       "      <td>BA</td>\n",
       "    </tr>\n",
       "    <tr>\n",
       "      <th>1</th>\n",
       "      <td>2025-06-08</td>\n",
       "      <td>Teclado Mecânico</td>\n",
       "      <td>Acessórios</td>\n",
       "      <td>2</td>\n",
       "      <td>350.0</td>\n",
       "      <td>700.0</td>\n",
       "      <td>500.0</td>\n",
       "      <td>Emilly Freitas</td>\n",
       "      <td>MG</td>\n",
       "    </tr>\n",
       "    <tr>\n",
       "      <th>2</th>\n",
       "      <td>2025-06-21</td>\n",
       "      <td>Notebook X1</td>\n",
       "      <td>Informática</td>\n",
       "      <td>5</td>\n",
       "      <td>3200.0</td>\n",
       "      <td>16000.0</td>\n",
       "      <td>13500.0</td>\n",
       "      <td>Isabella Almeida</td>\n",
       "      <td>RJ</td>\n",
       "    </tr>\n",
       "    <tr>\n",
       "      <th>3</th>\n",
       "      <td>2024-12-24</td>\n",
       "      <td>Tablet M7</td>\n",
       "      <td>Celulares</td>\n",
       "      <td>4</td>\n",
       "      <td>1450.0</td>\n",
       "      <td>5800.0</td>\n",
       "      <td>4400.0</td>\n",
       "      <td>Yago Cunha</td>\n",
       "      <td>SP</td>\n",
       "    </tr>\n",
       "    <tr>\n",
       "      <th>4</th>\n",
       "      <td>2025-02-20</td>\n",
       "      <td>Fone Bluetooth</td>\n",
       "      <td>Acessórios</td>\n",
       "      <td>1</td>\n",
       "      <td>150.0</td>\n",
       "      <td>150.0</td>\n",
       "      <td>90.0</td>\n",
       "      <td>Emanuelly Teixeira</td>\n",
       "      <td>RS</td>\n",
       "    </tr>\n",
       "  </tbody>\n",
       "</table>\n",
       "</div>"
      ],
      "text/plain": [
       "  Data da Venda           Produto    Categoria  Quantidade  Preço Unitário  \\\n",
       "0    2024-09-07       Notebook X1  Informática           1          3200.0   \n",
       "1    2025-06-08  Teclado Mecânico   Acessórios           2           350.0   \n",
       "2    2025-06-21       Notebook X1  Informática           5          3200.0   \n",
       "3    2024-12-24         Tablet M7    Celulares           4          1450.0   \n",
       "4    2025-02-20    Fone Bluetooth   Acessórios           1           150.0   \n",
       "\n",
       "   Receita    Custo             Cliente Estado  \n",
       "0   3200.0   2700.0        Bruno Mendes     BA  \n",
       "1    700.0    500.0      Emilly Freitas     MG  \n",
       "2  16000.0  13500.0    Isabella Almeida     RJ  \n",
       "3   5800.0   4400.0          Yago Cunha     SP  \n",
       "4    150.0     90.0  Emanuelly Teixeira     RS  "
      ]
     },
     "execution_count": 4,
     "metadata": {},
     "output_type": "execute_result"
    }
   ],
   "source": [
    "base.head()"
   ]
  },
  {
   "cell_type": "code",
   "execution_count": 20,
   "id": "3cccd165-d99d-428b-8b51-7443f39acb2a",
   "metadata": {},
   "outputs": [
    {
     "name": "stdout",
     "output_type": "stream",
     "text": [
      "<class 'pandas.core.frame.DataFrame'>\n",
      "RangeIndex: 100 entries, 0 to 99\n",
      "Data columns (total 9 columns):\n",
      " #   Column          Non-Null Count  Dtype  \n",
      "---  ------          --------------  -----  \n",
      " 0   Data da Venda   100 non-null    object \n",
      " 1   Produto         100 non-null    object \n",
      " 2   Categoria       100 non-null    object \n",
      " 3   Quantidade      100 non-null    int64  \n",
      " 4   Preço Unitário  100 non-null    float64\n",
      " 5   Receita         100 non-null    float64\n",
      " 6   Custo           100 non-null    float64\n",
      " 7   Cliente         100 non-null    object \n",
      " 8   Estado          100 non-null    object \n",
      "dtypes: float64(3), int64(1), object(5)\n",
      "memory usage: 7.2+ KB\n"
     ]
    }
   ],
   "source": [
    "base.info()"
   ]
  },
  {
   "cell_type": "code",
   "execution_count": 15,
   "id": "930a6cec-3974-4093-951f-e1ebcb7a97b9",
   "metadata": {},
   "outputs": [
    {
     "data": {
      "text/html": [
       "<div>\n",
       "<style scoped>\n",
       "    .dataframe tbody tr th:only-of-type {\n",
       "        vertical-align: middle;\n",
       "    }\n",
       "\n",
       "    .dataframe tbody tr th {\n",
       "        vertical-align: top;\n",
       "    }\n",
       "\n",
       "    .dataframe thead th {\n",
       "        text-align: right;\n",
       "    }\n",
       "</style>\n",
       "<table border=\"1\" class=\"dataframe\">\n",
       "  <thead>\n",
       "    <tr style=\"text-align: right;\">\n",
       "      <th></th>\n",
       "      <th>Quantidade</th>\n",
       "      <th>Custo</th>\n",
       "    </tr>\n",
       "    <tr>\n",
       "      <th>Produto</th>\n",
       "      <th></th>\n",
       "      <th></th>\n",
       "    </tr>\n",
       "  </thead>\n",
       "  <tbody>\n",
       "    <tr>\n",
       "      <th>Cabo USB-C</th>\n",
       "      <td>34</td>\n",
       "      <td>680.0</td>\n",
       "    </tr>\n",
       "    <tr>\n",
       "      <th>Caixa de Som</th>\n",
       "      <td>29</td>\n",
       "      <td>4350.0</td>\n",
       "    </tr>\n",
       "    <tr>\n",
       "      <th>Fone Bluetooth</th>\n",
       "      <td>30</td>\n",
       "      <td>2700.0</td>\n",
       "    </tr>\n",
       "    <tr>\n",
       "      <th>Impressora Wi-Fi</th>\n",
       "      <td>21</td>\n",
       "      <td>12600.0</td>\n",
       "    </tr>\n",
       "    <tr>\n",
       "      <th>Monitor Full HD</th>\n",
       "      <td>21</td>\n",
       "      <td>14700.0</td>\n",
       "    </tr>\n",
       "    <tr>\n",
       "      <th>Mouse Gamer</th>\n",
       "      <td>35</td>\n",
       "      <td>2450.0</td>\n",
       "    </tr>\n",
       "    <tr>\n",
       "      <th>Notebook X1</th>\n",
       "      <td>41</td>\n",
       "      <td>110700.0</td>\n",
       "    </tr>\n",
       "    <tr>\n",
       "      <th>Smartphone Z5</th>\n",
       "      <td>14</td>\n",
       "      <td>25200.0</td>\n",
       "    </tr>\n",
       "    <tr>\n",
       "      <th>Tablet M7</th>\n",
       "      <td>28</td>\n",
       "      <td>30800.0</td>\n",
       "    </tr>\n",
       "    <tr>\n",
       "      <th>Teclado Mecânico</th>\n",
       "      <td>48</td>\n",
       "      <td>12000.0</td>\n",
       "    </tr>\n",
       "  </tbody>\n",
       "</table>\n",
       "</div>"
      ],
      "text/plain": [
       "                  Quantidade     Custo\n",
       "Produto                               \n",
       "Cabo USB-C                34     680.0\n",
       "Caixa de Som              29    4350.0\n",
       "Fone Bluetooth            30    2700.0\n",
       "Impressora Wi-Fi          21   12600.0\n",
       "Monitor Full HD           21   14700.0\n",
       "Mouse Gamer               35    2450.0\n",
       "Notebook X1               41  110700.0\n",
       "Smartphone Z5             14   25200.0\n",
       "Tablet M7                 28   30800.0\n",
       "Teclado Mecânico          48   12000.0"
      ]
     },
     "execution_count": 15,
     "metadata": {},
     "output_type": "execute_result"
    }
   ],
   "source": [
    "# Apenas testando algo do pandas\n",
    "\n",
    "base.groupby('Produto')[[\"Quantidade\", \"Custo\"]].sum()"
   ]
  },
  {
   "cell_type": "code",
   "execution_count": 22,
   "id": "73213188-5a5d-40cc-bab3-1b0947a65711",
   "metadata": {},
   "outputs": [
    {
     "data": {
      "text/plain": [
       "Categoria  \n",
       "Acessórios     60\n",
       "Informática    25\n",
       "Celulares      15\n",
       "Name: count, dtype: int64"
      ]
     },
     "execution_count": 22,
     "metadata": {},
     "output_type": "execute_result"
    }
   ],
   "source": [
    "# Apenas testando algo do pandas\n",
    "# Quantidade de valores na coluna \"Categoria\"\n",
    "\n",
    "base[[\"Categoria\"]].value_counts()"
   ]
  },
  {
   "cell_type": "code",
   "execution_count": 32,
   "id": "660d5218-1903-4f60-8577-908469aba4cc",
   "metadata": {},
   "outputs": [
    {
     "data": {
      "text/html": [
       "<div>\n",
       "<style scoped>\n",
       "    .dataframe tbody tr th:only-of-type {\n",
       "        vertical-align: middle;\n",
       "    }\n",
       "\n",
       "    .dataframe tbody tr th {\n",
       "        vertical-align: top;\n",
       "    }\n",
       "\n",
       "    .dataframe thead th {\n",
       "        text-align: right;\n",
       "    }\n",
       "</style>\n",
       "<table border=\"1\" class=\"dataframe\">\n",
       "  <thead>\n",
       "    <tr style=\"text-align: right;\">\n",
       "      <th></th>\n",
       "      <th>Data da Venda</th>\n",
       "      <th>Produto</th>\n",
       "      <th>Categoria</th>\n",
       "      <th>Quantidade</th>\n",
       "      <th>Preço Unitário</th>\n",
       "      <th>Receita</th>\n",
       "      <th>Custo</th>\n",
       "      <th>Cliente</th>\n",
       "      <th>Estado</th>\n",
       "    </tr>\n",
       "  </thead>\n",
       "  <tbody>\n",
       "    <tr>\n",
       "      <th>2</th>\n",
       "      <td>2025-06-21</td>\n",
       "      <td>Notebook X1</td>\n",
       "      <td>Informática</td>\n",
       "      <td>5</td>\n",
       "      <td>3200.0</td>\n",
       "      <td>16000.0</td>\n",
       "      <td>13500.0</td>\n",
       "      <td>Isabella Almeida</td>\n",
       "      <td>RJ</td>\n",
       "    </tr>\n",
       "    <tr>\n",
       "      <th>8</th>\n",
       "      <td>2024-09-19</td>\n",
       "      <td>Impressora Wi-Fi</td>\n",
       "      <td>Informática</td>\n",
       "      <td>5</td>\n",
       "      <td>780.0</td>\n",
       "      <td>3900.0</td>\n",
       "      <td>3000.0</td>\n",
       "      <td>Sofia Ramos</td>\n",
       "      <td>BA</td>\n",
       "    </tr>\n",
       "    <tr>\n",
       "      <th>6</th>\n",
       "      <td>2024-11-05</td>\n",
       "      <td>Fone Bluetooth</td>\n",
       "      <td>Acessórios</td>\n",
       "      <td>5</td>\n",
       "      <td>150.0</td>\n",
       "      <td>750.0</td>\n",
       "      <td>450.0</td>\n",
       "      <td>Samuel Nascimento</td>\n",
       "      <td>RS</td>\n",
       "    </tr>\n",
       "    <tr>\n",
       "      <th>5</th>\n",
       "      <td>2025-04-24</td>\n",
       "      <td>Teclado Mecânico</td>\n",
       "      <td>Acessórios</td>\n",
       "      <td>5</td>\n",
       "      <td>350.0</td>\n",
       "      <td>1750.0</td>\n",
       "      <td>1250.0</td>\n",
       "      <td>Arthur Ribeiro</td>\n",
       "      <td>DF</td>\n",
       "    </tr>\n",
       "    <tr>\n",
       "      <th>30</th>\n",
       "      <td>2025-02-05</td>\n",
       "      <td>Teclado Mecânico</td>\n",
       "      <td>Acessórios</td>\n",
       "      <td>5</td>\n",
       "      <td>350.0</td>\n",
       "      <td>1750.0</td>\n",
       "      <td>1250.0</td>\n",
       "      <td>Sr. Paulo Teixeira</td>\n",
       "      <td>PR</td>\n",
       "    </tr>\n",
       "  </tbody>\n",
       "</table>\n",
       "</div>"
      ],
      "text/plain": [
       "   Data da Venda           Produto    Categoria  Quantidade  Preço Unitário  \\\n",
       "2     2025-06-21       Notebook X1  Informática           5          3200.0   \n",
       "8     2024-09-19  Impressora Wi-Fi  Informática           5           780.0   \n",
       "6     2024-11-05    Fone Bluetooth   Acessórios           5           150.0   \n",
       "5     2025-04-24  Teclado Mecânico   Acessórios           5           350.0   \n",
       "30    2025-02-05  Teclado Mecânico   Acessórios           5           350.0   \n",
       "\n",
       "    Receita    Custo             Cliente Estado  \n",
       "2   16000.0  13500.0    Isabella Almeida     RJ  \n",
       "8    3900.0   3000.0         Sofia Ramos     BA  \n",
       "6     750.0    450.0   Samuel Nascimento     RS  \n",
       "5    1750.0   1250.0      Arthur Ribeiro     DF  \n",
       "30   1750.0   1250.0  Sr. Paulo Teixeira     PR  "
      ]
     },
     "execution_count": 32,
     "metadata": {},
     "output_type": "execute_result"
    }
   ],
   "source": [
    "# Ordenando os valores\n",
    "base.sort_values(by=\"Quantidade\", ascending=False).head()"
   ]
  },
  {
   "cell_type": "markdown",
   "id": "d83399af-f955-48b0-8900-3e840ad9f501",
   "metadata": {},
   "source": [
    "___"
   ]
  },
  {
   "cell_type": "markdown",
   "id": "2111ce63-cf30-402d-8644-2f29f9f19eab",
   "metadata": {},
   "source": [
    "## 🎯 Objetivos\n",
    "\n",
    "\n",
    "### 📌 Parte 1: Preparação dos Dados (Pandas + NumPy)\n",
    "\n",
    "- Ler os dados com pd.read_csv()\n",
    "- Converter a coluna de data com pd.to_datetime()\n",
    "- Calcular colunas novas:\n",
    "    - Lucro = Receita - Custo\n",
    "    - Mês da venda\n",
    "- Usar NumPy para:\n",
    "    - Calcular média, desvio padrão e valores únicos de categorias\n",
    "    - Criar array de lucro e fazer análises manuais (média, max, min)"
   ]
  },
  {
   "cell_type": "markdown",
   "id": "3334a6ab-2f67-404f-935e-abd2822944fa",
   "metadata": {},
   "source": [
    "___"
   ]
  },
  {
   "cell_type": "markdown",
   "id": "9d871011-9d78-481d-aac0-b75f1d01ccc8",
   "metadata": {},
   "source": [
    "### 📌 Parte 2: Análises (Pandas)\n",
    "\n",
    "- Qual foi o produto mais vendido?\n",
    "- Qual foi o mês com mais vendas?\n",
    "- Qual foi a categoria mais lucrativa?\n",
    "- Qual cliente mais comprou?\n",
    "- Qual estado gerou mais receita?"
   ]
  },
  {
   "cell_type": "markdown",
   "id": "d8e2cae1-5c1a-4bc8-9a3f-e32f0c533f4c",
   "metadata": {},
   "source": [
    "___"
   ]
  },
  {
   "cell_type": "markdown",
   "id": "00370901-9c13-48c2-a640-00a56c071a3b",
   "metadata": {},
   "source": [
    "### 📌 Parte 3: Visualizações (Matplotlib e Seaborn)\n",
    "\n",
    "- 📊 Gráfico de barras com Top 5 produtos mais vendidos\n",
    "- 📈 Gráfico de linha com vendas mensais\n",
    "- 📉 Gráfico de barras com lucro por categoria\n",
    "- 🔥 Heatmap com correlação entre Receita, Custo, Lucro, Quantidade\n",
    "- 🥧 Gráfico de pizza: proporção de vendas por categoria"
   ]
  },
  {
   "cell_type": "markdown",
   "id": "9ada1b24-c9ad-49fb-a045-ae6acff1e92e",
   "metadata": {},
   "source": [
    "___"
   ]
  },
  {
   "cell_type": "markdown",
   "id": "e2c86866-ed8d-44d1-b29a-8cc137568a9a",
   "metadata": {},
   "source": [
    "### 📌 Parte 4: Exportação de Resultados\n",
    "\n",
    "- Criar um resumo em DataFrame com:\n",
    "- Receita total\n",
    "- Lucro total\n",
    "- Produto campeão de vendas\n",
    "- Exportar esse resumo para um CSV (resumo_final.csv)\n",
    "- Salvar os gráficos como PNGs"
   ]
  },
  {
   "cell_type": "markdown",
   "id": "4fb31cc4-2ead-41b7-b575-60f81ebe3995",
   "metadata": {},
   "source": [
    "___"
   ]
  }
 ],
 "metadata": {
  "kernelspec": {
   "display_name": "Python 3 (ipykernel)",
   "language": "python",
   "name": "python3"
  },
  "language_info": {
   "codemirror_mode": {
    "name": "ipython",
    "version": 3
   },
   "file_extension": ".py",
   "mimetype": "text/x-python",
   "name": "python",
   "nbconvert_exporter": "python",
   "pygments_lexer": "ipython3",
   "version": "3.12.2"
  }
 },
 "nbformat": 4,
 "nbformat_minor": 5
}
