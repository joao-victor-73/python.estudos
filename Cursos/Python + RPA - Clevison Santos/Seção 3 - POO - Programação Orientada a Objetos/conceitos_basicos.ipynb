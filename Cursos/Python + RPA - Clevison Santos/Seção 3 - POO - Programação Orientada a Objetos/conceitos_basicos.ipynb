{
 "cells": [
  {
   "cell_type": "markdown",
   "id": "cb2151de-0ec5-4837-9707-9de7e6adada6",
   "metadata": {},
   "source": [
    "# 72. Introdução à POO\n",
    "\n",
    "### O que é Programação Orientada a Objetos (POO)?\n",
    "POO é um paradigma de programação que utiliza objetos e classes para organizar o código fonte. Este paradigma foi criado com o objetivo de combinar dados e funcionalidades em entidades autônomas chamadas \"objetos\".\n",
    "\n",
    "Estes objetos são instâncias de \"classes\", que podem ser vistas como modelos ou protótipos para a criação de objetos. A POO oferece uma abstração mais natural e reutilizável do código, permitindo um melhor organização, escalabilidade e manutenção.\n",
    "\n",
    "\n",
    "### Como a POO se diferencia da programação procedural?\n",
    "1. **Abstração:** Enquanto o paradigma procedural foca em rotinas e procedimemntos, a POO foca em objetos que contêm tanto estado (dados) quanto comportamento (métodos);\n",
    "2. **Encapsulamento:** Em POO, os dados e méodos que operam esses dados são agrupados em uma única entidade, permitindo que o estado do objeto seja modificado apenas através de métodos específicos;\n",
    "3. **Herança:** A POO permite a criação de novas classes baseadas em classes existentes. Isso facilita a reutilização de código e pode reduzir a complexidade através da herança de fucionalidades;\n",
    "4. **Poliformismo:** Permite que objetos de diferentes classes sejam tratados como objetos de uma classe comum, tornando o código mis extensível e fácil de manter.\n",
    "\n",
    "\n",
    "### Vantagens da POO:\n",
    "1. Reutilização de código;\n",
    "2. Manutenibilidade;\n",
    "3. Extensibilidade;\n",
    "4. Modelagem Natural;\n",
    "5. Testabilidade."
   ]
  },
  {
   "cell_type": "markdown",
   "id": "81457ce3-0829-4376-b2e2-07753f725c6a",
   "metadata": {},
   "source": [
    "# 73. POO - Conceitos Básicos\n",
    "\n",
    "### Classes e Objetos\n",
    "**Classe**: é uma estrutura que define um tipo de dado, especificando as propriedades (atributos) e as ações (métodos) que um objeto desse tipo pode ter. (Pense na classe como um blueprint ou um molde)\n",
    "\n",
    "**Objeto**: é uma instância da classe. Uma vez que você tem um molde (_classe_), você pode criar múltiplas cópias (objetos) desse molde. Cada objeto tem seu próprio conjunto de valores para os atributos definidos na classe."
   ]
  },
  {
   "cell_type": "code",
   "execution_count": 4,
   "id": "648189a6-34f2-48ac-8251-4ade3d7c7d6a",
   "metadata": {},
   "outputs": [
    {
     "name": "stdout",
     "output_type": "stream",
     "text": [
      "1948\n",
      "Georgel Orwell\n",
      "1949\n",
      "'1948' por Georgel Orwell, publicado em 1949\n"
     ]
    }
   ],
   "source": [
    "# Classe e objetos\n",
    "\n",
    "class Livros:\n",
    "    def __init__(self, titulo, autor, ano):\n",
    "        self.titulo = titulo\n",
    "        self.autor = autor\n",
    "        self.ano = ano\n",
    "\n",
    "    # Metodos\n",
    "    def descricao(self):\n",
    "        return f\"'{self.titulo}' por {self.autor}, publicado em {self.ano}\"\n",
    "\n",
    "# Instanciando (criando) um objeto da classe livro e passando os parâmetros\n",
    "livro1 = Livros(\"1948\", \"Georgel Orwell\", \"1949\")\n",
    "\n",
    "# Acessando os atributos do objeto livro1:\n",
    "print(livro1.titulo) # Saída: 1984\n",
    "print(livro1.autor) # Saída: George Orwell\n",
    "print(livro1.ano) # Saída: 1949\n",
    "\n",
    "# Métodos\n",
    "print(livro1.descricao())"
   ]
  },
  {
   "cell_type": "markdown",
   "id": "9a1fef65-ef7c-4d7a-b91b-107a45d107db",
   "metadata": {},
   "source": [
    "# 74. Classes e Objetos - Definindo e Instanciando"
   ]
  },
  {
   "cell_type": "code",
   "execution_count": 10,
   "id": "9f1d50ee-22a2-4512-9e45-cd8838580424",
   "metadata": {},
   "outputs": [
    {
     "name": "stdout",
     "output_type": "stream",
     "text": [
      "Marca: Toyota | Modelo: Corolla | Cor: Branco\n",
      "Acelerando o carro... Velocidade atual: 10 km/h\n",
      "Acelerando o carro... Velocidade atual: 20 km/h\n",
      "Acelerando o carro... Velocidade atual: 30 km/h\n",
      "Acelerando o carro... Velocidade atual: 40 km/h\n",
      "Freando o carro... Velocidade atual: 30 km/h\n"
     ]
    }
   ],
   "source": [
    "# Vamos começar com um exemplo simples de uma classe chamada Carro.\n",
    "# Esta classe irá representar um carro genérico e terá propriedades e métodos.\n",
    "\n",
    "# Definindo a class 'Carro'\n",
    "class Carro:\n",
    "    # Método inicializar (construtor) da classe que é invocado quando um objeto da classe é criado\n",
    "    def __init__(self, marca, modelo, cor):\n",
    "        self.marca = marca\n",
    "        self.modelo = modelo\n",
    "        self.cor = cor\n",
    "        self.velocidade = 0\n",
    "\n",
    "    # Método que faz a velocidade do carro aumentar\n",
    "    def acelerar(self):\n",
    "        self.velocidade += 10\n",
    "        print(f\"Acelerando o carro... Velocidade atual: {self.velocidade} km/h\")\n",
    "\n",
    "\n",
    "    def exibir_info(self):\n",
    "        print(f\"Marca: {self.marca} | Modelo: {self.modelo} | Cor: {self.cor}\")\n",
    "\n",
    "\n",
    "    # Método que faz o carro frear\n",
    "    def frear(self):\n",
    "        self.velocidade -= 10\n",
    "\n",
    "        if self.velocidade < 0:\n",
    "            self.velocidade = 0\n",
    "        \n",
    "        print(f\"Freando o carro... Velocidade atual: {self.velocidade} km/h\")\n",
    "\n",
    "\n",
    "\n",
    "carro1 = Carro(\"Toyota\", \"Corolla\", \"Branco\")\n",
    "carro1.exibir_info()\n",
    "\n",
    "# Acelerando o carro 4 vezes:\n",
    "for i in range(4):\n",
    "    carro1.acelerar()\n",
    "\n",
    "carro1.frear()"
   ]
  },
  {
   "cell_type": "markdown",
   "id": "fd3671b7-97b5-4532-9922-1cbab2ccf922",
   "metadata": {},
   "source": [
    "# 75. Atributos - Definindo e Acessando atributos"
   ]
  },
  {
   "cell_type": "code",
   "execution_count": 13,
   "id": "7f4ecd0c-20c9-4d1a-83b3-3638115b6fe5",
   "metadata": {},
   "outputs": [
    {
     "name": "stdout",
     "output_type": "stream",
     "text": [
      "Roberto é um Atacante e usa a camisa de número 9\n",
      "Carlos é um Goleiro e usa a camisa de número 1\n"
     ]
    }
   ],
   "source": [
    "# EXemplo prático: Gerenciamento de Jogadores em um Time de Futebol\n",
    "\n",
    "# Imagine que você está desenvolvendo um software simples para gerenciamento de jogadores em um time de futebol.\n",
    "# Cada jogador tem um nome, posição, número da camisa e quantidade de gols marcados na temporada.\n",
    "\n",
    "class Jogador:\n",
    "    def __init__(self, nome, posicao, num_camisa, gols=0):\n",
    "        self.nome = nome\n",
    "        self.posicao = posicao\n",
    "        self.num_camisa = num_camisa\n",
    "        self.gols = gols\n",
    "\n",
    "# Instanciando a classe:\n",
    "jogador1 = Jogador(\"Roberto\", \"Atacante\", 9)\n",
    "jogador2 = Jogador(\"Carlos\", \"Goleiro\", 1)\n",
    "\n",
    "# Acessando atributos:\n",
    "print(f\"{jogador1.nome} é um {jogador1.posicao} e usa a camisa de número {jogador1.num_camisa}\")\n",
    "print(f\"{jogador2.nome} é um {jogador2.posicao} e usa a camisa de número {jogador2.num_camisa}\")"
   ]
  },
  {
   "cell_type": "markdown",
   "id": "d3d8c988-22f7-424c-9781-fd32ec93ecef",
   "metadata": {},
   "source": [
    "# 76. Exercício Simulando a Rotina de uma Pessoa\n",
    "\n",
    "Neste exercício, você irá implementar uma classe chamada Pessoa que simula algumas atividades do dia a dia de um indivíduo. A classe deve conter métodos que representem diferentes ações, como acordar, comer, dirigir e dormir.\n",
    "\n",
    "Além disso, a classe deve manter o controle dos esados do indivíduo para evitar ações incompatíveis (por exemplo, não se pode dirigir enquanto come).\n",
    "\n",
    "- **Requisitos**\n",
    "    \n",
    "    1. A classe deve ter um construtor que aceite o nome da pessoa como parâmetro e inicialize os estados \"acordado\", \"comendo\" e \"dirigindo\" ccomo false.\n",
    "    2. Implemente métodos para as seguintes ações:\n",
    "        - _acordar()_:faz a pessoa acordar, se já não estiver acordada;\n",
    "        - _comer()_: permite que a pessoa coma, desde que não esteja dirigindo ou dormindo;\n",
    "        - _parar_de_comer()_: faz a pessoa parar de comer, se estiver comendo;\n",
    "        - _dirigir()_: permite que a pessoa dirija, desde que ela não esteja comendo ou dormindo;\n",
    "        - _parar_de_dirigir()_: faz a pessoa parar de dirigir, se estiver dirigindo;\n",
    "        - _dormir()_: permite que a pessoa durma, desde que ela não esteja comendo ou dirigindo.\n",
    "    \n",
    "    3. Cada método deve imprimir mensagens adequadas para indicar o que a pessoa está fazendo ou por que uma ação não pode ser realizada.\n",
    "    4. Teste a classe criando um objeto e chamando vários métodos em sequência, simulanndo um dia na vida da pessoa."
   ]
  },
  {
   "cell_type": "markdown",
   "id": "1067dfda-36ed-4e28-ae3e-3226eb63f88f",
   "metadata": {},
   "source": [
    "# 77. Métodos Definindo e chamando métodos de uma classe\n"
   ]
  },
  {
   "cell_type": "code",
   "execution_count": 16,
   "id": "ec15a58f-deb0-4fdd-88c3-d9fd2536f233",
   "metadata": {},
   "outputs": [
    {
     "name": "stdout",
     "output_type": "stream",
     "text": [
      "Temperatura aumento em 5ºC.\n",
      "A nova temperatura é de: 25ºC\n",
      "Temperatura diminuiu em 10ºC.\n",
      "A nova temperatura é de: 15ºC\n"
     ]
    }
   ],
   "source": [
    "# Exemplo prático com uma classe que representa um termostato em uma sala\n",
    "\n",
    "class Termostato:\n",
    "    def __init__(self, temp_atual=20):\n",
    "        self.temp_atual = temp_atual\n",
    "\n",
    "    def aumentar_temp(self, valor):\n",
    "        self.temp_atual += valor\n",
    "        print(f\"Temperatura aumento em {valor}ºC.\")\n",
    "        print(f\"A nova temperatura é de: {self.temp_atual}ºC\")\n",
    "\n",
    "    def diminuir_temp(self, valor):\n",
    "        self.temp_atual -= valor\n",
    "        print(f\"Temperatura diminuiu em {valor}ºC.\")\n",
    "        print(f\"A nova temperatura é de: {self.temp_atual}ºC\")\n",
    "\n",
    "\n",
    "meu_termostato = Termostato()\n",
    "meu_termostato.aumentar_temp(5)\n",
    "meu_termostato.diminuir_temp(10)"
   ]
  },
  {
   "cell_type": "markdown",
   "id": "cb460e3e-5793-47e4-b3f2-1d51e48b6a7e",
   "metadata": {},
   "source": [
    "# 78. Exercício Sistema de Reservas para um evento\n",
    "\n",
    "Objetivo: Compreender a definição e utilização de métodos dentro de classes em Python.\n",
    "\n",
    "Crie uma classe chamada Evento que represente um evento com um número limitado de lugares. A classe deve permitir:\n",
    "    1. Reversar um lugar;\n",
    "    2. Cancelar uma reserva.\n",
    "\n",
    "A classe Evento deve ter os seguintes métodos:\n",
    "- _reversar()_: Este método deve diminuir o número de lugares disponíveis em um;\n",
    "- _cancelar()_: Este método deve aumentar o número de lugares disponíveis em um;\n",
    "- _lugares_disponiveis()_: Este método deve retornar o número de llugares disponíveis.\n",
    "\n",
    "**Restrições**:\n",
    "1. O evento tem uma capacidade inicial definida (por exemplo 10 lugares);\n",
    "2. Se tentar reservar um lugar e todos estiverem ocupdos, o sistema deve  informar que não há lugares disponíveis.\n",
    "3. Se tentar cancelar uma reserva e todos os lugares estiverem disponíveis, o sistema deve informar que não há reservas para cancelar."
   ]
  },
  {
   "cell_type": "code",
   "execution_count": null,
   "id": "e8b9093c-7965-4ed6-85a2-80f8f79e5421",
   "metadata": {},
   "outputs": [],
   "source": []
  },
  {
   "cell_type": "markdown",
   "id": "74d72402-e1dc-4dd8-86cb-42d1e59e4526",
   "metadata": {},
   "source": [
    "# 80. Encapsulamento - Protegendo os dados de uma classe\n",
    "\n",
    "O encapsulamento permite que os detalhes em implementação de uma classe sejam ocultados, expondo apenas uma interface bem definida. \n",
    "\n",
    "Isso é conseguido usando modificadores de acesso: _public, private e protected_.\n",
    "\n",
    "**Public:** Em python, todos os membros de uma classe são públicos por padrão. Qualquer membro pode ser acessado de fora da classe.\n",
    "\n",
    "**Protected**: Um membro é considerado protegido se seu nome começa com um sublinhado único (_). Isso é mais uma convenção e um aviso para o programador de que o membro não deve ser acessado diretamente, embora ainda seja possível fazê-lo.\n",
    "\n",
    "**Private**: Um membro é considerado privado se seu nome começa com dois sublinhados (__). Novamente, isso é mais uma convenção do que uma regra rigorosa. O Python realiza um nome mangling dos atributos, alterando o nome do atributo de forma que ele seja mais difícil de ser acessado acidentalmente, mas ainda é possível."
   ]
  },
  {
   "cell_type": "code",
   "execution_count": 20,
   "id": "0a76026d-abe3-481a-bc3d-a5f76f0fcc84",
   "metadata": {},
   "outputs": [
    {
     "name": "stdout",
     "output_type": "stream",
     "text": [
      "Alice\n",
      "30\n"
     ]
    }
   ],
   "source": [
    "# Exemplo em Python\n",
    "# Aqui está um exemplo de como usar esses modificadores de acesso em Python:\n",
    "\n",
    "# Definindo a classe Pessoa\n",
    "class Pessoa:\n",
    "    def __init__(self, nome, idade):\n",
    "        self.nome = nome\n",
    "        self._idade = idade\n",
    "        self.__saldo = 0 # Atributo protegido\n",
    "\n",
    "    def mostrar_nome(self):\n",
    "        return self.nome\n",
    "\n",
    "    def mostrar_idade(self):\n",
    "        return self._idade\n",
    "\n",
    "    # Definindo um Método protected\n",
    "    def _aumentar_idade(self):\n",
    "        self._idada += 1\n",
    "\n",
    "    # Definindo um Método Private\n",
    "    def __aumentar_saldo(self, quantidade):\n",
    "        self.__saldo += quantidade\n",
    "\n",
    "p1 = Pessoa(\"Alice\", 30)\n",
    "\n",
    "print(p1.nome)\n",
    "\n",
    "# Tentando acessar o atributo idade\n",
    "# Embora seja possivel acessar, não é recomendado porque o atributo é marcado como protegido\n",
    "# print(p1._idade) # Saída: 30\n",
    "print(p1.idade) # Gerará um erro\n",
    "\n",
    "\n",
    "# Tentando acessar o atributo privado \"__saldo\" diretamente.\n",
    "# Isso não é recomendado e requer uma técnica chamada \"name mangling\" para ser acessado. \n",
    "# É melhor usar um método público para acessar atributos privados.\n",
    "print(p1._Pessoa__saldo) # Saída: 0"
   ]
  },
  {
   "cell_type": "markdown",
   "id": "d842d742-c656-4540-bf2f-7d52a23b5cc3",
   "metadata": {},
   "source": [
    "# 81. Encapsulamento - Métodos getters e setters\n",
    "\n",
    "Os métodos *getters e setters* são usados para controlar o acesso a atributos de uma classe.\n",
    "\n",
    "Os *getters* são usados para acessar o valor de um atributo, enquanto os *setters* são usados para modificar esse valor.\n",
    "\n",
    "Essa abordagem é especialmente útil para adicionar uma camada extra de validação ou lógica durante o acesso ou modificação de atributos;\n",
    "\n",
    "Para o exemplo, vamos considerar uma classe \"Produto\" que tem um preço. Queremos garantir que o preço nunca seja negatovp e que possamos aplicar um desconto ao produto se necessários. Usaremos métodos \"getters\" e \"setters\" para controlar esses aspectos."
   ]
  },
  {
   "cell_type": "code",
   "execution_count": 33,
   "id": "3f632fff-9662-47af-a0d1-501d04f0d6a1",
   "metadata": {},
   "outputs": [
    {
     "name": "stdout",
     "output_type": "stream",
     "text": [
      "Preço atual de Camiseta: R$ 50\n",
      "Novo preço do produto: Camiseta: R$ 60\n",
      "Preço deve ser igua ou maior que 0\n",
      "Preço de Camiseta após desconto, ficou por: R$ 54\n"
     ]
    }
   ],
   "source": [
    "class Produto:\n",
    "    def __init__(self, nome, preco):\n",
    "        self.nome = nome # Atributo público \n",
    "        self._preco = None # Atributo protected\n",
    "\n",
    "        # Usamos o método setter set_preco() para inicializar o preço do produto\n",
    "        # Isso garante que toas as regras de validação sejam aplicadas desde o início\n",
    "        self.set_preco(preco)\n",
    "\n",
    "    # Método getter para obter o preço atual do produto\n",
    "    # Este método é usado para ler o valor do atributo protegido '_preco'\n",
    "    def get_preco(self):\n",
    "        return self._preco\n",
    "\n",
    "    # Método setter para definir um novo preço para o produto\n",
    "    # Este método é usado para modificar o vaor do atributo protegido '_preco'\n",
    "    def set_preco(self, valor):\n",
    "        valor = int(valor)\n",
    "        if valor >= 0:\n",
    "            self._preco = valor\n",
    "        else:\n",
    "            print(\"Preço deve ser igua ou maior que 0\")\n",
    "\n",
    "    # Método para aplicar um desconto percentual ao preço do produto\n",
    "    # Este método modifica oo atributo '_preco', aplicando um desconto a ele\n",
    "    def aplicar_desconto(self, desconto_percentual):\n",
    "        novo_preco = self._preco * (1 - desconto_percentual / 100)\n",
    "\n",
    "        # Usamos o método set_preco() para atualizar o preço do produto com o novo valor\n",
    "        # Isso garante que todas as regras de validação sejam novamente aplicadas.\n",
    "        self.set_preco(novo_preco)\n",
    "\n",
    "\n",
    "produto1 = Produto(\"Camiseta\", 50)\n",
    "\n",
    "print(f\"Preço atual de {produto1.nome}: R$ {produto1.get_preco()}\") # Saída: Preço atual de Camiseta: R$ 50\n",
    "\n",
    "produto1.set_preco(60) # Definindo um novo preço usando o método setter\n",
    "print(f\"Novo preço do produto: {produto1.nome}: R$ {produto1.get_preco()}\") # Novo preço do produto: Camiseta: R$ 6\n",
    "\n",
    "# Tentando definir um preço negativo\n",
    "produto1.set_preco(-10) # Saída: Preço deve ser igua ou maior que 0\n",
    "\n",
    "produto1.aplicar_desconto(10)\n",
    "print(f\"Preço de {produto1.nome} após desconto, ficou por: R$ {produto1.get_preco()}\") # Preço de Camiseta após desconto, ficou por: R$ 54"
   ]
  },
  {
   "cell_type": "markdown",
   "id": "187da247-ab7c-4710-9f33-f74a4a82cf15",
   "metadata": {},
   "source": [
    "# 82. Exercício Pet"
   ]
  },
  {
   "cell_type": "markdown",
   "id": "631c8de2-7b7c-4bec-b36c-6f387600d0e1",
   "metadata": {},
   "source": [
    "# 83. Encapsulamento - Propriedades (usando o decorator @property)\n",
    "\n",
    "Em Python, podemos usar o decorador @property para criar uma propriedade que atua como um atributo, mas que na verdade é acessada através de um método. Isso é útil quando queremos executar alguma lógica extra ao obter ou definir o valor de um atributo.\n",
    "\n",
    "Vamos criar uma classe Retangulo como exemplo. Nesta classe, vamos ter os atributos largura e altura, e uma propriedade área que será calculada usando esses atributos."
   ]
  },
  {
   "cell_type": "code",
   "execution_count": 34,
   "id": "157ef441-4c68-45b7-b3f7-d790aabd33c0",
   "metadata": {},
   "outputs": [
    {
     "name": "stdout",
     "output_type": "stream",
     "text": [
      "Área: 30\n"
     ]
    }
   ],
   "source": [
    "# Iniciando a definição da classe chamada 'Retangulo'\n",
    "class Retangulo:\n",
    "    def __init__(self, largura, altura):\n",
    "        self._largura = largura\n",
    "        self._altura = altura\n",
    "\n",
    "\n",
    "    # O decorador @property faz com que este método possa ser acessado como se fosse um atributo,\n",
    "    # ou seja, sem precisar de parênteses quando chamado.\n",
    "    @property\n",
    "    def largura(self):\n",
    "        # Retorna o valor atual do atributo protegido '_largura'\n",
    "        # Isso permite acesso somente leitura ao atributo '_largura' de fora da classe\n",
    "        return self._largura\n",
    "\n",
    "    # Método que age como um 'setter' para o atributo protegido '_largura'.\n",
    "    # O decorador @largura.setter indica que este método é um setter para a propriedade previamente definida 'largura'\n",
    "    @largura.setter\n",
    "    def largura(self, valor):\n",
    "        if valor > 0:\n",
    "            self._largura = valor\n",
    "        else:\n",
    "            print(\"Largura deve ser maior do que zero.\")\n",
    "\n",
    "    @property\n",
    "    def area(self):\n",
    "        return self._largura * self._altura\n",
    "\n",
    "r = Retangulo(5, 6)\n",
    "\n",
    "print(f\"Área: {r.area}\")"
   ]
  },
  {
   "cell_type": "markdown",
   "id": "89f93d15-367b-469e-bc94-8cb69faf5d2e",
   "metadata": {},
   "source": [
    "# 85. Herança Simples\n",
    "\n",
    "Herança é um dos pilares da POO. Ela permite que uma nova classe herde os atributos e métodos de uma classe existente.\n",
    "\n",
    "A classe que é herdada é chamada de *\"classe base\"* ou **\"classe pai\"**, enquanto a classe que herda é conhecida como *\"classe derivada\"* ou **\"classe filha\"**.\n",
    "\n",
    "Vamos criar um exemplo simples de herança que representa diferentes papéis em uma escola: Pessoa, Estudante e Professor.\n",
    "\n",
    "- A classe Pessoa é a classe Pai, e contém atributos e métodos comunsa todas as pessoas em uma escola, como nome e idade;\n",
    "- As classes Estudante e Professor herdam da classe Pessoa e adicionam atributos e métodos específicos para estudantes e professores, respectivamente."
   ]
  },
  {
   "cell_type": "code",
   "execution_count": 39,
   "id": "f39bcf29-0351-4687-9f1c-21d7696965c8",
   "metadata": {},
   "outputs": [
    {
     "name": "stdout",
     "output_type": "stream",
     "text": [
      "Nome: Maria, Idade: 40\n",
      "Nome: Joao, Idade: 16\n",
      "Nome: Carlos, Idade: 55\n",
      "\n",
      "Joao está estudando.\n",
      "Carlos está ensinando Matemática.\n"
     ]
    }
   ],
   "source": [
    "class Pessoa:\n",
    "    def __init__(self, nome, idade):\n",
    "        self.nome = nome\n",
    "        self.idade = idade\n",
    "\n",
    "    def exibir_info(self):\n",
    "        print(f\"Nome: {self.nome}, Idade: {self.idade}\")\n",
    "\n",
    "\n",
    "# Classe derivada (ou classe filha) chamada Estudante, que herda atributos e métodos da classe Pessoa.\n",
    "class Estudante(Pessoa):\n",
    "    def __init__(self, nome, idade, matricula):\n",
    "        # Método construtor da classe Estudante para inicializar os atributos nome, idade e matricula.\n",
    "        Pessoa.__init__(self, nome, idade)\n",
    "        self.matricula = matricula\n",
    "\n",
    "    def estudar(self):\n",
    "        print(f\"{self.nome} está estudando.\")\n",
    "\n",
    "\n",
    "class Professor(Pessoa):\n",
    "    def __init__(self, nome, idade, disciplina):\n",
    "        Pessoa.__init__(self, nome, idade)\n",
    "        self.disciplina = disciplina\n",
    "\n",
    "    def ensinar(self):\n",
    "        print(f\"{self.nome} está ensinando {self.disciplina}.\")\n",
    "\n",
    "\n",
    "\n",
    "# Criação de objetos das classes \n",
    "pessoa = Pessoa(\"Maria\", 40)\n",
    "estudante = Estudante(\"Joao\", 16, \"12345\")\n",
    "professor = Professor(\"Carlos\", 55, \"Matemática\")\n",
    "\n",
    "pessoa.exibir_info()\n",
    "estudante.exibir_info()\n",
    "professor.exibir_info()\n",
    "print()\n",
    "\n",
    "estudante.estudar()\n",
    "professor.ensinar()"
   ]
  },
  {
   "cell_type": "markdown",
   "id": "180e872e-8776-4144-b621-2a9b326e7ff7",
   "metadata": {},
   "source": [
    "### Exercício Herança Simples:\n",
    "\n",
    "Crie uma classe Animal que tenha um método fazer_som(). Esta classe será a _classe pai_ para outras duas classes: Cachorro e Gato.\n",
    "\n",
    "Ambas as classes filhas deverão ter seus próprios métodos fazer_som() que sobrecrevem o método da classe pai. Além disso, a **classe Cachorro deve ter m método latir()** e a **classe Gato um método miar()**."
   ]
  },
  {
   "cell_type": "markdown",
   "id": "868c3d11-edbb-4b41-bc64-8e77a0706bc2",
   "metadata": {},
   "source": [
    "# 84. Herança Múltipla: Uma classe derivada de mais de uma classe base"
   ]
  },
  {
   "cell_type": "code",
   "execution_count": 40,
   "id": "02718d03-4902-42db-a779-b29d6a0c69eb",
   "metadata": {},
   "outputs": [
    {
     "name": "stdout",
     "output_type": "stream",
     "text": [
      "Sou uma Ave\n",
      "Sou um mamifero!\n",
      "Sou um Morcego\n",
      "Amamentando...\n",
      "Voando...\n",
      "Emitindo som de ecolocalização...\n"
     ]
    }
   ],
   "source": [
    "# Exemplo de herança múltipla em Python\n",
    "# Vamos considerar duas classes base, Mamifero e Ave, e uma classe derivada Morcego, que herda de ambas.\n",
    "\n",
    "# Classe Pai para representar Mamiferos\n",
    "class Mamifero:\n",
    "    def __init__(self):\n",
    "        print(\"Sou um mamifero!\")\n",
    "\n",
    "    def amamentar(self):\n",
    "        print(\"Amamentando...\")\n",
    "\n",
    "\n",
    "# Classe Pai para representar todas as aves.\n",
    "class Ave:\n",
    "    def __init__(self):\n",
    "        print(\"Sou uma Ave\")\n",
    "\n",
    "    def voar(self):\n",
    "        print(\"Voando...\")\n",
    "\n",
    "\n",
    "# Classe Morcego, que é uma classe derivada (ou classe filha) de duas classes pais: Mamifero e Ave.\n",
    "# Este é um exemplo de herança múltipla, onde uma classe deriva de mais de uma classe base.\n",
    "class Morcego(Mamifero, Ave):\n",
    "    def __init__(self):\n",
    "        Ave.__init__(self) # Chamada explicita ao construtor da classe pai Ave.\n",
    "        Mamifero.__init__(self) # Chamada explicita ao construtor da classe pai Mamifero.\n",
    "        print(\"Sou um Morcego\")\n",
    "\n",
    "    def emitir_som(self):\n",
    "        print(\"Emitindo som de ecolocalização...\")\n",
    "\n",
    "morcego = Morcego()\n",
    "\n",
    "morcego.amamentar()\n",
    "morcego.voar()\n",
    "morcego.emitir_som()"
   ]
  },
  {
   "cell_type": "markdown",
   "id": "c661d633-9659-431a-b02a-28fa2bf328d8",
   "metadata": {},
   "source": [
    "### Exercício: A classe MusicoAtleta\n",
    "\n",
    "Você está criando um software para uma competição muito especial que envolve múltiplas disciplinas: música e esportes.\n",
    "\n",
    "Você foi instruído a criar classes que representam um Musico, um Atleta, e um MusicoAtleta que herda características de ambos.\n",
    "\n",
    "1. A classe Musico deve ter um método tocar_instrumento que imprime \"Tocando instrumento musical\".\n",
    "2. A classe Atleta deve ter um método correr que imprime \"Correndo na pista\".\n",
    "3. A classe MusicoAtleta deve herdar de ambas as classes, Musico e Atleta.\n",
    "4. A classe MusicoAtleta deve também ter um método próprio chamado exibir_habilidades, que imprime \"Tocando instrumento e correndo\".\n",
    "\n",
    "Crie instâncias das classes e teste os métodos para garantir que a herança múltipla esteja funcionando como esperado.\n",
    "\n",
    "A ideia aqui é praticar o conceito de herança múltipla, fazendo com que uma classe herde atributos e métodos de duas classes pai diferentes."
   ]
  },
  {
   "cell_type": "markdown",
   "id": "b46d3650-fb8d-4eb5-8ab8-4a186f7f383d",
   "metadata": {},
   "source": [
    "# 85. "
   ]
  }
 ],
 "metadata": {
  "kernelspec": {
   "display_name": "Python 3 (ipykernel)",
   "language": "python",
   "name": "python3"
  },
  "language_info": {
   "codemirror_mode": {
    "name": "ipython",
    "version": 3
   },
   "file_extension": ".py",
   "mimetype": "text/x-python",
   "name": "python",
   "nbconvert_exporter": "python",
   "pygments_lexer": "ipython3",
   "version": "3.12.2"
  }
 },
 "nbformat": 4,
 "nbformat_minor": 5
}
