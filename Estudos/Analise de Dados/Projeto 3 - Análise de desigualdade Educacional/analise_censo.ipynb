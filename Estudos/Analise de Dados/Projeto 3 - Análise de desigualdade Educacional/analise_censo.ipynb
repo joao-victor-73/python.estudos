{
 "cells": [
  {
   "cell_type": "code",
   "execution_count": null,
   "id": "1d563705-9e61-4890-8bd4-881e8f7f7cb1",
   "metadata": {},
   "outputs": [],
   "source": []
  }
 ],
 "metadata": {
  "kernelspec": {
   "display_name": "Python 3 (ipykernel)",
   "language": "python",
   "name": "python3"
  },
  "language_info": {
   "codemirror_mode": {
    "name": "ipython",
    "version": 3
   },
   "file_extension": ".py",
   "mimetype": "text/x-python",
   "name": "python",
   "nbconvert_exporter": "python",
   "pygments_lexer": "ipython3",
   "version": "3.12.2"
  }
 },
 "nbformat": 4,
 "nbformat_minor": 5
}
