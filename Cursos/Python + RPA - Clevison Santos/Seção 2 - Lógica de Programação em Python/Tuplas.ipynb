{
 "cells": [
  {
   "cell_type": "markdown",
   "id": "dcd40e96-0c1a-4f24-9455-df8fcd3981c9",
   "metadata": {},
   "source": [
    "# 40. Definição e Criação de Tuplas\n",
    "\n",
    "Tuplas são uma das estruturas de dados embutidas no Python. \n",
    "\n",
    "São similares às listas, mas **são imutáveis**, o que significa que uma vez definidas, os elementos não podem ser modificados.\n",
    "\n",
    "A imutabilidade da tupla pode ser útil para garantir a integridade dos dados em cenários em que as informações não devem ser alteradas após serem definidas."
   ]
  },
  {
   "cell_type": "code",
   "execution_count": 3,
   "id": "6c9bb1c8-7270-4181-9e08-411f61fd58f7",
   "metadata": {},
   "outputs": [
    {
     "name": "stdout",
     "output_type": "stream",
     "text": [
      "('A Arte da Guerra', 'Sun Tzu', '978-58556655')\n",
      "Qual o nome do livro? A Arte da Guerra\n",
      "Qual o autor do livro? Sun Tzu\n",
      "Qual o ISBN do livro? 978-58556655\n"
     ]
    }
   ],
   "source": [
    "# Criação de tuplas - As tuplas são representados na sua criação por parenteses ()\n",
    "\n",
    "livro = (\"A Arte da Guerra\", \"Sun Tzu\", \"978-58556655\")\n",
    "\n",
    "print(livro)\n",
    "\n",
    "# Para acessar elementos da tupla é de maneira semelhante as outras estruturas de dados (por indexação)\n",
    "print(f\"Qual o nome do livro? {livro[0]}\")\n",
    "print(f\"Qual o autor do livro? {livro[1]}\")\n",
    "print(f\"Qual o ISBN do livro? {livro[2]}\")"
   ]
  },
  {
   "cell_type": "code",
   "execution_count": 4,
   "id": "e6b0e730-3cd8-4d7d-96a6-644caa2e7be0",
   "metadata": {},
   "outputs": [
    {
     "name": "stdout",
     "output_type": "stream",
     "text": [
      "(1,) (2, 3, 4) (5, 6, 7)\n"
     ]
    }
   ],
   "source": [
    "# Outras maneiras de criar uma tupla\n",
    "\n",
    "# Tupla com um único elemento:\n",
    "t1 = (1, ) # Quando for apenas um único elemento, tem que colocar uma virgula após o elemento.\n",
    "\n",
    "# Tupla sem parênteses:\n",
    "t2 = 2, 3, 4\n",
    "\n",
    "# Usando a função tuple():\n",
    "t3 = tuple([5, 6, 7])\n",
    "\n",
    "print(t1, t2, t3)"
   ]
  },
  {
   "cell_type": "markdown",
   "id": "f89c5089-fcac-4786-8aeb-2ed84ddb087e",
   "metadata": {},
   "source": [
    "# 41. Tupla - Acesso aos Elementos\n"
   ]
  }
 ],
 "metadata": {
  "kernelspec": {
   "display_name": "Python 3 (ipykernel)",
   "language": "python",
   "name": "python3"
  },
  "language_info": {
   "codemirror_mode": {
    "name": "ipython",
    "version": 3
   },
   "file_extension": ".py",
   "mimetype": "text/x-python",
   "name": "python",
   "nbconvert_exporter": "python",
   "pygments_lexer": "ipython3",
   "version": "3.12.2"
  }
 },
 "nbformat": 4,
 "nbformat_minor": 5
}
