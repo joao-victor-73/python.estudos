{
 "cells": [
  {
   "cell_type": "code",
   "execution_count": 1,
   "id": "41351b1e-d35a-475a-90fb-624cfdb74fde",
   "metadata": {},
   "outputs": [],
   "source": [
    "import pandas as pd"
   ]
  },
  {
   "cell_type": "markdown",
   "id": "3755c410-1a70-4a64-9fa1-3558664acfe3",
   "metadata": {},
   "source": [
    "# 🎯 Parte 1 — Series e DataFrames"
   ]
  },
  {
   "cell_type": "markdown",
   "id": "f73c086e-6307-48bf-803e-040620780b02",
   "metadata": {},
   "source": [
    "## 1. \n",
    "Crie uma Series com os números de 10 a 50 (de 10 em 10) e índices personalizados: 'A', 'B', 'C', 'D', 'E'.\n",
    "\n",
    "- Exiba o valor correspondente ao índice 'D'.\n",
    "- Multiplique todos os valores por 2."
   ]
  },
  {
   "cell_type": "code",
   "execution_count": null,
   "id": "cfe06ed0-cb08-43f0-b628-cd57c86419ac",
   "metadata": {},
   "outputs": [],
   "source": []
  },
  {
   "cell_type": "markdown",
   "id": "b9142d38-d94c-4d16-85be-35affc86d88e",
   "metadata": {},
   "source": [
    "___"
   ]
  },
  {
   "cell_type": "markdown",
   "id": "f95fa64e-6ae6-4f77-97d9-17f641a430f1",
   "metadata": {},
   "source": [
    "## 2.\n",
    "Crie um dataFrame com os dados abaixo:\n",
    "\n",
    "| Aluno | Nota1 | Nota2 | Nota3 |\n",
    "| ----- | ----- | ----- | ----- |\n",
    "| Ana   | 8     | 7     | 6     |\n",
    "| Bruno | 5     | 6     | 4     |\n",
    "| Carla | 9     | 8     | 10    |\n",
    "\n",
    "\n",
    "- Crie uma nova coluna chamada 'Média' com a média das 3 notas.\n",
    "- Filtre os alunos com média acima de 7."
   ]
  },
  {
   "cell_type": "code",
   "execution_count": null,
   "id": "57633a55-84d5-48be-8a21-b20f70590601",
   "metadata": {},
   "outputs": [],
   "source": []
  },
  {
   "cell_type": "markdown",
   "id": "ce977c2e-4c74-49b9-97d1-416d04ffc488",
   "metadata": {},
   "source": [
    "___"
   ]
  },
  {
   "cell_type": "markdown",
   "id": "c517f847-7cd7-41ae-a655-3bc15dbe7797",
   "metadata": {},
   "source": [
    "# 🎯 Parte 2 — Filtros e Indexação"
   ]
  },
  {
   "cell_type": "markdown",
   "id": "c02fe8e2-f1e4-4d7a-8c10-865ada6ba52b",
   "metadata": {},
   "source": [
    "## 3.\n",
    "Usando o DataFrame acima:\n",
    "- Mostre as notas da Ana usando .loc[].\n",
    "- Mostre a Nota2 de todos os alunos com .iloc[].\n",
    "- Substitua todas as notas menores que 6 por 6."
   ]
  },
  {
   "cell_type": "code",
   "execution_count": null,
   "id": "507be914-c3ee-4252-a140-6e6a93241200",
   "metadata": {},
   "outputs": [],
   "source": []
  },
  {
   "cell_type": "markdown",
   "id": "09cac4a9-5d5f-4017-a952-5888fe025d7f",
   "metadata": {},
   "source": [
    "___"
   ]
  },
  {
   "cell_type": "markdown",
   "id": "6369b41f-9942-4d70-a329-88ca7735405e",
   "metadata": {},
   "source": [
    "# 🎯 Parte 3 — Dados Ausentes"
   ]
  },
  {
   "cell_type": "markdown",
   "id": "a829e925-6b36-45b0-b8d6-aeb8245400bc",
   "metadata": {},
   "source": [
    "## 4.\n",
    "Crie um novo DataFrame com dados faltantes:\n",
    "\n",
    "| Nome   | Idade | Salário |\n",
    "| ------ | ----- | ------- |\n",
    "| Ana    | 25    | 3000    |\n",
    "| Bruno  | NaN   | 2500    |\n",
    "| Carla  | 30    | NaN     |\n",
    "| Daniel | NaN   | NaN     |\n",
    "\n",
    "\n",
    "- Preencha as idades faltantes com 28.\n",
    "- Preencha os salários faltantes com a média da coluna.\n",
    "- Remova as linhas onde ambos os valores são NaN."
   ]
  },
  {
   "cell_type": "code",
   "execution_count": null,
   "id": "e19d4517-2d93-4974-b1b3-3c1031c5ea26",
   "metadata": {},
   "outputs": [],
   "source": []
  },
  {
   "cell_type": "markdown",
   "id": "042dc0d3-3248-450d-89f9-134c0e6dbea2",
   "metadata": {},
   "source": [
    "___"
   ]
  },
  {
   "cell_type": "markdown",
   "id": "d0c2acea-b653-4699-b93e-7df4be802646",
   "metadata": {},
   "source": [
    "# 🎯 Parte 4 — GroupBy Avançado\n",
    "\n",
    "\n",
    "## 5. \n",
    "Crie este DataFrame\n",
    "\n",
    "| Departamento | Funcionário | Salário |\n",
    "| ------------ | ----------- | ------- |\n",
    "| RH           | Ana         | 3000    |\n",
    "| RH           | Bruno       | 3200    |\n",
    "| TI           | Carla       | 4000    |\n",
    "| TI           | Daniel      | 4500    |\n",
    "| Vendas       | Eduardo     | 3500    |\n",
    "\n",
    "\n",
    "- Calcule o salário médio por departamento.\n",
    "- Conte quantos funcionários existem em cada departamento.\n",
    "- Pegue o maior salário de cada departamento."
   ]
  },
  {
   "cell_type": "code",
   "execution_count": null,
   "id": "1328abc9-1d24-4085-aeab-a624a22a79c4",
   "metadata": {},
   "outputs": [],
   "source": []
  },
  {
   "cell_type": "markdown",
   "id": "b224c706-541a-4484-a822-29a601cc2e71",
   "metadata": {},
   "source": [
    "___"
   ]
  },
  {
   "cell_type": "markdown",
   "id": "b71699a0-e811-4836-8bfa-aea08365a624",
   "metadata": {},
   "source": [
    "# 🎯 Parte 5 — Merge, Join e Concat\n",
    "\n",
    "## 6.\n",
    "Crie dois dataframes:"
   ]
  },
  {
   "cell_type": "code",
   "execution_count": null,
   "id": "27397f89-396d-4412-80c1-ddeeb88ca4ba",
   "metadata": {},
   "outputs": [],
   "source": [
    "df1 = pd.DataFrame({\n",
    "    'ID': [1, 2, 3],\n",
    "    'Produto': ['A', 'B', 'C']\n",
    "})\n",
    "\n",
    "df2 = pd.DataFrame({\n",
    "    'ID': [2, 3, 4],\n",
    "    'Preço': [10, 20, 15]\n",
    "})"
   ]
  },
  {
   "cell_type": "markdown",
   "id": "a3d09693-9860-4d67-8657-9c5b27a1480d",
   "metadata": {},
   "source": [
    "- Faça um merge do tipo left.\n",
    "- Faça um join() usando o ID como índice.\n",
    "- Faça um concat() horizontal desses dois DataFrames."
   ]
  },
  {
   "cell_type": "code",
   "execution_count": null,
   "id": "11fbbc35-5c3f-449b-a685-81c8a74950a5",
   "metadata": {},
   "outputs": [],
   "source": []
  },
  {
   "cell_type": "markdown",
   "id": "e59e3a03-0864-4e14-87d5-b454fc48d7a8",
   "metadata": {},
   "source": [
    "___"
   ]
  },
  {
   "cell_type": "markdown",
   "id": "f36e8951-3601-47d4-8b24-ec39f8e3dee7",
   "metadata": {},
   "source": [
    "# Parte 6 — Séries Temporais\n",
    "\n",
    "## 7. \n",
    "Crie uma série de datas mensais de '2020-01-01' até '2020-12-01':\n",
    "\n",
    "- Crie uma coluna 'Vendas' com valores de 100 a 1200.\n",
    "- Calcule o total anual de vendas.\n",
    "- Crie uma coluna 'Trimestre' indicando o trimestre de cada data.\n",
    "- Filtre apenas as vendas do segundo trimestre."
   ]
  },
  {
   "cell_type": "code",
   "execution_count": null,
   "id": "64d20b4b-86c3-4e20-a54e-6bac71d85d5a",
   "metadata": {},
   "outputs": [],
   "source": []
  },
  {
   "cell_type": "markdown",
   "id": "007f358e-cbc3-4ac1-af4d-1a96a8b5ed36",
   "metadata": {},
   "source": [
    "___"
   ]
  },
  {
   "cell_type": "markdown",
   "id": "204bfbc6-55e7-4925-878a-2296345acf94",
   "metadata": {},
   "source": [
    "# Parte 7 — Operações com DataFrames\n",
    "\n",
    "## 8.\n",
    "Crie o seguinte DataFrame:\n",
    "\n",
    "| Produto | Custo | Venda |\n",
    "| ------- | ----- | ----- |\n",
    "| A       | 50    | 80    |\n",
    "| B       | 30    | 60    |\n",
    "| C       | 40    | 90    |\n",
    "\n",
    "\n",
    "- Calcule a coluna Lucro = Venda - Custo.\n",
    "- Calcule a margem de lucro (%).\n",
    "- Filtre produtos com margem acima de 50%"
   ]
  },
  {
   "cell_type": "code",
   "execution_count": null,
   "id": "44414b50-f6da-4bc4-9f1d-1ff9e7081894",
   "metadata": {},
   "outputs": [],
   "source": []
  },
  {
   "cell_type": "markdown",
   "id": "44fcddbb-6f32-4c99-ac8e-9af2f9840f95",
   "metadata": {},
   "source": [
    "___"
   ]
  },
  {
   "cell_type": "markdown",
   "id": "760e7e38-eee5-43f4-81a4-a9d5fa2fcbe9",
   "metadata": {},
   "source": [
    "# Parte 8 — Entrada/Saída de Dados\n",
    "\n",
    "## 9. \n",
    "Salve o DataFrame acima como:\n",
    "- CSV: 'lucro.csv'\n",
    "- Excel: 'lucro.xlsx'\n",
    "\n",
    "Depois:\n",
    "\n",
    "- Leia novamente o arquivo CSV.\n",
    "- Verifique o conteúdo lido."
   ]
  },
  {
   "cell_type": "code",
   "execution_count": null,
   "id": "99f79920-ddba-4171-8568-2e1ecccdd947",
   "metadata": {},
   "outputs": [],
   "source": []
  },
  {
   "cell_type": "markdown",
   "id": "db066534-4921-41cf-81dc-2fe041e2d80e",
   "metadata": {},
   "source": [
    "___"
   ]
  },
  {
   "cell_type": "markdown",
   "id": "2a323be6-5b42-4889-aa82-20ccb5bd899f",
   "metadata": {},
   "source": [
    "# BÔNUS — Desafio Final Completo\n",
    "Crie um programa que:\n",
    "\n",
    "- Leia um CSV com dados fictícios de clientes: 'clientes.csv' com as colunas ID, Nome, Data de Nascimento, Cidade, Compra Total.\n",
    "- Calcule a idade dos clientes.\n",
    "- Filtre clientes com compras acima de R$5000.\n",
    "- Agrupe por cidade e calcule a soma das compras.\n",
    "- Salve o resultado como 'relatorio_compras.xlsx'."
   ]
  }
 ],
 "metadata": {
  "kernelspec": {
   "display_name": "Python 3 (ipykernel)",
   "language": "python",
   "name": "python3"
  },
  "language_info": {
   "codemirror_mode": {
    "name": "ipython",
    "version": 3
   },
   "file_extension": ".py",
   "mimetype": "text/x-python",
   "name": "python",
   "nbconvert_exporter": "python",
   "pygments_lexer": "ipython3",
   "version": "3.12.2"
  }
 },
 "nbformat": 4,
 "nbformat_minor": 5
}
