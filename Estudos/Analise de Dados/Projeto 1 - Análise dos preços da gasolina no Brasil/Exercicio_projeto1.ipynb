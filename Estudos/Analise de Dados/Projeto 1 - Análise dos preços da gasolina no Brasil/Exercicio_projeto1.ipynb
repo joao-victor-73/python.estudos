{
 "cells": [
  {
   "cell_type": "code",
   "execution_count": 1,
   "id": "abb3120a-7a77-4988-8e71-e181d39c0fd7",
   "metadata": {},
   "outputs": [],
   "source": [
    "import pandas as pd"
   ]
  },
  {
   "cell_type": "markdown",
   "id": "ba55d21a-c55f-45b7-9715-c1f01ab54221",
   "metadata": {},
   "source": [
    "### Neste projeto, trabalharemos  com dois arquivos `csv's` separados, contendo informações sobre o preço da gasolina no Brasil.\n",
    "\n",
    "**OBS:** Como eu não obtive os dois datasets, irei utilizar apenas um, que consegui no kaggle. Nele contém as informações de preços de gasolinas no Brasil de 2004 a 2021.\n",
    "\n",
    "Link para o Dataset: https://www.kaggle.com/datasets/matheusfreitag/gas-prices-in-brazil"
   ]
  },
  {
   "cell_type": "markdown",
   "id": "e1dbb8ab-d3a9-4722-a037-9c5688a1686e",
   "metadata": {},
   "source": [
    "___"
   ]
  },
  {
   "cell_type": "markdown",
   "id": "040fdec7-f6c2-4c22-ac7c-0c20bc091f9b",
   "metadata": {},
   "source": [
    "### 1. Investigue as colunas e entenda o conjunto de dados usando o head() e info()"
   ]
  },
  {
   "cell_type": "markdown",
   "id": "a480b801-88af-452d-99b0-d9a0d5163615",
   "metadata": {},
   "source": [
    "### 2. Selecione a terceira entrada da coluna DATA INICIAL e verifique seu tipo."
   ]
  },
  {
   "cell_type": "markdown",
   "id": "64b488d2-5fa2-485a-a5b8-ebb66cc0a23c",
   "metadata": {},
   "source": [
    "### 3. Você deve ter percebido que as colunas DATA INICIAL e DATA FINAL estão formatadas como string. Utilizando o método `pd.to_datetime()`, converta ambas para _Timestamp/Datetime_."
   ]
  },
  {
   "cell_type": "markdown",
   "id": "6e115b28-95fc-44f7-9f08-9e926f2f8967",
   "metadata": {},
   "source": [
    "### 4. "
   ]
  }
 ],
 "metadata": {
  "kernelspec": {
   "display_name": "Python 3 (ipykernel)",
   "language": "python",
   "name": "python3"
  },
  "language_info": {
   "codemirror_mode": {
    "name": "ipython",
    "version": 3
   },
   "file_extension": ".py",
   "mimetype": "text/x-python",
   "name": "python",
   "nbconvert_exporter": "python",
   "pygments_lexer": "ipython3",
   "version": "3.12.2"
  }
 },
 "nbformat": 4,
 "nbformat_minor": 5
}
