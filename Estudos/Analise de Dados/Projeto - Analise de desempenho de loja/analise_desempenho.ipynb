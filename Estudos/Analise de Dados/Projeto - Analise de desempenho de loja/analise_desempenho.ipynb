{
 "cells": [
  {
   "cell_type": "markdown",
   "id": "af6801c3-c64a-49a5-8e75-26ab54106621",
   "metadata": {},
   "source": [
    "10/07/2025"
   ]
  },
  {
   "cell_type": "markdown",
   "id": "c78ab55e-ca7c-4a02-8026-3d03496b778d",
   "metadata": {},
   "source": [
    "# 📊 Projeto: Análise de Desempenho da Loja \"TecnoFácil\""
   ]
  },
  {
   "cell_type": "markdown",
   "id": "90045da6-a09c-4e53-afbb-9190a3a92049",
   "metadata": {},
   "source": [
    "## Contexto\n",
    "\n",
    "A TecnoFácil é uma loja de pequeno porte que vende eletrônicos e acessórios. \n",
    "\n",
    "A gerência quer entender melhor os dados de vendas, clientes e desempenho ao longo dos meses. Você foi contratado como analista de dados para transformar dados brutos em informações úteis.\n",
    "\n",
    "Essa ideia de projeto foi gerado pelo `ChatGPT`, para que eu pudesse colocar em prática todo o meu aprendizado feito nos cursos sobre Pandas, NumPy e Matplotlib."
   ]
  },
  {
   "cell_type": "markdown",
   "id": "ed9b967e-e6bc-4cec-98aa-ebc1041b249a",
   "metadata": {},
   "source": [
    "## 🗂️ Dados do Projeto"
   ]
  },
  {
   "cell_type": "code",
   "execution_count": 1,
   "id": "fb29b4fe-edfa-4b21-ad55-f3c76c5c56b6",
   "metadata": {},
   "outputs": [],
   "source": [
    "import pandas as pd"
   ]
  },
  {
   "cell_type": "code",
   "execution_count": 2,
   "id": "7746e3e6-d2cc-4dd0-9287-b22c1a7ab77c",
   "metadata": {},
   "outputs": [],
   "source": [
    "base = pd.read_csv(\"dados_vendas.csv\")"
   ]
  },
  {
   "cell_type": "code",
   "execution_count": 3,
   "id": "fa5b2f28-b36b-4679-8c1d-05bac0b0177a",
   "metadata": {},
   "outputs": [
    {
     "data": {
      "text/html": [
       "<div>\n",
       "<style scoped>\n",
       "    .dataframe tbody tr th:only-of-type {\n",
       "        vertical-align: middle;\n",
       "    }\n",
       "\n",
       "    .dataframe tbody tr th {\n",
       "        vertical-align: top;\n",
       "    }\n",
       "\n",
       "    .dataframe thead th {\n",
       "        text-align: right;\n",
       "    }\n",
       "</style>\n",
       "<table border=\"1\" class=\"dataframe\">\n",
       "  <thead>\n",
       "    <tr style=\"text-align: right;\">\n",
       "      <th></th>\n",
       "      <th>Data da Venda</th>\n",
       "      <th>Produto</th>\n",
       "      <th>Categoria</th>\n",
       "      <th>Quantidade</th>\n",
       "      <th>Preço Unitário</th>\n",
       "      <th>Receita</th>\n",
       "      <th>Custo</th>\n",
       "      <th>Cliente</th>\n",
       "      <th>Estado</th>\n",
       "    </tr>\n",
       "  </thead>\n",
       "  <tbody>\n",
       "    <tr>\n",
       "      <th>0</th>\n",
       "      <td>2024-09-07</td>\n",
       "      <td>Notebook X1</td>\n",
       "      <td>Informática</td>\n",
       "      <td>1</td>\n",
       "      <td>3200.0</td>\n",
       "      <td>3200.0</td>\n",
       "      <td>2700.0</td>\n",
       "      <td>Bruno Mendes</td>\n",
       "      <td>BA</td>\n",
       "    </tr>\n",
       "    <tr>\n",
       "      <th>1</th>\n",
       "      <td>2025-06-08</td>\n",
       "      <td>Teclado Mecânico</td>\n",
       "      <td>Acessórios</td>\n",
       "      <td>2</td>\n",
       "      <td>350.0</td>\n",
       "      <td>700.0</td>\n",
       "      <td>500.0</td>\n",
       "      <td>Emilly Freitas</td>\n",
       "      <td>MG</td>\n",
       "    </tr>\n",
       "    <tr>\n",
       "      <th>2</th>\n",
       "      <td>2025-06-21</td>\n",
       "      <td>Notebook X1</td>\n",
       "      <td>Informática</td>\n",
       "      <td>5</td>\n",
       "      <td>3200.0</td>\n",
       "      <td>16000.0</td>\n",
       "      <td>13500.0</td>\n",
       "      <td>Isabella Almeida</td>\n",
       "      <td>RJ</td>\n",
       "    </tr>\n",
       "    <tr>\n",
       "      <th>3</th>\n",
       "      <td>2024-12-24</td>\n",
       "      <td>Tablet M7</td>\n",
       "      <td>Celulares</td>\n",
       "      <td>4</td>\n",
       "      <td>1450.0</td>\n",
       "      <td>5800.0</td>\n",
       "      <td>4400.0</td>\n",
       "      <td>Yago Cunha</td>\n",
       "      <td>SP</td>\n",
       "    </tr>\n",
       "    <tr>\n",
       "      <th>4</th>\n",
       "      <td>2025-02-20</td>\n",
       "      <td>Fone Bluetooth</td>\n",
       "      <td>Acessórios</td>\n",
       "      <td>1</td>\n",
       "      <td>150.0</td>\n",
       "      <td>150.0</td>\n",
       "      <td>90.0</td>\n",
       "      <td>Emanuelly Teixeira</td>\n",
       "      <td>RS</td>\n",
       "    </tr>\n",
       "  </tbody>\n",
       "</table>\n",
       "</div>"
      ],
      "text/plain": [
       "  Data da Venda           Produto    Categoria  Quantidade  Preço Unitário  \\\n",
       "0    2024-09-07       Notebook X1  Informática           1          3200.0   \n",
       "1    2025-06-08  Teclado Mecânico   Acessórios           2           350.0   \n",
       "2    2025-06-21       Notebook X1  Informática           5          3200.0   \n",
       "3    2024-12-24         Tablet M7    Celulares           4          1450.0   \n",
       "4    2025-02-20    Fone Bluetooth   Acessórios           1           150.0   \n",
       "\n",
       "   Receita    Custo             Cliente Estado  \n",
       "0   3200.0   2700.0        Bruno Mendes     BA  \n",
       "1    700.0    500.0      Emilly Freitas     MG  \n",
       "2  16000.0  13500.0    Isabella Almeida     RJ  \n",
       "3   5800.0   4400.0          Yago Cunha     SP  \n",
       "4    150.0     90.0  Emanuelly Teixeira     RS  "
      ]
     },
     "execution_count": 3,
     "metadata": {},
     "output_type": "execute_result"
    }
   ],
   "source": [
    "base.head()"
   ]
  },
  {
   "cell_type": "code",
   "execution_count": 20,
   "id": "3cccd165-d99d-428b-8b51-7443f39acb2a",
   "metadata": {},
   "outputs": [
    {
     "name": "stdout",
     "output_type": "stream",
     "text": [
      "<class 'pandas.core.frame.DataFrame'>\n",
      "RangeIndex: 100 entries, 0 to 99\n",
      "Data columns (total 9 columns):\n",
      " #   Column          Non-Null Count  Dtype  \n",
      "---  ------          --------------  -----  \n",
      " 0   Data da Venda   100 non-null    object \n",
      " 1   Produto         100 non-null    object \n",
      " 2   Categoria       100 non-null    object \n",
      " 3   Quantidade      100 non-null    int64  \n",
      " 4   Preço Unitário  100 non-null    float64\n",
      " 5   Receita         100 non-null    float64\n",
      " 6   Custo           100 non-null    float64\n",
      " 7   Cliente         100 non-null    object \n",
      " 8   Estado          100 non-null    object \n",
      "dtypes: float64(3), int64(1), object(5)\n",
      "memory usage: 7.2+ KB\n"
     ]
    }
   ],
   "source": [
    "base.info()"
   ]
  },
  {
   "cell_type": "code",
   "execution_count": 26,
   "id": "8916e8b2-8877-47df-8304-2b7dc262679b",
   "metadata": {},
   "outputs": [
    {
     "data": {
      "text/plain": [
       "Index(['Data da Venda', 'Produto', 'Categoria', 'Quantidade', 'Preço Unitário',\n",
       "       'Receita', 'Custo', 'Cliente', 'Estado'],\n",
       "      dtype='object')"
      ]
     },
     "execution_count": 26,
     "metadata": {},
     "output_type": "execute_result"
    }
   ],
   "source": [
    "# Quais são as colunas da nossa base de dados:\n",
    "base.columns"
   ]
  },
  {
   "cell_type": "code",
   "execution_count": 15,
   "id": "930a6cec-3974-4093-951f-e1ebcb7a97b9",
   "metadata": {},
   "outputs": [
    {
     "data": {
      "text/html": [
       "<div>\n",
       "<style scoped>\n",
       "    .dataframe tbody tr th:only-of-type {\n",
       "        vertical-align: middle;\n",
       "    }\n",
       "\n",
       "    .dataframe tbody tr th {\n",
       "        vertical-align: top;\n",
       "    }\n",
       "\n",
       "    .dataframe thead th {\n",
       "        text-align: right;\n",
       "    }\n",
       "</style>\n",
       "<table border=\"1\" class=\"dataframe\">\n",
       "  <thead>\n",
       "    <tr style=\"text-align: right;\">\n",
       "      <th></th>\n",
       "      <th>Quantidade</th>\n",
       "      <th>Custo</th>\n",
       "    </tr>\n",
       "    <tr>\n",
       "      <th>Produto</th>\n",
       "      <th></th>\n",
       "      <th></th>\n",
       "    </tr>\n",
       "  </thead>\n",
       "  <tbody>\n",
       "    <tr>\n",
       "      <th>Cabo USB-C</th>\n",
       "      <td>34</td>\n",
       "      <td>680.0</td>\n",
       "    </tr>\n",
       "    <tr>\n",
       "      <th>Caixa de Som</th>\n",
       "      <td>29</td>\n",
       "      <td>4350.0</td>\n",
       "    </tr>\n",
       "    <tr>\n",
       "      <th>Fone Bluetooth</th>\n",
       "      <td>30</td>\n",
       "      <td>2700.0</td>\n",
       "    </tr>\n",
       "    <tr>\n",
       "      <th>Impressora Wi-Fi</th>\n",
       "      <td>21</td>\n",
       "      <td>12600.0</td>\n",
       "    </tr>\n",
       "    <tr>\n",
       "      <th>Monitor Full HD</th>\n",
       "      <td>21</td>\n",
       "      <td>14700.0</td>\n",
       "    </tr>\n",
       "    <tr>\n",
       "      <th>Mouse Gamer</th>\n",
       "      <td>35</td>\n",
       "      <td>2450.0</td>\n",
       "    </tr>\n",
       "    <tr>\n",
       "      <th>Notebook X1</th>\n",
       "      <td>41</td>\n",
       "      <td>110700.0</td>\n",
       "    </tr>\n",
       "    <tr>\n",
       "      <th>Smartphone Z5</th>\n",
       "      <td>14</td>\n",
       "      <td>25200.0</td>\n",
       "    </tr>\n",
       "    <tr>\n",
       "      <th>Tablet M7</th>\n",
       "      <td>28</td>\n",
       "      <td>30800.0</td>\n",
       "    </tr>\n",
       "    <tr>\n",
       "      <th>Teclado Mecânico</th>\n",
       "      <td>48</td>\n",
       "      <td>12000.0</td>\n",
       "    </tr>\n",
       "  </tbody>\n",
       "</table>\n",
       "</div>"
      ],
      "text/plain": [
       "                  Quantidade     Custo\n",
       "Produto                               \n",
       "Cabo USB-C                34     680.0\n",
       "Caixa de Som              29    4350.0\n",
       "Fone Bluetooth            30    2700.0\n",
       "Impressora Wi-Fi          21   12600.0\n",
       "Monitor Full HD           21   14700.0\n",
       "Mouse Gamer               35    2450.0\n",
       "Notebook X1               41  110700.0\n",
       "Smartphone Z5             14   25200.0\n",
       "Tablet M7                 28   30800.0\n",
       "Teclado Mecânico          48   12000.0"
      ]
     },
     "execution_count": 15,
     "metadata": {},
     "output_type": "execute_result"
    }
   ],
   "source": [
    "# Apenas testando algo do pandas\n",
    "\n",
    "base.groupby('Produto')[[\"Quantidade\", \"Custo\"]].sum()"
   ]
  },
  {
   "cell_type": "code",
   "execution_count": 23,
   "id": "204aae6a-919b-4121-8978-d76209c95743",
   "metadata": {},
   "outputs": [
    {
     "data": {
      "text/plain": [
       "Categoria  \n",
       "Acessórios     60\n",
       "Informática    25\n",
       "Celulares      15\n",
       "Name: count, dtype: int64"
      ]
     },
     "execution_count": 23,
     "metadata": {},
     "output_type": "execute_result"
    }
   ],
   "source": [
    "# Quantidade de produtos por categoria\n",
    "\n",
    "base[[\"Categoria\"]].value_counts()"
   ]
  },
  {
   "cell_type": "markdown",
   "id": "e5f1557e-2239-4d67-9b93-e5bdfa332b99",
   "metadata": {},
   "source": [
    "Com isso podemos visualizar a quantidade de produtos por categoria, e a categoria acessórios é a que tem mais itens (60% do total)"
   ]
  },
  {
   "cell_type": "code",
   "execution_count": 22,
   "id": "dca1daf0-a376-418b-a8ff-e287fd25d06f",
   "metadata": {},
   "outputs": [
    {
     "data": {
      "text/plain": [
       "Data da Venda     0\n",
       "Produto           0\n",
       "Categoria         0\n",
       "Quantidade        0\n",
       "Preço Unitário    0\n",
       "Receita           0\n",
       "Custo             0\n",
       "Cliente           0\n",
       "Estado            0\n",
       "dtype: int64"
      ]
     },
     "execution_count": 22,
     "metadata": {},
     "output_type": "execute_result"
    }
   ],
   "source": [
    "# Verificando se existem valores nulos (NaN)\n",
    "base.isnull().sum() # Contar os valores ausentes"
   ]
  },
  {
   "cell_type": "markdown",
   "id": "5898d2ca-efd4-42d8-914a-063fc8657bf2",
   "metadata": {},
   "source": [
    "Com isso, posso observar que não existem nenhum valor NaN (nulo), então já é um caminho bom."
   ]
  },
  {
   "cell_type": "code",
   "execution_count": 34,
   "id": "a286bb83-74cc-4bc6-965f-0222c753e91e",
   "metadata": {},
   "outputs": [
    {
     "data": {
      "text/html": [
       "<div>\n",
       "<style scoped>\n",
       "    .dataframe tbody tr th:only-of-type {\n",
       "        vertical-align: middle;\n",
       "    }\n",
       "\n",
       "    .dataframe tbody tr th {\n",
       "        vertical-align: top;\n",
       "    }\n",
       "\n",
       "    .dataframe thead th {\n",
       "        text-align: right;\n",
       "    }\n",
       "</style>\n",
       "<table border=\"1\" class=\"dataframe\">\n",
       "  <thead>\n",
       "    <tr style=\"text-align: right;\">\n",
       "      <th></th>\n",
       "      <th></th>\n",
       "      <th>Quantidade</th>\n",
       "      <th>Custo</th>\n",
       "      <th>Receita</th>\n",
       "    </tr>\n",
       "    <tr>\n",
       "      <th>Produto</th>\n",
       "      <th>Categoria</th>\n",
       "      <th></th>\n",
       "      <th></th>\n",
       "      <th></th>\n",
       "    </tr>\n",
       "  </thead>\n",
       "  <tbody>\n",
       "    <tr>\n",
       "      <th>Smartphone Z5</th>\n",
       "      <th>Celulares</th>\n",
       "      <td>14</td>\n",
       "      <td>25200.0</td>\n",
       "      <td>29400.0</td>\n",
       "    </tr>\n",
       "    <tr>\n",
       "      <th>Impressora Wi-Fi</th>\n",
       "      <th>Informática</th>\n",
       "      <td>21</td>\n",
       "      <td>12600.0</td>\n",
       "      <td>16380.0</td>\n",
       "    </tr>\n",
       "    <tr>\n",
       "      <th>Monitor Full HD</th>\n",
       "      <th>Informática</th>\n",
       "      <td>21</td>\n",
       "      <td>14700.0</td>\n",
       "      <td>19950.0</td>\n",
       "    </tr>\n",
       "    <tr>\n",
       "      <th>Tablet M7</th>\n",
       "      <th>Celulares</th>\n",
       "      <td>28</td>\n",
       "      <td>30800.0</td>\n",
       "      <td>40600.0</td>\n",
       "    </tr>\n",
       "    <tr>\n",
       "      <th>Caixa de Som</th>\n",
       "      <th>Acessórios</th>\n",
       "      <td>29</td>\n",
       "      <td>4350.0</td>\n",
       "      <td>6090.0</td>\n",
       "    </tr>\n",
       "    <tr>\n",
       "      <th>Fone Bluetooth</th>\n",
       "      <th>Acessórios</th>\n",
       "      <td>30</td>\n",
       "      <td>2700.0</td>\n",
       "      <td>4500.0</td>\n",
       "    </tr>\n",
       "    <tr>\n",
       "      <th>Cabo USB-C</th>\n",
       "      <th>Acessórios</th>\n",
       "      <td>34</td>\n",
       "      <td>680.0</td>\n",
       "      <td>1530.0</td>\n",
       "    </tr>\n",
       "    <tr>\n",
       "      <th>Mouse Gamer</th>\n",
       "      <th>Acessórios</th>\n",
       "      <td>35</td>\n",
       "      <td>2450.0</td>\n",
       "      <td>4200.0</td>\n",
       "    </tr>\n",
       "    <tr>\n",
       "      <th>Notebook X1</th>\n",
       "      <th>Informática</th>\n",
       "      <td>41</td>\n",
       "      <td>110700.0</td>\n",
       "      <td>131200.0</td>\n",
       "    </tr>\n",
       "    <tr>\n",
       "      <th>Teclado Mecânico</th>\n",
       "      <th>Acessórios</th>\n",
       "      <td>48</td>\n",
       "      <td>12000.0</td>\n",
       "      <td>16800.0</td>\n",
       "    </tr>\n",
       "  </tbody>\n",
       "</table>\n",
       "</div>"
      ],
      "text/plain": [
       "                              Quantidade     Custo   Receita\n",
       "Produto          Categoria                                  \n",
       "Smartphone Z5    Celulares            14   25200.0   29400.0\n",
       "Impressora Wi-Fi Informática          21   12600.0   16380.0\n",
       "Monitor Full HD  Informática          21   14700.0   19950.0\n",
       "Tablet M7        Celulares            28   30800.0   40600.0\n",
       "Caixa de Som     Acessórios           29    4350.0    6090.0\n",
       "Fone Bluetooth   Acessórios           30    2700.0    4500.0\n",
       "Cabo USB-C       Acessórios           34     680.0    1530.0\n",
       "Mouse Gamer      Acessórios           35    2450.0    4200.0\n",
       "Notebook X1      Informática          41  110700.0  131200.0\n",
       "Teclado Mecânico Acessórios           48   12000.0   16800.0"
      ]
     },
     "execution_count": 34,
     "metadata": {},
     "output_type": "execute_result"
    }
   ],
   "source": [
    "# Fazendo um agrupamento (por Produto e Categoria) e me retornando a soma de todas as linhas de 'Quantidade', 'Custo' e 'Receita'. \n",
    "# Além de está sendo ordenado do menor para o maior pelo 'Custo' que a empresa tem por cada produto.\n",
    "\n",
    "base.groupby(['Produto', 'Categoria'])[['Quantidade', 'Custo', 'Receita']].sum().sort_values(by=['Quantidade'])"
   ]
  },
  {
   "cell_type": "markdown",
   "id": "762b1dab-7401-4752-9310-766bc9e39fc0",
   "metadata": {},
   "source": [
    "### Vamos a uma rápida análise de vendas\n",
    "\n",
    "Uma **OBS** a detalhar: O Custo, como o nome sugere, é quanto vale o produto para a empresa adquirir. A receita é quanto eu ganhei ao vender para o cliente (Quantidade * Preço Unitário).\n",
    "\n",
    "- Dentre os produtos, o que mais tem, em **quantidade vendidas** são o seguinte:\n",
    "    1. Teclado Mecânico\t- Acessórios - 48 unidades;\n",
    "    2. Notebook X1 - Informática - 41;\n",
    "    3. Mouse Gamer - Acessórios - 35.\n",
    "\n",
    "\n",
    "- Outra coisa que observei é que, os clientes sempre vão atrás de `Acessórios`, gastando mais um pouco nisso."
   ]
  },
  {
   "cell_type": "code",
   "execution_count": 37,
   "id": "70b25e66-707f-4fac-866a-283380ef7e1d",
   "metadata": {},
   "outputs": [
    {
     "data": {
      "text/plain": [
       "Cliente             Estado  Produto         \n",
       "Amanda Oliveira     BA      Notebook X1         1\n",
       "Ana Clara Lopes     RJ      Cabo USB-C          1\n",
       "Ana Clara Santos    BA      Caixa de Som        1\n",
       "Ana Julia Ferreira  RJ      Teclado Mecânico    1\n",
       "Ana Julia Mendes    CE      Mouse Gamer         1\n",
       "                                               ..\n",
       "Vicente Duarte      DF      Monitor Full HD     1\n",
       "Vinicius Carvalho   SC      Teclado Mecânico    1\n",
       "Vitor Rocha         RJ      Teclado Mecânico    1\n",
       "Vitória Santos      RJ      Impressora Wi-Fi    1\n",
       "Yago Cunha          SP      Tablet M7           1\n",
       "Name: count, Length: 100, dtype: int64"
      ]
     },
     "execution_count": 37,
     "metadata": {},
     "output_type": "execute_result"
    }
   ],
   "source": [
    "base.groupby(['Cliente', 'Estado'])[['Produto']].value_counts()"
   ]
  },
  {
   "cell_type": "markdown",
   "id": "05cf6e2d-a5b2-48be-9ce9-faf052fe4cb7",
   "metadata": {},
   "source": [
    "Dentro dessa base de dados Ficticias, não se tem clientes repetidos."
   ]
  },
  {
   "cell_type": "markdown",
   "id": "d83399af-f955-48b0-8900-3e840ad9f501",
   "metadata": {},
   "source": [
    "___"
   ]
  },
  {
   "cell_type": "markdown",
   "id": "b2f28d9c-0fc6-4e9f-a428-1906ed5c45eb",
   "metadata": {},
   "source": [
    "## 🎯 Objetivos"
   ]
  },
  {
   "cell_type": "markdown",
   "id": "2111ce63-cf30-402d-8644-2f29f9f19eab",
   "metadata": {},
   "source": [
    "### 📌 Parte 1: Preparação dos Dados (Pandas + NumPy)\n",
    "\n",
    "- Ler os dados com pd.read_csv()\n",
    "- Converter a coluna de data com pd.to_datetime()\n",
    "- Calcular colunas novas:\n",
    "    - Lucro = Receita - Custo\n",
    "    - Mês da venda\n",
    "- Usar NumPy para:\n",
    "    - Calcular média, desvio padrão e valores únicos de categorias\n",
    "    - Criar array de lucro e fazer análises manuais (média, max, min)"
   ]
  },
  {
   "cell_type": "code",
   "execution_count": 38,
   "id": "42a250a8-994a-4c46-8ce6-8b083518dbee",
   "metadata": {},
   "outputs": [],
   "source": [
    "# Converter a coluna de data:\n",
    "base['Data da Venda'] = pd.to_datetime(base['Data da Venda'])"
   ]
  },
  {
   "cell_type": "code",
   "execution_count": 39,
   "id": "e9a2944c-3eee-4ce2-992b-f362d4411faf",
   "metadata": {},
   "outputs": [
    {
     "data": {
      "text/plain": [
       "Data da Venda     datetime64[ns]\n",
       "Produto                   object\n",
       "Categoria                 object\n",
       "Quantidade                 int64\n",
       "Preço Unitário           float64\n",
       "Receita                  float64\n",
       "Custo                    float64\n",
       "Cliente                   object\n",
       "Estado                    object\n",
       "dtype: object"
      ]
     },
     "execution_count": 39,
     "metadata": {},
     "output_type": "execute_result"
    }
   ],
   "source": [
    "# VErificando o tipo das colunas\n",
    "base.dtypes"
   ]
  },
  {
   "cell_type": "code",
   "execution_count": 41,
   "id": "08982680-2738-4dee-86e5-bbe9ecb95851",
   "metadata": {},
   "outputs": [],
   "source": [
    "# Calcular novas colunas: LUCRO\n",
    "\n",
    "base['Lucro'] = base['Receita'] - base['Custo']"
   ]
  },
  {
   "cell_type": "code",
   "execution_count": 42,
   "id": "edba4d9b-2f5e-450f-8cb3-05be656926d9",
   "metadata": {},
   "outputs": [
    {
     "data": {
      "text/html": [
       "<div>\n",
       "<style scoped>\n",
       "    .dataframe tbody tr th:only-of-type {\n",
       "        vertical-align: middle;\n",
       "    }\n",
       "\n",
       "    .dataframe tbody tr th {\n",
       "        vertical-align: top;\n",
       "    }\n",
       "\n",
       "    .dataframe thead th {\n",
       "        text-align: right;\n",
       "    }\n",
       "</style>\n",
       "<table border=\"1\" class=\"dataframe\">\n",
       "  <thead>\n",
       "    <tr style=\"text-align: right;\">\n",
       "      <th></th>\n",
       "      <th>Data da Venda</th>\n",
       "      <th>Produto</th>\n",
       "      <th>Categoria</th>\n",
       "      <th>Quantidade</th>\n",
       "      <th>Preço Unitário</th>\n",
       "      <th>Receita</th>\n",
       "      <th>Custo</th>\n",
       "      <th>Cliente</th>\n",
       "      <th>Estado</th>\n",
       "      <th>Lucro</th>\n",
       "    </tr>\n",
       "  </thead>\n",
       "  <tbody>\n",
       "    <tr>\n",
       "      <th>0</th>\n",
       "      <td>2024-09-07</td>\n",
       "      <td>Notebook X1</td>\n",
       "      <td>Informática</td>\n",
       "      <td>1</td>\n",
       "      <td>3200.0</td>\n",
       "      <td>3200.0</td>\n",
       "      <td>2700.0</td>\n",
       "      <td>Bruno Mendes</td>\n",
       "      <td>BA</td>\n",
       "      <td>500.0</td>\n",
       "    </tr>\n",
       "    <tr>\n",
       "      <th>1</th>\n",
       "      <td>2025-06-08</td>\n",
       "      <td>Teclado Mecânico</td>\n",
       "      <td>Acessórios</td>\n",
       "      <td>2</td>\n",
       "      <td>350.0</td>\n",
       "      <td>700.0</td>\n",
       "      <td>500.0</td>\n",
       "      <td>Emilly Freitas</td>\n",
       "      <td>MG</td>\n",
       "      <td>200.0</td>\n",
       "    </tr>\n",
       "    <tr>\n",
       "      <th>2</th>\n",
       "      <td>2025-06-21</td>\n",
       "      <td>Notebook X1</td>\n",
       "      <td>Informática</td>\n",
       "      <td>5</td>\n",
       "      <td>3200.0</td>\n",
       "      <td>16000.0</td>\n",
       "      <td>13500.0</td>\n",
       "      <td>Isabella Almeida</td>\n",
       "      <td>RJ</td>\n",
       "      <td>2500.0</td>\n",
       "    </tr>\n",
       "    <tr>\n",
       "      <th>3</th>\n",
       "      <td>2024-12-24</td>\n",
       "      <td>Tablet M7</td>\n",
       "      <td>Celulares</td>\n",
       "      <td>4</td>\n",
       "      <td>1450.0</td>\n",
       "      <td>5800.0</td>\n",
       "      <td>4400.0</td>\n",
       "      <td>Yago Cunha</td>\n",
       "      <td>SP</td>\n",
       "      <td>1400.0</td>\n",
       "    </tr>\n",
       "    <tr>\n",
       "      <th>4</th>\n",
       "      <td>2025-02-20</td>\n",
       "      <td>Fone Bluetooth</td>\n",
       "      <td>Acessórios</td>\n",
       "      <td>1</td>\n",
       "      <td>150.0</td>\n",
       "      <td>150.0</td>\n",
       "      <td>90.0</td>\n",
       "      <td>Emanuelly Teixeira</td>\n",
       "      <td>RS</td>\n",
       "      <td>60.0</td>\n",
       "    </tr>\n",
       "  </tbody>\n",
       "</table>\n",
       "</div>"
      ],
      "text/plain": [
       "  Data da Venda           Produto    Categoria  Quantidade  Preço Unitário  \\\n",
       "0    2024-09-07       Notebook X1  Informática           1          3200.0   \n",
       "1    2025-06-08  Teclado Mecânico   Acessórios           2           350.0   \n",
       "2    2025-06-21       Notebook X1  Informática           5          3200.0   \n",
       "3    2024-12-24         Tablet M7    Celulares           4          1450.0   \n",
       "4    2025-02-20    Fone Bluetooth   Acessórios           1           150.0   \n",
       "\n",
       "   Receita    Custo             Cliente Estado   Lucro  \n",
       "0   3200.0   2700.0        Bruno Mendes     BA   500.0  \n",
       "1    700.0    500.0      Emilly Freitas     MG   200.0  \n",
       "2  16000.0  13500.0    Isabella Almeida     RJ  2500.0  \n",
       "3   5800.0   4400.0          Yago Cunha     SP  1400.0  \n",
       "4    150.0     90.0  Emanuelly Teixeira     RS    60.0  "
      ]
     },
     "execution_count": 42,
     "metadata": {},
     "output_type": "execute_result"
    }
   ],
   "source": [
    "base.head()"
   ]
  },
  {
   "cell_type": "code",
   "execution_count": 55,
   "id": "5637eead-636a-4fc8-ba2b-ef2f2d6b9060",
   "metadata": {},
   "outputs": [
    {
     "data": {
      "text/html": [
       "<div>\n",
       "<style scoped>\n",
       "    .dataframe tbody tr th:only-of-type {\n",
       "        vertical-align: middle;\n",
       "    }\n",
       "\n",
       "    .dataframe tbody tr th {\n",
       "        vertical-align: top;\n",
       "    }\n",
       "\n",
       "    .dataframe thead th {\n",
       "        text-align: right;\n",
       "    }\n",
       "</style>\n",
       "<table border=\"1\" class=\"dataframe\">\n",
       "  <thead>\n",
       "    <tr style=\"text-align: right;\">\n",
       "      <th></th>\n",
       "      <th></th>\n",
       "      <th>Receita</th>\n",
       "    </tr>\n",
       "    <tr>\n",
       "      <th>Data da Venda</th>\n",
       "      <th>Categoria</th>\n",
       "      <th></th>\n",
       "    </tr>\n",
       "  </thead>\n",
       "  <tbody>\n",
       "    <tr>\n",
       "      <th rowspan=\"2\" valign=\"top\">1</th>\n",
       "      <th>Acessórios</th>\n",
       "      <td>3290.0</td>\n",
       "    </tr>\n",
       "    <tr>\n",
       "      <th>Celulares</th>\n",
       "      <td>16450.0</td>\n",
       "    </tr>\n",
       "    <tr>\n",
       "      <th rowspan=\"2\" valign=\"top\">2</th>\n",
       "      <th>Acessórios</th>\n",
       "      <td>2600.0</td>\n",
       "    </tr>\n",
       "    <tr>\n",
       "      <th>Informática</th>\n",
       "      <td>16000.0</td>\n",
       "    </tr>\n",
       "    <tr>\n",
       "      <th rowspan=\"2\" valign=\"top\">3</th>\n",
       "      <th>Acessórios</th>\n",
       "      <td>2280.0</td>\n",
       "    </tr>\n",
       "    <tr>\n",
       "      <th>Informática</th>\n",
       "      <td>3800.0</td>\n",
       "    </tr>\n",
       "    <tr>\n",
       "      <th rowspan=\"2\" valign=\"top\">4</th>\n",
       "      <th>Acessórios</th>\n",
       "      <td>3820.0</td>\n",
       "    </tr>\n",
       "    <tr>\n",
       "      <th>Informática</th>\n",
       "      <td>12100.0</td>\n",
       "    </tr>\n",
       "    <tr>\n",
       "      <th rowspan=\"3\" valign=\"top\">5</th>\n",
       "      <th>Acessórios</th>\n",
       "      <td>2495.0</td>\n",
       "    </tr>\n",
       "    <tr>\n",
       "      <th>Celulares</th>\n",
       "      <td>9200.0</td>\n",
       "    </tr>\n",
       "    <tr>\n",
       "      <th>Informática</th>\n",
       "      <td>29750.0</td>\n",
       "    </tr>\n",
       "    <tr>\n",
       "      <th rowspan=\"2\" valign=\"top\">6</th>\n",
       "      <th>Acessórios</th>\n",
       "      <td>2780.0</td>\n",
       "    </tr>\n",
       "    <tr>\n",
       "      <th>Informática</th>\n",
       "      <td>49560.0</td>\n",
       "    </tr>\n",
       "    <tr>\n",
       "      <th rowspan=\"2\" valign=\"top\">7</th>\n",
       "      <th>Acessórios</th>\n",
       "      <td>2470.0</td>\n",
       "    </tr>\n",
       "    <tr>\n",
       "      <th>Informática</th>\n",
       "      <td>4750.0</td>\n",
       "    </tr>\n",
       "    <tr>\n",
       "      <th rowspan=\"3\" valign=\"top\">8</th>\n",
       "      <th>Acessórios</th>\n",
       "      <td>1305.0</td>\n",
       "    </tr>\n",
       "    <tr>\n",
       "      <th>Celulares</th>\n",
       "      <td>7250.0</td>\n",
       "    </tr>\n",
       "    <tr>\n",
       "      <th>Informática</th>\n",
       "      <td>3120.0</td>\n",
       "    </tr>\n",
       "    <tr>\n",
       "      <th rowspan=\"3\" valign=\"top\">9</th>\n",
       "      <th>Acessórios</th>\n",
       "      <td>2645.0</td>\n",
       "    </tr>\n",
       "    <tr>\n",
       "      <th>Celulares</th>\n",
       "      <td>5000.0</td>\n",
       "    </tr>\n",
       "    <tr>\n",
       "      <th>Informática</th>\n",
       "      <td>9440.0</td>\n",
       "    </tr>\n",
       "    <tr>\n",
       "      <th rowspan=\"2\" valign=\"top\">10</th>\n",
       "      <th>Acessórios</th>\n",
       "      <td>2565.0</td>\n",
       "    </tr>\n",
       "    <tr>\n",
       "      <th>Informática</th>\n",
       "      <td>20750.0</td>\n",
       "    </tr>\n",
       "    <tr>\n",
       "      <th rowspan=\"3\" valign=\"top\">11</th>\n",
       "      <th>Acessórios</th>\n",
       "      <td>5940.0</td>\n",
       "    </tr>\n",
       "    <tr>\n",
       "      <th>Celulares</th>\n",
       "      <td>20000.0</td>\n",
       "    </tr>\n",
       "    <tr>\n",
       "      <th>Informática</th>\n",
       "      <td>14360.0</td>\n",
       "    </tr>\n",
       "    <tr>\n",
       "      <th rowspan=\"3\" valign=\"top\">12</th>\n",
       "      <th>Acessórios</th>\n",
       "      <td>930.0</td>\n",
       "    </tr>\n",
       "    <tr>\n",
       "      <th>Celulares</th>\n",
       "      <td>12100.0</td>\n",
       "    </tr>\n",
       "    <tr>\n",
       "      <th>Informática</th>\n",
       "      <td>3900.0</td>\n",
       "    </tr>\n",
       "  </tbody>\n",
       "</table>\n",
       "</div>"
      ],
      "text/plain": [
       "                           Receita\n",
       "Data da Venda Categoria           \n",
       "1             Acessórios    3290.0\n",
       "              Celulares    16450.0\n",
       "2             Acessórios    2600.0\n",
       "              Informática  16000.0\n",
       "3             Acessórios    2280.0\n",
       "              Informática   3800.0\n",
       "4             Acessórios    3820.0\n",
       "              Informática  12100.0\n",
       "5             Acessórios    2495.0\n",
       "              Celulares     9200.0\n",
       "              Informática  29750.0\n",
       "6             Acessórios    2780.0\n",
       "              Informática  49560.0\n",
       "7             Acessórios    2470.0\n",
       "              Informática   4750.0\n",
       "8             Acessórios    1305.0\n",
       "              Celulares     7250.0\n",
       "              Informática   3120.0\n",
       "9             Acessórios    2645.0\n",
       "              Celulares     5000.0\n",
       "              Informática   9440.0\n",
       "10            Acessórios    2565.0\n",
       "              Informática  20750.0\n",
       "11            Acessórios    5940.0\n",
       "              Celulares    20000.0\n",
       "              Informática  14360.0\n",
       "12            Acessórios     930.0\n",
       "              Celulares    12100.0\n",
       "              Informática   3900.0"
      ]
     },
     "execution_count": 55,
     "metadata": {},
     "output_type": "execute_result"
    }
   ],
   "source": [
    "# Calcular novas colunas: Mês da Venda\n",
    "base.groupby([base['Data da Venda'].dt.month, 'Categoria'])[['Receita']].sum()"
   ]
  },
  {
   "cell_type": "markdown",
   "id": "3334a6ab-2f67-404f-935e-abd2822944fa",
   "metadata": {},
   "source": [
    "___"
   ]
  },
  {
   "cell_type": "markdown",
   "id": "9d871011-9d78-481d-aac0-b75f1d01ccc8",
   "metadata": {},
   "source": [
    "### 📌 Parte 2: Análises (Pandas)\n",
    "\n",
    "- Qual foi o produto mais vendido?\n",
    "- Qual foi o mês com mais vendas?\n",
    "- Qual foi a categoria mais lucrativa?\n",
    "- Qual cliente mais comprou?\n",
    "- Qual estado gerou mais receita?"
   ]
  },
  {
   "cell_type": "code",
   "execution_count": 61,
   "id": "2245ab85-507f-485b-805c-5f37b812aba7",
   "metadata": {},
   "outputs": [],
   "source": [
    "# Qual foi o produto mais vendido?\n",
    "produtos_mais_vendidos = base.groupby(['Produto'])[['Quantidade', 'Receita']].sum().sort_values(by=['Quantidade'])"
   ]
  },
  {
   "cell_type": "code",
   "execution_count": 83,
   "id": "f4fd71fb-7b46-4b9c-a5d1-537f5b6575b5",
   "metadata": {},
   "outputs": [
    {
     "data": {
      "text/html": [
       "<div>\n",
       "<style scoped>\n",
       "    .dataframe tbody tr th:only-of-type {\n",
       "        vertical-align: middle;\n",
       "    }\n",
       "\n",
       "    .dataframe tbody tr th {\n",
       "        vertical-align: top;\n",
       "    }\n",
       "\n",
       "    .dataframe thead th {\n",
       "        text-align: right;\n",
       "    }\n",
       "</style>\n",
       "<table border=\"1\" class=\"dataframe\">\n",
       "  <thead>\n",
       "    <tr style=\"text-align: right;\">\n",
       "      <th></th>\n",
       "      <th>Quantidade</th>\n",
       "      <th>Receita</th>\n",
       "    </tr>\n",
       "    <tr>\n",
       "      <th>Produto</th>\n",
       "      <th></th>\n",
       "      <th></th>\n",
       "    </tr>\n",
       "  </thead>\n",
       "  <tbody>\n",
       "    <tr>\n",
       "      <th>Teclado Mecânico</th>\n",
       "      <td>48</td>\n",
       "      <td>16800.0</td>\n",
       "    </tr>\n",
       "  </tbody>\n",
       "</table>\n",
       "</div>"
      ],
      "text/plain": [
       "                  Quantidade  Receita\n",
       "Produto                              \n",
       "Teclado Mecânico          48  16800.0"
      ]
     },
     "execution_count": 83,
     "metadata": {},
     "output_type": "execute_result"
    }
   ],
   "source": [
    "produtos_mais_vendidos.tail(1)"
   ]
  },
  {
   "cell_type": "markdown",
   "id": "3dd8d4f0-68b0-4816-b8ee-703176129352",
   "metadata": {},
   "source": [
    "O produto que mais foi vendido para os clientes foi o _Teclado Mecânico_, gerando uma receita de R$ 16.800,00"
   ]
  },
  {
   "cell_type": "code",
   "execution_count": 74,
   "id": "3c572b8b-023a-4ad9-9bb8-2a0a40609d49",
   "metadata": {},
   "outputs": [
    {
     "data": {
      "text/html": [
       "<div>\n",
       "<style scoped>\n",
       "    .dataframe tbody tr th:only-of-type {\n",
       "        vertical-align: middle;\n",
       "    }\n",
       "\n",
       "    .dataframe tbody tr th {\n",
       "        vertical-align: top;\n",
       "    }\n",
       "\n",
       "    .dataframe thead th {\n",
       "        text-align: right;\n",
       "    }\n",
       "</style>\n",
       "<table border=\"1\" class=\"dataframe\">\n",
       "  <thead>\n",
       "    <tr style=\"text-align: right;\">\n",
       "      <th></th>\n",
       "      <th>Receita</th>\n",
       "    </tr>\n",
       "    <tr>\n",
       "      <th>Data da Venda</th>\n",
       "      <th></th>\n",
       "    </tr>\n",
       "  </thead>\n",
       "  <tbody>\n",
       "    <tr>\n",
       "      <th>6</th>\n",
       "      <td>52340.0</td>\n",
       "    </tr>\n",
       "  </tbody>\n",
       "</table>\n",
       "</div>"
      ],
      "text/plain": [
       "               Receita\n",
       "Data da Venda         \n",
       "6              52340.0"
      ]
     },
     "execution_count": 74,
     "metadata": {},
     "output_type": "execute_result"
    }
   ],
   "source": [
    "# Qual foi o mês com mais vendas?\n",
    "base.groupby([base['Data da Venda'].dt.month])[['Receita']].sum().sort_values(by=['Receita']).tail(1)"
   ]
  },
  {
   "cell_type": "code",
   "execution_count": 79,
   "id": "4c5c1651-98e0-46a4-b3e4-33338106bcfe",
   "metadata": {},
   "outputs": [
    {
     "data": {
      "text/html": [
       "<div>\n",
       "<style scoped>\n",
       "    .dataframe tbody tr th:only-of-type {\n",
       "        vertical-align: middle;\n",
       "    }\n",
       "\n",
       "    .dataframe tbody tr th {\n",
       "        vertical-align: top;\n",
       "    }\n",
       "\n",
       "    .dataframe thead th {\n",
       "        text-align: right;\n",
       "    }\n",
       "</style>\n",
       "<table border=\"1\" class=\"dataframe\">\n",
       "  <thead>\n",
       "    <tr style=\"text-align: right;\">\n",
       "      <th></th>\n",
       "      <th>Lucro</th>\n",
       "    </tr>\n",
       "    <tr>\n",
       "      <th>Categoria</th>\n",
       "      <th></th>\n",
       "    </tr>\n",
       "  </thead>\n",
       "  <tbody>\n",
       "    <tr>\n",
       "      <th>Informática</th>\n",
       "      <td>29530.0</td>\n",
       "    </tr>\n",
       "  </tbody>\n",
       "</table>\n",
       "</div>"
      ],
      "text/plain": [
       "               Lucro\n",
       "Categoria           \n",
       "Informática  29530.0"
      ]
     },
     "execution_count": 79,
     "metadata": {},
     "output_type": "execute_result"
    }
   ],
   "source": [
    "# Qual foi a categoria mais lucrativa?\n",
    "base.groupby(['Categoria'])[['Lucro']].sum().sort_values(by=[\"Lucro\"]).tail(1)"
   ]
  },
  {
   "cell_type": "code",
   "execution_count": 52,
   "id": "26168817-f559-407d-b712-a54bcc1cdda2",
   "metadata": {},
   "outputs": [],
   "source": [
    "# Qual cliente mais comprou?"
   ]
  },
  {
   "cell_type": "code",
   "execution_count": 81,
   "id": "91a4ae0f-ddcc-41f4-94be-fafbb87a78ca",
   "metadata": {},
   "outputs": [
    {
     "data": {
      "text/html": [
       "<div>\n",
       "<style scoped>\n",
       "    .dataframe tbody tr th:only-of-type {\n",
       "        vertical-align: middle;\n",
       "    }\n",
       "\n",
       "    .dataframe tbody tr th {\n",
       "        vertical-align: top;\n",
       "    }\n",
       "\n",
       "    .dataframe thead th {\n",
       "        text-align: right;\n",
       "    }\n",
       "</style>\n",
       "<table border=\"1\" class=\"dataframe\">\n",
       "  <thead>\n",
       "    <tr style=\"text-align: right;\">\n",
       "      <th></th>\n",
       "      <th>Receita</th>\n",
       "    </tr>\n",
       "    <tr>\n",
       "      <th>Estado</th>\n",
       "      <th></th>\n",
       "    </tr>\n",
       "  </thead>\n",
       "  <tbody>\n",
       "    <tr>\n",
       "      <th>RJ</th>\n",
       "      <td>60030.0</td>\n",
       "    </tr>\n",
       "  </tbody>\n",
       "</table>\n",
       "</div>"
      ],
      "text/plain": [
       "        Receita\n",
       "Estado         \n",
       "RJ      60030.0"
      ]
     },
     "execution_count": 81,
     "metadata": {},
     "output_type": "execute_result"
    }
   ],
   "source": [
    "# Qual estado gerou mais receita?\n",
    "base.groupby(['Estado'])[['Receita']].sum().sort_values(by=[\"Receita\"]).tail(1)"
   ]
  },
  {
   "cell_type": "markdown",
   "id": "d8e2cae1-5c1a-4bc8-9a3f-e32f0c533f4c",
   "metadata": {},
   "source": [
    "___"
   ]
  },
  {
   "cell_type": "markdown",
   "id": "00370901-9c13-48c2-a640-00a56c071a3b",
   "metadata": {},
   "source": [
    "### 📌 Parte 3: Visualizações (Matplotlib e Seaborn)\n",
    "\n",
    "- 📊 Gráfico de barras com Top 5 produtos mais vendidos\n",
    "- 📈 Gráfico de linha com vendas mensais\n",
    "- 📉 Gráfico de barras com lucro por categoria\n",
    "- 🔥 Heatmap com correlação entre Receita, Custo, Lucro, Quantidade\n",
    "- 🥧 Gráfico de pizza: proporção de vendas por categoria"
   ]
  },
  {
   "cell_type": "markdown",
   "id": "9ada1b24-c9ad-49fb-a045-ae6acff1e92e",
   "metadata": {},
   "source": [
    "___"
   ]
  },
  {
   "cell_type": "markdown",
   "id": "e2c86866-ed8d-44d1-b29a-8cc137568a9a",
   "metadata": {},
   "source": [
    "### 📌 Parte 4: Exportação de Resultados\n",
    "\n",
    "- Criar um resumo em DataFrame com:\n",
    "- Receita total\n",
    "- Lucro total\n",
    "- Produto campeão de vendas\n",
    "- Exportar esse resumo para um CSV (resumo_final.csv)\n",
    "- Salvar os gráficos como PNGs"
   ]
  },
  {
   "cell_type": "markdown",
   "id": "4fb31cc4-2ead-41b7-b575-60f81ebe3995",
   "metadata": {},
   "source": [
    "___"
   ]
  },
  {
   "cell_type": "markdown",
   "id": "9fea0ab7-4800-43b0-8e1f-187c08e67017",
   "metadata": {},
   "source": [
    "# 📈 Insights Comerciais"
   ]
  },
  {
   "cell_type": "markdown",
   "id": "d1961cec-9137-488d-bf79-03fd7b9ca332",
   "metadata": {},
   "source": [
    "## 🔹 1. Produtos mais vendidos\n",
    "\n",
    "- Quais produtos saem mais?\n",
    "- Qual o ticket médio de cada produto?\n",
    "\n",
    "📌 Exemplo de pergunta: _`\"Devemos manter mais estoque de quais itens?\"`_"
   ]
  },
  {
   "cell_type": "markdown",
   "id": "db524f12-5dc3-460d-b9fe-bbc8f0f6bb3c",
   "metadata": {},
   "source": [
    "## 🔹 2. Categorias com maior volume de vendas\n",
    "\n",
    "- Qual categoria mais vendeu em quantidade e em valor?\n",
    "- Existe alguma categoria com desempenho fraco?\n",
    "\n",
    "📌 Exemplo:\n",
    "\n",
    "`\"A categoria ‘Celulares’ representa 40% do faturamento, mas apenas 20% das unidades vendidas. Isso indica produtos com ticket médio mais alto.\"`"
   ]
  },
  {
   "cell_type": "markdown",
   "id": "2e3de0ad-c29a-4565-bc59-f0ca70048600",
   "metadata": {},
   "source": [
    "## 🔹 3. Receita por estado (ou região)\n",
    "\n",
    "- Quais estados compram mais?\n",
    "- Há locais com baixo desempenho?\n",
    "\n",
    "📌 Exemplo:\n",
    "\n",
    "`\"O estado de SP gerou 35% da receita total — será que vale investir em marketing local?\"`"
   ]
  },
  {
   "cell_type": "markdown",
   "id": "bbdea289-e5db-4daa-8a2b-27b39e2a0251",
   "metadata": {},
   "source": [
    "## 🔹 4. Lucro por produto e por categoria\n",
    "\n",
    "- Quais produtos são mais lucrativos?\n",
    "- Existe algum produto que vende muito, mas tem baixo lucro?\n",
    "\n",
    "📌 Exemplo:\n",
    "\n",
    "`\"O Mouse Gamer vende muito, mas a margem de lucro é baixa — talvez seja hora de reajustar o preço.\"`"
   ]
  },
  {
   "cell_type": "markdown",
   "id": "cbf71b30-7160-46ba-a1e9-afe2c906f10c",
   "metadata": {},
   "source": [
    "## 🔹 5. Desempenho mensal\n",
    "\n",
    "- Qual mês teve maior receita?\n",
    "- Há sazonalidade? (ex: aumento em novembro/dezembro)\n",
    "\n",
    "📌 Exemplo:\n",
    "\n",
    "`\"As vendas disparam em dezembro. Devemos nos preparar com campanhas promocionais nesse período.\"`\n"
   ]
  },
  {
   "cell_type": "markdown",
   "id": "d9c4223f-f2d6-4044-9d9c-f63ae4a2780a",
   "metadata": {},
   "source": [
    "## Análises financeiras\n",
    "\n",
    "### 🔹 6. Lucro total e margem de lucro\n",
    "\n",
    "- Qual a margem de lucro média da empresa?\n",
    "- A margem está aumentando ao longo dos meses?\n",
    "\n",
    "📌 Exemplo:\n",
    "\n",
    "`\"A margem média está em 20%, mas em janeiro foi 15% — houve algo errado naquele mês?\"`"
   ]
  },
  {
   "cell_type": "markdown",
   "id": "4640126b-df9f-485d-99f1-524f8d9dc410",
   "metadata": {},
   "source": [
    "## 📊 Visualmente, com Matplotlib/Seaborn, você pode:\n",
    "\n",
    "- Comparar lucro por categoria com gráficos de barras\n",
    "- Ver a evolução das vendas com gráficos de linha\n",
    "- Criar heatmaps de correlação para explorar relações entre preço, quantidade, receita e lucro\n",
    "- Gerar gráficos de pizza para proporções de vendas"
   ]
  }
 ],
 "metadata": {
  "kernelspec": {
   "display_name": "Python 3 (ipykernel)",
   "language": "python",
   "name": "python3"
  },
  "language_info": {
   "codemirror_mode": {
    "name": "ipython",
    "version": 3
   },
   "file_extension": ".py",
   "mimetype": "text/x-python",
   "name": "python",
   "nbconvert_exporter": "python",
   "pygments_lexer": "ipython3",
   "version": "3.12.2"
  }
 },
 "nbformat": 4,
 "nbformat_minor": 5
}
