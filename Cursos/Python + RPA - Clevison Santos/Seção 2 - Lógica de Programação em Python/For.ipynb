{
 "cells": [
  {
   "cell_type": "markdown",
   "id": "29c1ab8e-3dc2-4ddb-949e-417a13eefdeb",
   "metadata": {},
   "source": [
    "# 19. For com Strings + Exercícios"
   ]
  },
  {
   "cell_type": "code",
   "execution_count": 3,
   "id": "07d6242b-0aa5-49c0-97dc-0eb794463163",
   "metadata": {},
   "outputs": [
    {
     "name": "stdout",
     "output_type": "stream",
     "text": [
      "A\n",
      "B\n",
      "C\n",
      "D\n",
      "E\n"
     ]
    }
   ],
   "source": [
    "lista = ['A', 'B', 'C', 'D', 'E']\n",
    "\n",
    "for item in lista:\n",
    "    print(item)"
   ]
  },
  {
   "cell_type": "code",
   "execution_count": 4,
   "id": "4c371587-7ebb-4765-acaf-ef0fcb07fc4e",
   "metadata": {},
   "outputs": [
    {
     "name": "stdout",
     "output_type": "stream",
     "text": [
      "Maça\n",
      "Laranja\n",
      "Banana\n"
     ]
    }
   ],
   "source": [
    "frutas = [\"Maça\", 'Laranja', 'Banana']\n",
    "\n",
    "for f in frutas:\n",
    "    print(f)"
   ]
  },
  {
   "cell_type": "markdown",
   "id": "292f9af6-e246-4e0f-bc13-777f807139dc",
   "metadata": {},
   "source": []
  },
  {
   "cell_type": "markdown",
   "id": "1f459da3-b398-4abf-85c3-d8c1d934fae4",
   "metadata": {},
   "source": [
    "# 20. For Nested\n",
    "\n",
    "- ___For Nested___ Loops refere-se à prática de aninhar um ou mais loops for dentro de outro loop for.\n",
    "- Em outras palavras, é quando você tem umm loop for dentro do corpo de outro loop for. Esse conceito é aplicável em várias linguagens de programação, incluindo python."
   ]
  },
  {
   "cell_type": "code",
   "execution_count": 6,
   "id": "fb611465-c19e-4e33-8858-1ef78037716d",
   "metadata": {},
   "outputs": [
    {
     "name": "stdout",
     "output_type": "stream",
     "text": [
      "1 * 1 = 1\n",
      "1 * 2 = 2\n",
      "1 * 3 = 3\n",
      "2 * 1 = 2\n",
      "2 * 2 = 4\n",
      "2 * 3 = 6\n",
      "3 * 1 = 3\n",
      "3 * 2 = 6\n",
      "3 * 3 = 9\n"
     ]
    }
   ],
   "source": [
    "# Exemplo de loops aninhados\n",
    "for i in range(1, 4):\n",
    "    for j in range(1, 4):\n",
    "        print(f\"{i} * {j} = {i * j}\")"
   ]
  },
  {
   "cell_type": "markdown",
   "id": "3407a6e9-b992-44aa-8503-b8ceac406a3d",
   "metadata": {},
   "source": [
    "### List Comprehension: \n",
    "- Em python, list comprehension (Compreensão de listas) é uma maneira concisa de criar listas.\n",
    "- List Comprehension foi concebida na PEP 202 e é uma forma concisa de criar e manipular listas.\n",
    "\n",
    "\n",
    "Sua sintaxe básica é:\n",
    "[*expr* **for** *item* **in** *lista*]\n",
    "\n",
    "Em outras palavras: aplique a expressão expr em cada item da lista."
   ]
  },
  {
   "cell_type": "code",
   "execution_count": 9,
   "id": "b025097f-74f5-42bc-a5d0-7ef2e6fdb969",
   "metadata": {},
   "outputs": [
    {
     "name": "stdout",
     "output_type": "stream",
     "text": [
      "[0, 1, 4, 9, 16, 25, 36, 49, 64, 81]\n",
      "List comprehension: [0, 1, 4, 9, 16, 25, 36, 49, 64, 81]\n"
     ]
    }
   ],
   "source": [
    "# Exemplo de criação de lista normal:\n",
    "lista1 = []\n",
    "for item in range(10):\n",
    "    lista1.append(item**2)\n",
    "\n",
    "print(lista1)\n",
    "\n",
    "# Podemos escrever o exemplo acima para reescreve-lo utilizando list comprehension:\n",
    "lista_comp = [item**2 for item in range(10)]\n",
    "print(f\"List comprehension: {lista_comp}\")"
   ]
  },
  {
   "cell_type": "code",
   "execution_count": 11,
   "id": "a099fdd9-17f9-4644-bb97-b48d9185ebc5",
   "metadata": {},
   "outputs": [
    {
     "name": "stdout",
     "output_type": "stream",
     "text": [
      "[1, 9, 25, 49, 81]\n"
     ]
    }
   ],
   "source": [
    "# Outro exemplo de list comprehension com if:\n",
    "quadrados_impares = [x**2 for x in range(10) if x % 2 != 0]\n",
    "\n",
    "print(quadrados_impares)"
   ]
  },
  {
   "cell_type": "code",
   "execution_count": 13,
   "id": "ce9c1756-cfaa-4809-8ea7-95ae76cf0538",
   "metadata": {},
   "outputs": [
    {
     "name": "stdout",
     "output_type": "stream",
     "text": [
      "['H', 'l', 'l', ' ', 'W', 'r', 'l', 'd']\n",
      "['e', 'o', 'o']\n"
     ]
    }
   ],
   "source": [
    "# exemplo 2\n",
    "texto = \"Hello World\"\n",
    "consoantes = [c for c in texto if c.lower() not in 'aeiou']\n",
    "vogais = [c for c in texto if c.lower() in 'aeiou']\n",
    "\n",
    "print(consoantes)\n",
    "print(vogais)"
   ]
  },
  {
   "cell_type": "code",
   "execution_count": null,
   "id": "04e4426c-e416-4da4-813f-276486496637",
   "metadata": {},
   "outputs": [],
   "source": []
  }
 ],
 "metadata": {
  "kernelspec": {
   "display_name": "Python 3 (ipykernel)",
   "language": "python",
   "name": "python3"
  },
  "language_info": {
   "codemirror_mode": {
    "name": "ipython",
    "version": 3
   },
   "file_extension": ".py",
   "mimetype": "text/x-python",
   "name": "python",
   "nbconvert_exporter": "python",
   "pygments_lexer": "ipython3",
   "version": "3.12.2"
  }
 },
 "nbformat": 4,
 "nbformat_minor": 5
}
