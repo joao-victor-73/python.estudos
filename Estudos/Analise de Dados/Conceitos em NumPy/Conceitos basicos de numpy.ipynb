{
 "cells": [
  {
   "cell_type": "code",
   "execution_count": 1,
   "id": "5c906bdb-5404-41e2-918c-0963d2bcec44",
   "metadata": {},
   "outputs": [],
   "source": [
    "import numpy as np"
   ]
  },
  {
   "cell_type": "markdown",
   "id": "cc15c681-f077-421b-bb81-9766c1ca8083",
   "metadata": {},
   "source": [
    "# NUMPY\n",
    "\n",
    "## O que é o NumPy?\n",
    "O NumPy (Numerical Python) é uma biblioteca fundamental para computação científica em Python. Ele fornece suporte para arrays e matrizes multidimensionais, juntamente com uma ampla coleção de funções matemáticas, lógicas e estatísticas para operar eficientemente sobre esses arrays. \n",
    "\n",
    "Criada em 2005 como sucessora do Numeric, o NumPy se tornou uma ferramenta indispensável para qualquer trabalho que exija cálculos numéricos, seja em áreas como ciência de dados, machine learning ou visualização de dados.\n",
    "\n",
    "A grande diferença do NumPy em comparação com outras estruturas em Python está em sua capacidade de realizar cálculos eficientes, aproveitando ao máximo o processamento vetorial e matricial, o que resulta em uma grande melhoria de performance.\n",
    "\n",
    "## O que são arrays?\n",
    "No NumPy, **os arrays são estruturas de dados homogêneas que armazenam elementos de um mesmo tipo.** Eles podem ser **unidimensionais (vetores)** ou **multidimensionais (matrizes ou tensores)**. \n",
    "\n",
    "Diferentemente das listas do Python, que podem conter elementos de diferentes tipos, os arrays NumPy são otimizados para executar operações matemáticas de forma muito mais rápida.\n",
    "\n",
    "Além disso, os arrays NumPy permitem operações vetoriais, que processam múltiplos elementos ao mesmo tempo, aumentando a eficiência computacional em comparação com as listas Python, que precisam ser iteradas manualmente."
   ]
  }
 ],
 "metadata": {
  "kernelspec": {
   "display_name": "Python 3 (ipykernel)",
   "language": "python",
   "name": "python3"
  },
  "language_info": {
   "codemirror_mode": {
    "name": "ipython",
    "version": 3
   },
   "file_extension": ".py",
   "mimetype": "text/x-python",
   "name": "python",
   "nbconvert_exporter": "python",
   "pygments_lexer": "ipython3",
   "version": "3.12.2"
  }
 },
 "nbformat": 4,
 "nbformat_minor": 5
}
