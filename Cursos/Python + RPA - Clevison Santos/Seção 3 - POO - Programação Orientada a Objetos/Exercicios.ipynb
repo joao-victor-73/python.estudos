{
 "cells": [
  {
   "cell_type": "markdown",
   "id": "d791f3e3-9ce6-4e8a-87f3-5e7377a02152",
   "metadata": {},
   "source": [
    "# 90. Exercício Sistemas de Gerenciamento de Estudantes\n",
    "\n",
    "Neste exercício, você irá criar uma aplicação simples para gerenciar informações sobre estudantes. \n",
    "O sistema deve ser capaz de adicionar novos estudantes, atualizar suas notas, visualizar informações de estudantes específicos e listar todos os estudantes.\n",
    "\n",
    "- **Funcionalidades**\n",
    "    1. Adicionar um novo estudante;\n",
    "    2. Atualizar a nota de um estudante existente;\n",
    "    3. Visualizar informações de um estudante;\n",
    "    4. Listar todos os estudantes;\n",
    "    5. Sair do programa.\n",
    "- **Detalhes da Implementação**\n",
    "    1. Utilize programação orientada a objetos para estruturar seu código;\n",
    "    2. Crie uma classe Estudante com atributos nome, idade e nota;\n",
    "    3. Crie métodos 'getters' e 'setters' apropriados para cada atributo;\n",
    "    4. Utilize um menu para interagir com o usuário e executar as diferentes funcionalidades."
   ]
  },
  {
   "cell_type": "markdown",
   "id": "cdaf135b-af64-46c3-8e51-95a89cf02921",
   "metadata": {},
   "source": [
    "# 91. Exercício Agenda de Contatos com POO\n",
    "\n",
    "Você deve criar uma classe chamada Contato que irá representar um contato individual na agenda. Cada conato deve ter três atributos: nome, telefone, email.\n",
    "\n",
    "Além disso, você deve criar uma classe chamada Agenda que irá gerenciar os contatos. Esta classe deve conter métodos para adicionar, remover, listar e buscar contatos.\n",
    "\n",
    "A aplicação deve também possuir um menu interativo para o usuário, permitindo que ele execute as seguintes ações:\n",
    "1. Adicionar um novo contato.\n",
    "2. Remover um contato existente.\n",
    "3. Listar todos os contatos na agenda.\n",
    "4. Buscar um contato pelo nome.\n",
    "5. Sair da aplicação.\n",
    "\n",
    "\n",
    "**Instruções:**\n",
    "1. Comece definindo a classe Contato com os atributos e métodos necessários;\n",
    "2. Em seguida, defina a classe Agenda que contém uma lista de objetos da classe Contato;\n",
    "3. Implemente os métodos de Agenda para adicionar, remover, listar e buscar contatos;\n",
    "4. Crie uma função menu para gerenciar a interação com o usuário;\n",
    "5. No método main (ponto de entrada do programa), instancie um objeto da classe Agenda e comece o loop do menu para o usuário."
   ]
  }
 ],
 "metadata": {
  "kernelspec": {
   "display_name": "Python 3 (ipykernel)",
   "language": "python",
   "name": "python3"
  },
  "language_info": {
   "codemirror_mode": {
    "name": "ipython",
    "version": 3
   },
   "file_extension": ".py",
   "mimetype": "text/x-python",
   "name": "python",
   "nbconvert_exporter": "python",
   "pygments_lexer": "ipython3",
   "version": "3.12.2"
  }
 },
 "nbformat": 4,
 "nbformat_minor": 5
}
