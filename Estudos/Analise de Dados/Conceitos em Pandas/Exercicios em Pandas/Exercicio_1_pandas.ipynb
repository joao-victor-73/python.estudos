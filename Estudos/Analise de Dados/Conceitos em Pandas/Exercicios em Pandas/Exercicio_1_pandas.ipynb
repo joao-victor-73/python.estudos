{
 "cells": [
  {
   "cell_type": "code",
   "execution_count": 1,
   "id": "41351b1e-d35a-475a-90fb-624cfdb74fde",
   "metadata": {},
   "outputs": [],
   "source": [
    "import pandas as pd"
   ]
  },
  {
   "cell_type": "markdown",
   "id": "e6c9ec90-3a6d-485d-b315-d048628ee493",
   "metadata": {},
   "source": [
    "# Exercícios 01"
   ]
  },
  {
   "cell_type": "markdown",
   "id": "3755c410-1a70-4a64-9fa1-3558664acfe3",
   "metadata": {},
   "source": [
    "# 🎯 Parte 1 — Series e DataFrames"
   ]
  },
  {
   "cell_type": "markdown",
   "id": "f73c086e-6307-48bf-803e-040620780b02",
   "metadata": {},
   "source": [
    "## 1. \n",
    "Crie uma Series com os valores [100, 200, 300, 400, 500] e índices nomeados como: ['A', 'B', 'C', 'D', 'E'].\n",
    "\n",
    "Acesse o valor do índice 'C'.\n",
    "\n",
    "Verifique se o valor 400 está na Series."
   ]
  },
  {
   "cell_type": "code",
   "execution_count": 27,
   "id": "86040f79-2dbd-4d48-91da-d354c63332be",
   "metadata": {},
   "outputs": [],
   "source": [
    "df = pd.DataFrame(index=['A', 'B', 'C', 'D', 'E'], data={'valores': [100, 200, 300, 400, 500]})"
   ]
  },
  {
   "cell_type": "code",
   "execution_count": 28,
   "id": "9f1968ae-6fc5-41f6-abc8-60a3a0972386",
   "metadata": {},
   "outputs": [
    {
     "data": {
      "text/html": [
       "<div>\n",
       "<style scoped>\n",
       "    .dataframe tbody tr th:only-of-type {\n",
       "        vertical-align: middle;\n",
       "    }\n",
       "\n",
       "    .dataframe tbody tr th {\n",
       "        vertical-align: top;\n",
       "    }\n",
       "\n",
       "    .dataframe thead th {\n",
       "        text-align: right;\n",
       "    }\n",
       "</style>\n",
       "<table border=\"1\" class=\"dataframe\">\n",
       "  <thead>\n",
       "    <tr style=\"text-align: right;\">\n",
       "      <th></th>\n",
       "      <th>valores</th>\n",
       "    </tr>\n",
       "  </thead>\n",
       "  <tbody>\n",
       "    <tr>\n",
       "      <th>A</th>\n",
       "      <td>100</td>\n",
       "    </tr>\n",
       "    <tr>\n",
       "      <th>B</th>\n",
       "      <td>200</td>\n",
       "    </tr>\n",
       "    <tr>\n",
       "      <th>C</th>\n",
       "      <td>300</td>\n",
       "    </tr>\n",
       "    <tr>\n",
       "      <th>D</th>\n",
       "      <td>400</td>\n",
       "    </tr>\n",
       "    <tr>\n",
       "      <th>E</th>\n",
       "      <td>500</td>\n",
       "    </tr>\n",
       "  </tbody>\n",
       "</table>\n",
       "</div>"
      ],
      "text/plain": [
       "   valores\n",
       "A      100\n",
       "B      200\n",
       "C      300\n",
       "D      400\n",
       "E      500"
      ]
     },
     "execution_count": 28,
     "metadata": {},
     "output_type": "execute_result"
    }
   ],
   "source": [
    "df"
   ]
  },
  {
   "cell_type": "code",
   "execution_count": 31,
   "id": "801862a6-20e7-4bee-8eab-6341e36f1361",
   "metadata": {},
   "outputs": [
    {
     "data": {
      "text/plain": [
       "valores    300\n",
       "Name: C, dtype: int64"
      ]
     },
     "execution_count": 31,
     "metadata": {},
     "output_type": "execute_result"
    }
   ],
   "source": [
    "df.loc['C'] # Acessando o valor do índice 'C'"
   ]
  },
  {
   "cell_type": "code",
   "execution_count": 39,
   "id": "2a093606-9129-445d-888b-52861d0bb15d",
   "metadata": {},
   "outputs": [
    {
     "data": {
      "text/html": [
       "<div>\n",
       "<style scoped>\n",
       "    .dataframe tbody tr th:only-of-type {\n",
       "        vertical-align: middle;\n",
       "    }\n",
       "\n",
       "    .dataframe tbody tr th {\n",
       "        vertical-align: top;\n",
       "    }\n",
       "\n",
       "    .dataframe thead th {\n",
       "        text-align: right;\n",
       "    }\n",
       "</style>\n",
       "<table border=\"1\" class=\"dataframe\">\n",
       "  <thead>\n",
       "    <tr style=\"text-align: right;\">\n",
       "      <th></th>\n",
       "      <th>valores</th>\n",
       "    </tr>\n",
       "  </thead>\n",
       "  <tbody>\n",
       "    <tr>\n",
       "      <th>D</th>\n",
       "      <td>400</td>\n",
       "    </tr>\n",
       "  </tbody>\n",
       "</table>\n",
       "</div>"
      ],
      "text/plain": [
       "   valores\n",
       "D      400"
      ]
     },
     "execution_count": 39,
     "metadata": {},
     "output_type": "execute_result"
    }
   ],
   "source": [
    "# df.iloc[0:4] == 400\n",
    "\n",
    "# Verificando se o valor '400' está presente na Series 'valores'\n",
    "df[df['valores'] == 400]"
   ]
  },
  {
   "cell_type": "markdown",
   "id": "f95fa64e-6ae6-4f77-97d9-17f641a430f1",
   "metadata": {},
   "source": [
    "## 2.\n",
    "Crie um dataFrame com os dados abaixo:\n",
    "\n",
    "| Produto  | Preço | Quantidade |\n",
    "| -------- | ----- | ---------- |\n",
    "| Arroz    | 20    | 2          |\n",
    "| Feijão   | 8     | 4          |\n",
    "| Macarrão | 5     | 3          |\n",
    "| Leite    | 4     | 6          |\n",
    "\n",
    "\n",
    "- Calcule a coluna `\"Total\"` (Preço * Quantidade).\n",
    "- Exiba apenas a coluna Produto usando `.iloc[]`.\n",
    "- Exiba as 2 primeiras linhas usando `.iloc[]`."
   ]
  },
  {
   "cell_type": "code",
   "execution_count": 41,
   "id": "f09342f4-02bc-47ec-8968-e264a49ed3dd",
   "metadata": {},
   "outputs": [],
   "source": [
    "dados2 = {\n",
    "    'produto':['Arroz', 'Feijão', 'Macarrão', 'Leite'],\n",
    "    'preco':[20, 8, 5, 4],\n",
    "    'quantidade':[2, 4, 3, 6]\n",
    "}\n",
    "\n",
    "df2 = pd.DataFrame(dados2)"
   ]
  },
  {
   "cell_type": "code",
   "execution_count": 42,
   "id": "b6a54986-2ece-42b2-806e-4bac4eae5e26",
   "metadata": {},
   "outputs": [
    {
     "data": {
      "text/html": [
       "<div>\n",
       "<style scoped>\n",
       "    .dataframe tbody tr th:only-of-type {\n",
       "        vertical-align: middle;\n",
       "    }\n",
       "\n",
       "    .dataframe tbody tr th {\n",
       "        vertical-align: top;\n",
       "    }\n",
       "\n",
       "    .dataframe thead th {\n",
       "        text-align: right;\n",
       "    }\n",
       "</style>\n",
       "<table border=\"1\" class=\"dataframe\">\n",
       "  <thead>\n",
       "    <tr style=\"text-align: right;\">\n",
       "      <th></th>\n",
       "      <th>produto</th>\n",
       "      <th>preco</th>\n",
       "      <th>quantidade</th>\n",
       "    </tr>\n",
       "  </thead>\n",
       "  <tbody>\n",
       "    <tr>\n",
       "      <th>0</th>\n",
       "      <td>Arroz</td>\n",
       "      <td>20</td>\n",
       "      <td>2</td>\n",
       "    </tr>\n",
       "    <tr>\n",
       "      <th>1</th>\n",
       "      <td>Feijão</td>\n",
       "      <td>8</td>\n",
       "      <td>4</td>\n",
       "    </tr>\n",
       "    <tr>\n",
       "      <th>2</th>\n",
       "      <td>Macarrão</td>\n",
       "      <td>5</td>\n",
       "      <td>3</td>\n",
       "    </tr>\n",
       "    <tr>\n",
       "      <th>3</th>\n",
       "      <td>Leite</td>\n",
       "      <td>4</td>\n",
       "      <td>6</td>\n",
       "    </tr>\n",
       "  </tbody>\n",
       "</table>\n",
       "</div>"
      ],
      "text/plain": [
       "    produto  preco  quantidade\n",
       "0     Arroz     20           2\n",
       "1    Feijão      8           4\n",
       "2  Macarrão      5           3\n",
       "3     Leite      4           6"
      ]
     },
     "execution_count": 42,
     "metadata": {},
     "output_type": "execute_result"
    }
   ],
   "source": [
    "df2"
   ]
  },
  {
   "cell_type": "code",
   "execution_count": 43,
   "id": "419dd3ac-3297-4f6a-b945-5e8073b03a10",
   "metadata": {},
   "outputs": [],
   "source": [
    "# Criando a coluna 'Total' no dataframe e calculando\n",
    "df2['Total'] = df2['preco'] * df2['quantidade']"
   ]
  },
  {
   "cell_type": "code",
   "execution_count": 44,
   "id": "399c9764-700c-44bc-a3c3-7c34d94294ec",
   "metadata": {},
   "outputs": [
    {
     "data": {
      "text/html": [
       "<div>\n",
       "<style scoped>\n",
       "    .dataframe tbody tr th:only-of-type {\n",
       "        vertical-align: middle;\n",
       "    }\n",
       "\n",
       "    .dataframe tbody tr th {\n",
       "        vertical-align: top;\n",
       "    }\n",
       "\n",
       "    .dataframe thead th {\n",
       "        text-align: right;\n",
       "    }\n",
       "</style>\n",
       "<table border=\"1\" class=\"dataframe\">\n",
       "  <thead>\n",
       "    <tr style=\"text-align: right;\">\n",
       "      <th></th>\n",
       "      <th>produto</th>\n",
       "      <th>preco</th>\n",
       "      <th>quantidade</th>\n",
       "      <th>Total</th>\n",
       "    </tr>\n",
       "  </thead>\n",
       "  <tbody>\n",
       "    <tr>\n",
       "      <th>0</th>\n",
       "      <td>Arroz</td>\n",
       "      <td>20</td>\n",
       "      <td>2</td>\n",
       "      <td>40</td>\n",
       "    </tr>\n",
       "    <tr>\n",
       "      <th>1</th>\n",
       "      <td>Feijão</td>\n",
       "      <td>8</td>\n",
       "      <td>4</td>\n",
       "      <td>32</td>\n",
       "    </tr>\n",
       "    <tr>\n",
       "      <th>2</th>\n",
       "      <td>Macarrão</td>\n",
       "      <td>5</td>\n",
       "      <td>3</td>\n",
       "      <td>15</td>\n",
       "    </tr>\n",
       "    <tr>\n",
       "      <th>3</th>\n",
       "      <td>Leite</td>\n",
       "      <td>4</td>\n",
       "      <td>6</td>\n",
       "      <td>24</td>\n",
       "    </tr>\n",
       "  </tbody>\n",
       "</table>\n",
       "</div>"
      ],
      "text/plain": [
       "    produto  preco  quantidade  Total\n",
       "0     Arroz     20           2     40\n",
       "1    Feijão      8           4     32\n",
       "2  Macarrão      5           3     15\n",
       "3     Leite      4           6     24"
      ]
     },
     "execution_count": 44,
     "metadata": {},
     "output_type": "execute_result"
    }
   ],
   "source": [
    "df2"
   ]
  },
  {
   "cell_type": "code",
   "execution_count": 47,
   "id": "46704b2a-ea6d-4fe1-99eb-2703e83577c0",
   "metadata": {},
   "outputs": [
    {
     "data": {
      "text/plain": [
       "0       Arroz\n",
       "1      Feijão\n",
       "2    Macarrão\n",
       "3       Leite\n",
       "Name: produto, dtype: object"
      ]
     },
     "execution_count": 47,
     "metadata": {},
     "output_type": "execute_result"
    }
   ],
   "source": [
    "# Exiba apenas a coluna Produto usando .iloc[].\n",
    "df2.iloc[:, 0]"
   ]
  },
  {
   "cell_type": "code",
   "execution_count": 49,
   "id": "1a07113b-9e5e-452f-babd-9067e6c376fb",
   "metadata": {},
   "outputs": [
    {
     "data": {
      "text/html": [
       "<div>\n",
       "<style scoped>\n",
       "    .dataframe tbody tr th:only-of-type {\n",
       "        vertical-align: middle;\n",
       "    }\n",
       "\n",
       "    .dataframe tbody tr th {\n",
       "        vertical-align: top;\n",
       "    }\n",
       "\n",
       "    .dataframe thead th {\n",
       "        text-align: right;\n",
       "    }\n",
       "</style>\n",
       "<table border=\"1\" class=\"dataframe\">\n",
       "  <thead>\n",
       "    <tr style=\"text-align: right;\">\n",
       "      <th></th>\n",
       "      <th>produto</th>\n",
       "      <th>preco</th>\n",
       "      <th>quantidade</th>\n",
       "      <th>Total</th>\n",
       "    </tr>\n",
       "  </thead>\n",
       "  <tbody>\n",
       "    <tr>\n",
       "      <th>0</th>\n",
       "      <td>Arroz</td>\n",
       "      <td>20</td>\n",
       "      <td>2</td>\n",
       "      <td>40</td>\n",
       "    </tr>\n",
       "    <tr>\n",
       "      <th>1</th>\n",
       "      <td>Feijão</td>\n",
       "      <td>8</td>\n",
       "      <td>4</td>\n",
       "      <td>32</td>\n",
       "    </tr>\n",
       "  </tbody>\n",
       "</table>\n",
       "</div>"
      ],
      "text/plain": [
       "  produto  preco  quantidade  Total\n",
       "0   Arroz     20           2     40\n",
       "1  Feijão      8           4     32"
      ]
     },
     "execution_count": 49,
     "metadata": {},
     "output_type": "execute_result"
    }
   ],
   "source": [
    "# Exiba as 2 primeiras linhas usando .iloc[].\n",
    "df2.iloc[0:2]"
   ]
  },
  {
   "cell_type": "markdown",
   "id": "ce977c2e-4c74-49b9-97d1-416d04ffc488",
   "metadata": {},
   "source": [
    "___"
   ]
  },
  {
   "cell_type": "markdown",
   "id": "c517f847-7cd7-41ae-a655-3bc15dbe7797",
   "metadata": {},
   "source": [
    "# 🎯 Parte 2 — Filtros e Indexação"
   ]
  },
  {
   "cell_type": "markdown",
   "id": "c02fe8e2-f1e4-4d7a-8c10-865ada6ba52b",
   "metadata": {},
   "source": [
    "## 3.\n",
    "Filtre o DataFrame acima para:\n",
    "- Mostrar os produtos com Preço maior que 5.\n",
    "- Mostrar os produtos com Quantidade menor ou igual a 3.\n",
    "- Mostrar produtos cujo nome seja 'Feijão' ou 'Leite'."
   ]
  },
  {
   "cell_type": "code",
   "execution_count": 51,
   "id": "34b058ad-a5db-4807-beee-8aef13d87712",
   "metadata": {},
   "outputs": [
    {
     "data": {
      "text/html": [
       "<div>\n",
       "<style scoped>\n",
       "    .dataframe tbody tr th:only-of-type {\n",
       "        vertical-align: middle;\n",
       "    }\n",
       "\n",
       "    .dataframe tbody tr th {\n",
       "        vertical-align: top;\n",
       "    }\n",
       "\n",
       "    .dataframe thead th {\n",
       "        text-align: right;\n",
       "    }\n",
       "</style>\n",
       "<table border=\"1\" class=\"dataframe\">\n",
       "  <thead>\n",
       "    <tr style=\"text-align: right;\">\n",
       "      <th></th>\n",
       "      <th>produto</th>\n",
       "      <th>preco</th>\n",
       "      <th>quantidade</th>\n",
       "      <th>Total</th>\n",
       "    </tr>\n",
       "  </thead>\n",
       "  <tbody>\n",
       "    <tr>\n",
       "      <th>0</th>\n",
       "      <td>Arroz</td>\n",
       "      <td>20</td>\n",
       "      <td>2</td>\n",
       "      <td>40</td>\n",
       "    </tr>\n",
       "    <tr>\n",
       "      <th>1</th>\n",
       "      <td>Feijão</td>\n",
       "      <td>8</td>\n",
       "      <td>4</td>\n",
       "      <td>32</td>\n",
       "    </tr>\n",
       "    <tr>\n",
       "      <th>2</th>\n",
       "      <td>Macarrão</td>\n",
       "      <td>5</td>\n",
       "      <td>3</td>\n",
       "      <td>15</td>\n",
       "    </tr>\n",
       "    <tr>\n",
       "      <th>3</th>\n",
       "      <td>Leite</td>\n",
       "      <td>4</td>\n",
       "      <td>6</td>\n",
       "      <td>24</td>\n",
       "    </tr>\n",
       "  </tbody>\n",
       "</table>\n",
       "</div>"
      ],
      "text/plain": [
       "    produto  preco  quantidade  Total\n",
       "0     Arroz     20           2     40\n",
       "1    Feijão      8           4     32\n",
       "2  Macarrão      5           3     15\n",
       "3     Leite      4           6     24"
      ]
     },
     "execution_count": 51,
     "metadata": {},
     "output_type": "execute_result"
    }
   ],
   "source": [
    "df2 # Será o DataFrame utilizado nesse exercicio"
   ]
  },
  {
   "cell_type": "code",
   "execution_count": 52,
   "id": "a17656b2-2278-40f7-a637-5fdc40f84a84",
   "metadata": {},
   "outputs": [
    {
     "data": {
      "text/html": [
       "<div>\n",
       "<style scoped>\n",
       "    .dataframe tbody tr th:only-of-type {\n",
       "        vertical-align: middle;\n",
       "    }\n",
       "\n",
       "    .dataframe tbody tr th {\n",
       "        vertical-align: top;\n",
       "    }\n",
       "\n",
       "    .dataframe thead th {\n",
       "        text-align: right;\n",
       "    }\n",
       "</style>\n",
       "<table border=\"1\" class=\"dataframe\">\n",
       "  <thead>\n",
       "    <tr style=\"text-align: right;\">\n",
       "      <th></th>\n",
       "      <th>produto</th>\n",
       "      <th>preco</th>\n",
       "      <th>quantidade</th>\n",
       "      <th>Total</th>\n",
       "    </tr>\n",
       "  </thead>\n",
       "  <tbody>\n",
       "    <tr>\n",
       "      <th>0</th>\n",
       "      <td>Arroz</td>\n",
       "      <td>20</td>\n",
       "      <td>2</td>\n",
       "      <td>40</td>\n",
       "    </tr>\n",
       "    <tr>\n",
       "      <th>1</th>\n",
       "      <td>Feijão</td>\n",
       "      <td>8</td>\n",
       "      <td>4</td>\n",
       "      <td>32</td>\n",
       "    </tr>\n",
       "  </tbody>\n",
       "</table>\n",
       "</div>"
      ],
      "text/plain": [
       "  produto  preco  quantidade  Total\n",
       "0   Arroz     20           2     40\n",
       "1  Feijão      8           4     32"
      ]
     },
     "execution_count": 52,
     "metadata": {},
     "output_type": "execute_result"
    }
   ],
   "source": [
    "# Mostrar os produtos com Preço maior que 5.\n",
    "df2[df2['preco'] > 5]"
   ]
  },
  {
   "cell_type": "code",
   "execution_count": 53,
   "id": "2811bd16-6895-4b19-89e8-2bdcf24f97d3",
   "metadata": {},
   "outputs": [
    {
     "data": {
      "text/html": [
       "<div>\n",
       "<style scoped>\n",
       "    .dataframe tbody tr th:only-of-type {\n",
       "        vertical-align: middle;\n",
       "    }\n",
       "\n",
       "    .dataframe tbody tr th {\n",
       "        vertical-align: top;\n",
       "    }\n",
       "\n",
       "    .dataframe thead th {\n",
       "        text-align: right;\n",
       "    }\n",
       "</style>\n",
       "<table border=\"1\" class=\"dataframe\">\n",
       "  <thead>\n",
       "    <tr style=\"text-align: right;\">\n",
       "      <th></th>\n",
       "      <th>produto</th>\n",
       "      <th>preco</th>\n",
       "      <th>quantidade</th>\n",
       "      <th>Total</th>\n",
       "    </tr>\n",
       "  </thead>\n",
       "  <tbody>\n",
       "    <tr>\n",
       "      <th>0</th>\n",
       "      <td>Arroz</td>\n",
       "      <td>20</td>\n",
       "      <td>2</td>\n",
       "      <td>40</td>\n",
       "    </tr>\n",
       "    <tr>\n",
       "      <th>2</th>\n",
       "      <td>Macarrão</td>\n",
       "      <td>5</td>\n",
       "      <td>3</td>\n",
       "      <td>15</td>\n",
       "    </tr>\n",
       "  </tbody>\n",
       "</table>\n",
       "</div>"
      ],
      "text/plain": [
       "    produto  preco  quantidade  Total\n",
       "0     Arroz     20           2     40\n",
       "2  Macarrão      5           3     15"
      ]
     },
     "execution_count": 53,
     "metadata": {},
     "output_type": "execute_result"
    }
   ],
   "source": [
    "# Mostrar os produtos com Quantidade menor ou igual a 3.\n",
    "df2[df2['quantidade'] <= 3]"
   ]
  },
  {
   "cell_type": "code",
   "execution_count": 58,
   "id": "3f325f62-26f1-482a-a1dd-1a2ce90d3c5e",
   "metadata": {},
   "outputs": [
    {
     "data": {
      "text/html": [
       "<div>\n",
       "<style scoped>\n",
       "    .dataframe tbody tr th:only-of-type {\n",
       "        vertical-align: middle;\n",
       "    }\n",
       "\n",
       "    .dataframe tbody tr th {\n",
       "        vertical-align: top;\n",
       "    }\n",
       "\n",
       "    .dataframe thead th {\n",
       "        text-align: right;\n",
       "    }\n",
       "</style>\n",
       "<table border=\"1\" class=\"dataframe\">\n",
       "  <thead>\n",
       "    <tr style=\"text-align: right;\">\n",
       "      <th></th>\n",
       "      <th>produto</th>\n",
       "      <th>preco</th>\n",
       "      <th>quantidade</th>\n",
       "      <th>Total</th>\n",
       "    </tr>\n",
       "  </thead>\n",
       "  <tbody>\n",
       "    <tr>\n",
       "      <th>1</th>\n",
       "      <td>Feijão</td>\n",
       "      <td>8</td>\n",
       "      <td>4</td>\n",
       "      <td>32</td>\n",
       "    </tr>\n",
       "    <tr>\n",
       "      <th>3</th>\n",
       "      <td>Leite</td>\n",
       "      <td>4</td>\n",
       "      <td>6</td>\n",
       "      <td>24</td>\n",
       "    </tr>\n",
       "  </tbody>\n",
       "</table>\n",
       "</div>"
      ],
      "text/plain": [
       "  produto  preco  quantidade  Total\n",
       "1  Feijão      8           4     32\n",
       "3   Leite      4           6     24"
      ]
     },
     "execution_count": 58,
     "metadata": {},
     "output_type": "execute_result"
    }
   ],
   "source": [
    "# Mostrar produtos cujo nome seja 'Feijão' ou 'Leite'.\n",
    "df2[(df2['produto'] == 'Feijão') | (df2['produto'] == 'Leite')]"
   ]
  },
  {
   "cell_type": "code",
   "execution_count": 62,
   "id": "a5a0d0dd-e909-4b8d-9705-d5398013d77e",
   "metadata": {},
   "outputs": [
    {
     "data": {
      "text/html": [
       "<div>\n",
       "<style scoped>\n",
       "    .dataframe tbody tr th:only-of-type {\n",
       "        vertical-align: middle;\n",
       "    }\n",
       "\n",
       "    .dataframe tbody tr th {\n",
       "        vertical-align: top;\n",
       "    }\n",
       "\n",
       "    .dataframe thead th {\n",
       "        text-align: right;\n",
       "    }\n",
       "</style>\n",
       "<table border=\"1\" class=\"dataframe\">\n",
       "  <thead>\n",
       "    <tr style=\"text-align: right;\">\n",
       "      <th></th>\n",
       "      <th>produto</th>\n",
       "      <th>preco</th>\n",
       "      <th>quantidade</th>\n",
       "      <th>Total</th>\n",
       "    </tr>\n",
       "  </thead>\n",
       "  <tbody>\n",
       "    <tr>\n",
       "      <th>1</th>\n",
       "      <td>Feijão</td>\n",
       "      <td>8</td>\n",
       "      <td>4</td>\n",
       "      <td>32</td>\n",
       "    </tr>\n",
       "    <tr>\n",
       "      <th>3</th>\n",
       "      <td>Leite</td>\n",
       "      <td>4</td>\n",
       "      <td>6</td>\n",
       "      <td>24</td>\n",
       "    </tr>\n",
       "  </tbody>\n",
       "</table>\n",
       "</div>"
      ],
      "text/plain": [
       "  produto  preco  quantidade  Total\n",
       "1  Feijão      8           4     32\n",
       "3   Leite      4           6     24"
      ]
     },
     "execution_count": 62,
     "metadata": {},
     "output_type": "execute_result"
    }
   ],
   "source": [
    "# Mostrar produtos cujo nome seja 'Feijão' ou 'Leite'.\n",
    "# Mostrando de outra maneira para ser resolvido:\n",
    "df2[df2['produto'].isin(['Feijão', 'Leite'])]"
   ]
  },
  {
   "cell_type": "markdown",
   "id": "5da351af-55bf-4082-a5fa-7d611527a5d8",
   "metadata": {},
   "source": [
    "## 4\n",
    "Defina a coluna 'Produto' como índice do DataFrame.\n",
    "- Filtre apenas os dados do produto 'Arroz'."
   ]
  },
  {
   "cell_type": "code",
   "execution_count": 60,
   "id": "a0a0deae-36a8-430a-83f4-9b2ffff53ddf",
   "metadata": {},
   "outputs": [
    {
     "data": {
      "text/html": [
       "<div>\n",
       "<style scoped>\n",
       "    .dataframe tbody tr th:only-of-type {\n",
       "        vertical-align: middle;\n",
       "    }\n",
       "\n",
       "    .dataframe tbody tr th {\n",
       "        vertical-align: top;\n",
       "    }\n",
       "\n",
       "    .dataframe thead th {\n",
       "        text-align: right;\n",
       "    }\n",
       "</style>\n",
       "<table border=\"1\" class=\"dataframe\">\n",
       "  <thead>\n",
       "    <tr style=\"text-align: right;\">\n",
       "      <th></th>\n",
       "      <th>produto</th>\n",
       "      <th>preco</th>\n",
       "      <th>quantidade</th>\n",
       "      <th>Total</th>\n",
       "    </tr>\n",
       "  </thead>\n",
       "  <tbody>\n",
       "    <tr>\n",
       "      <th>0</th>\n",
       "      <td>Arroz</td>\n",
       "      <td>20</td>\n",
       "      <td>2</td>\n",
       "      <td>40</td>\n",
       "    </tr>\n",
       "    <tr>\n",
       "      <th>1</th>\n",
       "      <td>Feijão</td>\n",
       "      <td>8</td>\n",
       "      <td>4</td>\n",
       "      <td>32</td>\n",
       "    </tr>\n",
       "    <tr>\n",
       "      <th>2</th>\n",
       "      <td>Macarrão</td>\n",
       "      <td>5</td>\n",
       "      <td>3</td>\n",
       "      <td>15</td>\n",
       "    </tr>\n",
       "    <tr>\n",
       "      <th>3</th>\n",
       "      <td>Leite</td>\n",
       "      <td>4</td>\n",
       "      <td>6</td>\n",
       "      <td>24</td>\n",
       "    </tr>\n",
       "  </tbody>\n",
       "</table>\n",
       "</div>"
      ],
      "text/plain": [
       "    produto  preco  quantidade  Total\n",
       "0     Arroz     20           2     40\n",
       "1    Feijão      8           4     32\n",
       "2  Macarrão      5           3     15\n",
       "3     Leite      4           6     24"
      ]
     },
     "execution_count": 60,
     "metadata": {},
     "output_type": "execute_result"
    }
   ],
   "source": [
    "df2"
   ]
  },
  {
   "cell_type": "code",
   "execution_count": 64,
   "id": "771bd409-2d31-43ca-b462-cc8a1afd5539",
   "metadata": {},
   "outputs": [],
   "source": [
    "df2.set_index('produto', inplace=True)"
   ]
  },
  {
   "cell_type": "code",
   "execution_count": 65,
   "id": "55aa2d44-2983-44cf-a51b-aecd3dd38a35",
   "metadata": {},
   "outputs": [
    {
     "data": {
      "text/html": [
       "<div>\n",
       "<style scoped>\n",
       "    .dataframe tbody tr th:only-of-type {\n",
       "        vertical-align: middle;\n",
       "    }\n",
       "\n",
       "    .dataframe tbody tr th {\n",
       "        vertical-align: top;\n",
       "    }\n",
       "\n",
       "    .dataframe thead th {\n",
       "        text-align: right;\n",
       "    }\n",
       "</style>\n",
       "<table border=\"1\" class=\"dataframe\">\n",
       "  <thead>\n",
       "    <tr style=\"text-align: right;\">\n",
       "      <th></th>\n",
       "      <th>preco</th>\n",
       "      <th>quantidade</th>\n",
       "      <th>Total</th>\n",
       "    </tr>\n",
       "    <tr>\n",
       "      <th>produto</th>\n",
       "      <th></th>\n",
       "      <th></th>\n",
       "      <th></th>\n",
       "    </tr>\n",
       "  </thead>\n",
       "  <tbody>\n",
       "    <tr>\n",
       "      <th>Arroz</th>\n",
       "      <td>20</td>\n",
       "      <td>2</td>\n",
       "      <td>40</td>\n",
       "    </tr>\n",
       "    <tr>\n",
       "      <th>Feijão</th>\n",
       "      <td>8</td>\n",
       "      <td>4</td>\n",
       "      <td>32</td>\n",
       "    </tr>\n",
       "    <tr>\n",
       "      <th>Macarrão</th>\n",
       "      <td>5</td>\n",
       "      <td>3</td>\n",
       "      <td>15</td>\n",
       "    </tr>\n",
       "    <tr>\n",
       "      <th>Leite</th>\n",
       "      <td>4</td>\n",
       "      <td>6</td>\n",
       "      <td>24</td>\n",
       "    </tr>\n",
       "  </tbody>\n",
       "</table>\n",
       "</div>"
      ],
      "text/plain": [
       "          preco  quantidade  Total\n",
       "produto                           \n",
       "Arroz        20           2     40\n",
       "Feijão        8           4     32\n",
       "Macarrão      5           3     15\n",
       "Leite         4           6     24"
      ]
     },
     "execution_count": 65,
     "metadata": {},
     "output_type": "execute_result"
    }
   ],
   "source": [
    "df2"
   ]
  },
  {
   "cell_type": "code",
   "execution_count": 67,
   "id": "05ca3c92-8688-47a0-80c2-d00d903de102",
   "metadata": {},
   "outputs": [
    {
     "data": {
      "text/plain": [
       "preco         20\n",
       "quantidade     2\n",
       "Total         40\n",
       "Name: Arroz, dtype: int64"
      ]
     },
     "execution_count": 67,
     "metadata": {},
     "output_type": "execute_result"
    }
   ],
   "source": [
    "# Filtre apenas os dados do produto 'Arroz'.\n",
    "df2.iloc[0]"
   ]
  },
  {
   "cell_type": "markdown",
   "id": "beb56e57-f9ab-4776-ae93-5d0cfe1457f2",
   "metadata": {},
   "source": [
    "___"
   ]
  },
  {
   "cell_type": "markdown",
   "id": "6369b41f-9942-4d70-a329-88ca7735405e",
   "metadata": {},
   "source": [
    "# 🎯 Parte 3 — Dados Ausentes"
   ]
  },
  {
   "cell_type": "markdown",
   "id": "a829e925-6b36-45b0-b8d6-aeb8245400bc",
   "metadata": {},
   "source": [
    "## 5.\n",
    "Crie um novo DataFrame com dados faltantes:\n",
    "\n",
    "| Nome  | Idade | Cidade         |\n",
    "| ----- | ----- | -------------- |\n",
    "| Ana   | 25    | São Paulo      |\n",
    "| Bruno | NaN   | Rio de Janeiro |\n",
    "| Carla | 30    | NaN            |\n",
    "\n",
    "\n",
    "- Verifique onde existem dados ausentes.\n",
    "- Preencha as idades ausentes com a média das idades.\n",
    "- Preencha as cidades ausentes com `\"Não informado\"`."
   ]
  },
  {
   "cell_type": "code",
   "execution_count": 68,
   "id": "0c31388f-dd75-4105-8f81-db448e318780",
   "metadata": {},
   "outputs": [],
   "source": [
    "import numpy as np\n",
    "\n",
    "dados3 = {\n",
    "    'Nome':['Ana', 'Bruno', 'Carla'],\n",
    "    'Idade':[25, np.nan, 30],\n",
    "    'Cidade':['São Paulo', 'Rio de Janeiro', np.nan]\n",
    "}\n",
    "\n",
    "df3 = pd.DataFrame(dados3)"
   ]
  },
  {
   "cell_type": "code",
   "execution_count": 69,
   "id": "9e839030-34f3-4217-ac96-b7aadf99af31",
   "metadata": {},
   "outputs": [
    {
     "data": {
      "text/html": [
       "<div>\n",
       "<style scoped>\n",
       "    .dataframe tbody tr th:only-of-type {\n",
       "        vertical-align: middle;\n",
       "    }\n",
       "\n",
       "    .dataframe tbody tr th {\n",
       "        vertical-align: top;\n",
       "    }\n",
       "\n",
       "    .dataframe thead th {\n",
       "        text-align: right;\n",
       "    }\n",
       "</style>\n",
       "<table border=\"1\" class=\"dataframe\">\n",
       "  <thead>\n",
       "    <tr style=\"text-align: right;\">\n",
       "      <th></th>\n",
       "      <th>Nome</th>\n",
       "      <th>Idade</th>\n",
       "      <th>Cidade</th>\n",
       "    </tr>\n",
       "  </thead>\n",
       "  <tbody>\n",
       "    <tr>\n",
       "      <th>0</th>\n",
       "      <td>Ana</td>\n",
       "      <td>25.0</td>\n",
       "      <td>São Paulo</td>\n",
       "    </tr>\n",
       "    <tr>\n",
       "      <th>1</th>\n",
       "      <td>Bruno</td>\n",
       "      <td>NaN</td>\n",
       "      <td>Rio de Janeiro</td>\n",
       "    </tr>\n",
       "    <tr>\n",
       "      <th>2</th>\n",
       "      <td>Carla</td>\n",
       "      <td>30.0</td>\n",
       "      <td>NaN</td>\n",
       "    </tr>\n",
       "  </tbody>\n",
       "</table>\n",
       "</div>"
      ],
      "text/plain": [
       "    Nome  Idade          Cidade\n",
       "0    Ana   25.0       São Paulo\n",
       "1  Bruno    NaN  Rio de Janeiro\n",
       "2  Carla   30.0             NaN"
      ]
     },
     "execution_count": 69,
     "metadata": {},
     "output_type": "execute_result"
    }
   ],
   "source": [
    "df3"
   ]
  },
  {
   "cell_type": "code",
   "execution_count": 71,
   "id": "61d460a3-2ace-4570-b169-0fec523d99ff",
   "metadata": {},
   "outputs": [
    {
     "data": {
      "text/html": [
       "<div>\n",
       "<style scoped>\n",
       "    .dataframe tbody tr th:only-of-type {\n",
       "        vertical-align: middle;\n",
       "    }\n",
       "\n",
       "    .dataframe tbody tr th {\n",
       "        vertical-align: top;\n",
       "    }\n",
       "\n",
       "    .dataframe thead th {\n",
       "        text-align: right;\n",
       "    }\n",
       "</style>\n",
       "<table border=\"1\" class=\"dataframe\">\n",
       "  <thead>\n",
       "    <tr style=\"text-align: right;\">\n",
       "      <th></th>\n",
       "      <th>Nome</th>\n",
       "      <th>Idade</th>\n",
       "      <th>Cidade</th>\n",
       "    </tr>\n",
       "  </thead>\n",
       "  <tbody>\n",
       "    <tr>\n",
       "      <th>0</th>\n",
       "      <td>False</td>\n",
       "      <td>False</td>\n",
       "      <td>False</td>\n",
       "    </tr>\n",
       "    <tr>\n",
       "      <th>1</th>\n",
       "      <td>False</td>\n",
       "      <td>True</td>\n",
       "      <td>False</td>\n",
       "    </tr>\n",
       "    <tr>\n",
       "      <th>2</th>\n",
       "      <td>False</td>\n",
       "      <td>False</td>\n",
       "      <td>True</td>\n",
       "    </tr>\n",
       "  </tbody>\n",
       "</table>\n",
       "</div>"
      ],
      "text/plain": [
       "    Nome  Idade  Cidade\n",
       "0  False  False   False\n",
       "1  False   True   False\n",
       "2  False  False    True"
      ]
     },
     "execution_count": 71,
     "metadata": {},
     "output_type": "execute_result"
    }
   ],
   "source": [
    "# Verifique onde existem dados ausentes.\n",
    "df3.isnull() # -> Vai mostrar True onde estiver ausente!"
   ]
  },
  {
   "cell_type": "code",
   "execution_count": 74,
   "id": "a963b580-9f22-4a9b-a87f-e0eaa024466f",
   "metadata": {},
   "outputs": [],
   "source": [
    "# Preencha as idades ausentes com a média das idades.\n",
    "df3['Idade'] = df3['Idade'].fillna(df3['Idade'].mean())\n",
    "\n",
    "# Preencha as cidades ausentes com \"Não informado\".\n",
    "df3['Cidade'] = df3['Cidade'].fillna('Não Informado')"
   ]
  },
  {
   "cell_type": "code",
   "execution_count": 75,
   "id": "fcd4d721-3c17-44b5-b9e7-cd12059a5724",
   "metadata": {},
   "outputs": [
    {
     "data": {
      "text/html": [
       "<div>\n",
       "<style scoped>\n",
       "    .dataframe tbody tr th:only-of-type {\n",
       "        vertical-align: middle;\n",
       "    }\n",
       "\n",
       "    .dataframe tbody tr th {\n",
       "        vertical-align: top;\n",
       "    }\n",
       "\n",
       "    .dataframe thead th {\n",
       "        text-align: right;\n",
       "    }\n",
       "</style>\n",
       "<table border=\"1\" class=\"dataframe\">\n",
       "  <thead>\n",
       "    <tr style=\"text-align: right;\">\n",
       "      <th></th>\n",
       "      <th>Nome</th>\n",
       "      <th>Idade</th>\n",
       "      <th>Cidade</th>\n",
       "    </tr>\n",
       "  </thead>\n",
       "  <tbody>\n",
       "    <tr>\n",
       "      <th>0</th>\n",
       "      <td>Ana</td>\n",
       "      <td>25.0</td>\n",
       "      <td>São Paulo</td>\n",
       "    </tr>\n",
       "    <tr>\n",
       "      <th>1</th>\n",
       "      <td>Bruno</td>\n",
       "      <td>27.5</td>\n",
       "      <td>Rio de Janeiro</td>\n",
       "    </tr>\n",
       "    <tr>\n",
       "      <th>2</th>\n",
       "      <td>Carla</td>\n",
       "      <td>30.0</td>\n",
       "      <td>Não Informado</td>\n",
       "    </tr>\n",
       "  </tbody>\n",
       "</table>\n",
       "</div>"
      ],
      "text/plain": [
       "    Nome  Idade          Cidade\n",
       "0    Ana   25.0       São Paulo\n",
       "1  Bruno   27.5  Rio de Janeiro\n",
       "2  Carla   30.0   Não Informado"
      ]
     },
     "execution_count": 75,
     "metadata": {},
     "output_type": "execute_result"
    }
   ],
   "source": [
    "df3"
   ]
  },
  {
   "cell_type": "markdown",
   "id": "042dc0d3-3248-450d-89f9-134c0e6dbea2",
   "metadata": {},
   "source": [
    "___"
   ]
  },
  {
   "cell_type": "markdown",
   "id": "d0c2acea-b653-4699-b93e-7df4be802646",
   "metadata": {},
   "source": [
    "# 🎯 Parte 4 — Operações com DataFrames\n",
    "\n",
    "\n",
    "## 6. \n",
    "No DataFrame dos produtos:\n",
    "- Aplique um desconto de 10% no preço e salve em uma nova coluna 'Preço_com_Desconto'.\n",
    "- Calcule o preço médio dos produtos.\n",
    "- Crie uma coluna booleana 'Caro' que indique se o produto custa mais que R$10."
   ]
  },
  {
   "cell_type": "code",
   "execution_count": 76,
   "id": "62a41747-c584-4f49-9abc-c89d89305cd3",
   "metadata": {},
   "outputs": [
    {
     "data": {
      "text/html": [
       "<div>\n",
       "<style scoped>\n",
       "    .dataframe tbody tr th:only-of-type {\n",
       "        vertical-align: middle;\n",
       "    }\n",
       "\n",
       "    .dataframe tbody tr th {\n",
       "        vertical-align: top;\n",
       "    }\n",
       "\n",
       "    .dataframe thead th {\n",
       "        text-align: right;\n",
       "    }\n",
       "</style>\n",
       "<table border=\"1\" class=\"dataframe\">\n",
       "  <thead>\n",
       "    <tr style=\"text-align: right;\">\n",
       "      <th></th>\n",
       "      <th>preco</th>\n",
       "      <th>quantidade</th>\n",
       "      <th>Total</th>\n",
       "    </tr>\n",
       "    <tr>\n",
       "      <th>produto</th>\n",
       "      <th></th>\n",
       "      <th></th>\n",
       "      <th></th>\n",
       "    </tr>\n",
       "  </thead>\n",
       "  <tbody>\n",
       "    <tr>\n",
       "      <th>Arroz</th>\n",
       "      <td>20</td>\n",
       "      <td>2</td>\n",
       "      <td>40</td>\n",
       "    </tr>\n",
       "    <tr>\n",
       "      <th>Feijão</th>\n",
       "      <td>8</td>\n",
       "      <td>4</td>\n",
       "      <td>32</td>\n",
       "    </tr>\n",
       "    <tr>\n",
       "      <th>Macarrão</th>\n",
       "      <td>5</td>\n",
       "      <td>3</td>\n",
       "      <td>15</td>\n",
       "    </tr>\n",
       "    <tr>\n",
       "      <th>Leite</th>\n",
       "      <td>4</td>\n",
       "      <td>6</td>\n",
       "      <td>24</td>\n",
       "    </tr>\n",
       "  </tbody>\n",
       "</table>\n",
       "</div>"
      ],
      "text/plain": [
       "          preco  quantidade  Total\n",
       "produto                           \n",
       "Arroz        20           2     40\n",
       "Feijão        8           4     32\n",
       "Macarrão      5           3     15\n",
       "Leite         4           6     24"
      ]
     },
     "execution_count": 76,
     "metadata": {},
     "output_type": "execute_result"
    }
   ],
   "source": [
    "df2 # Será utilizado esse DataFrame para esse exercício"
   ]
  },
  {
   "cell_type": "code",
   "execution_count": 77,
   "id": "8985e6a3-3237-4112-b127-0285512f8371",
   "metadata": {},
   "outputs": [],
   "source": [
    "# Aplique um desconto de 10% no preço e salve em uma nova coluna 'Preço_com_Desconto'.\n",
    "desconto = df2['preco'] / 10 # Para calcular 10% de desconto em um produto, você pode dividir o preço original do produto por 10.\n",
    "df2['Preco_Com_Desconto'] = df2['preco'] - desconto"
   ]
  },
  {
   "cell_type": "code",
   "execution_count": 78,
   "id": "c5588d04-4e41-4c68-a1b1-048a564c55d0",
   "metadata": {},
   "outputs": [
    {
     "data": {
      "text/html": [
       "<div>\n",
       "<style scoped>\n",
       "    .dataframe tbody tr th:only-of-type {\n",
       "        vertical-align: middle;\n",
       "    }\n",
       "\n",
       "    .dataframe tbody tr th {\n",
       "        vertical-align: top;\n",
       "    }\n",
       "\n",
       "    .dataframe thead th {\n",
       "        text-align: right;\n",
       "    }\n",
       "</style>\n",
       "<table border=\"1\" class=\"dataframe\">\n",
       "  <thead>\n",
       "    <tr style=\"text-align: right;\">\n",
       "      <th></th>\n",
       "      <th>preco</th>\n",
       "      <th>quantidade</th>\n",
       "      <th>Total</th>\n",
       "      <th>Preco_Com_Desconto</th>\n",
       "    </tr>\n",
       "    <tr>\n",
       "      <th>produto</th>\n",
       "      <th></th>\n",
       "      <th></th>\n",
       "      <th></th>\n",
       "      <th></th>\n",
       "    </tr>\n",
       "  </thead>\n",
       "  <tbody>\n",
       "    <tr>\n",
       "      <th>Arroz</th>\n",
       "      <td>20</td>\n",
       "      <td>2</td>\n",
       "      <td>40</td>\n",
       "      <td>18.0</td>\n",
       "    </tr>\n",
       "    <tr>\n",
       "      <th>Feijão</th>\n",
       "      <td>8</td>\n",
       "      <td>4</td>\n",
       "      <td>32</td>\n",
       "      <td>7.2</td>\n",
       "    </tr>\n",
       "    <tr>\n",
       "      <th>Macarrão</th>\n",
       "      <td>5</td>\n",
       "      <td>3</td>\n",
       "      <td>15</td>\n",
       "      <td>4.5</td>\n",
       "    </tr>\n",
       "    <tr>\n",
       "      <th>Leite</th>\n",
       "      <td>4</td>\n",
       "      <td>6</td>\n",
       "      <td>24</td>\n",
       "      <td>3.6</td>\n",
       "    </tr>\n",
       "  </tbody>\n",
       "</table>\n",
       "</div>"
      ],
      "text/plain": [
       "          preco  quantidade  Total  Preco_Com_Desconto\n",
       "produto                                               \n",
       "Arroz        20           2     40                18.0\n",
       "Feijão        8           4     32                 7.2\n",
       "Macarrão      5           3     15                 4.5\n",
       "Leite         4           6     24                 3.6"
      ]
     },
     "execution_count": 78,
     "metadata": {},
     "output_type": "execute_result"
    }
   ],
   "source": [
    "df2"
   ]
  },
  {
   "cell_type": "code",
   "execution_count": 80,
   "id": "9c9fa4a7-5fdc-46fe-9d80-41013ec19976",
   "metadata": {},
   "outputs": [
    {
     "data": {
      "text/plain": [
       "np.float64(9.25)"
      ]
     },
     "execution_count": 80,
     "metadata": {},
     "output_type": "execute_result"
    }
   ],
   "source": [
    "# Calcule o preço médio dos produtos.\n",
    "df2['preco'].mean() # Resultado: 9.25"
   ]
  },
  {
   "cell_type": "code",
   "execution_count": 88,
   "id": "17838c30-d7d8-485e-9448-8fdf169f3ef4",
   "metadata": {},
   "outputs": [],
   "source": [
    "# Crie uma coluna booleana 'Caro' que indique se o produto custa mais que R$10\n",
    "df2['Caro'] = [True if x > 10 else False for x in df2['preco'] ]"
   ]
  },
  {
   "cell_type": "code",
   "execution_count": 89,
   "id": "c027e236-0d06-449b-a8b5-e988af3346b0",
   "metadata": {},
   "outputs": [
    {
     "data": {
      "text/html": [
       "<div>\n",
       "<style scoped>\n",
       "    .dataframe tbody tr th:only-of-type {\n",
       "        vertical-align: middle;\n",
       "    }\n",
       "\n",
       "    .dataframe tbody tr th {\n",
       "        vertical-align: top;\n",
       "    }\n",
       "\n",
       "    .dataframe thead th {\n",
       "        text-align: right;\n",
       "    }\n",
       "</style>\n",
       "<table border=\"1\" class=\"dataframe\">\n",
       "  <thead>\n",
       "    <tr style=\"text-align: right;\">\n",
       "      <th></th>\n",
       "      <th>preco</th>\n",
       "      <th>quantidade</th>\n",
       "      <th>Total</th>\n",
       "      <th>Preco_Com_Desconto</th>\n",
       "      <th>Caro</th>\n",
       "    </tr>\n",
       "    <tr>\n",
       "      <th>produto</th>\n",
       "      <th></th>\n",
       "      <th></th>\n",
       "      <th></th>\n",
       "      <th></th>\n",
       "      <th></th>\n",
       "    </tr>\n",
       "  </thead>\n",
       "  <tbody>\n",
       "    <tr>\n",
       "      <th>Arroz</th>\n",
       "      <td>20</td>\n",
       "      <td>2</td>\n",
       "      <td>40</td>\n",
       "      <td>18.0</td>\n",
       "      <td>True</td>\n",
       "    </tr>\n",
       "    <tr>\n",
       "      <th>Feijão</th>\n",
       "      <td>8</td>\n",
       "      <td>4</td>\n",
       "      <td>32</td>\n",
       "      <td>7.2</td>\n",
       "      <td>False</td>\n",
       "    </tr>\n",
       "    <tr>\n",
       "      <th>Macarrão</th>\n",
       "      <td>5</td>\n",
       "      <td>3</td>\n",
       "      <td>15</td>\n",
       "      <td>4.5</td>\n",
       "      <td>False</td>\n",
       "    </tr>\n",
       "    <tr>\n",
       "      <th>Leite</th>\n",
       "      <td>4</td>\n",
       "      <td>6</td>\n",
       "      <td>24</td>\n",
       "      <td>3.6</td>\n",
       "      <td>False</td>\n",
       "    </tr>\n",
       "  </tbody>\n",
       "</table>\n",
       "</div>"
      ],
      "text/plain": [
       "          preco  quantidade  Total  Preco_Com_Desconto   Caro\n",
       "produto                                                      \n",
       "Arroz        20           2     40                18.0   True\n",
       "Feijão        8           4     32                 7.2  False\n",
       "Macarrão      5           3     15                 4.5  False\n",
       "Leite         4           6     24                 3.6  False"
      ]
     },
     "execution_count": 89,
     "metadata": {},
     "output_type": "execute_result"
    }
   ],
   "source": [
    "df2"
   ]
  },
  {
   "cell_type": "markdown",
   "id": "b224c706-541a-4484-a822-29a601cc2e71",
   "metadata": {},
   "source": [
    "___"
   ]
  },
  {
   "cell_type": "markdown",
   "id": "aa93152a-242e-426a-9291-7322e7a75017",
   "metadata": {},
   "source": [
    "# 🎯 Parte 5 — Agrupamento com GroupBy\n",
    "\n",
    "## 7. \n",
    "Crie um novo dataFrame:\n",
    "\n",
    "| Categoria | Produto      | Vendas |\n",
    "| --------- | ------------ | ------ |\n",
    "| Alimento  | Arroz        | 200    |\n",
    "| Alimento  | Feijão       | 150    |\n",
    "| Bebida    | Suco         | 180    |\n",
    "| Bebida    | Refrigerante | 120    |\n",
    "\n",
    "\n",
    "- Agrupe por 'Categoria' e calcule a soma de 'Vendas'.\n",
    "- Mostre a quantidade de produtos em cada categoria.\n",
    "\n"
   ]
  },
  {
   "cell_type": "code",
   "execution_count": 90,
   "id": "9476ebfb-0e7e-4cd2-8e6b-5b0f9b703d4b",
   "metadata": {},
   "outputs": [],
   "source": [
    "dados4 = {\n",
    "    'Categoria': ['Alimento', 'Alimento', 'Bebida', 'Bebida'],\n",
    "    'Produto': ['Arroz', 'Feijão', 'Suco', 'Refrigerante'],\n",
    "    'Vendas': [200, 150, 180, 120]\n",
    "}\n",
    "\n",
    "df4 = pd.DataFrame(dados4)"
   ]
  },
  {
   "cell_type": "code",
   "execution_count": 91,
   "id": "ae04e9a1-965e-4975-b8a1-48cc8a3c93a1",
   "metadata": {},
   "outputs": [
    {
     "data": {
      "text/html": [
       "<div>\n",
       "<style scoped>\n",
       "    .dataframe tbody tr th:only-of-type {\n",
       "        vertical-align: middle;\n",
       "    }\n",
       "\n",
       "    .dataframe tbody tr th {\n",
       "        vertical-align: top;\n",
       "    }\n",
       "\n",
       "    .dataframe thead th {\n",
       "        text-align: right;\n",
       "    }\n",
       "</style>\n",
       "<table border=\"1\" class=\"dataframe\">\n",
       "  <thead>\n",
       "    <tr style=\"text-align: right;\">\n",
       "      <th></th>\n",
       "      <th>Categoria</th>\n",
       "      <th>Produto</th>\n",
       "      <th>Vendas</th>\n",
       "    </tr>\n",
       "  </thead>\n",
       "  <tbody>\n",
       "    <tr>\n",
       "      <th>0</th>\n",
       "      <td>Alimento</td>\n",
       "      <td>Arroz</td>\n",
       "      <td>200</td>\n",
       "    </tr>\n",
       "    <tr>\n",
       "      <th>1</th>\n",
       "      <td>Alimento</td>\n",
       "      <td>Feijão</td>\n",
       "      <td>150</td>\n",
       "    </tr>\n",
       "    <tr>\n",
       "      <th>2</th>\n",
       "      <td>Bebida</td>\n",
       "      <td>Suco</td>\n",
       "      <td>180</td>\n",
       "    </tr>\n",
       "    <tr>\n",
       "      <th>3</th>\n",
       "      <td>Bebida</td>\n",
       "      <td>Refrigerante</td>\n",
       "      <td>120</td>\n",
       "    </tr>\n",
       "  </tbody>\n",
       "</table>\n",
       "</div>"
      ],
      "text/plain": [
       "  Categoria       Produto  Vendas\n",
       "0  Alimento         Arroz     200\n",
       "1  Alimento        Feijão     150\n",
       "2    Bebida          Suco     180\n",
       "3    Bebida  Refrigerante     120"
      ]
     },
     "execution_count": 91,
     "metadata": {},
     "output_type": "execute_result"
    }
   ],
   "source": [
    "df4"
   ]
  },
  {
   "cell_type": "code",
   "execution_count": 92,
   "id": "28a87057-3554-4a6b-be66-53acef87e81b",
   "metadata": {},
   "outputs": [
    {
     "data": {
      "text/plain": [
       "Categoria\n",
       "Alimento    350\n",
       "Bebida      300\n",
       "Name: Vendas, dtype: int64"
      ]
     },
     "execution_count": 92,
     "metadata": {},
     "output_type": "execute_result"
    }
   ],
   "source": [
    "# Agrupe por 'Categoria' e calcule a soma de 'Vendas'.\n",
    "df4.groupby('Categoria')['Vendas'].sum()"
   ]
  },
  {
   "cell_type": "code",
   "execution_count": 94,
   "id": "a5dc1db8-1816-4f6f-ae82-62a213f8f885",
   "metadata": {},
   "outputs": [
    {
     "data": {
      "text/plain": [
       "Categoria\n",
       "Alimento    2\n",
       "Bebida      2\n",
       "Name: Produto, dtype: int64"
      ]
     },
     "execution_count": 94,
     "metadata": {},
     "output_type": "execute_result"
    }
   ],
   "source": [
    "# Mostre a quantidade de produtos em cada categoria.\n",
    "df4.groupby('Categoria')['Produto'].count()"
   ]
  },
  {
   "cell_type": "markdown",
   "id": "c9713252-e73c-4e11-8e5f-e95e074c74f7",
   "metadata": {},
   "source": [
    "___"
   ]
  },
  {
   "cell_type": "markdown",
   "id": "b71699a0-e811-4836-8bfa-aea08365a624",
   "metadata": {},
   "source": [
    "# 🎯 Parte 6 — Merge, Join e Concat\n",
    "\n",
    "## 8.\n",
    "Crie dois dataFrames:"
   ]
  },
  {
   "cell_type": "code",
   "execution_count": 96,
   "id": "27397f89-396d-4412-80c1-ddeeb88ca4ba",
   "metadata": {},
   "outputs": [],
   "source": [
    "clientes = pd.DataFrame({\n",
    "    'ID': [1, 2, 3],\n",
    "    'Nome': ['Ana', 'Bruno', 'Carla']\n",
    "})\n",
    "\n",
    "compras = pd.DataFrame({\n",
    "    'ID': [2, 3, 4],\n",
    "    'Produto': ['Arroz', 'Feijão', 'Leite']\n",
    "})\n",
    "\n",
    "df_clientes = pd.DataFrame(clientes)\n",
    "df_compras = pd.DataFrame(compras)"
   ]
  },
  {
   "cell_type": "code",
   "execution_count": 97,
   "id": "8e2eb298-e459-4f69-b02f-4b6385280594",
   "metadata": {},
   "outputs": [
    {
     "data": {
      "text/html": [
       "<div>\n",
       "<style scoped>\n",
       "    .dataframe tbody tr th:only-of-type {\n",
       "        vertical-align: middle;\n",
       "    }\n",
       "\n",
       "    .dataframe tbody tr th {\n",
       "        vertical-align: top;\n",
       "    }\n",
       "\n",
       "    .dataframe thead th {\n",
       "        text-align: right;\n",
       "    }\n",
       "</style>\n",
       "<table border=\"1\" class=\"dataframe\">\n",
       "  <thead>\n",
       "    <tr style=\"text-align: right;\">\n",
       "      <th></th>\n",
       "      <th>ID</th>\n",
       "      <th>Nome</th>\n",
       "    </tr>\n",
       "  </thead>\n",
       "  <tbody>\n",
       "    <tr>\n",
       "      <th>0</th>\n",
       "      <td>1</td>\n",
       "      <td>Ana</td>\n",
       "    </tr>\n",
       "    <tr>\n",
       "      <th>1</th>\n",
       "      <td>2</td>\n",
       "      <td>Bruno</td>\n",
       "    </tr>\n",
       "    <tr>\n",
       "      <th>2</th>\n",
       "      <td>3</td>\n",
       "      <td>Carla</td>\n",
       "    </tr>\n",
       "  </tbody>\n",
       "</table>\n",
       "</div>"
      ],
      "text/plain": [
       "   ID   Nome\n",
       "0   1    Ana\n",
       "1   2  Bruno\n",
       "2   3  Carla"
      ]
     },
     "execution_count": 97,
     "metadata": {},
     "output_type": "execute_result"
    }
   ],
   "source": [
    "df_clientes"
   ]
  },
  {
   "cell_type": "code",
   "execution_count": 98,
   "id": "8b50f418-80bf-4c97-ab40-8e41918bf678",
   "metadata": {},
   "outputs": [
    {
     "data": {
      "text/html": [
       "<div>\n",
       "<style scoped>\n",
       "    .dataframe tbody tr th:only-of-type {\n",
       "        vertical-align: middle;\n",
       "    }\n",
       "\n",
       "    .dataframe tbody tr th {\n",
       "        vertical-align: top;\n",
       "    }\n",
       "\n",
       "    .dataframe thead th {\n",
       "        text-align: right;\n",
       "    }\n",
       "</style>\n",
       "<table border=\"1\" class=\"dataframe\">\n",
       "  <thead>\n",
       "    <tr style=\"text-align: right;\">\n",
       "      <th></th>\n",
       "      <th>ID</th>\n",
       "      <th>Produto</th>\n",
       "    </tr>\n",
       "  </thead>\n",
       "  <tbody>\n",
       "    <tr>\n",
       "      <th>0</th>\n",
       "      <td>2</td>\n",
       "      <td>Arroz</td>\n",
       "    </tr>\n",
       "    <tr>\n",
       "      <th>1</th>\n",
       "      <td>3</td>\n",
       "      <td>Feijão</td>\n",
       "    </tr>\n",
       "    <tr>\n",
       "      <th>2</th>\n",
       "      <td>4</td>\n",
       "      <td>Leite</td>\n",
       "    </tr>\n",
       "  </tbody>\n",
       "</table>\n",
       "</div>"
      ],
      "text/plain": [
       "   ID Produto\n",
       "0   2   Arroz\n",
       "1   3  Feijão\n",
       "2   4   Leite"
      ]
     },
     "execution_count": 98,
     "metadata": {},
     "output_type": "execute_result"
    }
   ],
   "source": [
    "df_compras"
   ]
  },
  {
   "cell_type": "markdown",
   "id": "a3d09693-9860-4d67-8657-9c5b27a1480d",
   "metadata": {},
   "source": [
    "- Faça um merge usando o ID (inner join).\n",
    "- Faça um merge do tipo outer.\n",
    "- Faça um concat vertical desses dois DataFrames (ignorar o ID)."
   ]
  },
  {
   "cell_type": "code",
   "execution_count": 106,
   "id": "29229f66-fd76-4dc8-aa44-d65c52a374ea",
   "metadata": {},
   "outputs": [
    {
     "data": {
      "text/html": [
       "<div>\n",
       "<style scoped>\n",
       "    .dataframe tbody tr th:only-of-type {\n",
       "        vertical-align: middle;\n",
       "    }\n",
       "\n",
       "    .dataframe tbody tr th {\n",
       "        vertical-align: top;\n",
       "    }\n",
       "\n",
       "    .dataframe thead th {\n",
       "        text-align: right;\n",
       "    }\n",
       "</style>\n",
       "<table border=\"1\" class=\"dataframe\">\n",
       "  <thead>\n",
       "    <tr style=\"text-align: right;\">\n",
       "      <th></th>\n",
       "      <th>ID</th>\n",
       "      <th>Nome</th>\n",
       "      <th>Produto</th>\n",
       "    </tr>\n",
       "  </thead>\n",
       "  <tbody>\n",
       "    <tr>\n",
       "      <th>0</th>\n",
       "      <td>2</td>\n",
       "      <td>Bruno</td>\n",
       "      <td>Arroz</td>\n",
       "    </tr>\n",
       "    <tr>\n",
       "      <th>1</th>\n",
       "      <td>3</td>\n",
       "      <td>Carla</td>\n",
       "      <td>Feijão</td>\n",
       "    </tr>\n",
       "  </tbody>\n",
       "</table>\n",
       "</div>"
      ],
      "text/plain": [
       "   ID   Nome Produto\n",
       "0   2  Bruno   Arroz\n",
       "1   3  Carla  Feijão"
      ]
     },
     "execution_count": 106,
     "metadata": {},
     "output_type": "execute_result"
    }
   ],
   "source": [
    "# Faça um merge usando o ID (igual ao inner join do SQL).\n",
    "pd.merge(df_clientes, df_compras, on='ID')"
   ]
  },
  {
   "cell_type": "code",
   "execution_count": 105,
   "id": "77a84fa5-1321-4f57-be96-d7067ceab933",
   "metadata": {},
   "outputs": [
    {
     "data": {
      "text/html": [
       "<div>\n",
       "<style scoped>\n",
       "    .dataframe tbody tr th:only-of-type {\n",
       "        vertical-align: middle;\n",
       "    }\n",
       "\n",
       "    .dataframe tbody tr th {\n",
       "        vertical-align: top;\n",
       "    }\n",
       "\n",
       "    .dataframe thead th {\n",
       "        text-align: right;\n",
       "    }\n",
       "</style>\n",
       "<table border=\"1\" class=\"dataframe\">\n",
       "  <thead>\n",
       "    <tr style=\"text-align: right;\">\n",
       "      <th></th>\n",
       "      <th>ID</th>\n",
       "      <th>Nome</th>\n",
       "      <th>Produto</th>\n",
       "    </tr>\n",
       "  </thead>\n",
       "  <tbody>\n",
       "    <tr>\n",
       "      <th>0</th>\n",
       "      <td>1</td>\n",
       "      <td>Ana</td>\n",
       "      <td>NaN</td>\n",
       "    </tr>\n",
       "    <tr>\n",
       "      <th>1</th>\n",
       "      <td>2</td>\n",
       "      <td>Bruno</td>\n",
       "      <td>Arroz</td>\n",
       "    </tr>\n",
       "    <tr>\n",
       "      <th>2</th>\n",
       "      <td>3</td>\n",
       "      <td>Carla</td>\n",
       "      <td>Feijão</td>\n",
       "    </tr>\n",
       "    <tr>\n",
       "      <th>3</th>\n",
       "      <td>4</td>\n",
       "      <td>NaN</td>\n",
       "      <td>Leite</td>\n",
       "    </tr>\n",
       "  </tbody>\n",
       "</table>\n",
       "</div>"
      ],
      "text/plain": [
       "   ID   Nome Produto\n",
       "0   1    Ana     NaN\n",
       "1   2  Bruno   Arroz\n",
       "2   3  Carla  Feijão\n",
       "3   4    NaN   Leite"
      ]
     },
     "execution_count": 105,
     "metadata": {},
     "output_type": "execute_result"
    }
   ],
   "source": [
    "# Faça um merge do tipo outer.\n",
    "pd.merge(df_clientes, df_compras, how=\"outer\")"
   ]
  },
  {
   "cell_type": "code",
   "execution_count": 104,
   "id": "db6eee62-2fbd-411d-b988-f2df32d07ce6",
   "metadata": {},
   "outputs": [
    {
     "data": {
      "text/html": [
       "<div>\n",
       "<style scoped>\n",
       "    .dataframe tbody tr th:only-of-type {\n",
       "        vertical-align: middle;\n",
       "    }\n",
       "\n",
       "    .dataframe tbody tr th {\n",
       "        vertical-align: top;\n",
       "    }\n",
       "\n",
       "    .dataframe thead th {\n",
       "        text-align: right;\n",
       "    }\n",
       "</style>\n",
       "<table border=\"1\" class=\"dataframe\">\n",
       "  <thead>\n",
       "    <tr style=\"text-align: right;\">\n",
       "      <th></th>\n",
       "      <th>ID</th>\n",
       "      <th>Nome</th>\n",
       "      <th>Produto</th>\n",
       "    </tr>\n",
       "  </thead>\n",
       "  <tbody>\n",
       "    <tr>\n",
       "      <th>0</th>\n",
       "      <td>1</td>\n",
       "      <td>Ana</td>\n",
       "      <td>NaN</td>\n",
       "    </tr>\n",
       "    <tr>\n",
       "      <th>1</th>\n",
       "      <td>2</td>\n",
       "      <td>Bruno</td>\n",
       "      <td>NaN</td>\n",
       "    </tr>\n",
       "    <tr>\n",
       "      <th>2</th>\n",
       "      <td>3</td>\n",
       "      <td>Carla</td>\n",
       "      <td>NaN</td>\n",
       "    </tr>\n",
       "    <tr>\n",
       "      <th>0</th>\n",
       "      <td>2</td>\n",
       "      <td>NaN</td>\n",
       "      <td>Arroz</td>\n",
       "    </tr>\n",
       "    <tr>\n",
       "      <th>1</th>\n",
       "      <td>3</td>\n",
       "      <td>NaN</td>\n",
       "      <td>Feijão</td>\n",
       "    </tr>\n",
       "    <tr>\n",
       "      <th>2</th>\n",
       "      <td>4</td>\n",
       "      <td>NaN</td>\n",
       "      <td>Leite</td>\n",
       "    </tr>\n",
       "  </tbody>\n",
       "</table>\n",
       "</div>"
      ],
      "text/plain": [
       "   ID   Nome Produto\n",
       "0   1    Ana     NaN\n",
       "1   2  Bruno     NaN\n",
       "2   3  Carla     NaN\n",
       "0   2    NaN   Arroz\n",
       "1   3    NaN  Feijão\n",
       "2   4    NaN   Leite"
      ]
     },
     "execution_count": 104,
     "metadata": {},
     "output_type": "execute_result"
    }
   ],
   "source": [
    "# Faça um concat vertical desses dois DataFrames (ignorar o ID).\n",
    "pd.concat([df_clientes, df_compras])"
   ]
  },
  {
   "cell_type": "markdown",
   "id": "e59e3a03-0864-4e14-87d5-b454fc48d7a8",
   "metadata": {},
   "source": [
    "___"
   ]
  },
  {
   "cell_type": "markdown",
   "id": "f36e8951-3601-47d4-8b24-ec39f8e3dee7",
   "metadata": {},
   "source": [
    "# Parte 7 — Séries Temporais\n",
    "\n",
    "## 9. \n",
    "Crie uma sequência de datas diárias de '2024-01-01' a '2024-01-10':\n",
    "\n",
    "- Crie um DataFrame com essa data e uma coluna aleatória chamada 'Vendas'.\n",
    "- Defina a coluna de datas como índice.\n",
    "- Filtre as vendas dos dias '2024-01-03' até '2024-01-07'.\n",
    "- Reamostre os dados para frequência semanal somando as vendas."
   ]
  },
  {
   "cell_type": "code",
   "execution_count": 111,
   "id": "e3b0b71e-6585-4acb-8e4a-bd2e14fbee78",
   "metadata": {},
   "outputs": [],
   "source": [
    "# Crie uma sequência de datas diárias de '2024-01-01' a '2024-01-10':\n",
    "datas = pd.date_range(start='2024-01-01', periods=10, freq='D')\n",
    "\n",
    "# Crie um DataFrame com essa data e uma coluna aleatória chamada 'Vendas'.\n",
    "vendas = [125, 136, 80, 92, 101, 101, 242, 96, 20, 120]\n",
    "\n",
    "df5 = pd.DataFrame({'Data': datas, 'Vendas': vendas})"
   ]
  },
  {
   "cell_type": "code",
   "execution_count": 112,
   "id": "fbea3e98-afcc-4862-a4c6-e8554ea50100",
   "metadata": {},
   "outputs": [
    {
     "data": {
      "text/html": [
       "<div>\n",
       "<style scoped>\n",
       "    .dataframe tbody tr th:only-of-type {\n",
       "        vertical-align: middle;\n",
       "    }\n",
       "\n",
       "    .dataframe tbody tr th {\n",
       "        vertical-align: top;\n",
       "    }\n",
       "\n",
       "    .dataframe thead th {\n",
       "        text-align: right;\n",
       "    }\n",
       "</style>\n",
       "<table border=\"1\" class=\"dataframe\">\n",
       "  <thead>\n",
       "    <tr style=\"text-align: right;\">\n",
       "      <th></th>\n",
       "      <th>Data</th>\n",
       "      <th>Vendas</th>\n",
       "    </tr>\n",
       "  </thead>\n",
       "  <tbody>\n",
       "    <tr>\n",
       "      <th>0</th>\n",
       "      <td>2024-01-01</td>\n",
       "      <td>125</td>\n",
       "    </tr>\n",
       "    <tr>\n",
       "      <th>1</th>\n",
       "      <td>2024-01-02</td>\n",
       "      <td>136</td>\n",
       "    </tr>\n",
       "    <tr>\n",
       "      <th>2</th>\n",
       "      <td>2024-01-03</td>\n",
       "      <td>80</td>\n",
       "    </tr>\n",
       "    <tr>\n",
       "      <th>3</th>\n",
       "      <td>2024-01-04</td>\n",
       "      <td>92</td>\n",
       "    </tr>\n",
       "    <tr>\n",
       "      <th>4</th>\n",
       "      <td>2024-01-05</td>\n",
       "      <td>101</td>\n",
       "    </tr>\n",
       "    <tr>\n",
       "      <th>5</th>\n",
       "      <td>2024-01-06</td>\n",
       "      <td>101</td>\n",
       "    </tr>\n",
       "    <tr>\n",
       "      <th>6</th>\n",
       "      <td>2024-01-07</td>\n",
       "      <td>242</td>\n",
       "    </tr>\n",
       "    <tr>\n",
       "      <th>7</th>\n",
       "      <td>2024-01-08</td>\n",
       "      <td>96</td>\n",
       "    </tr>\n",
       "    <tr>\n",
       "      <th>8</th>\n",
       "      <td>2024-01-09</td>\n",
       "      <td>20</td>\n",
       "    </tr>\n",
       "    <tr>\n",
       "      <th>9</th>\n",
       "      <td>2024-01-10</td>\n",
       "      <td>120</td>\n",
       "    </tr>\n",
       "  </tbody>\n",
       "</table>\n",
       "</div>"
      ],
      "text/plain": [
       "        Data  Vendas\n",
       "0 2024-01-01     125\n",
       "1 2024-01-02     136\n",
       "2 2024-01-03      80\n",
       "3 2024-01-04      92\n",
       "4 2024-01-05     101\n",
       "5 2024-01-06     101\n",
       "6 2024-01-07     242\n",
       "7 2024-01-08      96\n",
       "8 2024-01-09      20\n",
       "9 2024-01-10     120"
      ]
     },
     "execution_count": 112,
     "metadata": {},
     "output_type": "execute_result"
    }
   ],
   "source": [
    "df5"
   ]
  },
  {
   "cell_type": "code",
   "execution_count": 113,
   "id": "ef3de9ed-70bc-47ee-882d-f5fe0861ade8",
   "metadata": {},
   "outputs": [],
   "source": [
    "df5.set_index('Data', inplace=True)"
   ]
  },
  {
   "cell_type": "code",
   "execution_count": 119,
   "id": "153ec3d6-02c1-4b7d-86d9-6b234cb649b5",
   "metadata": {},
   "outputs": [
    {
     "data": {
      "text/plain": [
       "DatetimeIndex(['2024-01-01', '2024-01-02', '2024-01-03', '2024-01-04',\n",
       "               '2024-01-05', '2024-01-06', '2024-01-07', '2024-01-08',\n",
       "               '2024-01-09', '2024-01-10'],\n",
       "              dtype='datetime64[ns]', name='Data', freq=None)"
      ]
     },
     "execution_count": 119,
     "metadata": {},
     "output_type": "execute_result"
    }
   ],
   "source": [
    "df5.index"
   ]
  },
  {
   "cell_type": "code",
   "execution_count": 114,
   "id": "b7b1a219-50ad-4ac3-97a6-4ad062762dff",
   "metadata": {},
   "outputs": [
    {
     "data": {
      "text/html": [
       "<div>\n",
       "<style scoped>\n",
       "    .dataframe tbody tr th:only-of-type {\n",
       "        vertical-align: middle;\n",
       "    }\n",
       "\n",
       "    .dataframe tbody tr th {\n",
       "        vertical-align: top;\n",
       "    }\n",
       "\n",
       "    .dataframe thead th {\n",
       "        text-align: right;\n",
       "    }\n",
       "</style>\n",
       "<table border=\"1\" class=\"dataframe\">\n",
       "  <thead>\n",
       "    <tr style=\"text-align: right;\">\n",
       "      <th></th>\n",
       "      <th>Vendas</th>\n",
       "    </tr>\n",
       "    <tr>\n",
       "      <th>Data</th>\n",
       "      <th></th>\n",
       "    </tr>\n",
       "  </thead>\n",
       "  <tbody>\n",
       "    <tr>\n",
       "      <th>2024-01-01</th>\n",
       "      <td>125</td>\n",
       "    </tr>\n",
       "    <tr>\n",
       "      <th>2024-01-02</th>\n",
       "      <td>136</td>\n",
       "    </tr>\n",
       "    <tr>\n",
       "      <th>2024-01-03</th>\n",
       "      <td>80</td>\n",
       "    </tr>\n",
       "    <tr>\n",
       "      <th>2024-01-04</th>\n",
       "      <td>92</td>\n",
       "    </tr>\n",
       "    <tr>\n",
       "      <th>2024-01-05</th>\n",
       "      <td>101</td>\n",
       "    </tr>\n",
       "    <tr>\n",
       "      <th>2024-01-06</th>\n",
       "      <td>101</td>\n",
       "    </tr>\n",
       "    <tr>\n",
       "      <th>2024-01-07</th>\n",
       "      <td>242</td>\n",
       "    </tr>\n",
       "    <tr>\n",
       "      <th>2024-01-08</th>\n",
       "      <td>96</td>\n",
       "    </tr>\n",
       "    <tr>\n",
       "      <th>2024-01-09</th>\n",
       "      <td>20</td>\n",
       "    </tr>\n",
       "    <tr>\n",
       "      <th>2024-01-10</th>\n",
       "      <td>120</td>\n",
       "    </tr>\n",
       "  </tbody>\n",
       "</table>\n",
       "</div>"
      ],
      "text/plain": [
       "            Vendas\n",
       "Data              \n",
       "2024-01-01     125\n",
       "2024-01-02     136\n",
       "2024-01-03      80\n",
       "2024-01-04      92\n",
       "2024-01-05     101\n",
       "2024-01-06     101\n",
       "2024-01-07     242\n",
       "2024-01-08      96\n",
       "2024-01-09      20\n",
       "2024-01-10     120"
      ]
     },
     "execution_count": 114,
     "metadata": {},
     "output_type": "execute_result"
    }
   ],
   "source": [
    "df5"
   ]
  },
  {
   "cell_type": "code",
   "execution_count": 117,
   "id": "b9af62b4-1520-49d7-8de4-1736fa2419ab",
   "metadata": {},
   "outputs": [
    {
     "data": {
      "text/html": [
       "<div>\n",
       "<style scoped>\n",
       "    .dataframe tbody tr th:only-of-type {\n",
       "        vertical-align: middle;\n",
       "    }\n",
       "\n",
       "    .dataframe tbody tr th {\n",
       "        vertical-align: top;\n",
       "    }\n",
       "\n",
       "    .dataframe thead th {\n",
       "        text-align: right;\n",
       "    }\n",
       "</style>\n",
       "<table border=\"1\" class=\"dataframe\">\n",
       "  <thead>\n",
       "    <tr style=\"text-align: right;\">\n",
       "      <th></th>\n",
       "      <th>Vendas</th>\n",
       "    </tr>\n",
       "    <tr>\n",
       "      <th>Data</th>\n",
       "      <th></th>\n",
       "    </tr>\n",
       "  </thead>\n",
       "  <tbody>\n",
       "    <tr>\n",
       "      <th>2024-01-03</th>\n",
       "      <td>80</td>\n",
       "    </tr>\n",
       "    <tr>\n",
       "      <th>2024-01-04</th>\n",
       "      <td>92</td>\n",
       "    </tr>\n",
       "    <tr>\n",
       "      <th>2024-01-05</th>\n",
       "      <td>101</td>\n",
       "    </tr>\n",
       "    <tr>\n",
       "      <th>2024-01-06</th>\n",
       "      <td>101</td>\n",
       "    </tr>\n",
       "    <tr>\n",
       "      <th>2024-01-07</th>\n",
       "      <td>242</td>\n",
       "    </tr>\n",
       "  </tbody>\n",
       "</table>\n",
       "</div>"
      ],
      "text/plain": [
       "            Vendas\n",
       "Data              \n",
       "2024-01-03      80\n",
       "2024-01-04      92\n",
       "2024-01-05     101\n",
       "2024-01-06     101\n",
       "2024-01-07     242"
      ]
     },
     "execution_count": 117,
     "metadata": {},
     "output_type": "execute_result"
    }
   ],
   "source": [
    "# Filtre as vendas dos dias '2024-01-03' até '2024-01-07'.\n",
    "df5.loc['2024-01-03':'2024-01-07']"
   ]
  },
  {
   "cell_type": "code",
   "execution_count": 122,
   "id": "fd9e7578-bf2e-46a6-ab5c-19f0ab87ccaf",
   "metadata": {},
   "outputs": [
    {
     "data": {
      "text/html": [
       "<div>\n",
       "<style scoped>\n",
       "    .dataframe tbody tr th:only-of-type {\n",
       "        vertical-align: middle;\n",
       "    }\n",
       "\n",
       "    .dataframe tbody tr th {\n",
       "        vertical-align: top;\n",
       "    }\n",
       "\n",
       "    .dataframe thead th {\n",
       "        text-align: right;\n",
       "    }\n",
       "</style>\n",
       "<table border=\"1\" class=\"dataframe\">\n",
       "  <thead>\n",
       "    <tr style=\"text-align: right;\">\n",
       "      <th></th>\n",
       "      <th>Vendas</th>\n",
       "    </tr>\n",
       "    <tr>\n",
       "      <th>Data</th>\n",
       "      <th></th>\n",
       "    </tr>\n",
       "  </thead>\n",
       "  <tbody>\n",
       "    <tr>\n",
       "      <th>2024-01-07</th>\n",
       "      <td>877</td>\n",
       "    </tr>\n",
       "    <tr>\n",
       "      <th>2024-01-14</th>\n",
       "      <td>236</td>\n",
       "    </tr>\n",
       "  </tbody>\n",
       "</table>\n",
       "</div>"
      ],
      "text/plain": [
       "            Vendas\n",
       "Data              \n",
       "2024-01-07     877\n",
       "2024-01-14     236"
      ]
     },
     "execution_count": 122,
     "metadata": {},
     "output_type": "execute_result"
    }
   ],
   "source": [
    "# Reamostre os dados para frequência semanal somando as vendas.\n",
    "df5.resample('W').sum()"
   ]
  },
  {
   "cell_type": "markdown",
   "id": "007f358e-cbc3-4ac1-af4d-1a96a8b5ed36",
   "metadata": {},
   "source": [
    "___"
   ]
  },
  {
   "cell_type": "markdown",
   "id": "204bfbc6-55e7-4925-878a-2296345acf94",
   "metadata": {},
   "source": [
    "# Parte 8 — Entrada e Saída de Dados\n",
    "\n",
    "## 10.\n",
    "(Opcional) Salve qualquer DataFrame criado em:\n",
    "- Um arquivo CSV (.to_csv()).\n",
    "- Um arquivo Excel (.to_excel()).\n",
    "\n",
    "Depois tente ler novamente o arquivo salvo."
   ]
  }
 ],
 "metadata": {
  "kernelspec": {
   "display_name": "Python 3 (ipykernel)",
   "language": "python",
   "name": "python3"
  },
  "language_info": {
   "codemirror_mode": {
    "name": "ipython",
    "version": 3
   },
   "file_extension": ".py",
   "mimetype": "text/x-python",
   "name": "python",
   "nbconvert_exporter": "python",
   "pygments_lexer": "ipython3",
   "version": "3.12.2"
  }
 },
 "nbformat": 4,
 "nbformat_minor": 5
}
