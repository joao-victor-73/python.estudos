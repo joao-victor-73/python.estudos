{
 "cells": [
  {
   "cell_type": "markdown",
   "id": "4d1ba3ab-37c3-4ca8-9e94-2627c4902a99",
   "metadata": {},
   "source": [
    "# 49. Introdução aos Dicionários e Criando Dicionários\n",
    "\n",
    "Dicionários, em python, são uma das estruturas de dados embutidas que permitem armazenar uma coleção de itens.\n",
    "\n",
    "Ao contrário de sequências, que são indexadas por números inteiros, os dicionários são indexados por chaves, que podem ser de qualquer tipo imutável, como strings ou números.\n",
    "\n",
    "Em sua essência, um dicionário é uma coleção de pares chave-valor."
   ]
  },
  {
   "cell_type": "code",
   "execution_count": 3,
   "id": "cf4e76ba-77fd-4453-a088-b9a4f22f142c",
   "metadata": {},
   "outputs": [
    {
     "name": "stdout",
     "output_type": "stream",
     "text": [
      "{'titulo': '1984', 'autor': 'George Orwell', 'ano': 1949}\n",
      "Qual o titulo do livro? 1984\n",
      "Quem é o autor do livro? George Orwell\n",
      "Qual o ano de publicação do livro? 1949\n"
     ]
    }
   ],
   "source": [
    "livro = {\"titulo\": \"1984\", \"autor\": \"George Orwell\", \"ano\": 1949}\n",
    "\n",
    "print(livro)\n",
    "print(f\"Qual o titulo do livro? {livro['titulo']}\")\n",
    "print(f\"Quem é o autor do livro? {livro['autor']}\")\n",
    "print(f\"Qual o ano de publicação do livro? {livro['ano']}\")"
   ]
  },
  {
   "cell_type": "code",
   "execution_count": 10,
   "id": "b063b89c-14d5-4428-8f2e-239adf388d63",
   "metadata": {},
   "outputs": [
    {
     "name": "stdout",
     "output_type": "stream",
     "text": [
      "{'pai': {'nome': 'Roberto', 'idade': 50}, 'mãe': {'nome': 'Clara', 'idade': 48}, 'filho': {'nome': 'Pedro', 'idade': 22}}\n",
      "{'nome': 'Roberto', 'idade': 50}\n",
      "Roberto\n"
     ]
    }
   ],
   "source": [
    "# Dicionários aninhados\n",
    "\n",
    "familia = {\"pai\": {\"nome\":\"Roberto\", \"idade\":50}, \"mãe\": {\"nome\":\"Clara\", \"idade\":48}, \"filho\": {\"nome\":\"Pedro\", \"idade\":22}}\n",
    "\n",
    "print(familia)\n",
    "\n",
    "print(familia[\"pai\"])\n",
    "\n",
    "print(familia[\"pai\"][\"nome\"])"
   ]
  },
  {
   "cell_type": "markdown",
   "id": "aae972ee-1921-484c-834d-8311dd348e43",
   "metadata": {},
   "source": [
    "# 51. Operações Básicas com Dicionários\n",
    "\n"
   ]
  },
  {
   "cell_type": "code",
   "execution_count": 21,
   "id": "416df4d4-54db-4e9a-9ed2-15bb151a46a8",
   "metadata": {},
   "outputs": [
    {
     "name": "stdout",
     "output_type": "stream",
     "text": [
      "{'id': 12345, 'nome': 'Camisa Polo', 'cor': 'vermelho', 'preco': 49.9, 'estoque': 100}\n",
      "\n",
      "Adicinando itens no dicionário...\n",
      "{'id': 12345, 'nome': 'Camisa Polo', 'cor': 'vermelho', 'preco': 49.9, 'estoque': 100, 'marca': 'FashionBrand', 'desconto': 10}\n"
     ]
    }
   ],
   "source": [
    "produto = {\"id\": 12345, \"nome\": \"Camisa Polo\", \"cor\": \"vermelho\", \"preco\": 49.90, \"estoque\": 100}\n",
    "print(produto)\n",
    "print() \n",
    "\n",
    "# Adicionando itens no dicionário\n",
    "produto[\"marca\"] = \"FashionBrand\"\n",
    "produto[\"desconto\"] = 10\n",
    "\n",
    "print(\"Adicinando itens no dicionário...\")\n",
    "print(produto)"
   ]
  },
  {
   "cell_type": "code",
   "execution_count": 22,
   "id": "f7639c43-9183-4507-aaf6-1bd1911a9f36",
   "metadata": {},
   "outputs": [
    {
     "name": "stdout",
     "output_type": "stream",
     "text": [
      "Atualizando o preco e o desconto...\n",
      "{'id': 12345, 'nome': 'Camisa Polo', 'cor': 'vermelho', 'preco': 59.9, 'estoque': 100, 'marca': 'FashionBrand', 'desconto': 15}\n"
     ]
    }
   ],
   "source": [
    "# Atualizando itens\n",
    "produto[\"preco\"] = 59.90\n",
    "produto[\"desconto\"] = 15\n",
    "\n",
    "print(\"Atualizando o preco e o desconto...\")\n",
    "print(produto)"
   ]
  },
  {
   "cell_type": "code",
   "execution_count": 23,
   "id": "491e70d8-3b2a-40a4-ae1f-9f2214074b13",
   "metadata": {},
   "outputs": [
    {
     "name": "stdout",
     "output_type": "stream",
     "text": [
      "Removendo o item 'desconto' com del...\n",
      "{'id': 12345, 'nome': 'Camisa Polo', 'cor': 'vermelho', 'preco': 59.9, 'estoque': 100, 'marca': 'FashionBrand'}\n",
      "\n",
      "Removendo o item 'cor' com pop()...\n",
      "{'id': 12345, 'nome': 'Camisa Polo', 'preco': 59.9, 'estoque': 100, 'marca': 'FashionBrand'}\n",
      "\n",
      "Removendo o último item com popitem()...\n",
      "{'id': 12345, 'nome': 'Camisa Polo', 'preco': 59.9, 'estoque': 100}\n"
     ]
    }
   ],
   "source": [
    "# Removendo itens com del, pop() ou popitem()\n",
    "\n",
    "del produto[\"desconto\"] # Remove o item \"desconto\" do dicionário\n",
    "print(\"Removendo o item 'desconto' com del...\")\n",
    "print(produto)\n",
    "print()\n",
    "\n",
    "\n",
    "# Removendo o item \"cor\" (ou seja, removendo por chave) com pop()\n",
    "produto.pop(\"cor\")\n",
    "print(\"Removendo o item 'cor' com pop()...\")\n",
    "print(produto)\n",
    "print()\n",
    "\n",
    "# Removendo o último item do dicionário com popitem()\n",
    "produto.popitem()\n",
    "print(\"Removendo o último item com popitem()...\")\n",
    "print(produto)"
   ]
  },
  {
   "cell_type": "markdown",
   "id": "51a5a778-fcef-490c-a9fb-83ee0d2fbbd9",
   "metadata": {},
   "source": [
    "# 52. Métodos de Dicionários\n"
   ]
  },
  {
   "cell_type": "code",
   "execution_count": 27,
   "id": "0813b74b-712a-48b6-af03-4bf650022140",
   "metadata": {},
   "outputs": [
    {
     "name": "stdout",
     "output_type": "stream",
     "text": [
      "As chaves do dicionário 'livro' são: dict_keys(['titulo', 'autor', 'ano', 'editora', 'preco'])\n",
      "Os valores do dicionário 'livro' são: dict_values(['O Pequeno Principe', 'Antoine de Saint-Exupéry', 1943, 'Reynal & Hitchcock', 20.5])\n",
      "Retornando as chaves e os valores do dicionário 'livro' são: dict_items([('titulo', 'O Pequeno Principe'), ('autor', 'Antoine de Saint-Exupéry'), ('ano', 1943), ('editora', 'Reynal & Hitchcock'), ('preco', 20.5)])\n"
     ]
    }
   ],
   "source": [
    "livro = {\"titulo\": \"O Pequeno Principe\", \"autor\": \"Antoine de Saint-Exupéry\", \"ano\": 1943, \"editora\": \"Reynal & Hitchcock\", \"preco\": 20.50}\n",
    "\n",
    "# keys(), values() e items()\n",
    "\n",
    "print(f\"As chaves do dicionário 'livro' são: {livro.keys()}\")\n",
    "print(f\"Os valores do dicionário 'livro' são: {livro.values()}\")\n",
    "print(f\"Retornando as chaves e os valores do dicionário 'livro' são: {livro.items()}\")\n"
   ]
  },
  {
   "cell_type": "code",
   "execution_count": 31,
   "id": "0046f93a-dc66-4e1c-a438-ba37792953de",
   "metadata": {},
   "outputs": [
    {
     "name": "stdout",
     "output_type": "stream",
     "text": [
      "{'titulo': 'O estudioso', 'autor': 'Vicent Von Gon', 'ano': 1658}\n",
      "{}\n"
     ]
    }
   ],
   "source": [
    "# clear()\n",
    "# Serve para limpar o dicionário, deixando ele vazio\n",
    "livro_ficticio = {\"titulo\": \"O estudioso\", \"autor\": \"Vicent Von Gon\", \"ano\": 1658}\n",
    "print(livro_ficticio)\n",
    "\n",
    "livro_ficticio.clear()\n",
    "print(livro_ficticio)"
   ]
  },
  {
   "cell_type": "markdown",
   "id": "6ebb123c-271b-4864-93bf-30c414a4afea",
   "metadata": {},
   "source": [
    "# 53. Iterando sobre Dicionários\n",
    "\n",
    "Imagine que temos um dicionário que representa as notas de um aluno em diferentes matérias. Queremos iterar sobre esse dicionário para exibir as matérias, as notas e também calcular a média das notas."
   ]
  },
  {
   "cell_type": "code",
   "execution_count": 44,
   "id": "b143174c-0367-4768-a40b-81895fdff1a7",
   "metadata": {},
   "outputs": [
    {
     "name": "stdout",
     "output_type": "stream",
     "text": [
      "{'Matematica': 8.5, 'Portugues': 9.0, 'História': 7.5, 'Geografia': 8.0, 'Quimica': 9.5}\n",
      "Matematica\n",
      "Portugues\n",
      "História\n",
      "Geografia\n",
      "Quimica\n",
      "\n",
      "8.5\n",
      "9.0\n",
      "7.5\n",
      "8.0\n",
      "9.5\n",
      "\n",
      "Materia: Matematica | Nota: 8.5\n",
      "Materia: Portugues | Nota: 9.0\n",
      "Materia: História | Nota: 7.5\n",
      "Materia: Geografia | Nota: 8.0\n",
      "Materia: Quimica | Nota: 9.5\n",
      "A média do aluno é: 8.5\n"
     ]
    }
   ],
   "source": [
    "notas = {\"Matematica\": 8.5, \"Portugues\": 9.0, \"História\": 7.5, \"Geografia\": 8.0, \"Quimica\": 9.5}\n",
    "\n",
    "print(notas)\n",
    "\n",
    "# Iterando sobre as chaves do dicionário:\n",
    "for materia in notas.keys():\n",
    "    print(materia)\n",
    "print()\n",
    "\n",
    "# Iterando sobre os valores do dicionário:\n",
    "for nota in notas.values():\n",
    "    print(nota)\n",
    "print()\n",
    "\n",
    "# Iterando sobre chave e valor do dicionário:\n",
    "soma = 0\n",
    "for materia, nota in notas.items():\n",
    "    print(f\"Materia: {materia} | Nota: {nota}\")\n",
    "    soma += nota\n",
    "\n",
    "print(f\"A média do aluno é: {soma / len(notas)}\")"
   ]
  },
  {
   "cell_type": "markdown",
   "id": "d323ce88-a994-4f5c-90f6-35b9382467f1",
   "metadata": {},
   "source": [
    "# 54. Dicionário Aninhados\n",
    "\n",
    "Imagine que você está administrando uma escola e quer armazenar informações sobre seus alunos, incluindo suas notas em diferentes matérias.\n",
    "\n",
    "Um dicionário aninhado seria útil nesse cenário."
   ]
  },
  {
   "cell_type": "code",
   "execution_count": 53,
   "id": "5cb7fd5c-8861-4861-9b76-ed7902cd2b62",
   "metadata": {},
   "outputs": [
    {
     "name": "stdout",
     "output_type": "stream",
     "text": [
      "Quais as notas do aluno João? {'Matematica': 8.5, 'Portugues': 9.0, 'História': 7.5}\n",
      "E a nota de Pedro em História? 8.0 \n",
      "\n",
      "As notas de Maria antes da mofidicação eram: {'Matematica': 9.5, 'Portugues': 8.0, 'História': 8.7}\n",
      "As notas de Maria DEPOIS da mofidicação são: {'Matematica': 9.5, 'Portugues': 8.0, 'História': 9.2}\n",
      "\n",
      "Essa são as novas notas de João: {'Matematica': 8.5, 'Portugues': 9.0, 'História': 7.5, 'Quimica': 8.8} \n",
      "\n"
     ]
    }
   ],
   "source": [
    "alunos = {\"João\": {\"Matematica\": 8.5, \"Portugues\": 9.0, \"História\": 7.5}, \n",
    "         \"Maria\": {\"Matematica\": 9.5, \"Portugues\": 8.0, \"História\": 8.7}, \n",
    "         \"Pedro\": {\"Matematica\": 7.0, \"Portugues\": 7.5, \"História\": 8.0, \"Geografia\": 9.0}}\n",
    "\n",
    "# Acessando valores em dicionários aninhados\n",
    "print(f\"Quais as notas do aluno João? {alunos['João']}\")\n",
    "print(f\"E a nota de Pedro em História? {alunos['Pedro']['História']} \\n\")\n",
    "\n",
    "\n",
    "\n",
    "# Modificando a nota de Maria em História\n",
    "print(f\"As notas de Maria antes da mofidicação eram: {alunos['Maria']}\")\n",
    "alunos['Maria']['História'] = 9.2\n",
    "print(f\"As notas de Maria DEPOIS da mofidicação são: {alunos['Maria']}\\n\")\n",
    "\n",
    "\n",
    "# Adicionando uma nova materia e uma nova nota para João\n",
    "alunos['João']['Quimica'] = 8.8\n",
    "print(f\"Essa são as novas notas de João: {alunos['João']} \\n\")"
   ]
  },
  {
   "cell_type": "code",
   "execution_count": 60,
   "id": "5ea49157-3463-4bc9-bad4-666eb5a1e366",
   "metadata": {},
   "outputs": [
    {
     "name": "stdout",
     "output_type": "stream",
     "text": [
      "As notas de João são:\n",
      "Matematica - 8.5\n",
      "Portugues - 9.0\n",
      "História - 7.5\n",
      "Quimica - 8.8\n",
      "\n",
      "As notas de Maria são:\n",
      "Matematica - 9.5\n",
      "Portugues - 8.0\n",
      "História - 9.2\n",
      "\n",
      "As notas de Pedro são:\n",
      "Matematica - 7.0\n",
      "Portugues - 7.5\n",
      "História - 8.0\n",
      "Geografia - 9.0\n",
      "\n"
     ]
    }
   ],
   "source": [
    "for aluno, notas in alunos.items():\n",
    "    print(f\"As notas de {aluno} são:\")\n",
    "    for m, n in notas.items():\n",
    "        print(f\"{m} - {n}\")\n",
    "    print()"
   ]
  },
  {
   "cell_type": "markdown",
   "id": "0377ace9-8b32-422a-910f-73ea60b71edb",
   "metadata": {},
   "source": [
    "# 55. Compreensão de Dicionários (Dictionary Comprehension)\n",
    "\n",
    "A compreensão de dicionários é uma maneira concisa de criar dicionários. Ela oferece uma forma mais legível e muitas vezes mais rápida de criar dicionários do que usar loops for tradicionais."
   ]
  },
  {
   "cell_type": "code",
   "execution_count": 64,
   "id": "bf8751d7-f6c1-4a8b-a269-60111b2df9e7",
   "metadata": {},
   "outputs": [
    {
     "name": "stdout",
     "output_type": "stream",
     "text": [
      "{'Numero 1^2': 1, 'Numero 2^2': 4, 'Numero 3^2': 9, 'Numero 4^2': 16, 'Numero 5^2': 25}\n"
     ]
    }
   ],
   "source": [
    "# Exemplpo Prático 01: Criar um dicionário com quadrados de números.\n",
    "\n",
    "quadrado = { f\"Numero {x}^2\": x**2 for x in range(1, 6) }\n",
    "print(quadrado)\n"
   ]
  },
  {
   "cell_type": "markdown",
   "id": "1371e0f8-63bc-4e3f-b547-f04de84c8cd4",
   "metadata": {},
   "source": [
    "# 56. Dicionários e Funções"
   ]
  },
  {
   "cell_type": "code",
   "execution_count": 71,
   "id": "a26a69a8-8360-4617-82eb-16543a652e94",
   "metadata": {},
   "outputs": [
    {
     "name": "stdout",
     "output_type": "stream",
     "text": [
      "Nome: João\n",
      "Idade: 25\n",
      "Email: joao@email.com\n",
      "\n",
      "Novo perfil criado: \n",
      "Nome: Ana\n",
      "Idade: 30\n",
      "Email: ana@email.com\n"
     ]
    }
   ],
   "source": [
    "# Exemplo prático\n",
    "\n",
    "# 1. Passando dicionários como argumentos para funções:\n",
    "# Suponha que temos um dicionário representando um perfil de usuários e queremos exibir este perfil.\n",
    "\n",
    "usuario = {\"nome\": \"João\", \"idade\": \"25\", \"email\": \"joao@email.com\"}\n",
    "\n",
    "def exibir_perfil(perfil):\n",
    "    for chave, valor in perfil.items():\n",
    "        print(f\"{chave.title()}: {valor}\")\n",
    "    \n",
    "exibir_perfil(usuario)\n",
    "print()\n",
    "\n",
    "\n",
    "# 2. Retornando dicionários de funções:\n",
    "# Vamos criar uma função que pode criar um novo perfil de usuários com base em informações fornecidas.\n",
    "\n",
    "def criar_perfil(nome, idade, email):\n",
    "    return {\n",
    "        \"nome\": nome,\n",
    "        \"idade\": idade,\n",
    "        \"email\": email\n",
    "    }\n",
    "\n",
    "\n",
    "novo_usuario = criar_perfil(\"Ana\", 30, \"ana@email.com\")\n",
    "print(\"Novo perfil criado: \")\n",
    "exibir_perfil(novo_usuario)"
   ]
  },
  {
   "cell_type": "markdown",
   "id": "044d7534-8df2-499e-94f5-3fe002167212",
   "metadata": {},
   "source": [
    "# 58. Exercício - Agenda Telefônica Simplificada\n",
    "\n",
    "Criar um programa para gerenciar uma lista de contatos utilizando dicionários em Python.\n",
    "\n",
    "Desenvolva uma aplicação de agenda telefônica que permita ao usuário:\n",
    "1. Adiciona contato\n",
    "2. Alterar contato\n",
    "3. Remover contato\n",
    "4. Listar contatos\n",
    "5. Sair"
   ]
  },
  {
   "cell_type": "code",
   "execution_count": null,
   "id": "a6dbe215-5c01-464d-8fc3-80cf7233f547",
   "metadata": {},
   "outputs": [],
   "source": []
  }
 ],
 "metadata": {
  "kernelspec": {
   "display_name": "Python 3 (ipykernel)",
   "language": "python",
   "name": "python3"
  },
  "language_info": {
   "codemirror_mode": {
    "name": "ipython",
    "version": 3
   },
   "file_extension": ".py",
   "mimetype": "text/x-python",
   "name": "python",
   "nbconvert_exporter": "python",
   "pygments_lexer": "ipython3",
   "version": "3.12.2"
  }
 },
 "nbformat": 4,
 "nbformat_minor": 5
}
